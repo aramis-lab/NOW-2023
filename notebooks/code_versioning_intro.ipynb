{
 "cells": [
  {
   "cell_type": "markdown",
   "id": "10194ea0",
   "metadata": {},
   "source": [
    "# Chapter 1 : Introduction to code versioning\n",
    "\n",
    "TBA"
   ]
  },
  {
   "cell_type": "code",
   "execution_count": null,
   "id": "5bcd4449-93a6-463a-8bdc-ac26b82ceec1",
   "metadata": {},
   "outputs": [],
   "source": []
  }
 ],
 "metadata": {
  "kernelspec": {
   "display_name": "Python 3 (ipykernel)",
   "language": "python",
   "name": "python3"
  },
  "language_info": {
   "codemirror_mode": {
    "name": "ipython",
    "version": 3
   },
   "file_extension": ".py",
   "mimetype": "text/x-python",
   "name": "python",
   "nbconvert_exporter": "python",
   "pygments_lexer": "ipython3",
   "version": "3.10.13"
  }
 },
 "nbformat": 4,
 "nbformat_minor": 5
}
