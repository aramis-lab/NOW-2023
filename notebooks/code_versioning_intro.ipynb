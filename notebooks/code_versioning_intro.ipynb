{
 "cells": [
  {
   "cell_type": "markdown",
   "id": "10194ea0",
   "metadata": {},
   "source": [
    "# Chapter 1 : Introduction to code versioning"
   ]
  }
 ],
 "metadata": {
  "kernelspec": {
   "display_name": "Python 3 (ipykernel)",
   "language": "python",
   "name": "python3"
  }
 },
 "nbformat": 4,
 "nbformat_minor": 5
}
