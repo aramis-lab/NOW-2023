{
 "cells": [
  {
   "cell_type": "markdown",
   "metadata": {},
   "source": [
    "# Preamble"
   ]
  },
  {
   "cell_type": "markdown",
   "metadata": {},
   "source": [
    "## Why reproducibility matters\n",
    "\n",
    "![](http://www.phdcomics.com/comics/archive/phd031214s.gif)\n",
    "\n",
    "> PHD Comics #1689"
   ]
  },
  {
   "cell_type": "markdown",
   "metadata": {},
   "source": [
    "## Published methods do not exist in a vacuum\n",
    "\n",
    "![](https://www.ncbi.nlm.nih.gov/pmc/articles/PMC6054242/bin/giy077fig1.jpg)"
   ]
  },
  {
   "cell_type": "markdown",
   "metadata": {},
   "source": [
    "## The four levels of reproducibility\n",
    "\n",
    "![](https://www.researchgate.net/publication/354519195/figure/fig1/AS:1066677005451264@1631327024786/Whitakers-matrix-of-reproducibility-Whitakers-matrix-of-reproducibility-10-made.png)\n",
    "\n",
    "> Kristie Whitaker @ ICON2017"
   ]
  },
  {
   "cell_type": "markdown",
   "metadata": {},
   "source": [
    "## The quest for reproducibility leads to good software engineering practices\n",
    "\n",
    "![](https://i.ibb.co/pdL84qB/s-94-B55286-A651401296-BD3422-BA797-ED8450-DDE5-F7032-BBC6219-CA76-B6-B41575-F-1587514572907-Screen-Shot-2020-04-22-at-5-37-21-AM-1.png)"
   ]
  },
  {
   "cell_type": "markdown",
   "metadata": {},
   "source": [
    "## Multiple sources of change in machine learning\n",
    "\n",
    "![](https://martinfowler.com/articles/cd4ml/ml-axis-of-change.png)\n",
    "\n",
    "> Martin Fowler's blog"
   ]
  },
  {
   "cell_type": "markdown",
   "metadata": {},
   "source": [
    "## The need for tracking changes in data and code\n",
    "\n",
    "![](https://ml-ops.org/img/mlops-loop-en.jpg)\n",
    "\n",
    "> ml-ops.org"
   ]
  }
 ],
 "metadata": {
  "jupytext": {
   "cell_metadata_filter": "-all",
   "notebook_metadata_filter": "-all"
  },
  "kernelspec": {
   "display_name": "Python 3",
   "language": "python",
   "name": "python3"
  },
  "language_info": {
   "codemirror_mode": {
    "name": "ipython",
    "version": 3
   },
   "file_extension": ".py",
   "mimetype": "text/x-python",
   "name": "python",
   "nbconvert_exporter": "python",
   "pygments_lexer": "ipython3",
   "version": "3.10.13"
  }
 },
 "nbformat": 4,
 "nbformat_minor": 5
}
