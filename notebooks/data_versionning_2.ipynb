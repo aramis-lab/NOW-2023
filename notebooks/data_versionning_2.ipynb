{
 "cells": [
  {
   "cell_type": "markdown",
   "id": "1edb5adc-240a-45c2-b0f5-f015d027ff90",
   "metadata": {},
   "source": [
    "## Chapter 2 : Versionning large datasets with DVC\n",
    "\n",
    "In the first chapter of the second part of this tutorial, we saw how to install and use DVC to version code and data in a simple way.\n",
    "\n",
    "However, our input dataset was extremely simple and could have been versionned with GIT without difficulty. \n",
    "\n",
    "The main objective of this second chapter is to show the true power of DVC. We will keep our objective of predicting AD vs Control subjects, but instead of assuming a simple preprocessed dataset with hypocampus volumes already extracted, we will work directly with brain images and train a deep learning model to perform this task.\n",
    "\n",
    "The second objective of this chapter is to show some more advanced features of DVC like experiment managment.\n",
    "\n",
    "Let's dive in !\n",
    "\n",
    "### Setup the repo\n",
    "\n",
    "Since this is a new notebook meant to be independant from the notebook of the first chapter, we will start a new research project from scratch.\n",
    "\n",
    "Start by configuring the GIT and DVC repo:"
   ]
  },
  {
   "cell_type": "code",
   "execution_count": 1,
   "id": "0cd39d46-4253-4464-bbc7-331d5554a9f8",
   "metadata": {},
   "outputs": [
    {
     "name": "stdout",
     "output_type": "stream",
     "text": [
      "/Users/nicolas.gensollen/opt/anaconda3/envs/now/bin/dvc\n"
     ]
    }
   ],
   "source": [
    "! which dvc"
   ]
  },
  {
   "cell_type": "code",
   "execution_count": null,
   "id": "f9c5f583-f2e9-432d-a7e7-8bab30a7ef3a",
   "metadata": {},
   "outputs": [],
   "source": []
  }
 ],
 "metadata": {
  "kernelspec": {
   "display_name": "Python 3 (ipykernel)",
   "language": "python",
   "name": "python3"
  },
  "language_info": {
   "codemirror_mode": {
    "name": "ipython",
    "version": 3
   },
   "file_extension": ".py",
   "mimetype": "text/x-python",
   "name": "python",
   "nbconvert_exporter": "python",
   "pygments_lexer": "ipython3",
   "version": "3.10.13"
  }
 },
 "nbformat": 4,
 "nbformat_minor": 5
}
