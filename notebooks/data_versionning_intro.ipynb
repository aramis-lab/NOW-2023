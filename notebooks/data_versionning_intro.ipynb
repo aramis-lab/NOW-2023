{
 "cells": [
  {
   "cell_type": "markdown",
   "id": "677835e7-25a4-429f-b2ed-5338a0cfc42f",
   "metadata": {},
   "source": [
    "# Chapter 1 : Introduction to data versioning\n",
    "\n",
    "In this introduction, we will present some concepts behind data versioning and introduce some tools enabling to perform related taks. Finally, we will focus on [DVC](https://dvc.org) which is the data versioning tool we will use in the rest of the tutorial."
   ]
  },
  {
   "cell_type": "markdown",
   "id": "759e07c5-bba5-487b-a778-747a42ae4749",
   "metadata": {},
   "source": [
    "## What is data versioning ?\n",
    "\n",
    "TODO\n",
    "\n",
    "## What are the tools ?\n",
    "\n",
    "TODO"
   ]
  },
  {
   "cell_type": "markdown",
   "id": "03d38bc8-fade-4a1c-9336-75006b699eea",
   "metadata": {},
   "source": [
    "## What is DVC ?\n",
    "\n",
    "[DVC](https://dvc.org) is a tool for data science that takes advantage of existing software engineering toolset. It helps machine learning teams manage large datasets, make projects reproducible, and collaborate better.\n",
    "\n",
    "[DVC](https://dvc.org) does not replace or include Git. You must have git in your system to enable important features such as data versioning and quick experimentation.\n",
    "\n",
    "[DVC](https://dvc.org) is written in Python and can be esily installed on the most common OS (Linux, MacOS, and Windows). We will see how to install [DVC](https://dvc.org) in the next chapter.\n",
    "\n",
    "### What is the target users of DVC ?\n",
    "\n",
    "[DVC](https://dvc.org) targets people who needs to store and process data files or datasets to produce other data or machine learning models. In other words, anyone willing to:\n",
    "\n",
    "- track and save data and machine learning models the same way they capture code\n",
    "- create and switch between versions of data and ML models easily\n",
    "- understand how datasets and ML artifacts were built in the first place\n",
    "- compare model metrics among experiments\n",
    "- adopt engineering tools and best practices in data science projects\n",
    "\n",
    "### Versionning data and models\n",
    "\n",
    "#### The dirty way\n",
    "\n",
    "<img src=\"https://dvc.org/static/d40892521e2fff94dac9e59693f366df/958d8/data-ver-complex.png\" style=\"height: 400px;\">\n",
    "\n",
    "#### The cleaner way\n",
    "\n",
    "<img src=\"https://dvc.org/static/39d86590fa8ead1cd1247c883a8cf2c0/cb690/project-versions.png\" style=\"height: 500px;\">"
   ]
  },
  {
   "cell_type": "code",
   "execution_count": null,
   "id": "761f6a5a-58b3-4687-9e00-bd1837735ca0",
   "metadata": {},
   "outputs": [],
   "source": []
  }
 ],
 "metadata": {
  "kernelspec": {
   "display_name": "Python 3 (ipykernel)",
   "language": "python",
   "name": "python3"
  },
  "language_info": {
   "codemirror_mode": {
    "name": "ipython",
    "version": 3
   },
   "file_extension": ".py",
   "mimetype": "text/x-python",
   "name": "python",
   "nbconvert_exporter": "python",
   "pygments_lexer": "ipython3",
   "version": "3.10.13"
  }
 },
 "nbformat": 4,
 "nbformat_minor": 5
}
