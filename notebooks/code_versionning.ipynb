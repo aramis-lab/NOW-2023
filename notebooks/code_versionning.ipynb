{
 "cells": [
  {
   "cell_type": "markdown",
   "id": "4e3641e6",
   "metadata": {},
   "source": [
    "# Part 2 : Code versionning using DVC\n",
    "This is the second part of the tutorial on code and data versionning using [GitHub](https://docs.github.com/) and [DVC](https://dvc.org)."
   ]
  }
 ],
 "metadata": {
  "kernelspec": {
   "display_name": "Python 3 (ipykernel)",
   "language": "python",
   "name": "python3"
  }
 },
 "nbformat": 4,
 "nbformat_minor": 5
}
