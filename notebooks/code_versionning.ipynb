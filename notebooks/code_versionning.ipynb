{
 "cells": [
  {
   "cell_type": "markdown",
   "id": "99622e8c",
   "metadata": {
    "lines_to_next_cell": 0
   },
   "source": [
    "# Chapter 2 : Code versioning using Git\n",
    "\n",
    "In this chapter, we will install [Git](https://git-scm.com) and take a look at how it works and how to version code.\n",
    "\n",
    "```{note}\n",
    "The content of this chapter has been adapted from a tutorial made by *Alexandre Abadie* and *Kim Tâm Huynh* from the [INRIA SED of Paris](https://sed.paris.inria.fr).\n",
    "```\n",
    "\n",
    "## Getting started\n",
    "\n",
    "First you will start a small Python project"
   ]
  },
  {
   "cell_type": "markdown",
   "id": "b3a9ec27",
   "metadata": {
    "lines_to_next_cell": 0
   },
   "source": [
    "### Initialize the project"
   ]
  },
  {
   "cell_type": "markdown",
   "id": "6b8e6f37",
   "metadata": {
    "lines_to_next_cell": 0
   },
   "source": [
    "Create a directory `dummymaths`:"
   ]
  },
  {
   "cell_type": "code",
   "execution_count": 1,
   "id": "ccc8571e",
   "metadata": {
    "lines_to_next_cell": 0
   },
   "outputs": [
    {
     "name": "stdout",
     "output_type": "stream",
     "text": [
      "/Users/nicolas.gensollen/GitRepos/NOW-2023/notebooks/dummymaths\n"
     ]
    }
   ],
   "source": [
    "! mkdir dummymaths\n",
    "%cd dummymaths"
   ]
  },
  {
   "cell_type": "markdown",
   "id": "1fff30de",
   "metadata": {
    "lines_to_next_cell": 0
   },
   "source": [
    "Initialize a [Git](https://git-scm.com) local repository in the `dummymaths` directory with the [git init](https://git-scm.com/docs/git-init) command:"
   ]
  },
  {
   "cell_type": "code",
   "execution_count": 2,
   "id": "1df37b40",
   "metadata": {},
   "outputs": [
    {
     "name": "stdout",
     "output_type": "stream",
     "text": [
      "Initialized empty Git repository in /Users/nicolas.gensollen/GitRepos/NOW-2023/notebooks/dummymaths/.git/\n"
     ]
    }
   ],
   "source": [
    "! git init"
   ]
  },
  {
   "cell_type": "code",
   "execution_count": 3,
   "id": "5fff4cac",
   "metadata": {
    "lines_to_next_cell": 0,
    "title": "[mardown]"
   },
   "outputs": [],
   "source": [
    "# Configure your git account using simple configuration files\n",
    "# 3 levels:\n",
    "#   * __local__ : `<local copy>/.git/config`, by default\n",
    "#   * __global__ : `~/.gitconfig`, option `--global`\n",
    "#   * __system__ : `/etc/gitconfig`, option `--system`\n",
    "\n",
    "# Either edit the files directly, or use `git config` command"
   ]
  },
  {
   "cell_type": "markdown",
   "id": "e8386e4a-f906-4d0e-a22c-0dcd3dc85227",
   "metadata": {},
   "source": [
    "To configure your user name and email address, you need to use the [git config](https://git-scm.com/docs/git-config) command:"
   ]
  },
  {
   "cell_type": "code",
   "execution_count": 4,
   "id": "3ce86c07",
   "metadata": {
    "lines_to_next_cell": 0
   },
   "outputs": [],
   "source": [
    "! git config --local user.name \"John Doe\"\n",
    "! git config --local user.email john.doe@inria.fr"
   ]
  },
  {
   "cell_type": "markdown",
   "id": "a70d3819",
   "metadata": {
    "lines_to_next_cell": 0
   },
   "source": [
    "Create a `README.md` file and then check the state of your local copy:"
   ]
  },
  {
   "cell_type": "code",
   "execution_count": 5,
   "id": "4cb9f5f2",
   "metadata": {
    "lines_to_next_cell": 0
   },
   "outputs": [
    {
     "name": "stdout",
     "output_type": "stream",
     "text": [
      "On branch main\n",
      "\n",
      "No commits yet\n",
      "\n",
      "Untracked files:\n",
      "  (use \"git add <file>...\" to include in what will be committed)\n",
      "\t\u001b[31mREADME.md\u001b[m\n",
      "\n",
      "nothing added to commit but untracked files present (use \"git add\" to track)\n"
     ]
    }
   ],
   "source": [
    "! echo \"This is the README file\" > README.md\n",
    "! git status"
   ]
  },
  {
   "cell_type": "markdown",
   "id": "3c29d39b",
   "metadata": {
    "lines_to_next_cell": 0
   },
   "source": [
    "Add the `README.md` file to the staging area and check again the state of your local copy:"
   ]
  },
  {
   "cell_type": "code",
   "execution_count": 6,
   "id": "6d3cfdf2",
   "metadata": {
    "lines_to_next_cell": 0
   },
   "outputs": [
    {
     "name": "stdout",
     "output_type": "stream",
     "text": [
      "On branch main\n",
      "\n",
      "No commits yet\n",
      "\n",
      "Changes to be committed:\n",
      "  (use \"git rm --cached <file>...\" to unstage)\n",
      "\t\u001b[32mnew file:   README.md\u001b[m\n",
      "\n"
     ]
    }
   ],
   "source": [
    "! git add README.md\n",
    "! git status"
   ]
  },
  {
   "cell_type": "markdown",
   "id": "3999a063",
   "metadata": {
    "lines_to_next_cell": 0
   },
   "source": [
    "Edit the `README.md` file (for example, add a title, a short description of this small Python project), save and check again the state of your local copy. \n",
    "\n",
    "You should have changes both in the staging area and in the working directory (local changes). Display the changes, first in the staging area and then the local changes:"
   ]
  },
  {
   "cell_type": "code",
   "execution_count": 7,
   "id": "873d10ce",
   "metadata": {},
   "outputs": [],
   "source": [
    "! echo \"This is the new README file\" > README.md"
   ]
  },
  {
   "cell_type": "code",
   "execution_count": 8,
   "id": "4e01fca4",
   "metadata": {
    "lines_to_next_cell": 0
   },
   "outputs": [
    {
     "name": "stdout",
     "output_type": "stream",
     "text": [
      "\u001b[1mdiff --git a/README.md b/README.md\u001b[m\n",
      "\u001b[1mnew file mode 100644\u001b[m\n",
      "\u001b[1mindex 0000000..7dcf35b\u001b[m\n",
      "\u001b[1m--- /dev/null\u001b[m\n",
      "\u001b[1m+++ b/README.md\u001b[m\n",
      "\u001b[36m@@ -0,0 +1 @@\u001b[m\n",
      "\u001b[32m+\u001b[m\u001b[32mThis is the README file\u001b[m\n",
      "\u001b[1mdiff --git a/README.md b/README.md\u001b[m\n",
      "\u001b[1mindex 7dcf35b..ed6b542 100644\u001b[m\n",
      "\u001b[1m--- a/README.md\u001b[m\n",
      "\u001b[1m+++ b/README.md\u001b[m\n",
      "\u001b[36m@@ -1 +1 @@\u001b[m\n",
      "\u001b[31m-This is the README file\u001b[m\n",
      "\u001b[32m+\u001b[m\u001b[32mThis is the new README file\u001b[m\n"
     ]
    }
   ],
   "source": [
    "! git diff --staged\n",
    "! git diff"
   ]
  },
  {
   "cell_type": "markdown",
   "id": "23205cb6",
   "metadata": {
    "lines_to_next_cell": 0
   },
   "source": [
    "Commit all changes in the `README.md` file (both in staging and local) and check one last time the state of the local copy:"
   ]
  },
  {
   "cell_type": "code",
   "execution_count": 9,
   "id": "054a73fe",
   "metadata": {
    "lines_to_next_cell": 0
   },
   "outputs": [
    {
     "name": "stdout",
     "output_type": "stream",
     "text": [
      "[main (root-commit) 9fc3b96] initial commit\n",
      " 1 file changed, 1 insertion(+)\n",
      " create mode 100644 README.md\n",
      "On branch main\n",
      "nothing to commit, working tree clean\n"
     ]
    }
   ],
   "source": [
    "! git add README.md # staging\n",
    "! git commit -m \"initial commit\" # local\n",
    "! git status"
   ]
  },
  {
   "cell_type": "markdown",
   "id": "fc7c5f29",
   "metadata": {
    "lines_to_next_cell": 0
   },
   "source": [
    "### Add a python file to the project\n",
    "\n",
    "Add the file `myfuncs.py` with the following content:"
   ]
  },
  {
   "cell_type": "code",
   "execution_count": 10,
   "id": "9738427f",
   "metadata": {},
   "outputs": [
    {
     "name": "stdout",
     "output_type": "stream",
     "text": [
      "Writing myfuncs.py\n"
     ]
    }
   ],
   "source": [
    "%%writefile myfuncs.py\n",
    "\n",
    "\"\"\"Some useless mathematical utility functions.\"\"\"\n",
    "\n",
    "def add(a, b):\n",
    "    \"\"\"Return the sum of a and b.\"\"\"\n",
    "    return a + b\n",
    "\n",
    "def sub(a, b):\n",
    "    \"\"\"Substract b from a.\"\"\"\n",
    "    return a - b"
   ]
  },
  {
   "cell_type": "markdown",
   "id": "86a97789",
   "metadata": {
    "lines_to_next_cell": 0
   },
   "source": [
    "Commit this file:"
   ]
  },
  {
   "cell_type": "code",
   "execution_count": 11,
   "id": "c32f91f5",
   "metadata": {
    "lines_to_next_cell": 0
   },
   "outputs": [
    {
     "name": "stdout",
     "output_type": "stream",
     "text": [
      "[main 830c10f] initial version of myfuncs.py\n",
      " 1 file changed, 10 insertions(+)\n",
      " create mode 100644 myfuncs.py\n"
     ]
    }
   ],
   "source": [
    "! git add myfuncs.py\n",
    "! git commit -m \"initial version of myfuncs.py\""
   ]
  },
  {
   "cell_type": "markdown",
   "id": "f7724ee6",
   "metadata": {
    "lines_to_next_cell": 0
   },
   "source": [
    "### Add a testing file with pytest\n",
    "Add the file `test_myfuncs.py` with the following content:"
   ]
  },
  {
   "cell_type": "code",
   "execution_count": 12,
   "id": "5628715f",
   "metadata": {
    "lines_to_next_cell": 0
   },
   "outputs": [
    {
     "name": "stdout",
     "output_type": "stream",
     "text": [
      "Writing test_myfuncs.py\n"
     ]
    }
   ],
   "source": [
    "%%writefile test_myfuncs.py\n",
    "\n",
    "import pytest\n",
    "\n",
    "@pytest.mark.parametrize(\n",
    "    \"a,b,res\",\n",
    "    [\n",
    "        (0, 0, 0),\n",
    "        (0, 42, 42),\n",
    "        (42, 0, 42),\n",
    "        (42, -42, 0),\n",
    "        (-42, 42, 0),\n",
    "    ]\n",
    ")\n",
    "def test_add(a, b, res):\n",
    "    from myfuncs import add\n",
    "\n",
    "    assert add(a, b) == res"
   ]
  },
  {
   "cell_type": "markdown",
   "id": "ff203837",
   "metadata": {
    "lines_to_next_cell": 0
   },
   "source": [
    "Use `pytest` (install it using `pip install pytest`) to run the tests, verify \n",
    "that they pass and then commit `test_myfuncs.py` (and only this one!):"
   ]
  },
  {
   "cell_type": "code",
   "execution_count": 13,
   "id": "8e9b7ec1",
   "metadata": {
    "lines_to_next_cell": 0
   },
   "outputs": [
    {
     "name": "stdout",
     "output_type": "stream",
     "text": [
      "\u001b[1m============================= test session starts ==============================\u001b[0m\n",
      "platform darwin -- Python 3.10.13, pytest-7.4.3, pluggy-1.3.0\n",
      "rootdir: /Users/nicolas.gensollen/GitRepos/NOW-2023/notebooks/dummymaths\n",
      "plugins: anyio-3.5.0\n",
      "collected 5 items                                                              \u001b[0m\n",
      "\n",
      "test_myfuncs.py \u001b[32m.\u001b[0m\u001b[32m.\u001b[0m\u001b[32m.\u001b[0m\u001b[32m.\u001b[0m\u001b[32m.\u001b[0m\u001b[32m                                                    [100%]\u001b[0m\n",
      "\n",
      "\u001b[32m============================== \u001b[32m\u001b[1m5 passed\u001b[0m\u001b[32m in 0.01s\u001b[0m\u001b[32m ===============================\u001b[0m\n"
     ]
    }
   ],
   "source": [
    "! pytest test_myfuncs.py"
   ]
  },
  {
   "cell_type": "markdown",
   "id": "0650ee1b-e2f5-421b-828d-fbe2b24fb8e9",
   "metadata": {},
   "source": [
    "Note that you can use the verbose option (`-v`) to have more information:"
   ]
  },
  {
   "cell_type": "code",
   "execution_count": 14,
   "id": "81749a79-61c2-49ea-8179-fe79d090d403",
   "metadata": {},
   "outputs": [
    {
     "name": "stdout",
     "output_type": "stream",
     "text": [
      "\u001b[1m============================= test session starts ==============================\u001b[0m\n",
      "platform darwin -- Python 3.10.13, pytest-7.4.3, pluggy-1.3.0 -- /Users/nicolas.gensollen/opt/anaconda3/envs/now/bin/python\n",
      "cachedir: .pytest_cache\n",
      "rootdir: /Users/nicolas.gensollen/GitRepos/NOW-2023/notebooks/dummymaths\n",
      "plugins: anyio-3.5.0\n",
      "collected 5 items                                                              \u001b[0m\n",
      "\n",
      "test_myfuncs.py::test_add[0-0-0] \u001b[32mPASSED\u001b[0m\u001b[32m                                  [ 20%]\u001b[0m\n",
      "test_myfuncs.py::test_add[0-42-42] \u001b[32mPASSED\u001b[0m\u001b[32m                                [ 40%]\u001b[0m\n",
      "test_myfuncs.py::test_add[42-0-42] \u001b[32mPASSED\u001b[0m\u001b[32m                                [ 60%]\u001b[0m\n",
      "test_myfuncs.py::test_add[42--42-0] \u001b[32mPASSED\u001b[0m\u001b[32m                               [ 80%]\u001b[0m\n",
      "test_myfuncs.py::test_add[-42-42-0] \u001b[32mPASSED\u001b[0m\u001b[32m                               [100%]\u001b[0m\n",
      "\n",
      "\u001b[32m============================== \u001b[32m\u001b[1m5 passed\u001b[0m\u001b[32m in 0.01s\u001b[0m\u001b[32m ===============================\u001b[0m\n"
     ]
    }
   ],
   "source": [
    "! pytest -v"
   ]
  },
  {
   "cell_type": "markdown",
   "id": "3d698809-7c9e-410c-ac04-6db91238367b",
   "metadata": {},
   "source": [
    "Let's commit these tests:"
   ]
  },
  {
   "cell_type": "code",
   "execution_count": 15,
   "id": "3fd48162",
   "metadata": {
    "lines_to_next_cell": 0
   },
   "outputs": [
    {
     "name": "stdout",
     "output_type": "stream",
     "text": [
      "[main ed26d1e] tests: add test function for add\n",
      " 1 file changed, 17 insertions(+)\n",
      " create mode 100644 test_myfuncs.py\n"
     ]
    }
   ],
   "source": [
    "! git add test_myfuncs.py \n",
    "! git commit -m \"tests: add test function for add\""
   ]
  },
  {
   "cell_type": "markdown",
   "id": "65b9b408",
   "metadata": {
    "lines_to_next_cell": 0
   },
   "source": [
    "### Ignore generated files\n",
    "\n",
    "At this stage, they are Python bytecode generated files displayed when running [git status](https://git-scm.com/docs/git-status):"
   ]
  },
  {
   "cell_type": "code",
   "execution_count": 16,
   "id": "f2a51284-b997-4014-a774-72efc4ba5979",
   "metadata": {},
   "outputs": [
    {
     "name": "stdout",
     "output_type": "stream",
     "text": [
      "On branch main\n",
      "Untracked files:\n",
      "  (use \"git add <file>...\" to include in what will be committed)\n",
      "\t\u001b[31m__pycache__/\u001b[m\n",
      "\n",
      "nothing added to commit but untracked files present (use \"git add\" to track)\n"
     ]
    }
   ],
   "source": [
    "! git status"
   ]
  },
  {
   "cell_type": "markdown",
   "id": "b4b232eb-a17d-43e9-81a1-2c9dd0d31213",
   "metadata": {},
   "source": [
    "We don't want to commit them inadvertently: this is the purpose of the `.gitignore` file.\n",
    "\n",
    "Add the `.gitignore` to the base directory of your working copy with the following content:"
   ]
  },
  {
   "cell_type": "code",
   "execution_count": 17,
   "id": "bf133da4",
   "metadata": {
    "lines_to_next_cell": 0
   },
   "outputs": [],
   "source": [
    "! echo \"*pyc\" > .gitignore"
   ]
  },
  {
   "cell_type": "markdown",
   "id": "67aa2ddf",
   "metadata": {
    "lines_to_next_cell": 0
   },
   "source": [
    "Check that bytecode generated files are not listed anymore when running [git status](https://git-scm.com/docs/git-status):"
   ]
  },
  {
   "cell_type": "code",
   "execution_count": 18,
   "id": "65cb204d",
   "metadata": {},
   "outputs": [
    {
     "name": "stdout",
     "output_type": "stream",
     "text": [
      "On branch main\n",
      "Untracked files:\n",
      "  (use \"git add <file>...\" to include in what will be committed)\n",
      "\t\u001b[31m.gitignore\u001b[m\n",
      "\n",
      "nothing added to commit but untracked files present (use \"git add\" to track)\n"
     ]
    }
   ],
   "source": [
    "! git status"
   ]
  },
  {
   "cell_type": "markdown",
   "id": "8ce8a303",
   "metadata": {
    "lines_to_next_cell": 0
   },
   "source": [
    "Commit the `.gitignore` file:"
   ]
  },
  {
   "cell_type": "code",
   "execution_count": 19,
   "id": "1f8a464c",
   "metadata": {},
   "outputs": [
    {
     "name": "stdout",
     "output_type": "stream",
     "text": [
      "[main 2e540c4] ignore Python generated files\n",
      " 1 file changed, 1 insertion(+)\n",
      " create mode 100644 .gitignore\n"
     ]
    }
   ],
   "source": [
    "! git add .gitignore\n",
    "! git commit -m \"ignore Python generated files\""
   ]
  },
  {
   "cell_type": "markdown",
   "id": "aaf1275f",
   "metadata": {},
   "source": [
    "## Manage the changes\n",
    "\n",
    "Let's continue with the `dummymaths` Python project and check the history of changes there.\n",
    "\n",
    "1. Display the history of changes already committed, using `git log`:\n",
    "  * Only the last 2 changes with `-2` flag along with their corresponding differences using `-p` flag\n",
    "  * Display the commit information with the format `<small hash> - <message> - <date> - <email>` (check the help of log)"
   ]
  },
  {
   "cell_type": "code",
   "execution_count": 20,
   "id": "065b98e6-7d38-4a1c-82a9-5c6b1088694d",
   "metadata": {},
   "outputs": [
    {
     "name": "stdout",
     "output_type": "stream",
     "text": [
      "\u001b[33mcommit 2e540c4165e1918aabe2d7c8c42adda44b9760b1\u001b[m\u001b[33m (\u001b[m\u001b[1;36mHEAD -> \u001b[m\u001b[1;32mmain\u001b[m\u001b[33m)\u001b[m\n",
      "Author: John Doe <john.doe@inria.fr>\n",
      "Date:   Mon Nov 20 15:56:37 2023 +0100\n",
      "\n",
      "    ignore Python generated files\n",
      "\n",
      "\u001b[33mcommit ed26d1ee924e5779443d79f915fe13fe358bc598\u001b[m\n",
      "Author: John Doe <john.doe@inria.fr>\n",
      "Date:   Mon Nov 20 15:56:33 2023 +0100\n",
      "\n",
      "    tests: add test function for add\n",
      "\n",
      "\u001b[33mcommit 830c10fe13a4964135b7a454587452e8aed4f939\u001b[m\n",
      "Author: John Doe <john.doe@inria.fr>\n",
      "Date:   Mon Nov 20 15:56:24 2023 +0100\n",
      "\n",
      "    initial version of myfuncs.py\n",
      "\n",
      "\u001b[33mcommit 9fc3b9642f36ef5b22323085a371a209d5ff95e9\u001b[m\n",
      "Author: John Doe <john.doe@inria.fr>\n",
      "Date:   Mon Nov 20 15:56:21 2023 +0100\n",
      "\n",
      "    initial commit\n"
     ]
    }
   ],
   "source": [
    "! git log"
   ]
  },
  {
   "cell_type": "code",
   "execution_count": 21,
   "id": "9b4c424f-c1d0-4258-a77a-adf32e1eec60",
   "metadata": {},
   "outputs": [
    {
     "name": "stdout",
     "output_type": "stream",
     "text": [
      "\u001b[33mcommit 2e540c4165e1918aabe2d7c8c42adda44b9760b1\u001b[m\u001b[33m (\u001b[m\u001b[1;36mHEAD -> \u001b[m\u001b[1;32mmain\u001b[m\u001b[33m)\u001b[m\n",
      "Author: John Doe <john.doe@inria.fr>\n",
      "Date:   Mon Nov 20 15:56:37 2023 +0100\n",
      "\n",
      "    ignore Python generated files\n",
      "\n",
      "\u001b[33mcommit ed26d1ee924e5779443d79f915fe13fe358bc598\u001b[m\n",
      "Author: John Doe <john.doe@inria.fr>\n",
      "Date:   Mon Nov 20 15:56:33 2023 +0100\n",
      "\n",
      "    tests: add test function for add\n"
     ]
    }
   ],
   "source": [
    "! git log -2"
   ]
  },
  {
   "cell_type": "code",
   "execution_count": 22,
   "id": "6c3b043f-bf58-4303-a19a-667211fcacff",
   "metadata": {},
   "outputs": [
    {
     "name": "stdout",
     "output_type": "stream",
     "text": [
      "\u001b[33mcommit 2e540c4165e1918aabe2d7c8c42adda44b9760b1\u001b[m\u001b[33m (\u001b[m\u001b[1;36mHEAD -> \u001b[m\u001b[1;32mmain\u001b[m\u001b[33m)\u001b[m\n",
      "Author: John Doe <john.doe@inria.fr>\n",
      "Date:   Mon Nov 20 15:56:37 2023 +0100\n",
      "\n",
      "    ignore Python generated files\n",
      "\n",
      "\u001b[1mdiff --git a/.gitignore b/.gitignore\u001b[m\n",
      "\u001b[1mnew file mode 100644\u001b[m\n",
      "\u001b[1mindex 0000000..72723e5\u001b[m\n",
      "\u001b[1m--- /dev/null\u001b[m\n",
      "\u001b[1m+++ b/.gitignore\u001b[m\n",
      "\u001b[36m@@ -0,0 +1 @@\u001b[m\n",
      "\u001b[32m+\u001b[m\u001b[32m*pyc\u001b[m\n",
      "\n",
      "\u001b[33mcommit ed26d1ee924e5779443d79f915fe13fe358bc598\u001b[m\n",
      "Author: John Doe <john.doe@inria.fr>\n",
      "Date:   Mon Nov 20 15:56:33 2023 +0100\n",
      "\n",
      "    tests: add test function for add\n",
      "\n",
      "\u001b[1mdiff --git a/test_myfuncs.py b/test_myfuncs.py\u001b[m\n",
      "\u001b[1mnew file mode 100644\u001b[m\n",
      "\u001b[1mindex 0000000..97539fb\u001b[m\n",
      "\u001b[1m--- /dev/null\u001b[m\n",
      "\u001b[1m+++ b/test_myfuncs.py\u001b[m\n",
      "\u001b[36m@@ -0,0 +1,17 @@\u001b[m\n",
      "\u001b[32m+\u001b[m\n",
      "\u001b[32m+\u001b[m\u001b[32mimport pytest\u001b[m\n",
      "\u001b[32m+\u001b[m\n",
      "\u001b[32m+\u001b[m\u001b[32m@pytest.mark.parametrize(\u001b[m\n",
      "\u001b[32m+\u001b[m\u001b[32m    \"a,b,res\",\u001b[m\n",
      "\u001b[32m+\u001b[m\u001b[32m    [\u001b[m\n",
      "\u001b[32m+\u001b[m\u001b[32m        (0, 0, 0),\u001b[m\n",
      "\u001b[32m+\u001b[m\u001b[32m        (0, 42, 42),\u001b[m\n",
      "\u001b[32m+\u001b[m\u001b[32m        (42, 0, 42),\u001b[m\n",
      "\u001b[32m+\u001b[m\u001b[32m        (42, -42, 0),\u001b[m\n",
      "\u001b[32m+\u001b[m\u001b[32m        (-42, 42, 0),\u001b[m\n",
      "\u001b[32m+\u001b[m\u001b[32m    ]\u001b[m\n",
      "\u001b[32m+\u001b[m\u001b[32m)\u001b[m\n",
      "\u001b[32m+\u001b[m\u001b[32mdef test_add(a, b, res):\u001b[m\n",
      "\u001b[32m+\u001b[m\u001b[32m    from myfuncs import add\u001b[m\n",
      "\u001b[32m+\u001b[m\n",
      "\u001b[32m+\u001b[m\u001b[32m    assert add(a, b) == res\u001b[m\n"
     ]
    }
   ],
   "source": [
    "! git log -2 -p"
   ]
  },
  {
   "cell_type": "markdown",
   "id": "da9ea1c6-ec73-47ff-80ff-bed9f29ddc78",
   "metadata": {},
   "source": [
    "2. Let's extend the tests in `test_myfuncs.py` with a test for the `sub` function:"
   ]
  },
  {
   "cell_type": "code",
   "execution_count": 23,
   "id": "368ca85d-ca39-45e9-b608-308a563fd50b",
   "metadata": {},
   "outputs": [
    {
     "name": "stdout",
     "output_type": "stream",
     "text": [
      "Appending to test_myfuncs.py\n"
     ]
    }
   ],
   "source": [
    "%%writefile -a test_myfuncs.py\n",
    "\n",
    "@pytest.mark.parametrize(\n",
    "    \"a,b,res\",\n",
    "    [\n",
    "        (0, 0, 0),\n",
    "        (0, 42, -42),\n",
    "        (42, 0, 42),\n",
    "        (42, 42, 0),\n",
    "        (42, -42, 84),\n",
    "        (-42, 42, -84),\n",
    "    ]\n",
    ")\n",
    "def test_sub(a, b, res):\n",
    "    from myfuncs import sub\n",
    "\n",
    "    assert sub(a, b) == res"
   ]
  },
  {
   "cell_type": "code",
   "execution_count": 24,
   "id": "2ecaa32a-0446-4340-838a-432d5a5a7bc0",
   "metadata": {},
   "outputs": [
    {
     "name": "stdout",
     "output_type": "stream",
     "text": [
      "\u001b[1m============================= test session starts ==============================\u001b[0m\n",
      "platform darwin -- Python 3.10.13, pytest-7.4.3, pluggy-1.3.0 -- /Users/nicolas.gensollen/opt/anaconda3/envs/now/bin/python\n",
      "cachedir: .pytest_cache\n",
      "rootdir: /Users/nicolas.gensollen/GitRepos/NOW-2023/notebooks/dummymaths\n",
      "plugins: anyio-3.5.0\n",
      "collected 11 items                                                             \u001b[0m\n",
      "\n",
      "test_myfuncs.py::test_add[0-0-0] \u001b[32mPASSED\u001b[0m\u001b[32m                                  [  9%]\u001b[0m\n",
      "test_myfuncs.py::test_add[0-42-42] \u001b[32mPASSED\u001b[0m\u001b[32m                                [ 18%]\u001b[0m\n",
      "test_myfuncs.py::test_add[42-0-42] \u001b[32mPASSED\u001b[0m\u001b[32m                                [ 27%]\u001b[0m\n",
      "test_myfuncs.py::test_add[42--42-0] \u001b[32mPASSED\u001b[0m\u001b[32m                               [ 36%]\u001b[0m\n",
      "test_myfuncs.py::test_add[-42-42-0] \u001b[32mPASSED\u001b[0m\u001b[32m                               [ 45%]\u001b[0m\n",
      "test_myfuncs.py::test_sub[0-0-0] \u001b[32mPASSED\u001b[0m\u001b[32m                                  [ 54%]\u001b[0m\n",
      "test_myfuncs.py::test_sub[0-42--42] \u001b[32mPASSED\u001b[0m\u001b[32m                               [ 63%]\u001b[0m\n",
      "test_myfuncs.py::test_sub[42-0-42] \u001b[32mPASSED\u001b[0m\u001b[32m                                [ 72%]\u001b[0m\n",
      "test_myfuncs.py::test_sub[42-42-0] \u001b[32mPASSED\u001b[0m\u001b[32m                                [ 81%]\u001b[0m\n",
      "test_myfuncs.py::test_sub[42--42-84] \u001b[32mPASSED\u001b[0m\u001b[32m                              [ 90%]\u001b[0m\n",
      "test_myfuncs.py::test_sub[-42-42--84] \u001b[32mPASSED\u001b[0m\u001b[32m                             [100%]\u001b[0m\n",
      "\n",
      "\u001b[32m============================== \u001b[32m\u001b[1m11 passed\u001b[0m\u001b[32m in 0.03s\u001b[0m\u001b[32m ==============================\u001b[0m\n"
     ]
    }
   ],
   "source": [
    "! pytest -v"
   ]
  },
  {
   "cell_type": "markdown",
   "id": "4eb1b0b5",
   "metadata": {
    "lines_to_next_cell": 0
   },
   "source": [
    "Add these changes to the staging area:"
   ]
  },
  {
   "cell_type": "code",
   "execution_count": 25,
   "id": "ba654071",
   "metadata": {},
   "outputs": [],
   "source": [
    "! git add test_myfuncs.py"
   ]
  },
  {
   "cell_type": "markdown",
   "id": "06dc8e6f",
   "metadata": {
    "lines_to_next_cell": 0
   },
   "source": [
    "Check the state of your local copy with [git status](https://git-scm.com/docs/git-status): there's something in the staging area and nothing in the local changes."
   ]
  },
  {
   "cell_type": "code",
   "execution_count": 26,
   "id": "73219e76",
   "metadata": {},
   "outputs": [
    {
     "name": "stdout",
     "output_type": "stream",
     "text": [
      "On branch main\n",
      "Changes to be committed:\n",
      "  (use \"git restore --staged <file>...\" to unstage)\n",
      "\t\u001b[32mmodified:   test_myfuncs.py\u001b[m\n",
      "\n"
     ]
    }
   ],
   "source": [
    "! git status"
   ]
  },
  {
   "cell_type": "code",
   "execution_count": 27,
   "id": "0a83925a-402f-445e-a813-b6af439e4287",
   "metadata": {},
   "outputs": [],
   "source": [
    "! git diff  # This command should return nothing"
   ]
  },
  {
   "cell_type": "markdown",
   "id": "0b538cec",
   "metadata": {
    "lines_to_next_cell": 0
   },
   "source": [
    "Verify that the changes added in the staging are the ones expected:"
   ]
  },
  {
   "cell_type": "code",
   "execution_count": 28,
   "id": "21e28c09",
   "metadata": {
    "lines_to_next_cell": 0
   },
   "outputs": [
    {
     "name": "stdout",
     "output_type": "stream",
     "text": [
      "\u001b[1mdiff --git a/test_myfuncs.py b/test_myfuncs.py\u001b[m\n",
      "\u001b[1mindex 97539fb..a63ab90 100644\u001b[m\n",
      "\u001b[1m--- a/test_myfuncs.py\u001b[m\n",
      "\u001b[1m+++ b/test_myfuncs.py\u001b[m\n",
      "\u001b[36m@@ -15,3 +15,19 @@\u001b[m \u001b[mdef test_add(a, b, res):\u001b[m\n",
      "     from myfuncs import add\u001b[m\n",
      " \u001b[m\n",
      "     assert add(a, b) == res\u001b[m\n",
      "\u001b[32m+\u001b[m\n",
      "\u001b[32m+\u001b[m\u001b[32m@pytest.mark.parametrize(\u001b[m\n",
      "\u001b[32m+\u001b[m\u001b[32m    \"a,b,res\",\u001b[m\n",
      "\u001b[32m+\u001b[m\u001b[32m    [\u001b[m\n",
      "\u001b[32m+\u001b[m\u001b[32m        (0, 0, 0),\u001b[m\n",
      "\u001b[32m+\u001b[m\u001b[32m        (0, 42, -42),\u001b[m\n",
      "\u001b[32m+\u001b[m\u001b[32m        (42, 0, 42),\u001b[m\n",
      "\u001b[32m+\u001b[m\u001b[32m        (42, 42, 0),\u001b[m\n",
      "\u001b[32m+\u001b[m\u001b[32m        (42, -42, 84),\u001b[m\n",
      "\u001b[32m+\u001b[m\u001b[32m        (-42, 42, -84),\u001b[m\n",
      "\u001b[32m+\u001b[m\u001b[32m    ]\u001b[m\n",
      "\u001b[32m+\u001b[m\u001b[32m)\u001b[m\n",
      "\u001b[32m+\u001b[m\u001b[32mdef test_sub(a, b, res):\u001b[m\n",
      "\u001b[32m+\u001b[m\u001b[32m    from myfuncs import sub\u001b[m\n",
      "\u001b[32m+\u001b[m\n",
      "\u001b[32m+\u001b[m\u001b[32m    assert sub(a, b) == res\u001b[m\n"
     ]
    }
   ],
   "source": [
    "! git diff --staged"
   ]
  },
  {
   "cell_type": "markdown",
   "id": "9ec46e47",
   "metadata": {
    "lines_to_next_cell": 0
   },
   "source": [
    "Remove the changes from the staging area:"
   ]
  },
  {
   "cell_type": "code",
   "execution_count": 29,
   "id": "f6701a01",
   "metadata": {
    "lines_to_next_cell": 0
   },
   "outputs": [
    {
     "name": "stdout",
     "output_type": "stream",
     "text": [
      "Unstaged changes after reset:\n",
      "M\ttest_myfuncs.py\n"
     ]
    }
   ],
   "source": [
    "! git reset"
   ]
  },
  {
   "cell_type": "markdown",
   "id": "4c3ccdf6",
   "metadata": {
    "lines_to_next_cell": 0
   },
   "source": [
    "Check the modifications are still there, in the local changes:"
   ]
  },
  {
   "cell_type": "code",
   "execution_count": 30,
   "id": "f7d5abd8",
   "metadata": {
    "lines_to_next_cell": 0
   },
   "outputs": [
    {
     "name": "stdout",
     "output_type": "stream",
     "text": [
      "On branch main\n",
      "Changes not staged for commit:\n",
      "  (use \"git add <file>...\" to update what will be committed)\n",
      "  (use \"git restore <file>...\" to discard changes in working directory)\n",
      "\t\u001b[31mmodified:   test_myfuncs.py\u001b[m\n",
      "\n",
      "no changes added to commit (use \"git add\" and/or \"git commit -a\")\n"
     ]
    }
   ],
   "source": [
    "! git status"
   ]
  },
  {
   "cell_type": "code",
   "execution_count": 31,
   "id": "00dfec7c-385b-4cfb-b8ae-db82f268263a",
   "metadata": {},
   "outputs": [
    {
     "name": "stdout",
     "output_type": "stream",
     "text": [
      "\u001b[1mdiff --git a/test_myfuncs.py b/test_myfuncs.py\u001b[m\n",
      "\u001b[1mindex 97539fb..a63ab90 100644\u001b[m\n",
      "\u001b[1m--- a/test_myfuncs.py\u001b[m\n",
      "\u001b[1m+++ b/test_myfuncs.py\u001b[m\n",
      "\u001b[36m@@ -15,3 +15,19 @@\u001b[m \u001b[mdef test_add(a, b, res):\u001b[m\n",
      "     from myfuncs import add\u001b[m\n",
      " \u001b[m\n",
      "     assert add(a, b) == res\u001b[m\n",
      "\u001b[32m+\u001b[m\n",
      "\u001b[32m+\u001b[m\u001b[32m@pytest.mark.parametrize(\u001b[m\n",
      "\u001b[32m+\u001b[m\u001b[32m    \"a,b,res\",\u001b[m\n",
      "\u001b[32m+\u001b[m\u001b[32m    [\u001b[m\n",
      "\u001b[32m+\u001b[m\u001b[32m        (0, 0, 0),\u001b[m\n",
      "\u001b[32m+\u001b[m\u001b[32m        (0, 42, -42),\u001b[m\n",
      "\u001b[32m+\u001b[m\u001b[32m        (42, 0, 42),\u001b[m\n",
      "\u001b[32m+\u001b[m\u001b[32m        (42, 42, 0),\u001b[m\n",
      "\u001b[32m+\u001b[m\u001b[32m        (42, -42, 84),\u001b[m\n",
      "\u001b[32m+\u001b[m\u001b[32m        (-42, 42, -84),\u001b[m\n",
      "\u001b[32m+\u001b[m\u001b[32m    ]\u001b[m\n",
      "\u001b[32m+\u001b[m\u001b[32m)\u001b[m\n",
      "\u001b[32m+\u001b[m\u001b[32mdef test_sub(a, b, res):\u001b[m\n",
      "\u001b[32m+\u001b[m\u001b[32m    from myfuncs import sub\u001b[m\n",
      "\u001b[32m+\u001b[m\n",
      "\u001b[32m+\u001b[m\u001b[32m    assert sub(a, b) == res\u001b[m\n"
     ]
    }
   ],
   "source": [
    "! git diff"
   ]
  },
  {
   "cell_type": "markdown",
   "id": "8be25751",
   "metadata": {
    "lines_to_next_cell": 0
   },
   "source": [
    "Repeat 4. and 5. but this time completely revert the changes added to the staging area (`git reset --hard`)"
   ]
  },
  {
   "cell_type": "markdown",
   "id": "daa52ea4",
   "metadata": {
    "lines_to_next_cell": 0
   },
   "source": [
    "Apply one last time the changes above to the `test_myfuncs.py` file and commit them:"
   ]
  },
  {
   "cell_type": "code",
   "execution_count": 32,
   "id": "d78abb81",
   "metadata": {
    "lines_to_next_cell": 0
   },
   "outputs": [
    {
     "name": "stdout",
     "output_type": "stream",
     "text": [
      "[main 4bce680] add test function for sub\n",
      " 1 file changed, 16 insertions(+)\n"
     ]
    }
   ],
   "source": [
    "! git add test_myfuncs.py\n",
    "! git commit -m \"add test function for sub\""
   ]
  },
  {
   "cell_type": "markdown",
   "id": "dc7381cf",
   "metadata": {
    "lines_to_next_cell": 0
   },
   "source": [
    "Check the diff contained in this last commit:"
   ]
  },
  {
   "cell_type": "code",
   "execution_count": 33,
   "id": "2afb0fb6",
   "metadata": {},
   "outputs": [
    {
     "name": "stdout",
     "output_type": "stream",
     "text": [
      "\u001b[33mcommit 4bce680b681aa871be24e0c8555b7215fc02620d\u001b[m\u001b[33m (\u001b[m\u001b[1;36mHEAD -> \u001b[m\u001b[1;32mmain\u001b[m\u001b[33m)\u001b[m\n",
      "Author: John Doe <john.doe@inria.fr>\n",
      "Date:   Mon Nov 20 15:56:45 2023 +0100\n",
      "\n",
      "    add test function for sub\n",
      "\n",
      "\u001b[1mdiff --git a/test_myfuncs.py b/test_myfuncs.py\u001b[m\n",
      "\u001b[1mindex 97539fb..a63ab90 100644\u001b[m\n",
      "\u001b[1m--- a/test_myfuncs.py\u001b[m\n",
      "\u001b[1m+++ b/test_myfuncs.py\u001b[m\n",
      "\u001b[36m@@ -15,3 +15,19 @@\u001b[m \u001b[mdef test_add(a, b, res):\u001b[m\n",
      "     from myfuncs import add\u001b[m\n",
      " \u001b[m\n",
      "     assert add(a, b) == res\u001b[m\n",
      "\u001b[32m+\u001b[m\n",
      "\u001b[32m+\u001b[m\u001b[32m@pytest.mark.parametrize(\u001b[m\n",
      "\u001b[32m+\u001b[m\u001b[32m    \"a,b,res\",\u001b[m\n",
      "\u001b[32m+\u001b[m\u001b[32m    [\u001b[m\n",
      "\u001b[32m+\u001b[m\u001b[32m        (0, 0, 0),\u001b[m\n",
      "\u001b[32m+\u001b[m\u001b[32m        (0, 42, -42),\u001b[m\n",
      "\u001b[32m+\u001b[m\u001b[32m        (42, 0, 42),\u001b[m\n",
      "\u001b[32m+\u001b[m\u001b[32m        (42, 42, 0),\u001b[m\n",
      "\u001b[32m+\u001b[m\u001b[32m        (42, -42, 84),\u001b[m\n",
      "\u001b[32m+\u001b[m\u001b[32m        (-42, 42, -84),\u001b[m\n",
      "\u001b[32m+\u001b[m\u001b[32m    ]\u001b[m\n",
      "\u001b[32m+\u001b[m\u001b[32m)\u001b[m\n",
      "\u001b[32m+\u001b[m\u001b[32mdef test_sub(a, b, res):\u001b[m\n",
      "\u001b[32m+\u001b[m\u001b[32m    from myfuncs import sub\u001b[m\n",
      "\u001b[32m+\u001b[m\n",
      "\u001b[32m+\u001b[m\u001b[32m    assert sub(a, b) == res\u001b[m\n"
     ]
    }
   ],
   "source": [
    "! git log -1 -p"
   ]
  },
  {
   "cell_type": "markdown",
   "id": "f379318a",
   "metadata": {},
   "source": [
    "## Working with remote repositories"
   ]
  },
  {
   "cell_type": "markdown",
   "id": "781e4c6b",
   "metadata": {
    "lines_to_next_cell": 0
   },
   "source": [
    "Some preliminary checks:\n",
    "In your local working copy, check that no remote repository is already configured:"
   ]
  },
  {
   "cell_type": "code",
   "execution_count": 34,
   "id": "620c4d3e",
   "metadata": {
    "lines_to_next_cell": 0
   },
   "outputs": [],
   "source": [
    "! git remote"
   ]
  },
  {
   "cell_type": "markdown",
   "id": "f48e91b7",
   "metadata": {
    "lines_to_next_cell": 0
   },
   "source": [
    "Move to another directory, out of the `dummymaths` one, and initialize there a bare repository. We will use it as a remote repository for `dummymaths`"
   ]
  },
  {
   "cell_type": "code",
   "execution_count": 35,
   "id": "d2f97a63",
   "metadata": {
    "lines_to_next_cell": 0
   },
   "outputs": [
    {
     "name": "stdout",
     "output_type": "stream",
     "text": [
      "/Users/nicolas.gensollen/GitRepos/NOW-2023/notebooks\n",
      "/Users/nicolas.gensollen/GitRepos/NOW-2023/notebooks/dummymaths_remote\n",
      "Initialized empty Git repository in /Users/nicolas.gensollen/GitRepos/NOW-2023/notebooks/dummymaths_remote/\n"
     ]
    }
   ],
   "source": [
    "%cd ..\n",
    "! mkdir dummymaths_remote\n",
    "%cd dummymaths_remote\n",
    "! git init --bare"
   ]
  },
  {
   "cell_type": "markdown",
   "id": "b1fc27da",
   "metadata": {
    "lines_to_next_cell": 0
   },
   "source": [
    "Move back to the `dummymaths` directory, that contains your initial git working copy and from there add the newly created remote repository. The url of this repository is just a path in your filesystem:"
   ]
  },
  {
   "cell_type": "code",
   "execution_count": 36,
   "id": "7027c066",
   "metadata": {
    "lines_to_next_cell": 0
   },
   "outputs": [
    {
     "name": "stdout",
     "output_type": "stream",
     "text": [
      "/Users/nicolas.gensollen/GitRepos/NOW-2023/notebooks/dummymaths\n"
     ]
    }
   ],
   "source": [
    "%cd ../dummymaths\n",
    "! git remote add origin ../dummymaths_remote"
   ]
  },
  {
   "cell_type": "code",
   "execution_count": 37,
   "id": "488cd4e9-cb52-4e1d-8a5e-16820afecac5",
   "metadata": {},
   "outputs": [
    {
     "name": "stdout",
     "output_type": "stream",
     "text": [
      "origin\t../dummymaths_remote (fetch)\n",
      "origin\t../dummymaths_remote (push)\n"
     ]
    }
   ],
   "source": [
    "! git remote -v"
   ]
  },
  {
   "cell_type": "markdown",
   "id": "ee582eee",
   "metadata": {
    "lines_to_next_cell": 0
   },
   "source": [
    " Push your `main` branch and enable upstream tracking in the meantime:"
   ]
  },
  {
   "cell_type": "code",
   "execution_count": 38,
   "id": "6e5479dd",
   "metadata": {
    "lines_to_next_cell": 0
   },
   "outputs": [
    {
     "name": "stdout",
     "output_type": "stream",
     "text": [
      "Enumerating objects: 15, done.\n",
      "Counting objects: 100% (15/15), done.\n",
      "Delta compression using up to 8 threads\n",
      "Compressing objects: 100% (12/12), done.\n",
      "Writing objects: 100% (15/15), 1.45 KiB | 741.00 KiB/s, done.\n",
      "Total 15 (delta 4), reused 0 (delta 0), pack-reused 0\n",
      "To ../dummymaths_remote\n",
      " * [new branch]      main -> main\n",
      "branch 'main' set up to track 'origin/main'.\n"
     ]
    }
   ],
   "source": [
    "! git push origin main -u"
   ]
  },
  {
   "cell_type": "markdown",
   "id": "67cb2d20",
   "metadata": {
    "lines_to_next_cell": 0
   },
   "source": [
    "Check that the `main` branch is now referenced on the remote repository:"
   ]
  },
  {
   "cell_type": "code",
   "execution_count": 39,
   "id": "961c525e",
   "metadata": {
    "lines_to_next_cell": 0
   },
   "outputs": [
    {
     "name": "stdout",
     "output_type": "stream",
     "text": [
      "* remote origin\n",
      "  Fetch URL: ../dummymaths_remote\n",
      "  Push  URL: ../dummymaths_remote\n",
      "  HEAD branch: main\n",
      "  Remote branch:\n",
      "    main tracked\n",
      "  Local branch configured for 'git pull':\n",
      "    main merges with remote main\n",
      "  Local ref configured for 'git push':\n",
      "    main pushes to main (up to date)\n"
     ]
    }
   ],
   "source": [
    "! git remote show origin"
   ]
  },
  {
   "cell_type": "markdown",
   "id": "00ead288",
   "metadata": {
    "lines_to_next_cell": 0
   },
   "source": [
    "In another directory, clone the repository of the source code of the tutorial that is hosted on gitlab:"
   ]
  },
  {
   "cell_type": "code",
   "execution_count": 40,
   "id": "7749e121",
   "metadata": {
    "lines_to_next_cell": 0
   },
   "outputs": [
    {
     "name": "stdout",
     "output_type": "stream",
     "text": [
      "/Users/nicolas.gensollen/GitRepos/NOW-2023/notebooks\n",
      "Cloning into 'git-tutorial'...\n",
      "remote: Enumerating objects: 551, done.\u001b[K\n",
      "remote: Counting objects: 100% (121/121), done.\u001b[K\n",
      "remote: Compressing objects: 100% (53/53), done.\u001b[K\n",
      "remote: Total 551 (delta 55), reused 105 (delta 48), pack-reused 430\u001b[K\n",
      "Receiving objects: 100% (551/551), 4.88 MiB | 1.84 MiB/s, done.\n",
      "Resolving deltas: 100% (242/242), done.\n"
     ]
    }
   ],
   "source": [
    "%cd ..\n",
    "! git clone https://gitlab.inria.fr/git-tutorial/git-tutorial.git"
   ]
  },
  {
   "cell_type": "markdown",
   "id": "9b010e5a",
   "metadata": {
    "lines_to_next_cell": 0
   },
   "source": [
    "You can check the status of your local copy and the information about the remote repository:"
   ]
  },
  {
   "cell_type": "code",
   "execution_count": 41,
   "id": "bebee419",
   "metadata": {},
   "outputs": [
    {
     "name": "stdout",
     "output_type": "stream",
     "text": [
      "/Users/nicolas.gensollen/GitRepos/NOW-2023/notebooks/git-tutorial\n",
      "On branch main\n",
      "Your branch is up to date with 'origin/main'.\n",
      "\n",
      "nothing to commit, working tree clean\n",
      "origin\thttps://gitlab.inria.fr/git-tutorial/git-tutorial.git (fetch)\n",
      "origin\thttps://gitlab.inria.fr/git-tutorial/git-tutorial.git (push)\n"
     ]
    }
   ],
   "source": [
    "%cd git-tutorial\n",
    "! git status\n",
    "! git remote -v"
   ]
  },
  {
   "cell_type": "markdown",
   "id": "4701cf41",
   "metadata": {},
   "source": [
    "Manipulating branches"
   ]
  },
  {
   "cell_type": "markdown",
   "id": "f1f04ee6",
   "metadata": {
    "lines_to_next_cell": 0
   },
   "source": [
    "Move back to the `dummymaths` directory and list your local and remote branches:"
   ]
  },
  {
   "cell_type": "code",
   "execution_count": 42,
   "id": "2b53a724",
   "metadata": {
    "lines_to_next_cell": 0
   },
   "outputs": [
    {
     "name": "stdout",
     "output_type": "stream",
     "text": [
      "/Users/nicolas.gensollen/GitRepos/NOW-2023/notebooks/dummymaths\n",
      "* \u001b[32mmain\u001b[m\n"
     ]
    }
   ],
   "source": [
    "%cd ../dummymaths\n",
    "! git branch"
   ]
  },
  {
   "cell_type": "code",
   "execution_count": 43,
   "id": "1ffba3f8-ac01-41c4-954d-f1ff5c47a886",
   "metadata": {},
   "outputs": [
    {
     "name": "stdout",
     "output_type": "stream",
     "text": [
      "* \u001b[32mmain\u001b[m\n",
      "  \u001b[31mremotes/origin/main\u001b[m\n"
     ]
    }
   ],
   "source": [
    "! git branch -a"
   ]
  },
  {
   "cell_type": "markdown",
   "id": "88bd6c65",
   "metadata": {
    "lines_to_next_cell": 0
   },
   "source": [
    "Create a branch called `multiply` and list the branches again:"
   ]
  },
  {
   "cell_type": "code",
   "execution_count": 44,
   "id": "998e23b4",
   "metadata": {
    "lines_to_next_cell": 0
   },
   "outputs": [
    {
     "name": "stdout",
     "output_type": "stream",
     "text": [
      "* \u001b[32mmain\u001b[m\n",
      "  multiply\u001b[m\n"
     ]
    }
   ],
   "source": [
    "! git branch multiply\n",
    "! git branch"
   ]
  },
  {
   "cell_type": "markdown",
   "id": "06ce543e",
   "metadata": {
    "lines_to_next_cell": 0
   },
   "source": [
    "Current branch is still `main` but there's a new `multiply` branch. Also note\n",
    "how immediate it is to create a new branch."
   ]
  },
  {
   "cell_type": "markdown",
   "id": "d35f4683",
   "metadata": {
    "lines_to_next_cell": 0
   },
   "source": [
    "Switch to the `multiply` branch and list the local branches again:"
   ]
  },
  {
   "cell_type": "code",
   "execution_count": 45,
   "id": "dafa3e5c",
   "metadata": {
    "lines_to_next_cell": 0
   },
   "outputs": [
    {
     "name": "stdout",
     "output_type": "stream",
     "text": [
      "Switched to branch 'multiply'\n",
      "  main\u001b[m\n",
      "* \u001b[32mmultiply\u001b[m\n"
     ]
    }
   ],
   "source": [
    "! git checkout multiply\n",
    "! git branch"
   ]
  },
  {
   "cell_type": "markdown",
   "id": "643d3e61",
   "metadata": {
    "lines_to_next_cell": 0
   },
   "source": [
    "Now let's display the history of commits on both branches:"
   ]
  },
  {
   "cell_type": "code",
   "execution_count": 46,
   "id": "5d0e8f27",
   "metadata": {
    "lines_to_next_cell": 0
   },
   "outputs": [
    {
     "name": "stdout",
     "output_type": "stream",
     "text": [
      "* \u001b[33m4bce680\u001b[m\u001b[33m (\u001b[m\u001b[1;36mHEAD -> \u001b[m\u001b[1;32mmultiply\u001b[m\u001b[33m, \u001b[m\u001b[1;31morigin/main\u001b[m\u001b[33m, \u001b[m\u001b[1;32mmain\u001b[m\u001b[33m)\u001b[m add test function for sub\n",
      "* \u001b[33m2e540c4\u001b[m ignore Python generated files\n",
      "* \u001b[33med26d1e\u001b[m tests: add test function for add\n",
      "* \u001b[33m830c10f\u001b[m initial version of myfuncs.py\n",
      "* \u001b[33m9fc3b96\u001b[m initial commit\n"
     ]
    }
   ],
   "source": [
    "! git log --decorate --graph --oneline --all"
   ]
  },
  {
   "cell_type": "markdown",
   "id": "937b8c2a",
   "metadata": {
    "lines_to_next_cell": 0
   },
   "source": [
    "You can also try with a graphical tool, such as `gitk` using `gitk --all`"
   ]
  },
  {
   "cell_type": "markdown",
   "id": "4d2e6e12",
   "metadata": {
    "lines_to_next_cell": 0
   },
   "source": [
    "Let's add a new multiply function to the `myfuncs.py` module:"
   ]
  },
  {
   "cell_type": "code",
   "execution_count": 47,
   "id": "9716cd7f-d5c9-4b85-8768-e8ed4c1d6db6",
   "metadata": {},
   "outputs": [
    {
     "name": "stdout",
     "output_type": "stream",
     "text": [
      "\n",
      "\"\"\"Some useless mathematical utility functions.\"\"\"\n",
      "\n",
      "def add(a, b):\n",
      "    \"\"\"Return the sum of a and b.\"\"\"\n",
      "    return a + b\n",
      "\n",
      "def sub(a, b):\n",
      "    \"\"\"Substract b from a.\"\"\"\n",
      "    return a - b\n"
     ]
    }
   ],
   "source": [
    "! cat myfuncs.py"
   ]
  },
  {
   "cell_type": "code",
   "execution_count": 48,
   "id": "2c8dbde3-c579-4608-8bee-38cae9af1c68",
   "metadata": {},
   "outputs": [
    {
     "name": "stdout",
     "output_type": "stream",
     "text": [
      "Appending to myfuncs.py\n"
     ]
    }
   ],
   "source": [
    "%%writefile -a myfuncs.py\n",
    "\n",
    "def multiply(a, b):\n",
    "    \"\"\"Multiply a by b.\"\"\"\n",
    "    return a * b"
   ]
  },
  {
   "cell_type": "markdown",
   "id": "3af15aaf",
   "metadata": {
    "lines_to_next_cell": 0
   },
   "source": [
    "Commit the changes above, they should end up in the `multiply` branch, and\n",
    "display the history of changes, like before:"
   ]
  },
  {
   "cell_type": "code",
   "execution_count": 49,
   "id": "dd01319d",
   "metadata": {
    "lines_to_next_cell": 0
   },
   "outputs": [
    {
     "name": "stdout",
     "output_type": "stream",
     "text": [
      "[multiply 3ed6a69] myfuncs: add the multiply function\n",
      " 1 file changed, 4 insertions(+)\n",
      "* \u001b[33m3ed6a69\u001b[m\u001b[33m (\u001b[m\u001b[1;36mHEAD -> \u001b[m\u001b[1;32mmultiply\u001b[m\u001b[33m)\u001b[m myfuncs: add the multiply function\n",
      "* \u001b[33m4bce680\u001b[m\u001b[33m (\u001b[m\u001b[1;31morigin/main\u001b[m\u001b[33m, \u001b[m\u001b[1;32mmain\u001b[m\u001b[33m)\u001b[m add test function for sub\n",
      "* \u001b[33m2e540c4\u001b[m ignore Python generated files\n",
      "* \u001b[33med26d1e\u001b[m tests: add test function for add\n",
      "* \u001b[33m830c10f\u001b[m initial version of myfuncs.py\n",
      "* \u001b[33m9fc3b96\u001b[m initial commit\n"
     ]
    }
   ],
   "source": [
    "! git commit -am \"myfuncs: add the multiply function\"\n",
    "! git log --decorate --graph --oneline --all"
   ]
  },
  {
   "cell_type": "markdown",
   "id": "09067761",
   "metadata": {
    "lines_to_next_cell": 0
   },
   "source": [
    "The `multiply` branch is now one commit ahead of `main`."
   ]
  },
  {
   "cell_type": "markdown",
   "id": "9c17d561",
   "metadata": {},
   "source": [
    "Now switch back to the `main` branch:"
   ]
  },
  {
   "cell_type": "code",
   "execution_count": 50,
   "id": "61fce92d-91db-44a8-a77f-8b79e69a77ca",
   "metadata": {},
   "outputs": [
    {
     "name": "stdout",
     "output_type": "stream",
     "text": [
      "Switched to branch 'main'\n",
      "Your branch is up to date with 'origin/main'.\n"
     ]
    }
   ],
   "source": [
    "! git checkout main"
   ]
  },
  {
   "cell_type": "markdown",
   "id": "ea52421a-2989-4de2-817c-c0f96fbff026",
   "metadata": {},
   "source": [
    "And add a test function to `test_myfuncs.py` to test our new multiply function:"
   ]
  },
  {
   "cell_type": "code",
   "execution_count": 51,
   "id": "be934a15",
   "metadata": {
    "lines_to_next_cell": 0
   },
   "outputs": [
    {
     "name": "stdout",
     "output_type": "stream",
     "text": [
      "Appending to test_myfuncs.py\n"
     ]
    }
   ],
   "source": [
    "%%writefile -a test_myfuncs.py\n",
    "\n",
    "@pytest.mark.parametrize(\n",
    "    \"a,b,res\",\n",
    "    [\n",
    "        (0, 0, 0),\n",
    "        (0, 42, 0),\n",
    "        (42, 0, 0),\n",
    "        (42, 1, 42),\n",
    "        (1, 42, 41),\n",
    "        (-1, 42, -42),\n",
    "    ]\n",
    ")\n",
    "def test_multiply(a, b, res):\n",
    "    from myfuncs import multiply\n",
    "    \n",
    "    assert multiply(a, b) == res"
   ]
  },
  {
   "cell_type": "markdown",
   "id": "f94d0860",
   "metadata": {
    "lines_to_next_cell": 0
   },
   "source": [
    "Finally, commit the changes above and display the branch history:"
   ]
  },
  {
   "cell_type": "code",
   "execution_count": 52,
   "id": "cd5a0a57",
   "metadata": {},
   "outputs": [
    {
     "name": "stdout",
     "output_type": "stream",
     "text": [
      "[main d4a63b8] tests: add test function for multiply\n",
      " 1 file changed, 16 insertions(+)\n",
      "* \u001b[33md4a63b8\u001b[m\u001b[33m (\u001b[m\u001b[1;36mHEAD -> \u001b[m\u001b[1;32mmain\u001b[m\u001b[33m)\u001b[m tests: add test function for multiply\n",
      "\u001b[31m|\u001b[m * \u001b[33m3ed6a69\u001b[m\u001b[33m (\u001b[m\u001b[1;32mmultiply\u001b[m\u001b[33m)\u001b[m myfuncs: add the multiply function\n",
      "\u001b[31m|\u001b[m\u001b[31m/\u001b[m  \n",
      "* \u001b[33m4bce680\u001b[m\u001b[33m (\u001b[m\u001b[1;31morigin/main\u001b[m\u001b[33m)\u001b[m add test function for sub\n",
      "* \u001b[33m2e540c4\u001b[m ignore Python generated files\n",
      "* \u001b[33med26d1e\u001b[m tests: add test function for add\n",
      "* \u001b[33m830c10f\u001b[m initial version of myfuncs.py\n",
      "* \u001b[33m9fc3b96\u001b[m initial commit\n"
     ]
    }
   ],
   "source": [
    "! git commit -am \"tests: add test function for multiply\"\n",
    "! git log --decorate --graph --oneline --all"
   ]
  },
  {
   "cell_type": "markdown",
   "id": "cb26b722",
   "metadata": {},
   "source": [
    "The branches are diverging\n",
    "Let's see how to merge them and to fix potential conflicts."
   ]
  },
  {
   "cell_type": "markdown",
   "id": "694c28ae",
   "metadata": {},
   "source": [
    "## Merging branches\n",
    "\n",
    "Back to the `dummymaths` Python project, let's create several branches and\n",
    "merge them in the `main` branch. For this, we'll imagine a (non-realistic)\n",
    "scenario to write a function implementing division along with a test function.\n",
    "\n",
    "### The fast-forward merge"
   ]
  },
  {
   "cell_type": "markdown",
   "id": "fa9ca513",
   "metadata": {
    "lines_to_next_cell": 0
   },
   "source": [
    "Let's create the `divide`and the `todo` branches from `main`, which is your current branch:"
   ]
  },
  {
   "cell_type": "code",
   "execution_count": 53,
   "id": "be5438f4",
   "metadata": {
    "lines_to_next_cell": 0
   },
   "outputs": [],
   "source": [
    "! git branch divide"
   ]
  },
  {
   "cell_type": "code",
   "execution_count": 54,
   "id": "08e87d54-608b-45da-82b3-bc0169ecc4c1",
   "metadata": {},
   "outputs": [
    {
     "name": "stdout",
     "output_type": "stream",
     "text": [
      "Switched to a new branch 'todo'\n"
     ]
    }
   ],
   "source": [
    "! git checkout -b todo"
   ]
  },
  {
   "cell_type": "code",
   "execution_count": 55,
   "id": "ea6c7a2a-6c32-4ce4-8f93-e3f25b090bff",
   "metadata": {},
   "outputs": [
    {
     "name": "stdout",
     "output_type": "stream",
     "text": [
      "  divide\u001b[m\n",
      "  main\u001b[m\n",
      "  multiply\u001b[m\n",
      "* \u001b[32mtodo\u001b[m\n"
     ]
    }
   ],
   "source": [
    "! git branch"
   ]
  },
  {
   "cell_type": "code",
   "execution_count": 56,
   "id": "d87bf749-19f1-4a6c-b1da-475586ce7ee7",
   "metadata": {},
   "outputs": [
    {
     "name": "stdout",
     "output_type": "stream",
     "text": [
      "On branch todo\n",
      "nothing to commit, working tree clean\n"
     ]
    }
   ],
   "source": [
    "! git status"
   ]
  },
  {
   "cell_type": "markdown",
   "id": "7c1a5afa",
   "metadata": {
    "lines_to_next_cell": 0
   },
   "source": [
    "You are now on the `todo` branch. Edit the README.md file and add the following content at the end:"
   ]
  },
  {
   "cell_type": "code",
   "execution_count": 57,
   "id": "aa9e3165",
   "metadata": {
    "lines_to_next_cell": 0
   },
   "outputs": [
    {
     "name": "stdout",
     "output_type": "stream",
     "text": [
      "Appending to README.md\n"
     ]
    }
   ],
   "source": [
    "%%writefile -a README.md\n",
    "\n",
    "## TODO\n",
    "Add _divide_ function"
   ]
  },
  {
   "cell_type": "code",
   "execution_count": 58,
   "id": "0bf33f0d-557e-484b-9599-93e15b117f53",
   "metadata": {},
   "outputs": [
    {
     "name": "stdout",
     "output_type": "stream",
     "text": [
      "This is the new README file\n",
      "\n",
      "## TODO\n",
      "Add _divide_ function\n"
     ]
    }
   ],
   "source": [
    "! cat README.md"
   ]
  },
  {
   "cell_type": "markdown",
   "id": "fb961a78",
   "metadata": {
    "lines_to_next_cell": 0
   },
   "source": [
    "Commit the change above:"
   ]
  },
  {
   "cell_type": "code",
   "execution_count": 59,
   "id": "677edf83",
   "metadata": {
    "lines_to_next_cell": 0
   },
   "outputs": [
    {
     "name": "stdout",
     "output_type": "stream",
     "text": [
      "[todo 925f689] README.md: bootstrap todo section with a divide function item\n",
      " 1 file changed, 3 insertions(+)\n",
      "On branch todo\n",
      "nothing to commit, working tree clean\n",
      "* \u001b[33m925f689\u001b[m\u001b[33m (\u001b[m\u001b[1;36mHEAD -> \u001b[m\u001b[1;32mtodo\u001b[m\u001b[33m)\u001b[m README.md: bootstrap todo section with a divide function item\n",
      "* \u001b[33md4a63b8\u001b[m\u001b[33m (\u001b[m\u001b[1;32mmain\u001b[m\u001b[33m, \u001b[m\u001b[1;32mdivide\u001b[m\u001b[33m)\u001b[m tests: add test function for multiply\n",
      "\u001b[31m|\u001b[m * \u001b[33m3ed6a69\u001b[m\u001b[33m (\u001b[m\u001b[1;32mmultiply\u001b[m\u001b[33m)\u001b[m myfuncs: add the multiply function\n",
      "\u001b[31m|\u001b[m\u001b[31m/\u001b[m  \n",
      "* \u001b[33m4bce680\u001b[m\u001b[33m (\u001b[m\u001b[1;31morigin/main\u001b[m\u001b[33m)\u001b[m add test function for sub\n",
      "* \u001b[33m2e540c4\u001b[m ignore Python generated files\n",
      "* \u001b[33med26d1e\u001b[m tests: add test function for add\n",
      "* \u001b[33m830c10f\u001b[m initial version of myfuncs.py\n",
      "* \u001b[33m9fc3b96\u001b[m initial commit\n"
     ]
    }
   ],
   "source": [
    "! git commit -am \"README.md: bootstrap todo section with a divide function item\"\n",
    "! git status\n",
    "! git log --decorate --graph --oneline --all"
   ]
  },
  {
   "cell_type": "markdown",
   "id": "42d411e8",
   "metadata": {
    "lines_to_next_cell": 0
   },
   "source": [
    "The `todo` is now one commit ahead of `main`"
   ]
  },
  {
   "cell_type": "markdown",
   "id": "7554f196",
   "metadata": {
    "lines_to_next_cell": 0
   },
   "source": [
    "Switch back to `main` and merge `todo` in main:"
   ]
  },
  {
   "cell_type": "code",
   "execution_count": 60,
   "id": "ae0e2ba0",
   "metadata": {
    "lines_to_next_cell": 0
   },
   "outputs": [
    {
     "name": "stdout",
     "output_type": "stream",
     "text": [
      "Switched to branch 'main'\n",
      "Your branch is ahead of 'origin/main' by 1 commit.\n",
      "  (use \"git push\" to publish your local commits)\n"
     ]
    }
   ],
   "source": [
    "! git checkout main"
   ]
  },
  {
   "cell_type": "code",
   "execution_count": 61,
   "id": "b50cd030-4b22-4342-b563-0075f9e02b9b",
   "metadata": {},
   "outputs": [
    {
     "name": "stdout",
     "output_type": "stream",
     "text": [
      "Updating d4a63b8..925f689\n",
      "Fast-forward\n",
      " README.md | 3 \u001b[32m+++\u001b[m\n",
      " 1 file changed, 3 insertions(+)\n"
     ]
    }
   ],
   "source": [
    "! git merge todo"
   ]
  },
  {
   "cell_type": "markdown",
   "id": "47069f71",
   "metadata": {
    "lines_to_next_cell": 0
   },
   "source": [
    "Git will just \"fast-forward `main` to `todo`"
   ]
  },
  {
   "cell_type": "code",
   "execution_count": 62,
   "id": "cb6f26c1",
   "metadata": {
    "lines_to_next_cell": 0
   },
   "outputs": [
    {
     "name": "stdout",
     "output_type": "stream",
     "text": [
      "* \u001b[33m925f689\u001b[m\u001b[33m (\u001b[m\u001b[1;36mHEAD -> \u001b[m\u001b[1;32mmain\u001b[m\u001b[33m, \u001b[m\u001b[1;32mtodo\u001b[m\u001b[33m)\u001b[m README.md: bootstrap todo section with a divide function item\n",
      "* \u001b[33md4a63b8\u001b[m\u001b[33m (\u001b[m\u001b[1;32mdivide\u001b[m\u001b[33m)\u001b[m tests: add test function for multiply\n",
      "\u001b[31m|\u001b[m * \u001b[33m3ed6a69\u001b[m\u001b[33m (\u001b[m\u001b[1;32mmultiply\u001b[m\u001b[33m)\u001b[m myfuncs: add the multiply function\n",
      "\u001b[31m|\u001b[m\u001b[31m/\u001b[m  \n",
      "* \u001b[33m4bce680\u001b[m\u001b[33m (\u001b[m\u001b[1;31morigin/main\u001b[m\u001b[33m)\u001b[m add test function for sub\n",
      "* \u001b[33m2e540c4\u001b[m ignore Python generated files\n",
      "* \u001b[33med26d1e\u001b[m tests: add test function for add\n",
      "* \u001b[33m830c10f\u001b[m initial version of myfuncs.py\n",
      "* \u001b[33m9fc3b96\u001b[m initial commit\n"
     ]
    }
   ],
   "source": [
    "! git log --decorate --graph --oneline --all"
   ]
  },
  {
   "cell_type": "markdown",
   "id": "5ccaca96",
   "metadata": {
    "lines_to_next_cell": 0
   },
   "source": [
    "As good citizens, now that the `todo` branch is not needed anymore, let's remove \n",
    "it:"
   ]
  },
  {
   "cell_type": "code",
   "execution_count": 63,
   "id": "54f50aa1",
   "metadata": {
    "lines_to_next_cell": 0
   },
   "outputs": [
    {
     "name": "stdout",
     "output_type": "stream",
     "text": [
      "Deleted branch todo (was 925f689).\n",
      "* \u001b[33m925f689\u001b[m\u001b[33m (\u001b[m\u001b[1;36mHEAD -> \u001b[m\u001b[1;32mmain\u001b[m\u001b[33m)\u001b[m README.md: bootstrap todo section with a divide function item\n",
      "* \u001b[33md4a63b8\u001b[m\u001b[33m (\u001b[m\u001b[1;32mdivide\u001b[m\u001b[33m)\u001b[m tests: add test function for multiply\n",
      "\u001b[31m|\u001b[m * \u001b[33m3ed6a69\u001b[m\u001b[33m (\u001b[m\u001b[1;32mmultiply\u001b[m\u001b[33m)\u001b[m myfuncs: add the multiply function\n",
      "\u001b[31m|\u001b[m\u001b[31m/\u001b[m  \n",
      "* \u001b[33m4bce680\u001b[m\u001b[33m (\u001b[m\u001b[1;31morigin/main\u001b[m\u001b[33m)\u001b[m add test function for sub\n",
      "* \u001b[33m2e540c4\u001b[m ignore Python generated files\n",
      "* \u001b[33med26d1e\u001b[m tests: add test function for add\n",
      "* \u001b[33m830c10f\u001b[m initial version of myfuncs.py\n",
      "* \u001b[33m9fc3b96\u001b[m initial commit\n"
     ]
    }
   ],
   "source": [
    "! git branch -d todo\n",
    "! git log --decorate --graph --oneline --all"
   ]
  },
  {
   "cell_type": "markdown",
   "id": "8ef15588",
   "metadata": {
    "lines_to_next_cell": 0
   },
   "source": [
    "### The merge commit case\n",
    "\n",
    "The `multiply` and `main` branches are currently diverging. Normally the changes introduced in `multiply` are separate enough from the changes added to `main` such that merging `multiply` in `main `should not conflict.\n",
    "\n",
    "Merge the `multiply` branch into `main`:"
   ]
  },
  {
   "cell_type": "code",
   "execution_count": 64,
   "id": "6473041c",
   "metadata": {
    "lines_to_next_cell": 0
   },
   "outputs": [
    {
     "name": "stdout",
     "output_type": "stream",
     "text": [
      "Merge made by the 'ort' strategy.\n",
      " myfuncs.py | 4 \u001b[32m++++\u001b[m\n",
      " 1 file changed, 4 insertions(+)\n"
     ]
    }
   ],
   "source": [
    "! git merge multiply --no-edit"
   ]
  },
  {
   "cell_type": "markdown",
   "id": "631a335e-2f04-4667-9a7b-76031eb448f2",
   "metadata": {},
   "source": [
    "The merge command created a merge commit:"
   ]
  },
  {
   "cell_type": "code",
   "execution_count": 65,
   "id": "e8f9df12-75a4-4a88-9fae-a12bab84bd63",
   "metadata": {},
   "outputs": [
    {
     "name": "stdout",
     "output_type": "stream",
     "text": [
      "*   \u001b[33mdbeeb48\u001b[m\u001b[33m (\u001b[m\u001b[1;36mHEAD -> \u001b[m\u001b[1;32mmain\u001b[m\u001b[33m)\u001b[m Merge branch 'multiply'\n",
      "\u001b[31m|\u001b[m\u001b[32m\\\u001b[m  \n",
      "\u001b[31m|\u001b[m * \u001b[33m3ed6a69\u001b[m\u001b[33m (\u001b[m\u001b[1;32mmultiply\u001b[m\u001b[33m)\u001b[m myfuncs: add the multiply function\n",
      "* \u001b[32m|\u001b[m \u001b[33m925f689\u001b[m README.md: bootstrap todo section with a divide function item\n",
      "* \u001b[32m|\u001b[m \u001b[33md4a63b8\u001b[m\u001b[33m (\u001b[m\u001b[1;32mdivide\u001b[m\u001b[33m)\u001b[m tests: add test function for multiply\n",
      "\u001b[32m|\u001b[m\u001b[32m/\u001b[m  \n",
      "* \u001b[33m4bce680\u001b[m\u001b[33m (\u001b[m\u001b[1;31morigin/main\u001b[m\u001b[33m)\u001b[m add test function for sub\n",
      "* \u001b[33m2e540c4\u001b[m ignore Python generated files\n",
      "* \u001b[33med26d1e\u001b[m tests: add test function for add\n",
      "* \u001b[33m830c10f\u001b[m initial version of myfuncs.py\n",
      "* \u001b[33m9fc3b96\u001b[m initial commit\n"
     ]
    }
   ],
   "source": [
    "! git log --decorate --graph --oneline --all"
   ]
  },
  {
   "cell_type": "markdown",
   "id": "6fcb51be",
   "metadata": {
    "lines_to_next_cell": 0
   },
   "source": [
    "### The conflict!\n",
    "\n",
    "Now let's trigger a conflict on purpose by finally switching to the `divide` branch:"
   ]
  },
  {
   "cell_type": "code",
   "execution_count": 66,
   "id": "b3f469dc",
   "metadata": {
    "lines_to_next_cell": 0
   },
   "outputs": [
    {
     "name": "stdout",
     "output_type": "stream",
     "text": [
      "Switched to branch 'divide'\n"
     ]
    }
   ],
   "source": [
    "! git checkout divide"
   ]
  },
  {
   "cell_type": "markdown",
   "id": "04dddb39",
   "metadata": {
    "lines_to_next_cell": 0
   },
   "source": [
    "Add the missing `divide` function to the `myfuncs.py` module:"
   ]
  },
  {
   "cell_type": "code",
   "execution_count": 67,
   "id": "653e4feb-e6be-48e4-8ae2-a6fcb4d76c21",
   "metadata": {},
   "outputs": [
    {
     "name": "stdout",
     "output_type": "stream",
     "text": [
      "Appending to myfuncs.py\n"
     ]
    }
   ],
   "source": [
    "%%writefile -a myfuncs.py\n",
    "\n",
    "def divide(a, b):\n",
    "      \"\"\"Divide a by b.\"\"\"\n",
    "      try:\n",
    "          return a / b\n",
    "      except ZeroDivisionError:\n",
    "          return None"
   ]
  },
  {
   "cell_type": "markdown",
   "id": "07ee45d6",
   "metadata": {
    "lines_to_next_cell": 0
   },
   "source": [
    "And commit that change:"
   ]
  },
  {
   "cell_type": "code",
   "execution_count": 68,
   "id": "e34cb206",
   "metadata": {
    "lines_to_next_cell": 0
   },
   "outputs": [
    {
     "name": "stdout",
     "output_type": "stream",
     "text": [
      "[divide 405b86e] myfuncs: add divide function\n",
      " 1 file changed, 7 insertions(+)\n"
     ]
    }
   ],
   "source": [
    "! git commit -am \"myfuncs: add divide function\""
   ]
  },
  {
   "cell_type": "markdown",
   "id": "0a668cd8",
   "metadata": {
    "lines_to_next_cell": 0
   },
   "source": [
    "Add the related test function to the `test_myfuncs.py` module:"
   ]
  },
  {
   "cell_type": "code",
   "execution_count": 69,
   "id": "f6975957-17f3-4b63-a235-c2a6cae720a4",
   "metadata": {},
   "outputs": [
    {
     "name": "stdout",
     "output_type": "stream",
     "text": [
      "Appending to test_myfuncs.py\n"
     ]
    }
   ],
   "source": [
    "%%writefile -a test_myfuncs.py\n",
    "\n",
    "@pytest.mark.parametrize(\n",
    "      \"a,b,res\",\n",
    "      [\n",
    "          (0, 0, None),\n",
    "          (0, 42, 0),\n",
    "          (42, 0, None),\n",
    "          (42, 1, 42),\n",
    "          (1, 2, 0.5),\n",
    "          (-1, 2, -0.5),\n",
    "      ]\n",
    ")\n",
    "def test_divide(a, b, res):\n",
    "    from myfuncs import divide\n",
    "      \n",
    "    assert divide(a, b) == res"
   ]
  },
  {
   "cell_type": "markdown",
   "id": "e597a48d",
   "metadata": {
    "lines_to_next_cell": 0
   },
   "source": [
    "And commit that change:"
   ]
  },
  {
   "cell_type": "code",
   "execution_count": 70,
   "id": "4c7429c2",
   "metadata": {
    "lines_to_next_cell": 0
   },
   "outputs": [
    {
     "name": "stdout",
     "output_type": "stream",
     "text": [
      "[divide 706cba6] tests: add test function for divide\n",
      " 1 file changed, 16 insertions(+)\n"
     ]
    }
   ],
   "source": [
    "! git commit -am \"tests: add test function for divide\""
   ]
  },
  {
   "cell_type": "markdown",
   "id": "a34ea8a6",
   "metadata": {
    "lines_to_next_cell": 0
   },
   "source": [
    "Now try to merge the `divide` branch in `main`:"
   ]
  },
  {
   "cell_type": "code",
   "execution_count": 71,
   "id": "508d876a",
   "metadata": {
    "lines_to_next_cell": 0
   },
   "outputs": [
    {
     "name": "stdout",
     "output_type": "stream",
     "text": [
      "Switched to branch 'main'\n",
      "Your branch is ahead of 'origin/main' by 4 commits.\n",
      "  (use \"git push\" to publish your local commits)\n"
     ]
    }
   ],
   "source": [
    "! git checkout main"
   ]
  },
  {
   "cell_type": "code",
   "execution_count": 72,
   "id": "afeab7e7-c561-474a-9cb9-9965c08cf8e2",
   "metadata": {},
   "outputs": [
    {
     "name": "stdout",
     "output_type": "stream",
     "text": [
      "Auto-merging myfuncs.py\n",
      "CONFLICT (content): Merge conflict in myfuncs.py\n",
      "Automatic merge failed; fix conflicts and then commit the result.\n"
     ]
    }
   ],
   "source": [
    "! git merge divide --no-edit"
   ]
  },
  {
   "cell_type": "markdown",
   "id": "df1d9b50",
   "metadata": {
    "lines_to_next_cell": 0
   },
   "source": [
    "Try to solve the conflict! 2 possibilities:\n",
    "\n",
    "1. Manually:\n",
    "    \n",
    "First, fix the conflict by manually editing the file:"
   ]
  },
  {
   "cell_type": "code",
   "execution_count": 73,
   "id": "7bc6fa59-db5e-4c95-a281-37bdd72fb1b0",
   "metadata": {},
   "outputs": [
    {
     "name": "stdout",
     "output_type": "stream",
     "text": [
      "\n",
      "\"\"\"Some useless mathematical utility functions.\"\"\"\n",
      "\n",
      "def add(a, b):\n",
      "    \"\"\"Return the sum of a and b.\"\"\"\n",
      "    return a + b\n",
      "\n",
      "def sub(a, b):\n",
      "    \"\"\"Substract b from a.\"\"\"\n",
      "    return a - b\n",
      "\n",
      "<<<<<<< HEAD\n",
      "def multiply(a, b):\n",
      "    \"\"\"Multiply a by b.\"\"\"\n",
      "    return a * b\n",
      "=======\n",
      "def divide(a, b):\n",
      "      \"\"\"Divide a by b.\"\"\"\n",
      "      try:\n",
      "          return a / b\n",
      "      except ZeroDivisionError:\n",
      "          return None\n",
      ">>>>>>> divide\n"
     ]
    }
   ],
   "source": [
    "! cat myfuncs.py"
   ]
  },
  {
   "cell_type": "markdown",
   "id": "8577a07a-436c-46cf-b626-d65f3b7c1092",
   "metadata": {},
   "source": [
    "As you can see, Git is showing us the conflicting portions of the code. In our case, the `main` branch contains the `multiply` function while the `divide` branch contains the `divide` function.\n",
    "\n",
    "Solving the conflict in this situation is quite easy. Since we want to keep both functions, we simply need to remove the lines added by Git, save the file, and add it:"
   ]
  },
  {
   "cell_type": "code",
   "execution_count": 74,
   "id": "359164e6-50fa-460b-ac11-4d8999a5b66d",
   "metadata": {},
   "outputs": [],
   "source": [
    "! sed -i '' -e 's#<<<<<<< HEAD##' myfuncs.py\n",
    "! sed -i '' -e 's#>>>>>>> divide##' myfuncs.py\n",
    "! sed -i '' -e 's#=======##' myfuncs.py"
   ]
  },
  {
   "cell_type": "code",
   "execution_count": 75,
   "id": "fd229062-1cf3-4d74-b479-b524814926a8",
   "metadata": {},
   "outputs": [
    {
     "name": "stdout",
     "output_type": "stream",
     "text": [
      "\n",
      "\"\"\"Some useless mathematical utility functions.\"\"\"\n",
      "\n",
      "def add(a, b):\n",
      "    \"\"\"Return the sum of a and b.\"\"\"\n",
      "    return a + b\n",
      "\n",
      "def sub(a, b):\n",
      "    \"\"\"Substract b from a.\"\"\"\n",
      "    return a - b\n",
      "\n",
      "\n",
      "def multiply(a, b):\n",
      "    \"\"\"Multiply a by b.\"\"\"\n",
      "    return a * b\n",
      "\n",
      "def divide(a, b):\n",
      "      \"\"\"Divide a by b.\"\"\"\n",
      "      try:\n",
      "          return a / b\n",
      "      except ZeroDivisionError:\n",
      "          return None\n",
      "\n"
     ]
    }
   ],
   "source": [
    "! cat myfuncs.py"
   ]
  },
  {
   "cell_type": "markdown",
   "id": "06b2bba9-670f-4ab1-b751-9ae649319ceb",
   "metadata": {},
   "source": [
    "Seems clean enough ! Let's add it and continue the merge process:"
   ]
  },
  {
   "cell_type": "code",
   "execution_count": 76,
   "id": "1e6ce525-7a27-42b9-911e-b03a262acc38",
   "metadata": {},
   "outputs": [],
   "source": [
    "! git add myfuncs.py"
   ]
  },
  {
   "cell_type": "code",
   "execution_count": 77,
   "id": "17dd7d18-83a1-47b5-bc89-faa6261a60c0",
   "metadata": {},
   "outputs": [
    {
     "name": "stdout",
     "output_type": "stream",
     "text": [
      "[main e44ca4d] Merge branch 'divide'\n"
     ]
    }
   ],
   "source": [
    "! git commit --no-edit"
   ]
  },
  {
   "cell_type": "code",
   "execution_count": 78,
   "id": "8839b134-4770-4421-a928-5f6fa9b268dd",
   "metadata": {},
   "outputs": [
    {
     "name": "stdout",
     "output_type": "stream",
     "text": [
      "*   \u001b[33me44ca4d\u001b[m\u001b[33m (\u001b[m\u001b[1;36mHEAD -> \u001b[m\u001b[1;32mmain\u001b[m\u001b[33m)\u001b[m Merge branch 'divide'\n",
      "\u001b[31m|\u001b[m\u001b[32m\\\u001b[m  \n",
      "\u001b[31m|\u001b[m * \u001b[33m706cba6\u001b[m\u001b[33m (\u001b[m\u001b[1;32mdivide\u001b[m\u001b[33m)\u001b[m tests: add test function for divide\n",
      "\u001b[31m|\u001b[m * \u001b[33m405b86e\u001b[m myfuncs: add divide function\n",
      "* \u001b[32m|\u001b[m   \u001b[33mdbeeb48\u001b[m Merge branch 'multiply'\n",
      "\u001b[33m|\u001b[m\u001b[34m\\\u001b[m \u001b[32m\\\u001b[m  \n",
      "\u001b[33m|\u001b[m * \u001b[32m|\u001b[m \u001b[33m3ed6a69\u001b[m\u001b[33m (\u001b[m\u001b[1;32mmultiply\u001b[m\u001b[33m)\u001b[m myfuncs: add the multiply function\n",
      "* \u001b[34m|\u001b[m \u001b[32m|\u001b[m \u001b[33m925f689\u001b[m README.md: bootstrap todo section with a divide function item\n",
      "\u001b[32m|\u001b[m \u001b[34m|\u001b[m\u001b[32m/\u001b[m  \n",
      "\u001b[32m|\u001b[m\u001b[32m/\u001b[m\u001b[34m|\u001b[m   \n",
      "* \u001b[34m|\u001b[m \u001b[33md4a63b8\u001b[m tests: add test function for multiply\n",
      "\u001b[34m|\u001b[m\u001b[34m/\u001b[m  \n",
      "* \u001b[33m4bce680\u001b[m\u001b[33m (\u001b[m\u001b[1;31morigin/main\u001b[m\u001b[33m)\u001b[m add test function for sub\n",
      "* \u001b[33m2e540c4\u001b[m ignore Python generated files\n",
      "* \u001b[33med26d1e\u001b[m tests: add test function for add\n",
      "* \u001b[33m830c10f\u001b[m initial version of myfuncs.py\n",
      "* \u001b[33m9fc3b96\u001b[m initial commit\n"
     ]
    }
   ],
   "source": [
    "! git log --decorate --graph --oneline --all"
   ]
  },
  {
   "cell_type": "markdown",
   "id": "27f2e3e3-aa93-4b0a-b231-ec068b7ecc8b",
   "metadata": {},
   "source": [
    "2. Using a graphical tool:"
   ]
  },
  {
   "cell_type": "code",
   "execution_count": 79,
   "id": "5470d95c",
   "metadata": {
    "lines_to_next_cell": 0
   },
   "outputs": [],
   "source": [
    "# Not demoed since we already fix the conflict\n",
    "# Also this interactive mode does not play well within a notebook.\n",
    "#\n",
    "# ! git mergetool\n",
    "# ! git add myfuncs.py\n",
    "# ! git commit"
   ]
  },
  {
   "cell_type": "markdown",
   "id": "ed12989c",
   "metadata": {},
   "source": [
    "### One last thing\n",
    "\n",
    "Once all features are merged, it's time to sync your local `main` branch with\n",
    "the remote repository:"
   ]
  },
  {
   "cell_type": "code",
   "execution_count": 80,
   "id": "4f8dbb56-95d9-4602-8fab-b73dbfb3dde8",
   "metadata": {},
   "outputs": [
    {
     "name": "stdout",
     "output_type": "stream",
     "text": [
      "origin\t../dummymaths_remote (fetch)\n",
      "origin\t../dummymaths_remote (push)\n"
     ]
    }
   ],
   "source": [
    "! git remote -v"
   ]
  },
  {
   "cell_type": "code",
   "execution_count": 81,
   "id": "8daaf21f",
   "metadata": {
    "lines_to_next_cell": 0
   },
   "outputs": [
    {
     "name": "stdout",
     "output_type": "stream",
     "text": [
      "Enumerating objects: 24, done.\n",
      "Counting objects: 100% (24/24), done.\n",
      "Delta compression using up to 8 threads\n",
      "Compressing objects: 100% (20/20), done.\n",
      "Writing objects: 100% (20/20), 2.35 KiB | 1.17 MiB/s, done.\n",
      "Total 20 (delta 9), reused 0 (delta 0), pack-reused 0\n",
      "To ../dummymaths_remote\n",
      "   4bce680..e44ca4d  main -> main\n"
     ]
    }
   ],
   "source": [
    "! git push origin main"
   ]
  },
  {
   "cell_type": "markdown",
   "id": "c2a37a55",
   "metadata": {},
   "source": [
    "Also, now that the `multiply` and `divide` branches are not needed anymore, you\n",
    "can delete them:"
   ]
  },
  {
   "cell_type": "code",
   "execution_count": 82,
   "id": "a3bb897d",
   "metadata": {
    "lines_to_next_cell": 2
   },
   "outputs": [
    {
     "name": "stdout",
     "output_type": "stream",
     "text": [
      "Deleted branch multiply (was 3ed6a69).\n",
      "Deleted branch divide (was 706cba6).\n"
     ]
    }
   ],
   "source": [
    "! git branch -d multiply divide"
   ]
  },
  {
   "cell_type": "markdown",
   "id": "8515b753",
   "metadata": {},
   "source": [
    "## Simple rebasing\n",
    "\n",
    "Let's again extend the `dummymaths` Python project with a `power` function.\n",
    "\n",
    "Check that your current branch is `main`:"
   ]
  },
  {
   "cell_type": "code",
   "execution_count": 83,
   "id": "62fc7c1a",
   "metadata": {
    "lines_to_next_cell": 0
   },
   "outputs": [
    {
     "name": "stdout",
     "output_type": "stream",
     "text": [
      "On branch main\n",
      "Your branch is up to date with 'origin/main'.\n",
      "\n",
      "nothing to commit, working tree clean\n"
     ]
    }
   ],
   "source": [
    "! git status"
   ]
  },
  {
   "cell_type": "markdown",
   "id": "4d113fc0",
   "metadata": {
    "lines_to_next_cell": 0
   },
   "source": [
    "Create a new `power` branch and switch to it:"
   ]
  },
  {
   "cell_type": "code",
   "execution_count": 84,
   "id": "aa7f6f9e",
   "metadata": {
    "lines_to_next_cell": 0
   },
   "outputs": [
    {
     "name": "stdout",
     "output_type": "stream",
     "text": [
      "Switched to a new branch 'power'\n"
     ]
    }
   ],
   "source": [
    "! git checkout -b power"
   ]
  },
  {
   "cell_type": "markdown",
   "id": "852d2490",
   "metadata": {
    "lines_to_next_cell": 0
   },
   "source": [
    "Extend the `myfuncs.py` module with the `power` function :"
   ]
  },
  {
   "cell_type": "code",
   "execution_count": 85,
   "id": "2b9f10ba-9507-43b3-9575-b29102b9daf8",
   "metadata": {},
   "outputs": [
    {
     "name": "stdout",
     "output_type": "stream",
     "text": [
      "Appending to myfuncs.py\n"
     ]
    }
   ],
   "source": [
    "%%writefile -a myfuncs.py\n",
    "\n",
    "def power(a, b):\n",
    "    \"\"\"Return a power b.\"\"\"\n",
    "    return a ** b"
   ]
  },
  {
   "cell_type": "markdown",
   "id": "538901d2",
   "metadata": {
    "lines_to_next_cell": 0
   },
   "source": [
    "Commit your change:"
   ]
  },
  {
   "cell_type": "code",
   "execution_count": 86,
   "id": "b06f4d1c",
   "metadata": {
    "lines_to_next_cell": 0
   },
   "outputs": [
    {
     "name": "stdout",
     "output_type": "stream",
     "text": [
      "[power 5831052] myfuncs: add power function\n",
      " 1 file changed, 4 insertions(+)\n"
     ]
    }
   ],
   "source": [
    "! git commit -am \"myfuncs: add power function\""
   ]
  },
  {
   "cell_type": "markdown",
   "id": "66a0c5db",
   "metadata": {
    "lines_to_next_cell": 0
   },
   "source": [
    "Add the related test function to the `test_myfuncs.py` module:"
   ]
  },
  {
   "cell_type": "code",
   "execution_count": 87,
   "id": "4712a646-a36c-4967-a410-d72aeacae99a",
   "metadata": {},
   "outputs": [
    {
     "name": "stdout",
     "output_type": "stream",
     "text": [
      "Appending to test_myfuncs.py\n"
     ]
    }
   ],
   "source": [
    "%%writefile -a test_myfuncs.py\n",
    "\n",
    "@pytest.mark.parametrize(\n",
    "    \"a,b,res\",\n",
    "    [\n",
    "        (0, 0, 1),\n",
    "        (0, 2, 0),\n",
    "        (1, 2, 1),\n",
    "        (2, 0, 1),\n",
    "        (2, 1, 2),\n",
    "        (2, 2, 4),\n",
    "        (2, -1, 0.5),\n",
    "    ]\n",
    ")\n",
    "def test_power(a, b, res):\n",
    "    from myfuncs import power\n",
    "\n",
    "    assert power(a, b) == res"
   ]
  },
  {
   "cell_type": "markdown",
   "id": "31ab4dbc",
   "metadata": {
    "lines_to_next_cell": 0
   },
   "source": [
    "Commit your change:"
   ]
  },
  {
   "cell_type": "code",
   "execution_count": 88,
   "id": "6bacd8e2",
   "metadata": {
    "lines_to_next_cell": 0
   },
   "outputs": [
    {
     "name": "stdout",
     "output_type": "stream",
     "text": [
      "[power 0583f59] tests: add test function for power\n",
      " 1 file changed, 17 insertions(+)\n"
     ]
    }
   ],
   "source": [
    "! git commit -am \"tests: add test function for power\""
   ]
  },
  {
   "cell_type": "markdown",
   "id": "193450b9",
   "metadata": {
    "lines_to_next_cell": 0
   },
   "source": [
    "Switch back to `main` and remove the `TODO` section from the README (the divide function is merged already!)."
   ]
  },
  {
   "cell_type": "code",
   "execution_count": 89,
   "id": "fa180f14-a28f-4962-a13c-629af16f89e1",
   "metadata": {},
   "outputs": [
    {
     "name": "stdout",
     "output_type": "stream",
     "text": [
      "Switched to branch 'main'\n",
      "Your branch is up to date with 'origin/main'.\n"
     ]
    }
   ],
   "source": [
    "! git checkout main"
   ]
  },
  {
   "cell_type": "code",
   "execution_count": 90,
   "id": "e80671f8-1a63-4a4f-ac40-23b92d4ff45a",
   "metadata": {},
   "outputs": [],
   "source": [
    "! echo \"This is the new README file\" > README.md"
   ]
  },
  {
   "cell_type": "code",
   "execution_count": 91,
   "id": "5136e7ba",
   "metadata": {
    "lines_to_next_cell": 0
   },
   "outputs": [
    {
     "name": "stdout",
     "output_type": "stream",
     "text": [
      "[main bfd7b56] README: remove TODO section\n",
      " 1 file changed, 3 deletions(-)\n",
      "* \u001b[33mbfd7b56\u001b[m\u001b[33m (\u001b[m\u001b[1;36mHEAD -> \u001b[m\u001b[1;32mmain\u001b[m\u001b[33m)\u001b[m README: remove TODO section\n",
      "\u001b[31m|\u001b[m * \u001b[33m0583f59\u001b[m\u001b[33m (\u001b[m\u001b[1;32mpower\u001b[m\u001b[33m)\u001b[m tests: add test function for power\n",
      "\u001b[31m|\u001b[m * \u001b[33m5831052\u001b[m myfuncs: add power function\n",
      "\u001b[31m|\u001b[m\u001b[31m/\u001b[m  \n",
      "*   \u001b[33me44ca4d\u001b[m\u001b[33m (\u001b[m\u001b[1;31morigin/main\u001b[m\u001b[33m)\u001b[m Merge branch 'divide'\n",
      "\u001b[33m|\u001b[m\u001b[34m\\\u001b[m  \n",
      "\u001b[33m|\u001b[m * \u001b[33m706cba6\u001b[m tests: add test function for divide\n",
      "\u001b[33m|\u001b[m * \u001b[33m405b86e\u001b[m myfuncs: add divide function\n",
      "* \u001b[34m|\u001b[m   \u001b[33mdbeeb48\u001b[m Merge branch 'multiply'\n",
      "\u001b[35m|\u001b[m\u001b[36m\\\u001b[m \u001b[34m\\\u001b[m  \n",
      "\u001b[35m|\u001b[m * \u001b[34m|\u001b[m \u001b[33m3ed6a69\u001b[m myfuncs: add the multiply function\n",
      "* \u001b[36m|\u001b[m \u001b[34m|\u001b[m \u001b[33m925f689\u001b[m README.md: bootstrap todo section with a divide function item\n",
      "\u001b[34m|\u001b[m \u001b[36m|\u001b[m\u001b[34m/\u001b[m  \n",
      "\u001b[34m|\u001b[m\u001b[34m/\u001b[m\u001b[36m|\u001b[m   \n",
      "* \u001b[36m|\u001b[m \u001b[33md4a63b8\u001b[m tests: add test function for multiply\n",
      "\u001b[36m|\u001b[m\u001b[36m/\u001b[m  \n",
      "* \u001b[33m4bce680\u001b[m add test function for sub\n",
      "* \u001b[33m2e540c4\u001b[m ignore Python generated files\n",
      "* \u001b[33med26d1e\u001b[m tests: add test function for add\n",
      "* \u001b[33m830c10f\u001b[m initial version of myfuncs.py\n",
      "* \u001b[33m9fc3b96\u001b[m initial commit\n"
     ]
    }
   ],
   "source": [
    "! git add README.md\n",
    "! git commit -m \"README: remove TODO section\"\n",
    "! git log --decorate --graph --oneline --all"
   ]
  },
  {
   "cell_type": "markdown",
   "id": "ec3109b1",
   "metadata": {
    "lines_to_next_cell": 0
   },
   "source": [
    "At this point, the `main` and `power` branches have diverged.\n",
    "Switch back to `power` and rebase it on top of `main`:"
   ]
  },
  {
   "cell_type": "code",
   "execution_count": 92,
   "id": "5b5bda0d",
   "metadata": {
    "lines_to_next_cell": 0
   },
   "outputs": [
    {
     "name": "stdout",
     "output_type": "stream",
     "text": [
      "Switched to branch 'power'\n"
     ]
    }
   ],
   "source": [
    "! git checkout power"
   ]
  },
  {
   "cell_type": "code",
   "execution_count": 93,
   "id": "56db35d6-07d0-4499-8678-ca4a96233289",
   "metadata": {},
   "outputs": [
    {
     "name": "stdout",
     "output_type": "stream",
     "text": [
      "\u001b[KSuccessfully rebased and updated refs/heads/power.\n"
     ]
    }
   ],
   "source": [
    "! git rebase main"
   ]
  },
  {
   "cell_type": "code",
   "execution_count": 94,
   "id": "fe861ac6-9bed-4335-9ea2-5cdc2eed38d5",
   "metadata": {},
   "outputs": [
    {
     "name": "stdout",
     "output_type": "stream",
     "text": [
      "* \u001b[33m4bbb25d\u001b[m\u001b[33m (\u001b[m\u001b[1;36mHEAD -> \u001b[m\u001b[1;32mpower\u001b[m\u001b[33m)\u001b[m tests: add test function for power\n",
      "* \u001b[33m259675c\u001b[m myfuncs: add power function\n",
      "* \u001b[33mbfd7b56\u001b[m\u001b[33m (\u001b[m\u001b[1;32mmain\u001b[m\u001b[33m)\u001b[m README: remove TODO section\n",
      "*   \u001b[33me44ca4d\u001b[m\u001b[33m (\u001b[m\u001b[1;31morigin/main\u001b[m\u001b[33m)\u001b[m Merge branch 'divide'\n",
      "\u001b[32m|\u001b[m\u001b[33m\\\u001b[m  \n",
      "\u001b[32m|\u001b[m * \u001b[33m706cba6\u001b[m tests: add test function for divide\n",
      "\u001b[32m|\u001b[m * \u001b[33m405b86e\u001b[m myfuncs: add divide function\n",
      "* \u001b[33m|\u001b[m   \u001b[33mdbeeb48\u001b[m Merge branch 'multiply'\n",
      "\u001b[34m|\u001b[m\u001b[35m\\\u001b[m \u001b[33m\\\u001b[m  \n",
      "\u001b[34m|\u001b[m * \u001b[33m|\u001b[m \u001b[33m3ed6a69\u001b[m myfuncs: add the multiply function\n",
      "* \u001b[35m|\u001b[m \u001b[33m|\u001b[m \u001b[33m925f689\u001b[m README.md: bootstrap todo section with a divide function item\n",
      "\u001b[33m|\u001b[m \u001b[35m|\u001b[m\u001b[33m/\u001b[m  \n",
      "\u001b[33m|\u001b[m\u001b[33m/\u001b[m\u001b[35m|\u001b[m   \n",
      "* \u001b[35m|\u001b[m \u001b[33md4a63b8\u001b[m tests: add test function for multiply\n",
      "\u001b[35m|\u001b[m\u001b[35m/\u001b[m  \n",
      "* \u001b[33m4bce680\u001b[m add test function for sub\n",
      "* \u001b[33m2e540c4\u001b[m ignore Python generated files\n",
      "* \u001b[33med26d1e\u001b[m tests: add test function for add\n",
      "* \u001b[33m830c10f\u001b[m initial version of myfuncs.py\n",
      "* \u001b[33m9fc3b96\u001b[m initial commit\n"
     ]
    }
   ],
   "source": [
    "! git log --decorate --graph --oneline --all"
   ]
  },
  {
   "cell_type": "markdown",
   "id": "de660c95",
   "metadata": {
    "lines_to_next_cell": 0
   },
   "source": [
    "Merge power into `main`:"
   ]
  },
  {
   "cell_type": "code",
   "execution_count": 95,
   "id": "3e7549db",
   "metadata": {
    "lines_to_next_cell": 0
   },
   "outputs": [
    {
     "name": "stdout",
     "output_type": "stream",
     "text": [
      "Switched to branch 'main'\n",
      "Your branch is ahead of 'origin/main' by 1 commit.\n",
      "  (use \"git push\" to publish your local commits)\n"
     ]
    }
   ],
   "source": [
    "! git checkout main"
   ]
  },
  {
   "cell_type": "code",
   "execution_count": 96,
   "id": "f974138d-7ca7-4628-880b-9a40a5e02dfa",
   "metadata": {},
   "outputs": [
    {
     "name": "stdout",
     "output_type": "stream",
     "text": [
      "Updating bfd7b56..4bbb25d\n",
      "Fast-forward\n",
      " myfuncs.py      |  4 \u001b[32m++++\u001b[m\n",
      " test_myfuncs.py | 17 \u001b[32m+++++++++++++++++\u001b[m\n",
      " 2 files changed, 21 insertions(+)\n"
     ]
    }
   ],
   "source": [
    "! git merge power --no-edit"
   ]
  },
  {
   "cell_type": "code",
   "execution_count": 97,
   "id": "65fa7d87-c25a-4d08-b52e-75464316a6cc",
   "metadata": {},
   "outputs": [
    {
     "name": "stdout",
     "output_type": "stream",
     "text": [
      "* \u001b[33m4bbb25d\u001b[m\u001b[33m (\u001b[m\u001b[1;36mHEAD -> \u001b[m\u001b[1;32mmain\u001b[m\u001b[33m, \u001b[m\u001b[1;32mpower\u001b[m\u001b[33m)\u001b[m tests: add test function for power\n",
      "* \u001b[33m259675c\u001b[m myfuncs: add power function\n",
      "* \u001b[33mbfd7b56\u001b[m README: remove TODO section\n",
      "*   \u001b[33me44ca4d\u001b[m\u001b[33m (\u001b[m\u001b[1;31morigin/main\u001b[m\u001b[33m)\u001b[m Merge branch 'divide'\n",
      "\u001b[32m|\u001b[m\u001b[33m\\\u001b[m  \n",
      "\u001b[32m|\u001b[m * \u001b[33m706cba6\u001b[m tests: add test function for divide\n",
      "\u001b[32m|\u001b[m * \u001b[33m405b86e\u001b[m myfuncs: add divide function\n",
      "* \u001b[33m|\u001b[m   \u001b[33mdbeeb48\u001b[m Merge branch 'multiply'\n",
      "\u001b[34m|\u001b[m\u001b[35m\\\u001b[m \u001b[33m\\\u001b[m  \n",
      "\u001b[34m|\u001b[m * \u001b[33m|\u001b[m \u001b[33m3ed6a69\u001b[m myfuncs: add the multiply function\n",
      "* \u001b[35m|\u001b[m \u001b[33m|\u001b[m \u001b[33m925f689\u001b[m README.md: bootstrap todo section with a divide function item\n",
      "\u001b[33m|\u001b[m \u001b[35m|\u001b[m\u001b[33m/\u001b[m  \n",
      "\u001b[33m|\u001b[m\u001b[33m/\u001b[m\u001b[35m|\u001b[m   \n",
      "* \u001b[35m|\u001b[m \u001b[33md4a63b8\u001b[m tests: add test function for multiply\n",
      "\u001b[35m|\u001b[m\u001b[35m/\u001b[m  \n",
      "* \u001b[33m4bce680\u001b[m add test function for sub\n",
      "* \u001b[33m2e540c4\u001b[m ignore Python generated files\n",
      "* \u001b[33med26d1e\u001b[m tests: add test function for add\n",
      "* \u001b[33m830c10f\u001b[m initial version of myfuncs.py\n",
      "* \u001b[33m9fc3b96\u001b[m initial commit\n"
     ]
    }
   ],
   "source": [
    "! git log --decorate --graph --oneline --all"
   ]
  },
  {
   "cell_type": "markdown",
   "id": "52b58db4",
   "metadata": {
    "lines_to_next_cell": 0
   },
   "source": [
    "This is a fast-forward move of `main` towards `power` !\n",
    "\n",
    "Finally push `main` and delete `power`:"
   ]
  },
  {
   "cell_type": "code",
   "execution_count": 98,
   "id": "9e6ca50b",
   "metadata": {},
   "outputs": [
    {
     "name": "stdout",
     "output_type": "stream",
     "text": [
      "Enumerating objects: 13, done.\n",
      "Counting objects: 100% (13/13), done.\n",
      "Delta compression using up to 8 threads\n",
      "Compressing objects: 100% (8/8), done.\n",
      "Writing objects: 100% (9/9), 1018 bytes | 509.00 KiB/s, done.\n",
      "Total 9 (delta 4), reused 0 (delta 0), pack-reused 0\n",
      "To ../dummymaths_remote\n",
      "   e44ca4d..4bbb25d  main -> main\n",
      "Deleted branch power (was 4bbb25d).\n"
     ]
    }
   ],
   "source": [
    "! git push origin main\n",
    "! git branch -d power"
   ]
  },
  {
   "cell_type": "markdown",
   "id": "946a87ed",
   "metadata": {},
   "source": [
    "## Using bisect to find bugs\n",
    "\n",
    "The `dummymaths` Python project provides a set of unit tests. In the first\n",
    "exercise you used `pytest` to run them.\n",
    "Since then, new code was added but you didn't rerun `pytest`."
   ]
  },
  {
   "cell_type": "markdown",
   "id": "53e759b7",
   "metadata": {
    "lines_to_next_cell": 0
   },
   "source": [
    "Let's start by running `pytest`. It should fail. If it doesn't this exercise\n",
    "becomes useless!"
   ]
  },
  {
   "cell_type": "code",
   "execution_count": 99,
   "id": "64ad83a4",
   "metadata": {
    "lines_to_next_cell": 0
   },
   "outputs": [
    {
     "name": "stdout",
     "output_type": "stream",
     "text": [
      "\u001b[1m============================= test session starts ==============================\u001b[0m\n",
      "platform darwin -- Python 3.10.13, pytest-7.4.3, pluggy-1.3.0 -- /Users/nicolas.gensollen/opt/anaconda3/envs/now/bin/python\n",
      "cachedir: .pytest_cache\n",
      "rootdir: /Users/nicolas.gensollen/GitRepos/NOW-2023/notebooks/dummymaths\n",
      "plugins: anyio-3.5.0\n",
      "collected 30 items                                                             \u001b[0m\n",
      "\n",
      "test_myfuncs.py::test_add[0-0-0] \u001b[32mPASSED\u001b[0m\u001b[32m                                  [  3%]\u001b[0m\n",
      "test_myfuncs.py::test_add[0-42-42] \u001b[32mPASSED\u001b[0m\u001b[32m                                [  6%]\u001b[0m\n",
      "test_myfuncs.py::test_add[42-0-42] \u001b[32mPASSED\u001b[0m\u001b[32m                                [ 10%]\u001b[0m\n",
      "test_myfuncs.py::test_add[42--42-0] \u001b[32mPASSED\u001b[0m\u001b[32m                               [ 13%]\u001b[0m\n",
      "test_myfuncs.py::test_add[-42-42-0] \u001b[32mPASSED\u001b[0m\u001b[32m                               [ 16%]\u001b[0m\n",
      "test_myfuncs.py::test_sub[0-0-0] \u001b[32mPASSED\u001b[0m\u001b[32m                                  [ 20%]\u001b[0m\n",
      "test_myfuncs.py::test_sub[0-42--42] \u001b[32mPASSED\u001b[0m\u001b[32m                               [ 23%]\u001b[0m\n",
      "test_myfuncs.py::test_sub[42-0-42] \u001b[32mPASSED\u001b[0m\u001b[32m                                [ 26%]\u001b[0m\n",
      "test_myfuncs.py::test_sub[42-42-0] \u001b[32mPASSED\u001b[0m\u001b[32m                                [ 30%]\u001b[0m\n",
      "test_myfuncs.py::test_sub[42--42-84] \u001b[32mPASSED\u001b[0m\u001b[32m                              [ 33%]\u001b[0m\n",
      "test_myfuncs.py::test_sub[-42-42--84] \u001b[32mPASSED\u001b[0m\u001b[32m                             [ 36%]\u001b[0m\n",
      "test_myfuncs.py::test_multiply[0-0-0] \u001b[32mPASSED\u001b[0m\u001b[32m                             [ 40%]\u001b[0m\n",
      "test_myfuncs.py::test_multiply[0-42-0] \u001b[32mPASSED\u001b[0m\u001b[32m                            [ 43%]\u001b[0m\n",
      "test_myfuncs.py::test_multiply[42-0-0] \u001b[32mPASSED\u001b[0m\u001b[32m                            [ 46%]\u001b[0m\n",
      "test_myfuncs.py::test_multiply[42-1-42] \u001b[32mPASSED\u001b[0m\u001b[32m                           [ 50%]\u001b[0m\n",
      "test_myfuncs.py::test_multiply[1-42-41] \u001b[31mFAILED\u001b[0m\u001b[31m                           [ 53%]\u001b[0m\n",
      "test_myfuncs.py::test_multiply[-1-42--42] \u001b[32mPASSED\u001b[0m\u001b[31m                         [ 56%]\u001b[0m\n",
      "test_myfuncs.py::test_divide[0-0-None] \u001b[32mPASSED\u001b[0m\u001b[31m                            [ 60%]\u001b[0m\n",
      "test_myfuncs.py::test_divide[0-42-0] \u001b[32mPASSED\u001b[0m\u001b[31m                              [ 63%]\u001b[0m\n",
      "test_myfuncs.py::test_divide[42-0-None] \u001b[32mPASSED\u001b[0m\u001b[31m                           [ 66%]\u001b[0m\n",
      "test_myfuncs.py::test_divide[42-1-42] \u001b[32mPASSED\u001b[0m\u001b[31m                             [ 70%]\u001b[0m\n",
      "test_myfuncs.py::test_divide[1-2-0.5] \u001b[32mPASSED\u001b[0m\u001b[31m                             [ 73%]\u001b[0m\n",
      "test_myfuncs.py::test_divide[-1-2--0.5] \u001b[32mPASSED\u001b[0m\u001b[31m                           [ 76%]\u001b[0m\n",
      "test_myfuncs.py::test_power[0-0-1] \u001b[32mPASSED\u001b[0m\u001b[31m                                [ 80%]\u001b[0m\n",
      "test_myfuncs.py::test_power[0-2-0] \u001b[32mPASSED\u001b[0m\u001b[31m                                [ 83%]\u001b[0m\n",
      "test_myfuncs.py::test_power[1-2-1] \u001b[32mPASSED\u001b[0m\u001b[31m                                [ 86%]\u001b[0m\n",
      "test_myfuncs.py::test_power[2-0-1] \u001b[32mPASSED\u001b[0m\u001b[31m                                [ 90%]\u001b[0m\n",
      "test_myfuncs.py::test_power[2-1-2] \u001b[32mPASSED\u001b[0m\u001b[31m                                [ 93%]\u001b[0m\n",
      "test_myfuncs.py::test_power[2-2-4] \u001b[32mPASSED\u001b[0m\u001b[31m                                [ 96%]\u001b[0m\n",
      "test_myfuncs.py::test_power[2--1-0.5] \u001b[32mPASSED\u001b[0m\u001b[31m                             [100%]\u001b[0m\n",
      "\n",
      "=================================== FAILURES ===================================\n",
      "\u001b[31m\u001b[1m____________________________ test_multiply[1-42-41] ____________________________\u001b[0m\n",
      "\n",
      "a = 1, b = 42, res = 41\n",
      "\n",
      "    \u001b[37m@pytest\u001b[39;49;00m.mark.parametrize(\u001b[90m\u001b[39;49;00m\n",
      "        \u001b[33m\"\u001b[39;49;00m\u001b[33ma,b,res\u001b[39;49;00m\u001b[33m\"\u001b[39;49;00m,\u001b[90m\u001b[39;49;00m\n",
      "        [\u001b[90m\u001b[39;49;00m\n",
      "            (\u001b[94m0\u001b[39;49;00m, \u001b[94m0\u001b[39;49;00m, \u001b[94m0\u001b[39;49;00m),\u001b[90m\u001b[39;49;00m\n",
      "            (\u001b[94m0\u001b[39;49;00m, \u001b[94m42\u001b[39;49;00m, \u001b[94m0\u001b[39;49;00m),\u001b[90m\u001b[39;49;00m\n",
      "            (\u001b[94m42\u001b[39;49;00m, \u001b[94m0\u001b[39;49;00m, \u001b[94m0\u001b[39;49;00m),\u001b[90m\u001b[39;49;00m\n",
      "            (\u001b[94m42\u001b[39;49;00m, \u001b[94m1\u001b[39;49;00m, \u001b[94m42\u001b[39;49;00m),\u001b[90m\u001b[39;49;00m\n",
      "            (\u001b[94m1\u001b[39;49;00m, \u001b[94m42\u001b[39;49;00m, \u001b[94m41\u001b[39;49;00m),\u001b[90m\u001b[39;49;00m\n",
      "            (-\u001b[94m1\u001b[39;49;00m, \u001b[94m42\u001b[39;49;00m, -\u001b[94m42\u001b[39;49;00m),\u001b[90m\u001b[39;49;00m\n",
      "        ]\u001b[90m\u001b[39;49;00m\n",
      "    )\u001b[90m\u001b[39;49;00m\n",
      "    \u001b[94mdef\u001b[39;49;00m \u001b[92mtest_multiply\u001b[39;49;00m(a, b, res):\u001b[90m\u001b[39;49;00m\n",
      "        \u001b[94mfrom\u001b[39;49;00m \u001b[04m\u001b[96mmyfuncs\u001b[39;49;00m \u001b[94mimport\u001b[39;49;00m multiply\u001b[90m\u001b[39;49;00m\n",
      "    \u001b[90m\u001b[39;49;00m\n",
      ">       \u001b[94massert\u001b[39;49;00m multiply(a, b) == res\u001b[90m\u001b[39;49;00m\n",
      "\u001b[1m\u001b[31mE       assert 42 == 41\u001b[0m\n",
      "\u001b[1m\u001b[31mE        +  where 42 = <function multiply at 0x7fda208cbac0>(1, 42)\u001b[0m\n",
      "\n",
      "\u001b[1m\u001b[31mtest_myfuncs.py\u001b[0m:49: AssertionError\n",
      "\u001b[36m\u001b[1m=========================== short test summary info ============================\u001b[0m\n",
      "\u001b[31mFAILED\u001b[0m test_myfuncs.py::\u001b[1mtest_multiply[1-42-41]\u001b[0m - assert 42 == 41\n",
      "\u001b[31m========================= \u001b[31m\u001b[1m1 failed\u001b[0m, \u001b[32m29 passed\u001b[0m\u001b[31m in 0.10s\u001b[0m\u001b[31m =========================\u001b[0m\n"
     ]
    }
   ],
   "source": [
    "! pytest -v"
   ]
  },
  {
   "cell_type": "markdown",
   "id": "5df65169",
   "metadata": {
    "lines_to_next_cell": 0
   },
   "source": [
    "Even if the problem is obvious, you'll use `git bisect` to find the commit that introduced the problem. In some more complex cases, that can help understand what is the origin of the bug.\n",
    "\n",
    "Before starting bisect, you must find a commit that works.\n",
    "\n",
    "We know one: the one that contains the \"add\" function test. Let's use `git log` with some special parameters to find it:"
   ]
  },
  {
   "cell_type": "code",
   "execution_count": 100,
   "id": "905de5f6",
   "metadata": {
    "lines_to_next_cell": 0
   },
   "outputs": [
    {
     "name": "stdout",
     "output_type": "stream",
     "text": [
      "\u001b[33med26d1e\u001b[m tests: add test function for add\n"
     ]
    }
   ],
   "source": [
    "! git log --oneline --grep \"tests: add test function for add\""
   ]
  },
  {
   "cell_type": "markdown",
   "id": "3c2e078c",
   "metadata": {
    "lines_to_next_cell": 0
   },
   "source": [
    "The reply contains the short hash of the matching commit that you'll use as\n",
    "good commit."
   ]
  },
  {
   "cell_type": "markdown",
   "id": "b089fe98",
   "metadata": {
    "lines_to_next_cell": 0
   },
   "source": [
    "Let's now start bisecting:"
   ]
  },
  {
   "cell_type": "code",
   "execution_count": 101,
   "id": "ab1c4a43",
   "metadata": {
    "lines_to_next_cell": 0
   },
   "outputs": [
    {
     "name": "stdout",
     "output_type": "stream",
     "text": [
      "status: waiting for both good and bad commits\n"
     ]
    }
   ],
   "source": [
    "! git bisect start"
   ]
  },
  {
   "cell_type": "code",
   "execution_count": 102,
   "id": "bfd13bbf-7d15-4821-86c3-6b1e056b39eb",
   "metadata": {},
   "outputs": [
    {
     "name": "stdout",
     "output_type": "stream",
     "text": [
      "status: waiting for good commit(s), bad commit known\n"
     ]
    }
   ],
   "source": [
    "! git bisect bad"
   ]
  },
  {
   "cell_type": "markdown",
   "id": "c6884f6e",
   "metadata": {
    "lines_to_next_cell": 0
   },
   "source": [
    "You now have to switch the commit that we think is good, test it and tell git:"
   ]
  },
  {
   "cell_type": "code",
   "execution_count": 103,
   "id": "894cde7b",
   "metadata": {
    "lines_to_next_cell": 0
   },
   "outputs": [
    {
     "name": "stdout",
     "output_type": "stream",
     "text": [
      "Note: switching to 'ed26d1e'.\n",
      "\n",
      "You are in 'detached HEAD' state. You can look around, make experimental\n",
      "changes and commit them, and you can discard any commits you make in this\n",
      "state without impacting any branches by switching back to a branch.\n",
      "\n",
      "If you want to create a new branch to retain commits you create, you may\n",
      "do so (now or later) by using -c with the switch command. Example:\n",
      "\n",
      "  git switch -c <new-branch-name>\n",
      "\n",
      "Or undo this operation with:\n",
      "\n",
      "  git switch -\n",
      "\n",
      "Turn off this advice by setting config variable advice.detachedHead to false\n",
      "\n",
      "HEAD is now at ed26d1e tests: add test function for add\n"
     ]
    }
   ],
   "source": [
    "# Change the hash value to the one in the output of the cell above\n",
    "! git checkout ed26d1e"
   ]
  },
  {
   "cell_type": "code",
   "execution_count": 104,
   "id": "8ea4a89e-2c00-48b4-8d1e-252611aa8244",
   "metadata": {},
   "outputs": [
    {
     "name": "stdout",
     "output_type": "stream",
     "text": [
      "\u001b[1m============================= test session starts ==============================\u001b[0m\n",
      "platform darwin -- Python 3.10.13, pytest-7.4.3, pluggy-1.3.0 -- /Users/nicolas.gensollen/opt/anaconda3/envs/now/bin/python\n",
      "cachedir: .pytest_cache\n",
      "rootdir: /Users/nicolas.gensollen/GitRepos/NOW-2023/notebooks/dummymaths\n",
      "plugins: anyio-3.5.0\n",
      "collected 5 items                                                              \u001b[0m\n",
      "\n",
      "test_myfuncs.py::test_add[0-0-0] \u001b[32mPASSED\u001b[0m\u001b[32m                                  [ 20%]\u001b[0m\n",
      "test_myfuncs.py::test_add[0-42-42] \u001b[32mPASSED\u001b[0m\u001b[32m                                [ 40%]\u001b[0m\n",
      "test_myfuncs.py::test_add[42-0-42] \u001b[32mPASSED\u001b[0m\u001b[32m                                [ 60%]\u001b[0m\n",
      "test_myfuncs.py::test_add[42--42-0] \u001b[32mPASSED\u001b[0m\u001b[32m                               [ 80%]\u001b[0m\n",
      "test_myfuncs.py::test_add[-42-42-0] \u001b[32mPASSED\u001b[0m\u001b[32m                               [100%]\u001b[0m\n",
      "\n",
      "\u001b[32m============================== \u001b[32m\u001b[1m5 passed\u001b[0m\u001b[32m in 0.02s\u001b[0m\u001b[32m ===============================\u001b[0m\n"
     ]
    }
   ],
   "source": [
    "! pytest -v"
   ]
  },
  {
   "cell_type": "code",
   "execution_count": 105,
   "id": "9148d6f9-652b-4d29-8dfc-eee2773dbb7b",
   "metadata": {},
   "outputs": [
    {
     "name": "stdout",
     "output_type": "stream",
     "text": [
      "Bisecting: 5 revisions left to test after this (roughly 3 steps)\n",
      "[dbeeb486675f8ce705791163d8a85f1b4272218b] Merge branch 'multiply'\n"
     ]
    }
   ],
   "source": [
    "! git bisect good"
   ]
  },
  {
   "cell_type": "markdown",
   "id": "c29ee3bb",
   "metadata": {
    "lines_to_next_cell": 0
   },
   "source": [
    "Since `pytest` is the command that is used to check if a commit is good or\n",
    "not, you can run it at each step:"
   ]
  },
  {
   "cell_type": "code",
   "execution_count": 106,
   "id": "1c4e8d89",
   "metadata": {
    "lines_to_next_cell": 0
   },
   "outputs": [
    {
     "name": "stdout",
     "output_type": "stream",
     "text": [
      "running  'pytest'\n",
      "\u001b[1m============================= test session starts ==============================\u001b[0m\n",
      "platform darwin -- Python 3.10.13, pytest-7.4.3, pluggy-1.3.0\n",
      "rootdir: /Users/nicolas.gensollen/GitRepos/NOW-2023/notebooks/dummymaths\n",
      "plugins: anyio-3.5.0\n",
      "collected 17 items                                                             \u001b[0m\n",
      "\n",
      "test_myfuncs.py \u001b[32m.\u001b[0m\u001b[32m.\u001b[0m\u001b[32m.\u001b[0m\u001b[32m.\u001b[0m\u001b[32m.\u001b[0m\u001b[32m.\u001b[0m\u001b[32m.\u001b[0m\u001b[32m.\u001b[0m\u001b[32m.\u001b[0m\u001b[32m.\u001b[0m\u001b[32m.\u001b[0m\u001b[32m.\u001b[0m\u001b[32m.\u001b[0m\u001b[32m.\u001b[0m\u001b[32m.\u001b[0m\u001b[31mF\u001b[0m\u001b[32m.\u001b[0m\u001b[31m                                        [100%]\u001b[0m\n",
      "\n",
      "=================================== FAILURES ===================================\n",
      "\u001b[31m\u001b[1m____________________________ test_multiply[1-42-41] ____________________________\u001b[0m\n",
      "\n",
      "a = 1, b = 42, res = 41\n",
      "\n",
      "    \u001b[37m@pytest\u001b[39;49;00m.mark.parametrize(\u001b[90m\u001b[39;49;00m\n",
      "        \u001b[33m\"\u001b[39;49;00m\u001b[33ma,b,res\u001b[39;49;00m\u001b[33m\"\u001b[39;49;00m,\u001b[90m\u001b[39;49;00m\n",
      "        [\u001b[90m\u001b[39;49;00m\n",
      "            (\u001b[94m0\u001b[39;49;00m, \u001b[94m0\u001b[39;49;00m, \u001b[94m0\u001b[39;49;00m),\u001b[90m\u001b[39;49;00m\n",
      "            (\u001b[94m0\u001b[39;49;00m, \u001b[94m42\u001b[39;49;00m, \u001b[94m0\u001b[39;49;00m),\u001b[90m\u001b[39;49;00m\n",
      "            (\u001b[94m42\u001b[39;49;00m, \u001b[94m0\u001b[39;49;00m, \u001b[94m0\u001b[39;49;00m),\u001b[90m\u001b[39;49;00m\n",
      "            (\u001b[94m42\u001b[39;49;00m, \u001b[94m1\u001b[39;49;00m, \u001b[94m42\u001b[39;49;00m),\u001b[90m\u001b[39;49;00m\n",
      "            (\u001b[94m1\u001b[39;49;00m, \u001b[94m42\u001b[39;49;00m, \u001b[94m41\u001b[39;49;00m),\u001b[90m\u001b[39;49;00m\n",
      "            (-\u001b[94m1\u001b[39;49;00m, \u001b[94m42\u001b[39;49;00m, -\u001b[94m42\u001b[39;49;00m),\u001b[90m\u001b[39;49;00m\n",
      "        ]\u001b[90m\u001b[39;49;00m\n",
      "    )\u001b[90m\u001b[39;49;00m\n",
      "    \u001b[94mdef\u001b[39;49;00m \u001b[92mtest_multiply\u001b[39;49;00m(a, b, res):\u001b[90m\u001b[39;49;00m\n",
      "        \u001b[94mfrom\u001b[39;49;00m \u001b[04m\u001b[96mmyfuncs\u001b[39;49;00m \u001b[94mimport\u001b[39;49;00m multiply\u001b[90m\u001b[39;49;00m\n",
      "    \u001b[90m\u001b[39;49;00m\n",
      ">       \u001b[94massert\u001b[39;49;00m multiply(a, b) == res\u001b[90m\u001b[39;49;00m\n",
      "\u001b[1m\u001b[31mE       assert 42 == 41\u001b[0m\n",
      "\u001b[1m\u001b[31mE        +  where 42 = <function multiply at 0x7fd798d779a0>(1, 42)\u001b[0m\n",
      "\n",
      "\u001b[1m\u001b[31mtest_myfuncs.py\u001b[0m:49: AssertionError\n",
      "\u001b[36m\u001b[1m=========================== short test summary info ============================\u001b[0m\n",
      "\u001b[31mFAILED\u001b[0m test_myfuncs.py::\u001b[1mtest_multiply[1-42-41]\u001b[0m - assert 42 == 41\n",
      "\u001b[31m========================= \u001b[31m\u001b[1m1 failed\u001b[0m, \u001b[32m16 passed\u001b[0m\u001b[31m in 0.09s\u001b[0m\u001b[31m =========================\u001b[0m\n",
      "Bisecting: 2 revisions left to test after this (roughly 2 steps)\n",
      "[3ed6a6960fa706df1ef7d5be26a799a833be1b48] myfuncs: add the multiply function\n",
      "running  'pytest'\n",
      "\u001b[1m============================= test session starts ==============================\u001b[0m\n",
      "platform darwin -- Python 3.10.13, pytest-7.4.3, pluggy-1.3.0\n",
      "rootdir: /Users/nicolas.gensollen/GitRepos/NOW-2023/notebooks/dummymaths\n",
      "plugins: anyio-3.5.0\n",
      "collected 11 items                                                             \u001b[0m\n",
      "\n",
      "test_myfuncs.py \u001b[32m.\u001b[0m\u001b[32m.\u001b[0m\u001b[32m.\u001b[0m\u001b[32m.\u001b[0m\u001b[32m.\u001b[0m\u001b[32m.\u001b[0m\u001b[32m.\u001b[0m\u001b[32m.\u001b[0m\u001b[32m.\u001b[0m\u001b[32m.\u001b[0m\u001b[32m.\u001b[0m\u001b[32m                                              [100%]\u001b[0m\n",
      "\n",
      "\u001b[32m============================== \u001b[32m\u001b[1m11 passed\u001b[0m\u001b[32m in 0.02s\u001b[0m\u001b[32m ==============================\u001b[0m\n",
      "Bisecting: 0 revisions left to test after this (roughly 1 step)\n",
      "[925f689ce2583a44d7350b86a971afe456a75c70] README.md: bootstrap todo section with a divide function item\n",
      "running  'pytest'\n",
      "\u001b[1m============================= test session starts ==============================\u001b[0m\n",
      "platform darwin -- Python 3.10.13, pytest-7.4.3, pluggy-1.3.0\n",
      "rootdir: /Users/nicolas.gensollen/GitRepos/NOW-2023/notebooks/dummymaths\n",
      "plugins: anyio-3.5.0\n",
      "collected 17 items                                                             \u001b[0m\n",
      "\n",
      "test_myfuncs.py \u001b[32m.\u001b[0m\u001b[32m.\u001b[0m\u001b[32m.\u001b[0m\u001b[32m.\u001b[0m\u001b[32m.\u001b[0m\u001b[32m.\u001b[0m\u001b[32m.\u001b[0m\u001b[32m.\u001b[0m\u001b[32m.\u001b[0m\u001b[32m.\u001b[0m\u001b[32m.\u001b[0m\u001b[31mF\u001b[0m\u001b[31mF\u001b[0m\u001b[31mF\u001b[0m\u001b[31mF\u001b[0m\u001b[31mF\u001b[0m\u001b[31mF\u001b[0m\u001b[31m                                        [100%]\u001b[0m\n",
      "\n",
      "=================================== FAILURES ===================================\n",
      "\u001b[31m\u001b[1m_____________________________ test_multiply[0-0-0] _____________________________\u001b[0m\n",
      "\n",
      "a = 0, b = 0, res = 0\n",
      "\n",
      "    \u001b[37m@pytest\u001b[39;49;00m.mark.parametrize(\u001b[90m\u001b[39;49;00m\n",
      "        \u001b[33m\"\u001b[39;49;00m\u001b[33ma,b,res\u001b[39;49;00m\u001b[33m\"\u001b[39;49;00m,\u001b[90m\u001b[39;49;00m\n",
      "        [\u001b[90m\u001b[39;49;00m\n",
      "            (\u001b[94m0\u001b[39;49;00m, \u001b[94m0\u001b[39;49;00m, \u001b[94m0\u001b[39;49;00m),\u001b[90m\u001b[39;49;00m\n",
      "            (\u001b[94m0\u001b[39;49;00m, \u001b[94m42\u001b[39;49;00m, \u001b[94m0\u001b[39;49;00m),\u001b[90m\u001b[39;49;00m\n",
      "            (\u001b[94m42\u001b[39;49;00m, \u001b[94m0\u001b[39;49;00m, \u001b[94m0\u001b[39;49;00m),\u001b[90m\u001b[39;49;00m\n",
      "            (\u001b[94m42\u001b[39;49;00m, \u001b[94m1\u001b[39;49;00m, \u001b[94m42\u001b[39;49;00m),\u001b[90m\u001b[39;49;00m\n",
      "            (\u001b[94m1\u001b[39;49;00m, \u001b[94m42\u001b[39;49;00m, \u001b[94m41\u001b[39;49;00m),\u001b[90m\u001b[39;49;00m\n",
      "            (-\u001b[94m1\u001b[39;49;00m, \u001b[94m42\u001b[39;49;00m, -\u001b[94m42\u001b[39;49;00m),\u001b[90m\u001b[39;49;00m\n",
      "        ]\u001b[90m\u001b[39;49;00m\n",
      "    )\u001b[90m\u001b[39;49;00m\n",
      "    \u001b[94mdef\u001b[39;49;00m \u001b[92mtest_multiply\u001b[39;49;00m(a, b, res):\u001b[90m\u001b[39;49;00m\n",
      ">       \u001b[94mfrom\u001b[39;49;00m \u001b[04m\u001b[96mmyfuncs\u001b[39;49;00m \u001b[94mimport\u001b[39;49;00m multiply\u001b[90m\u001b[39;49;00m\n",
      "\u001b[1m\u001b[31mE       ImportError: cannot import name 'multiply' from 'myfuncs' (/Users/nicolas.gensollen/GitRepos/NOW-2023/notebooks/dummymaths/myfuncs.py)\u001b[0m\n",
      "\n",
      "\u001b[1m\u001b[31mtest_myfuncs.py\u001b[0m:47: ImportError\n",
      "\u001b[31m\u001b[1m____________________________ test_multiply[0-42-0] _____________________________\u001b[0m\n",
      "\n",
      "a = 0, b = 42, res = 0\n",
      "\n",
      "    \u001b[37m@pytest\u001b[39;49;00m.mark.parametrize(\u001b[90m\u001b[39;49;00m\n",
      "        \u001b[33m\"\u001b[39;49;00m\u001b[33ma,b,res\u001b[39;49;00m\u001b[33m\"\u001b[39;49;00m,\u001b[90m\u001b[39;49;00m\n",
      "        [\u001b[90m\u001b[39;49;00m\n",
      "            (\u001b[94m0\u001b[39;49;00m, \u001b[94m0\u001b[39;49;00m, \u001b[94m0\u001b[39;49;00m),\u001b[90m\u001b[39;49;00m\n",
      "            (\u001b[94m0\u001b[39;49;00m, \u001b[94m42\u001b[39;49;00m, \u001b[94m0\u001b[39;49;00m),\u001b[90m\u001b[39;49;00m\n",
      "            (\u001b[94m42\u001b[39;49;00m, \u001b[94m0\u001b[39;49;00m, \u001b[94m0\u001b[39;49;00m),\u001b[90m\u001b[39;49;00m\n",
      "            (\u001b[94m42\u001b[39;49;00m, \u001b[94m1\u001b[39;49;00m, \u001b[94m42\u001b[39;49;00m),\u001b[90m\u001b[39;49;00m\n",
      "            (\u001b[94m1\u001b[39;49;00m, \u001b[94m42\u001b[39;49;00m, \u001b[94m41\u001b[39;49;00m),\u001b[90m\u001b[39;49;00m\n",
      "            (-\u001b[94m1\u001b[39;49;00m, \u001b[94m42\u001b[39;49;00m, -\u001b[94m42\u001b[39;49;00m),\u001b[90m\u001b[39;49;00m\n",
      "        ]\u001b[90m\u001b[39;49;00m\n",
      "    )\u001b[90m\u001b[39;49;00m\n",
      "    \u001b[94mdef\u001b[39;49;00m \u001b[92mtest_multiply\u001b[39;49;00m(a, b, res):\u001b[90m\u001b[39;49;00m\n",
      ">       \u001b[94mfrom\u001b[39;49;00m \u001b[04m\u001b[96mmyfuncs\u001b[39;49;00m \u001b[94mimport\u001b[39;49;00m multiply\u001b[90m\u001b[39;49;00m\n",
      "\u001b[1m\u001b[31mE       ImportError: cannot import name 'multiply' from 'myfuncs' (/Users/nicolas.gensollen/GitRepos/NOW-2023/notebooks/dummymaths/myfuncs.py)\u001b[0m\n",
      "\n",
      "\u001b[1m\u001b[31mtest_myfuncs.py\u001b[0m:47: ImportError\n",
      "\u001b[31m\u001b[1m____________________________ test_multiply[42-0-0] _____________________________\u001b[0m\n",
      "\n",
      "a = 42, b = 0, res = 0\n",
      "\n",
      "    \u001b[37m@pytest\u001b[39;49;00m.mark.parametrize(\u001b[90m\u001b[39;49;00m\n",
      "        \u001b[33m\"\u001b[39;49;00m\u001b[33ma,b,res\u001b[39;49;00m\u001b[33m\"\u001b[39;49;00m,\u001b[90m\u001b[39;49;00m\n",
      "        [\u001b[90m\u001b[39;49;00m\n",
      "            (\u001b[94m0\u001b[39;49;00m, \u001b[94m0\u001b[39;49;00m, \u001b[94m0\u001b[39;49;00m),\u001b[90m\u001b[39;49;00m\n",
      "            (\u001b[94m0\u001b[39;49;00m, \u001b[94m42\u001b[39;49;00m, \u001b[94m0\u001b[39;49;00m),\u001b[90m\u001b[39;49;00m\n",
      "            (\u001b[94m42\u001b[39;49;00m, \u001b[94m0\u001b[39;49;00m, \u001b[94m0\u001b[39;49;00m),\u001b[90m\u001b[39;49;00m\n",
      "            (\u001b[94m42\u001b[39;49;00m, \u001b[94m1\u001b[39;49;00m, \u001b[94m42\u001b[39;49;00m),\u001b[90m\u001b[39;49;00m\n",
      "            (\u001b[94m1\u001b[39;49;00m, \u001b[94m42\u001b[39;49;00m, \u001b[94m41\u001b[39;49;00m),\u001b[90m\u001b[39;49;00m\n",
      "            (-\u001b[94m1\u001b[39;49;00m, \u001b[94m42\u001b[39;49;00m, -\u001b[94m42\u001b[39;49;00m),\u001b[90m\u001b[39;49;00m\n",
      "        ]\u001b[90m\u001b[39;49;00m\n",
      "    )\u001b[90m\u001b[39;49;00m\n",
      "    \u001b[94mdef\u001b[39;49;00m \u001b[92mtest_multiply\u001b[39;49;00m(a, b, res):\u001b[90m\u001b[39;49;00m\n",
      ">       \u001b[94mfrom\u001b[39;49;00m \u001b[04m\u001b[96mmyfuncs\u001b[39;49;00m \u001b[94mimport\u001b[39;49;00m multiply\u001b[90m\u001b[39;49;00m\n",
      "\u001b[1m\u001b[31mE       ImportError: cannot import name 'multiply' from 'myfuncs' (/Users/nicolas.gensollen/GitRepos/NOW-2023/notebooks/dummymaths/myfuncs.py)\u001b[0m\n",
      "\n",
      "\u001b[1m\u001b[31mtest_myfuncs.py\u001b[0m:47: ImportError\n",
      "\u001b[31m\u001b[1m____________________________ test_multiply[42-1-42] ____________________________\u001b[0m\n",
      "\n",
      "a = 42, b = 1, res = 42\n",
      "\n",
      "    \u001b[37m@pytest\u001b[39;49;00m.mark.parametrize(\u001b[90m\u001b[39;49;00m\n",
      "        \u001b[33m\"\u001b[39;49;00m\u001b[33ma,b,res\u001b[39;49;00m\u001b[33m\"\u001b[39;49;00m,\u001b[90m\u001b[39;49;00m\n",
      "        [\u001b[90m\u001b[39;49;00m\n",
      "            (\u001b[94m0\u001b[39;49;00m, \u001b[94m0\u001b[39;49;00m, \u001b[94m0\u001b[39;49;00m),\u001b[90m\u001b[39;49;00m\n",
      "            (\u001b[94m0\u001b[39;49;00m, \u001b[94m42\u001b[39;49;00m, \u001b[94m0\u001b[39;49;00m),\u001b[90m\u001b[39;49;00m\n",
      "            (\u001b[94m42\u001b[39;49;00m, \u001b[94m0\u001b[39;49;00m, \u001b[94m0\u001b[39;49;00m),\u001b[90m\u001b[39;49;00m\n",
      "            (\u001b[94m42\u001b[39;49;00m, \u001b[94m1\u001b[39;49;00m, \u001b[94m42\u001b[39;49;00m),\u001b[90m\u001b[39;49;00m\n",
      "            (\u001b[94m1\u001b[39;49;00m, \u001b[94m42\u001b[39;49;00m, \u001b[94m41\u001b[39;49;00m),\u001b[90m\u001b[39;49;00m\n",
      "            (-\u001b[94m1\u001b[39;49;00m, \u001b[94m42\u001b[39;49;00m, -\u001b[94m42\u001b[39;49;00m),\u001b[90m\u001b[39;49;00m\n",
      "        ]\u001b[90m\u001b[39;49;00m\n",
      "    )\u001b[90m\u001b[39;49;00m\n",
      "    \u001b[94mdef\u001b[39;49;00m \u001b[92mtest_multiply\u001b[39;49;00m(a, b, res):\u001b[90m\u001b[39;49;00m\n",
      ">       \u001b[94mfrom\u001b[39;49;00m \u001b[04m\u001b[96mmyfuncs\u001b[39;49;00m \u001b[94mimport\u001b[39;49;00m multiply\u001b[90m\u001b[39;49;00m\n",
      "\u001b[1m\u001b[31mE       ImportError: cannot import name 'multiply' from 'myfuncs' (/Users/nicolas.gensollen/GitRepos/NOW-2023/notebooks/dummymaths/myfuncs.py)\u001b[0m\n",
      "\n",
      "\u001b[1m\u001b[31mtest_myfuncs.py\u001b[0m:47: ImportError\n",
      "\u001b[31m\u001b[1m____________________________ test_multiply[1-42-41] ____________________________\u001b[0m\n",
      "\n",
      "a = 1, b = 42, res = 41\n",
      "\n",
      "    \u001b[37m@pytest\u001b[39;49;00m.mark.parametrize(\u001b[90m\u001b[39;49;00m\n",
      "        \u001b[33m\"\u001b[39;49;00m\u001b[33ma,b,res\u001b[39;49;00m\u001b[33m\"\u001b[39;49;00m,\u001b[90m\u001b[39;49;00m\n",
      "        [\u001b[90m\u001b[39;49;00m\n",
      "            (\u001b[94m0\u001b[39;49;00m, \u001b[94m0\u001b[39;49;00m, \u001b[94m0\u001b[39;49;00m),\u001b[90m\u001b[39;49;00m\n",
      "            (\u001b[94m0\u001b[39;49;00m, \u001b[94m42\u001b[39;49;00m, \u001b[94m0\u001b[39;49;00m),\u001b[90m\u001b[39;49;00m\n",
      "            (\u001b[94m42\u001b[39;49;00m, \u001b[94m0\u001b[39;49;00m, \u001b[94m0\u001b[39;49;00m),\u001b[90m\u001b[39;49;00m\n",
      "            (\u001b[94m42\u001b[39;49;00m, \u001b[94m1\u001b[39;49;00m, \u001b[94m42\u001b[39;49;00m),\u001b[90m\u001b[39;49;00m\n",
      "            (\u001b[94m1\u001b[39;49;00m, \u001b[94m42\u001b[39;49;00m, \u001b[94m41\u001b[39;49;00m),\u001b[90m\u001b[39;49;00m\n",
      "            (-\u001b[94m1\u001b[39;49;00m, \u001b[94m42\u001b[39;49;00m, -\u001b[94m42\u001b[39;49;00m),\u001b[90m\u001b[39;49;00m\n",
      "        ]\u001b[90m\u001b[39;49;00m\n",
      "    )\u001b[90m\u001b[39;49;00m\n",
      "    \u001b[94mdef\u001b[39;49;00m \u001b[92mtest_multiply\u001b[39;49;00m(a, b, res):\u001b[90m\u001b[39;49;00m\n",
      ">       \u001b[94mfrom\u001b[39;49;00m \u001b[04m\u001b[96mmyfuncs\u001b[39;49;00m \u001b[94mimport\u001b[39;49;00m multiply\u001b[90m\u001b[39;49;00m\n",
      "\u001b[1m\u001b[31mE       ImportError: cannot import name 'multiply' from 'myfuncs' (/Users/nicolas.gensollen/GitRepos/NOW-2023/notebooks/dummymaths/myfuncs.py)\u001b[0m\n",
      "\n",
      "\u001b[1m\u001b[31mtest_myfuncs.py\u001b[0m:47: ImportError\n",
      "\u001b[31m\u001b[1m___________________________ test_multiply[-1-42--42] ___________________________\u001b[0m\n",
      "\n",
      "a = -1, b = 42, res = -42\n",
      "\n",
      "    \u001b[37m@pytest\u001b[39;49;00m.mark.parametrize(\u001b[90m\u001b[39;49;00m\n",
      "        \u001b[33m\"\u001b[39;49;00m\u001b[33ma,b,res\u001b[39;49;00m\u001b[33m\"\u001b[39;49;00m,\u001b[90m\u001b[39;49;00m\n",
      "        [\u001b[90m\u001b[39;49;00m\n",
      "            (\u001b[94m0\u001b[39;49;00m, \u001b[94m0\u001b[39;49;00m, \u001b[94m0\u001b[39;49;00m),\u001b[90m\u001b[39;49;00m\n",
      "            (\u001b[94m0\u001b[39;49;00m, \u001b[94m42\u001b[39;49;00m, \u001b[94m0\u001b[39;49;00m),\u001b[90m\u001b[39;49;00m\n",
      "            (\u001b[94m42\u001b[39;49;00m, \u001b[94m0\u001b[39;49;00m, \u001b[94m0\u001b[39;49;00m),\u001b[90m\u001b[39;49;00m\n",
      "            (\u001b[94m42\u001b[39;49;00m, \u001b[94m1\u001b[39;49;00m, \u001b[94m42\u001b[39;49;00m),\u001b[90m\u001b[39;49;00m\n",
      "            (\u001b[94m1\u001b[39;49;00m, \u001b[94m42\u001b[39;49;00m, \u001b[94m41\u001b[39;49;00m),\u001b[90m\u001b[39;49;00m\n",
      "            (-\u001b[94m1\u001b[39;49;00m, \u001b[94m42\u001b[39;49;00m, -\u001b[94m42\u001b[39;49;00m),\u001b[90m\u001b[39;49;00m\n",
      "        ]\u001b[90m\u001b[39;49;00m\n",
      "    )\u001b[90m\u001b[39;49;00m\n",
      "    \u001b[94mdef\u001b[39;49;00m \u001b[92mtest_multiply\u001b[39;49;00m(a, b, res):\u001b[90m\u001b[39;49;00m\n",
      ">       \u001b[94mfrom\u001b[39;49;00m \u001b[04m\u001b[96mmyfuncs\u001b[39;49;00m \u001b[94mimport\u001b[39;49;00m multiply\u001b[90m\u001b[39;49;00m\n",
      "\u001b[1m\u001b[31mE       ImportError: cannot import name 'multiply' from 'myfuncs' (/Users/nicolas.gensollen/GitRepos/NOW-2023/notebooks/dummymaths/myfuncs.py)\u001b[0m\n",
      "\n",
      "\u001b[1m\u001b[31mtest_myfuncs.py\u001b[0m:47: ImportError\n",
      "\u001b[36m\u001b[1m=========================== short test summary info ============================\u001b[0m\n",
      "\u001b[31mFAILED\u001b[0m test_myfuncs.py::\u001b[1mtest_multiply[0-0-0]\u001b[0m - ImportError: cannot import name 'multiply' from 'myfuncs' (/Users/nicolas.g...\n",
      "\u001b[31mFAILED\u001b[0m test_myfuncs.py::\u001b[1mtest_multiply[0-42-0]\u001b[0m - ImportError: cannot import name 'multiply' from 'myfuncs' (/Users/nicolas.g...\n",
      "\u001b[31mFAILED\u001b[0m test_myfuncs.py::\u001b[1mtest_multiply[42-0-0]\u001b[0m - ImportError: cannot import name 'multiply' from 'myfuncs' (/Users/nicolas.g...\n",
      "\u001b[31mFAILED\u001b[0m test_myfuncs.py::\u001b[1mtest_multiply[42-1-42]\u001b[0m - ImportError: cannot import name 'multiply' from 'myfuncs' (/Users/nicolas.g...\n",
      "\u001b[31mFAILED\u001b[0m test_myfuncs.py::\u001b[1mtest_multiply[1-42-41]\u001b[0m - ImportError: cannot import name 'multiply' from 'myfuncs' (/Users/nicolas.g...\n",
      "\u001b[31mFAILED\u001b[0m test_myfuncs.py::\u001b[1mtest_multiply[-1-42--42]\u001b[0m - ImportError: cannot import name 'multiply' from 'myfuncs' (/Users/nicolas.g...\n",
      "\u001b[31m========================= \u001b[31m\u001b[1m6 failed\u001b[0m, \u001b[32m11 passed\u001b[0m\u001b[31m in 0.10s\u001b[0m\u001b[31m =========================\u001b[0m\n",
      "Bisecting: 0 revisions left to test after this (roughly 0 steps)\n",
      "[d4a63b8188b9156e4d5519e1a759731cbbc5afd0] tests: add test function for multiply\n",
      "running  'pytest'\n",
      "\u001b[1m============================= test session starts ==============================\u001b[0m\n",
      "platform darwin -- Python 3.10.13, pytest-7.4.3, pluggy-1.3.0\n",
      "rootdir: /Users/nicolas.gensollen/GitRepos/NOW-2023/notebooks/dummymaths\n",
      "plugins: anyio-3.5.0\n",
      "collected 17 items                                                             \u001b[0m\n",
      "\n",
      "test_myfuncs.py \u001b[32m.\u001b[0m\u001b[32m.\u001b[0m\u001b[32m.\u001b[0m\u001b[32m.\u001b[0m\u001b[32m.\u001b[0m\u001b[32m.\u001b[0m\u001b[32m.\u001b[0m\u001b[32m.\u001b[0m\u001b[32m.\u001b[0m\u001b[32m.\u001b[0m\u001b[32m.\u001b[0m\u001b[31mF\u001b[0m\u001b[31mF\u001b[0m\u001b[31mF\u001b[0m\u001b[31mF\u001b[0m\u001b[31mF\u001b[0m\u001b[31mF\u001b[0m\u001b[31m                                        [100%]\u001b[0m\n",
      "\n",
      "=================================== FAILURES ===================================\n",
      "\u001b[31m\u001b[1m_____________________________ test_multiply[0-0-0] _____________________________\u001b[0m\n",
      "\n",
      "a = 0, b = 0, res = 0\n",
      "\n",
      "    \u001b[37m@pytest\u001b[39;49;00m.mark.parametrize(\u001b[90m\u001b[39;49;00m\n",
      "        \u001b[33m\"\u001b[39;49;00m\u001b[33ma,b,res\u001b[39;49;00m\u001b[33m\"\u001b[39;49;00m,\u001b[90m\u001b[39;49;00m\n",
      "        [\u001b[90m\u001b[39;49;00m\n",
      "            (\u001b[94m0\u001b[39;49;00m, \u001b[94m0\u001b[39;49;00m, \u001b[94m0\u001b[39;49;00m),\u001b[90m\u001b[39;49;00m\n",
      "            (\u001b[94m0\u001b[39;49;00m, \u001b[94m42\u001b[39;49;00m, \u001b[94m0\u001b[39;49;00m),\u001b[90m\u001b[39;49;00m\n",
      "            (\u001b[94m42\u001b[39;49;00m, \u001b[94m0\u001b[39;49;00m, \u001b[94m0\u001b[39;49;00m),\u001b[90m\u001b[39;49;00m\n",
      "            (\u001b[94m42\u001b[39;49;00m, \u001b[94m1\u001b[39;49;00m, \u001b[94m42\u001b[39;49;00m),\u001b[90m\u001b[39;49;00m\n",
      "            (\u001b[94m1\u001b[39;49;00m, \u001b[94m42\u001b[39;49;00m, \u001b[94m41\u001b[39;49;00m),\u001b[90m\u001b[39;49;00m\n",
      "            (-\u001b[94m1\u001b[39;49;00m, \u001b[94m42\u001b[39;49;00m, -\u001b[94m42\u001b[39;49;00m),\u001b[90m\u001b[39;49;00m\n",
      "        ]\u001b[90m\u001b[39;49;00m\n",
      "    )\u001b[90m\u001b[39;49;00m\n",
      "    \u001b[94mdef\u001b[39;49;00m \u001b[92mtest_multiply\u001b[39;49;00m(a, b, res):\u001b[90m\u001b[39;49;00m\n",
      ">       \u001b[94mfrom\u001b[39;49;00m \u001b[04m\u001b[96mmyfuncs\u001b[39;49;00m \u001b[94mimport\u001b[39;49;00m multiply\u001b[90m\u001b[39;49;00m\n",
      "\u001b[1m\u001b[31mE       ImportError: cannot import name 'multiply' from 'myfuncs' (/Users/nicolas.gensollen/GitRepos/NOW-2023/notebooks/dummymaths/myfuncs.py)\u001b[0m\n",
      "\n",
      "\u001b[1m\u001b[31mtest_myfuncs.py\u001b[0m:47: ImportError\n",
      "\u001b[31m\u001b[1m____________________________ test_multiply[0-42-0] _____________________________\u001b[0m\n",
      "\n",
      "a = 0, b = 42, res = 0\n",
      "\n",
      "    \u001b[37m@pytest\u001b[39;49;00m.mark.parametrize(\u001b[90m\u001b[39;49;00m\n",
      "        \u001b[33m\"\u001b[39;49;00m\u001b[33ma,b,res\u001b[39;49;00m\u001b[33m\"\u001b[39;49;00m,\u001b[90m\u001b[39;49;00m\n",
      "        [\u001b[90m\u001b[39;49;00m\n",
      "            (\u001b[94m0\u001b[39;49;00m, \u001b[94m0\u001b[39;49;00m, \u001b[94m0\u001b[39;49;00m),\u001b[90m\u001b[39;49;00m\n",
      "            (\u001b[94m0\u001b[39;49;00m, \u001b[94m42\u001b[39;49;00m, \u001b[94m0\u001b[39;49;00m),\u001b[90m\u001b[39;49;00m\n",
      "            (\u001b[94m42\u001b[39;49;00m, \u001b[94m0\u001b[39;49;00m, \u001b[94m0\u001b[39;49;00m),\u001b[90m\u001b[39;49;00m\n",
      "            (\u001b[94m42\u001b[39;49;00m, \u001b[94m1\u001b[39;49;00m, \u001b[94m42\u001b[39;49;00m),\u001b[90m\u001b[39;49;00m\n",
      "            (\u001b[94m1\u001b[39;49;00m, \u001b[94m42\u001b[39;49;00m, \u001b[94m41\u001b[39;49;00m),\u001b[90m\u001b[39;49;00m\n",
      "            (-\u001b[94m1\u001b[39;49;00m, \u001b[94m42\u001b[39;49;00m, -\u001b[94m42\u001b[39;49;00m),\u001b[90m\u001b[39;49;00m\n",
      "        ]\u001b[90m\u001b[39;49;00m\n",
      "    )\u001b[90m\u001b[39;49;00m\n",
      "    \u001b[94mdef\u001b[39;49;00m \u001b[92mtest_multiply\u001b[39;49;00m(a, b, res):\u001b[90m\u001b[39;49;00m\n",
      ">       \u001b[94mfrom\u001b[39;49;00m \u001b[04m\u001b[96mmyfuncs\u001b[39;49;00m \u001b[94mimport\u001b[39;49;00m multiply\u001b[90m\u001b[39;49;00m\n",
      "\u001b[1m\u001b[31mE       ImportError: cannot import name 'multiply' from 'myfuncs' (/Users/nicolas.gensollen/GitRepos/NOW-2023/notebooks/dummymaths/myfuncs.py)\u001b[0m\n",
      "\n",
      "\u001b[1m\u001b[31mtest_myfuncs.py\u001b[0m:47: ImportError\n",
      "\u001b[31m\u001b[1m____________________________ test_multiply[42-0-0] _____________________________\u001b[0m\n",
      "\n",
      "a = 42, b = 0, res = 0\n",
      "\n",
      "    \u001b[37m@pytest\u001b[39;49;00m.mark.parametrize(\u001b[90m\u001b[39;49;00m\n",
      "        \u001b[33m\"\u001b[39;49;00m\u001b[33ma,b,res\u001b[39;49;00m\u001b[33m\"\u001b[39;49;00m,\u001b[90m\u001b[39;49;00m\n",
      "        [\u001b[90m\u001b[39;49;00m\n",
      "            (\u001b[94m0\u001b[39;49;00m, \u001b[94m0\u001b[39;49;00m, \u001b[94m0\u001b[39;49;00m),\u001b[90m\u001b[39;49;00m\n",
      "            (\u001b[94m0\u001b[39;49;00m, \u001b[94m42\u001b[39;49;00m, \u001b[94m0\u001b[39;49;00m),\u001b[90m\u001b[39;49;00m\n",
      "            (\u001b[94m42\u001b[39;49;00m, \u001b[94m0\u001b[39;49;00m, \u001b[94m0\u001b[39;49;00m),\u001b[90m\u001b[39;49;00m\n",
      "            (\u001b[94m42\u001b[39;49;00m, \u001b[94m1\u001b[39;49;00m, \u001b[94m42\u001b[39;49;00m),\u001b[90m\u001b[39;49;00m\n",
      "            (\u001b[94m1\u001b[39;49;00m, \u001b[94m42\u001b[39;49;00m, \u001b[94m41\u001b[39;49;00m),\u001b[90m\u001b[39;49;00m\n",
      "            (-\u001b[94m1\u001b[39;49;00m, \u001b[94m42\u001b[39;49;00m, -\u001b[94m42\u001b[39;49;00m),\u001b[90m\u001b[39;49;00m\n",
      "        ]\u001b[90m\u001b[39;49;00m\n",
      "    )\u001b[90m\u001b[39;49;00m\n",
      "    \u001b[94mdef\u001b[39;49;00m \u001b[92mtest_multiply\u001b[39;49;00m(a, b, res):\u001b[90m\u001b[39;49;00m\n",
      ">       \u001b[94mfrom\u001b[39;49;00m \u001b[04m\u001b[96mmyfuncs\u001b[39;49;00m \u001b[94mimport\u001b[39;49;00m multiply\u001b[90m\u001b[39;49;00m\n",
      "\u001b[1m\u001b[31mE       ImportError: cannot import name 'multiply' from 'myfuncs' (/Users/nicolas.gensollen/GitRepos/NOW-2023/notebooks/dummymaths/myfuncs.py)\u001b[0m\n",
      "\n",
      "\u001b[1m\u001b[31mtest_myfuncs.py\u001b[0m:47: ImportError\n",
      "\u001b[31m\u001b[1m____________________________ test_multiply[42-1-42] ____________________________\u001b[0m\n",
      "\n",
      "a = 42, b = 1, res = 42\n",
      "\n",
      "    \u001b[37m@pytest\u001b[39;49;00m.mark.parametrize(\u001b[90m\u001b[39;49;00m\n",
      "        \u001b[33m\"\u001b[39;49;00m\u001b[33ma,b,res\u001b[39;49;00m\u001b[33m\"\u001b[39;49;00m,\u001b[90m\u001b[39;49;00m\n",
      "        [\u001b[90m\u001b[39;49;00m\n",
      "            (\u001b[94m0\u001b[39;49;00m, \u001b[94m0\u001b[39;49;00m, \u001b[94m0\u001b[39;49;00m),\u001b[90m\u001b[39;49;00m\n",
      "            (\u001b[94m0\u001b[39;49;00m, \u001b[94m42\u001b[39;49;00m, \u001b[94m0\u001b[39;49;00m),\u001b[90m\u001b[39;49;00m\n",
      "            (\u001b[94m42\u001b[39;49;00m, \u001b[94m0\u001b[39;49;00m, \u001b[94m0\u001b[39;49;00m),\u001b[90m\u001b[39;49;00m\n",
      "            (\u001b[94m42\u001b[39;49;00m, \u001b[94m1\u001b[39;49;00m, \u001b[94m42\u001b[39;49;00m),\u001b[90m\u001b[39;49;00m\n",
      "            (\u001b[94m1\u001b[39;49;00m, \u001b[94m42\u001b[39;49;00m, \u001b[94m41\u001b[39;49;00m),\u001b[90m\u001b[39;49;00m\n",
      "            (-\u001b[94m1\u001b[39;49;00m, \u001b[94m42\u001b[39;49;00m, -\u001b[94m42\u001b[39;49;00m),\u001b[90m\u001b[39;49;00m\n",
      "        ]\u001b[90m\u001b[39;49;00m\n",
      "    )\u001b[90m\u001b[39;49;00m\n",
      "    \u001b[94mdef\u001b[39;49;00m \u001b[92mtest_multiply\u001b[39;49;00m(a, b, res):\u001b[90m\u001b[39;49;00m\n",
      ">       \u001b[94mfrom\u001b[39;49;00m \u001b[04m\u001b[96mmyfuncs\u001b[39;49;00m \u001b[94mimport\u001b[39;49;00m multiply\u001b[90m\u001b[39;49;00m\n",
      "\u001b[1m\u001b[31mE       ImportError: cannot import name 'multiply' from 'myfuncs' (/Users/nicolas.gensollen/GitRepos/NOW-2023/notebooks/dummymaths/myfuncs.py)\u001b[0m\n",
      "\n",
      "\u001b[1m\u001b[31mtest_myfuncs.py\u001b[0m:47: ImportError\n",
      "\u001b[31m\u001b[1m____________________________ test_multiply[1-42-41] ____________________________\u001b[0m\n",
      "\n",
      "a = 1, b = 42, res = 41\n",
      "\n",
      "    \u001b[37m@pytest\u001b[39;49;00m.mark.parametrize(\u001b[90m\u001b[39;49;00m\n",
      "        \u001b[33m\"\u001b[39;49;00m\u001b[33ma,b,res\u001b[39;49;00m\u001b[33m\"\u001b[39;49;00m,\u001b[90m\u001b[39;49;00m\n",
      "        [\u001b[90m\u001b[39;49;00m\n",
      "            (\u001b[94m0\u001b[39;49;00m, \u001b[94m0\u001b[39;49;00m, \u001b[94m0\u001b[39;49;00m),\u001b[90m\u001b[39;49;00m\n",
      "            (\u001b[94m0\u001b[39;49;00m, \u001b[94m42\u001b[39;49;00m, \u001b[94m0\u001b[39;49;00m),\u001b[90m\u001b[39;49;00m\n",
      "            (\u001b[94m42\u001b[39;49;00m, \u001b[94m0\u001b[39;49;00m, \u001b[94m0\u001b[39;49;00m),\u001b[90m\u001b[39;49;00m\n",
      "            (\u001b[94m42\u001b[39;49;00m, \u001b[94m1\u001b[39;49;00m, \u001b[94m42\u001b[39;49;00m),\u001b[90m\u001b[39;49;00m\n",
      "            (\u001b[94m1\u001b[39;49;00m, \u001b[94m42\u001b[39;49;00m, \u001b[94m41\u001b[39;49;00m),\u001b[90m\u001b[39;49;00m\n",
      "            (-\u001b[94m1\u001b[39;49;00m, \u001b[94m42\u001b[39;49;00m, -\u001b[94m42\u001b[39;49;00m),\u001b[90m\u001b[39;49;00m\n",
      "        ]\u001b[90m\u001b[39;49;00m\n",
      "    )\u001b[90m\u001b[39;49;00m\n",
      "    \u001b[94mdef\u001b[39;49;00m \u001b[92mtest_multiply\u001b[39;49;00m(a, b, res):\u001b[90m\u001b[39;49;00m\n",
      ">       \u001b[94mfrom\u001b[39;49;00m \u001b[04m\u001b[96mmyfuncs\u001b[39;49;00m \u001b[94mimport\u001b[39;49;00m multiply\u001b[90m\u001b[39;49;00m\n",
      "\u001b[1m\u001b[31mE       ImportError: cannot import name 'multiply' from 'myfuncs' (/Users/nicolas.gensollen/GitRepos/NOW-2023/notebooks/dummymaths/myfuncs.py)\u001b[0m\n",
      "\n",
      "\u001b[1m\u001b[31mtest_myfuncs.py\u001b[0m:47: ImportError\n",
      "\u001b[31m\u001b[1m___________________________ test_multiply[-1-42--42] ___________________________\u001b[0m\n",
      "\n",
      "a = -1, b = 42, res = -42\n",
      "\n",
      "    \u001b[37m@pytest\u001b[39;49;00m.mark.parametrize(\u001b[90m\u001b[39;49;00m\n",
      "        \u001b[33m\"\u001b[39;49;00m\u001b[33ma,b,res\u001b[39;49;00m\u001b[33m\"\u001b[39;49;00m,\u001b[90m\u001b[39;49;00m\n",
      "        [\u001b[90m\u001b[39;49;00m\n",
      "            (\u001b[94m0\u001b[39;49;00m, \u001b[94m0\u001b[39;49;00m, \u001b[94m0\u001b[39;49;00m),\u001b[90m\u001b[39;49;00m\n",
      "            (\u001b[94m0\u001b[39;49;00m, \u001b[94m42\u001b[39;49;00m, \u001b[94m0\u001b[39;49;00m),\u001b[90m\u001b[39;49;00m\n",
      "            (\u001b[94m42\u001b[39;49;00m, \u001b[94m0\u001b[39;49;00m, \u001b[94m0\u001b[39;49;00m),\u001b[90m\u001b[39;49;00m\n",
      "            (\u001b[94m42\u001b[39;49;00m, \u001b[94m1\u001b[39;49;00m, \u001b[94m42\u001b[39;49;00m),\u001b[90m\u001b[39;49;00m\n",
      "            (\u001b[94m1\u001b[39;49;00m, \u001b[94m42\u001b[39;49;00m, \u001b[94m41\u001b[39;49;00m),\u001b[90m\u001b[39;49;00m\n",
      "            (-\u001b[94m1\u001b[39;49;00m, \u001b[94m42\u001b[39;49;00m, -\u001b[94m42\u001b[39;49;00m),\u001b[90m\u001b[39;49;00m\n",
      "        ]\u001b[90m\u001b[39;49;00m\n",
      "    )\u001b[90m\u001b[39;49;00m\n",
      "    \u001b[94mdef\u001b[39;49;00m \u001b[92mtest_multiply\u001b[39;49;00m(a, b, res):\u001b[90m\u001b[39;49;00m\n",
      ">       \u001b[94mfrom\u001b[39;49;00m \u001b[04m\u001b[96mmyfuncs\u001b[39;49;00m \u001b[94mimport\u001b[39;49;00m multiply\u001b[90m\u001b[39;49;00m\n",
      "\u001b[1m\u001b[31mE       ImportError: cannot import name 'multiply' from 'myfuncs' (/Users/nicolas.gensollen/GitRepos/NOW-2023/notebooks/dummymaths/myfuncs.py)\u001b[0m\n",
      "\n",
      "\u001b[1m\u001b[31mtest_myfuncs.py\u001b[0m:47: ImportError\n",
      "\u001b[36m\u001b[1m=========================== short test summary info ============================\u001b[0m\n",
      "\u001b[31mFAILED\u001b[0m test_myfuncs.py::\u001b[1mtest_multiply[0-0-0]\u001b[0m - ImportError: cannot import name 'multiply' from 'myfuncs' (/Users/nicolas.g...\n",
      "\u001b[31mFAILED\u001b[0m test_myfuncs.py::\u001b[1mtest_multiply[0-42-0]\u001b[0m - ImportError: cannot import name 'multiply' from 'myfuncs' (/Users/nicolas.g...\n",
      "\u001b[31mFAILED\u001b[0m test_myfuncs.py::\u001b[1mtest_multiply[42-0-0]\u001b[0m - ImportError: cannot import name 'multiply' from 'myfuncs' (/Users/nicolas.g...\n",
      "\u001b[31mFAILED\u001b[0m test_myfuncs.py::\u001b[1mtest_multiply[42-1-42]\u001b[0m - ImportError: cannot import name 'multiply' from 'myfuncs' (/Users/nicolas.g...\n",
      "\u001b[31mFAILED\u001b[0m test_myfuncs.py::\u001b[1mtest_multiply[1-42-41]\u001b[0m - ImportError: cannot import name 'multiply' from 'myfuncs' (/Users/nicolas.g...\n",
      "\u001b[31mFAILED\u001b[0m test_myfuncs.py::\u001b[1mtest_multiply[-1-42--42]\u001b[0m - ImportError: cannot import name 'multiply' from 'myfuncs' (/Users/nicolas.g...\n",
      "\u001b[31m========================= \u001b[31m\u001b[1m6 failed\u001b[0m, \u001b[32m11 passed\u001b[0m\u001b[31m in 0.11s\u001b[0m\u001b[31m =========================\u001b[0m\n",
      "d4a63b8188b9156e4d5519e1a759731cbbc5afd0 is the first bad commit\n",
      "commit d4a63b8188b9156e4d5519e1a759731cbbc5afd0\n",
      "Author: John Doe <john.doe@inria.fr>\n",
      "Date:   Mon Nov 20 15:56:59 2023 +0100\n",
      "\n",
      "    tests: add test function for multiply\n",
      "\n",
      " test_myfuncs.py | 16 ++++++++++++++++\n",
      " 1 file changed, 16 insertions(+)\n",
      "bisect found first bad commit"
     ]
    }
   ],
   "source": [
    "! git bisect run pytest"
   ]
  },
  {
   "cell_type": "code",
   "execution_count": 107,
   "id": "cb2d6687-bc31-48e9-9a3a-b774ca802b8c",
   "metadata": {},
   "outputs": [
    {
     "name": "stdout",
     "output_type": "stream",
     "text": [
      "Previous HEAD position was d4a63b8 tests: add test function for multiply\n",
      "Switched to branch 'main'\n",
      "Your branch is up to date with 'origin/main'.\n"
     ]
    }
   ],
   "source": [
    "! git bisect reset"
   ]
  },
  {
   "cell_type": "markdown",
   "id": "1d2dab08",
   "metadata": {
    "lines_to_next_cell": 0
   },
   "source": [
    "This command should tell you quite fast what is the first bad commit. Check\n",
    "it's content:"
   ]
  },
  {
   "cell_type": "code",
   "execution_count": 108,
   "id": "f02806c5",
   "metadata": {
    "lines_to_next_cell": 0
   },
   "outputs": [
    {
     "name": "stdout",
     "output_type": "stream",
     "text": [
      "\u001b[33mcommit d4a63b8188b9156e4d5519e1a759731cbbc5afd0\u001b[m\n",
      "Author: John Doe <john.doe@inria.fr>\n",
      "Date:   Mon Nov 20 15:56:59 2023 +0100\n",
      "\n",
      "    tests: add test function for multiply\n",
      "\n",
      "\u001b[1mdiff --git a/test_myfuncs.py b/test_myfuncs.py\u001b[m\n",
      "\u001b[1mindex a63ab90..529df27 100644\u001b[m\n",
      "\u001b[1m--- a/test_myfuncs.py\u001b[m\n",
      "\u001b[1m+++ b/test_myfuncs.py\u001b[m\n",
      "\u001b[36m@@ -31,3 +31,19 @@\u001b[m \u001b[mdef test_sub(a, b, res):\u001b[m\n",
      "     from myfuncs import sub\u001b[m\n",
      " \u001b[m\n",
      "     assert sub(a, b) == res\u001b[m\n",
      "\u001b[32m+\u001b[m\n",
      "\u001b[32m+\u001b[m\u001b[32m@pytest.mark.parametrize(\u001b[m\n",
      "\u001b[32m+\u001b[m\u001b[32m    \"a,b,res\",\u001b[m\n",
      "\u001b[32m+\u001b[m\u001b[32m    [\u001b[m\n",
      "\u001b[32m+\u001b[m\u001b[32m        (0, 0, 0),\u001b[m\n",
      "\u001b[32m+\u001b[m\u001b[32m        (0, 42, 0),\u001b[m\n",
      "\u001b[32m+\u001b[m\u001b[32m        (42, 0, 0),\u001b[m\n",
      "\u001b[32m+\u001b[m\u001b[32m        (42, 1, 42),\u001b[m\n",
      "\u001b[32m+\u001b[m\u001b[32m        (1, 42, 41),\u001b[m\n",
      "\u001b[32m+\u001b[m\u001b[32m        (-1, 42, -42),\u001b[m\n",
      "\u001b[32m+\u001b[m\u001b[32m    ]\u001b[m\n",
      "\u001b[32m+\u001b[m\u001b[32m)\u001b[m\n",
      "\u001b[32m+\u001b[m\u001b[32mdef test_multiply(a, b, res):\u001b[m\n",
      "\u001b[32m+\u001b[m\u001b[32m    from myfuncs import multiply\u001b[m\n",
      "\u001b[32m+\u001b[m\u001b[41m    \u001b[m\n",
      "\u001b[32m+\u001b[m\u001b[32m    assert multiply(a, b) == res\u001b[m\n"
     ]
    }
   ],
   "source": [
    "# Change the hash value to the one in the output of the cell above\n",
    "! git show d4a63b8"
   ]
  },
  {
   "cell_type": "markdown",
   "id": "337c039d",
   "metadata": {
    "lines_to_next_cell": 0
   },
   "source": [
    "Point 5. reveals that the problem comes from one the multiply test case.\n",
    "\n",
    "Let's fix it:"
   ]
  },
  {
   "cell_type": "code",
   "execution_count": 109,
   "id": "6d8246ae-d70d-48c0-ba30-7b17b83e40f5",
   "metadata": {},
   "outputs": [],
   "source": [
    "! sed -i '' -e 's#(1, 42, 41),#(1, 42, 42),#' test_myfuncs.py"
   ]
  },
  {
   "cell_type": "code",
   "execution_count": 110,
   "id": "f8fb0b56-5315-4827-81cd-d327927462ef",
   "metadata": {},
   "outputs": [
    {
     "name": "stdout",
     "output_type": "stream",
     "text": [
      "\u001b[1m============================= test session starts ==============================\u001b[0m\n",
      "platform darwin -- Python 3.10.13, pytest-7.4.3, pluggy-1.3.0 -- /Users/nicolas.gensollen/opt/anaconda3/envs/now/bin/python\n",
      "cachedir: .pytest_cache\n",
      "rootdir: /Users/nicolas.gensollen/GitRepos/NOW-2023/notebooks/dummymaths\n",
      "plugins: anyio-3.5.0\n",
      "collected 30 items                                                             \u001b[0m\n",
      "\n",
      "test_myfuncs.py::test_add[0-0-0] \u001b[32mPASSED\u001b[0m\u001b[32m                                  [  3%]\u001b[0m\n",
      "test_myfuncs.py::test_add[0-42-42] \u001b[32mPASSED\u001b[0m\u001b[32m                                [  6%]\u001b[0m\n",
      "test_myfuncs.py::test_add[42-0-42] \u001b[32mPASSED\u001b[0m\u001b[32m                                [ 10%]\u001b[0m\n",
      "test_myfuncs.py::test_add[42--42-0] \u001b[32mPASSED\u001b[0m\u001b[32m                               [ 13%]\u001b[0m\n",
      "test_myfuncs.py::test_add[-42-42-0] \u001b[32mPASSED\u001b[0m\u001b[32m                               [ 16%]\u001b[0m\n",
      "test_myfuncs.py::test_sub[0-0-0] \u001b[32mPASSED\u001b[0m\u001b[32m                                  [ 20%]\u001b[0m\n",
      "test_myfuncs.py::test_sub[0-42--42] \u001b[32mPASSED\u001b[0m\u001b[32m                               [ 23%]\u001b[0m\n",
      "test_myfuncs.py::test_sub[42-0-42] \u001b[32mPASSED\u001b[0m\u001b[32m                                [ 26%]\u001b[0m\n",
      "test_myfuncs.py::test_sub[42-42-0] \u001b[32mPASSED\u001b[0m\u001b[32m                                [ 30%]\u001b[0m\n",
      "test_myfuncs.py::test_sub[42--42-84] \u001b[32mPASSED\u001b[0m\u001b[32m                              [ 33%]\u001b[0m\n",
      "test_myfuncs.py::test_sub[-42-42--84] \u001b[32mPASSED\u001b[0m\u001b[32m                             [ 36%]\u001b[0m\n",
      "test_myfuncs.py::test_multiply[0-0-0] \u001b[32mPASSED\u001b[0m\u001b[32m                             [ 40%]\u001b[0m\n",
      "test_myfuncs.py::test_multiply[0-42-0] \u001b[32mPASSED\u001b[0m\u001b[32m                            [ 43%]\u001b[0m\n",
      "test_myfuncs.py::test_multiply[42-0-0] \u001b[32mPASSED\u001b[0m\u001b[32m                            [ 46%]\u001b[0m\n",
      "test_myfuncs.py::test_multiply[42-1-42] \u001b[32mPASSED\u001b[0m\u001b[32m                           [ 50%]\u001b[0m\n",
      "test_myfuncs.py::test_multiply[1-42-42] \u001b[32mPASSED\u001b[0m\u001b[32m                           [ 53%]\u001b[0m\n",
      "test_myfuncs.py::test_multiply[-1-42--42] \u001b[32mPASSED\u001b[0m\u001b[32m                         [ 56%]\u001b[0m\n",
      "test_myfuncs.py::test_divide[0-0-None] \u001b[32mPASSED\u001b[0m\u001b[32m                            [ 60%]\u001b[0m\n",
      "test_myfuncs.py::test_divide[0-42-0] \u001b[32mPASSED\u001b[0m\u001b[32m                              [ 63%]\u001b[0m\n",
      "test_myfuncs.py::test_divide[42-0-None] \u001b[32mPASSED\u001b[0m\u001b[32m                           [ 66%]\u001b[0m\n",
      "test_myfuncs.py::test_divide[42-1-42] \u001b[32mPASSED\u001b[0m\u001b[32m                             [ 70%]\u001b[0m\n",
      "test_myfuncs.py::test_divide[1-2-0.5] \u001b[32mPASSED\u001b[0m\u001b[32m                             [ 73%]\u001b[0m\n",
      "test_myfuncs.py::test_divide[-1-2--0.5] \u001b[32mPASSED\u001b[0m\u001b[32m                           [ 76%]\u001b[0m\n",
      "test_myfuncs.py::test_power[0-0-1] \u001b[32mPASSED\u001b[0m\u001b[32m                                [ 80%]\u001b[0m\n",
      "test_myfuncs.py::test_power[0-2-0] \u001b[32mPASSED\u001b[0m\u001b[32m                                [ 83%]\u001b[0m\n",
      "test_myfuncs.py::test_power[1-2-1] \u001b[32mPASSED\u001b[0m\u001b[32m                                [ 86%]\u001b[0m\n",
      "test_myfuncs.py::test_power[2-0-1] \u001b[32mPASSED\u001b[0m\u001b[32m                                [ 90%]\u001b[0m\n",
      "test_myfuncs.py::test_power[2-1-2] \u001b[32mPASSED\u001b[0m\u001b[32m                                [ 93%]\u001b[0m\n",
      "test_myfuncs.py::test_power[2-2-4] \u001b[32mPASSED\u001b[0m\u001b[32m                                [ 96%]\u001b[0m\n",
      "test_myfuncs.py::test_power[2--1-0.5] \u001b[32mPASSED\u001b[0m\u001b[32m                             [100%]\u001b[0m\n",
      "\n",
      "\u001b[32m============================== \u001b[32m\u001b[1m30 passed\u001b[0m\u001b[32m in 0.03s\u001b[0m\u001b[32m ==============================\u001b[0m\n"
     ]
    }
   ],
   "source": [
    "! pytest -v"
   ]
  },
  {
   "cell_type": "markdown",
   "id": "ca57ad0d",
   "metadata": {
    "lines_to_next_cell": 0
   },
   "source": [
    "Commit your changes and push the `main` branch:"
   ]
  },
  {
   "cell_type": "code",
   "execution_count": 111,
   "id": "fd18584b",
   "metadata": {
    "lines_to_next_cell": 2
   },
   "outputs": [
    {
     "name": "stdout",
     "output_type": "stream",
     "text": [
      "[main 1d517cd] tests: fix multiply test case\n",
      " 1 file changed, 1 insertion(+), 1 deletion(-)\n",
      "Enumerating objects: 5, done.\n",
      "Counting objects: 100% (5/5), done.\n",
      "Delta compression using up to 8 threads\n",
      "Compressing objects: 100% (3/3), done.\n",
      "Writing objects: 100% (3/3), 298 bytes | 298.00 KiB/s, done.\n",
      "Total 3 (delta 2), reused 0 (delta 0), pack-reused 0\n",
      "To ../dummymaths_remote\n",
      "   4bbb25d..1d517cd  main -> main\n"
     ]
    }
   ],
   "source": [
    "! git add test_myfuncs.py\n",
    "! git commit -am \"tests: fix multiply test case\"\n",
    "! git push origin main"
   ]
  },
  {
   "cell_type": "markdown",
   "id": "ae7ef5f9-ef71-4554-b7c0-c364b9d6fbf6",
   "metadata": {},
   "source": [
    "Cleaning:"
   ]
  },
  {
   "cell_type": "code",
   "execution_count": 112,
   "id": "7a9b581e-ee43-4f51-96e3-0e33d8f464da",
   "metadata": {},
   "outputs": [
    {
     "name": "stdout",
     "output_type": "stream",
     "text": [
      "/Users/nicolas.gensollen/GitRepos/NOW-2023/notebooks\n"
     ]
    }
   ],
   "source": [
    "# Cleaning...\n",
    "%cd ..\n",
    "! rm -rf dummymaths_remote/ dummymaths/ git-tutorial/"
   ]
  },
  {
   "cell_type": "code",
   "execution_count": null,
   "id": "9e3ca934-9413-45b3-bf95-e277218e94f5",
   "metadata": {},
   "outputs": [],
   "source": []
  }
 ],
 "metadata": {
  "kernelspec": {
   "display_name": "Python 3 (ipykernel)",
   "language": "python",
   "name": "python3"
  },
  "language_info": {
   "codemirror_mode": {
    "name": "ipython",
    "version": 3
   },
   "file_extension": ".py",
   "mimetype": "text/x-python",
   "name": "python",
   "nbconvert_exporter": "python",
   "pygments_lexer": "ipython3",
   "version": "3.10.13"
  }
 },
 "nbformat": 4,
 "nbformat_minor": 5
}
