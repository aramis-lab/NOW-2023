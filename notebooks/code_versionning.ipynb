{
 "cells": [
  {
   "cell_type": "markdown",
   "id": "a7de0a28",
   "metadata": {
    "lines_to_next_cell": 0
   },
   "source": [
    "# Chapter 2 : Code versioning using Git\n",
    "\n",
    "In this chapter, we will install Git and take a look at how it works and how to version code.\n",
    "# Getting started\n",
    "First you will start a small Python project"
   ]
  },
  {
   "cell_type": "markdown",
   "id": "385cba28",
   "metadata": {
    "lines_to_next_cell": 0
   },
   "source": [
    "## Initialize the project"
   ]
  },
  {
   "cell_type": "markdown",
   "id": "5f04f005",
   "metadata": {
    "lines_to_next_cell": 0
   },
   "source": [
    "Create a directory `dummymaths`:"
   ]
  },
  {
   "cell_type": "code",
   "execution_count": null,
   "id": "2d5389ce",
   "metadata": {
    "lines_to_next_cell": 0
   },
   "outputs": [],
   "source": [
    "!mkdir dummymaths\n",
    "%cd dummymaths"
   ]
  },
  {
   "cell_type": "markdown",
   "id": "4fe50d2c",
   "metadata": {
    "lines_to_next_cell": 0
   },
   "source": [
    "Initialize a Git local repository in the `dummymaths` directory:"
   ]
  },
  {
   "cell_type": "code",
   "execution_count": null,
   "id": "e424dcd2",
   "metadata": {},
   "outputs": [],
   "source": [
    "!git init"
   ]
  },
  {
   "cell_type": "code",
   "execution_count": null,
   "id": "f8048d68",
   "metadata": {
    "lines_to_next_cell": 0,
    "title": "[mardown]"
   },
   "outputs": [],
   "source": [
    "# Configure your git account using simple configuration files\n",
    "# 3 levels:\n",
    "#   * __local__ : `<local copy>/.git/config`, by default\n",
    "#   * __global__ : `~/.gitconfig`, option `--global`\n",
    "#   * __system__ : `/etc/gitconfig`, option `--system`\n",
    "\n",
    "# Either edit the files directly, or use `git config` command"
   ]
  },
  {
   "cell_type": "code",
   "execution_count": null,
   "id": "1b0548c4",
   "metadata": {
    "lines_to_next_cell": 0
   },
   "outputs": [],
   "source": [
    "!git help config\n",
    "!git config --global user.name \"First Last\"\n",
    "!git config --global user.email your.email@organisation.com"
   ]
  },
  {
   "cell_type": "markdown",
   "id": "8b492251",
   "metadata": {
    "lines_to_next_cell": 0
   },
   "source": [
    "Add a `README.md` file and then check the state of your local copy:\n",
    "vérifiez l'état de votre copie locale:"
   ]
  },
  {
   "cell_type": "code",
   "execution_count": null,
   "id": "1c187fe9",
   "metadata": {
    "lines_to_next_cell": 0
   },
   "outputs": [],
   "source": [
    "!echo \"This is the README file\" > README.md\n",
    "!git status"
   ]
  },
  {
   "cell_type": "markdown",
   "id": "2c7389c0",
   "metadata": {
    "lines_to_next_cell": 0
   },
   "source": [
    "Add the README.md file to the staging area and check again the state of your local copy:"
   ]
  },
  {
   "cell_type": "code",
   "execution_count": null,
   "id": "4874f375",
   "metadata": {
    "lines_to_next_cell": 0
   },
   "outputs": [],
   "source": [
    "!git add README.md\n",
    "!git status"
   ]
  },
  {
   "cell_type": "markdown",
   "id": "0c83f9b1",
   "metadata": {
    "lines_to_next_cell": 0
   },
   "source": [
    "Edit the `README.md` file (for example, add a title, a short description of this small \n",
    "Python project), save and check again the state of your local copy. You should have changes \n",
    "both in the staging area and in the working directory (local changes). Display the changes, \n",
    "first in the staging area and then the local changes:"
   ]
  },
  {
   "cell_type": "code",
   "execution_count": null,
   "id": "59529e27",
   "metadata": {},
   "outputs": [],
   "source": [
    "!echo \"This is the new README file\" > README.md"
   ]
  },
  {
   "cell_type": "code",
   "execution_count": null,
   "id": "94f2ec61",
   "metadata": {
    "lines_to_next_cell": 0
   },
   "outputs": [],
   "source": [
    "!git diff --staged\n",
    "!git diff"
   ]
  },
  {
   "cell_type": "markdown",
   "id": "8d2d42f2",
   "metadata": {
    "lines_to_next_cell": 0
   },
   "source": [
    "Commit all changes in the `README.md` file (both in staging and local) and check one last time the state of the local copy:"
   ]
  },
  {
   "cell_type": "code",
   "execution_count": null,
   "id": "c6893d86",
   "metadata": {
    "lines_to_next_cell": 0
   },
   "outputs": [],
   "source": [
    "!git add README.md # staging\n",
    "!git commit -m \"initial commit\" # local\n",
    "!git status"
   ]
  },
  {
   "cell_type": "markdown",
   "id": "7ceb2c39",
   "metadata": {
    "lines_to_next_cell": 0
   },
   "source": [
    "## Add a python file to the project\n",
    "Add the file `myfuncs.py` with the following content:"
   ]
  },
  {
   "cell_type": "code",
   "execution_count": null,
   "id": "3c84e5d2",
   "metadata": {},
   "outputs": [],
   "source": [
    "%%writefile myfuncs.py\n",
    "\n",
    "\"\"\"Some useless mathematical utility functions.\"\"\"\n",
    "\n",
    "def add(a, b):\n",
    "    \"\"\"Return the sum of a and b.\"\"\"\n",
    "    return a + b\n",
    "\n",
    "def sub(a, b):\n",
    "    \"\"\"Substract b from a.\"\"\"\n",
    "    return a - b"
   ]
  },
  {
   "cell_type": "markdown",
   "id": "8e5f67fe",
   "metadata": {
    "lines_to_next_cell": 0
   },
   "source": [
    "Commit this file:"
   ]
  },
  {
   "cell_type": "code",
   "execution_count": null,
   "id": "c8b8b923",
   "metadata": {
    "lines_to_next_cell": 0
   },
   "outputs": [],
   "source": [
    "!git add myfuncs.py\n",
    "!git commit -m \"initial version of myfuncs.py\""
   ]
  },
  {
   "cell_type": "markdown",
   "id": "9ddce934",
   "metadata": {
    "lines_to_next_cell": 0
   },
   "source": [
    "## Add a testing file with pytest\n",
    "Add the file `test_myfuncs.py` with the following content:"
   ]
  },
  {
   "cell_type": "code",
   "execution_count": null,
   "id": "a2a889c2",
   "metadata": {
    "lines_to_next_cell": 0
   },
   "outputs": [],
   "source": [
    "%%writefile test_myfuncs.py\n",
    "import pytest\n",
    "from myfuncs import add\n",
    "\n",
    "@pytest.mark.parametrize(\n",
    "    \"a,b,res\",\n",
    "    [\n",
    "        (0, 0, 0),\n",
    "        (0, 42, 42),\n",
    "        (42, 0, 42),\n",
    "        (42, -42, 0),\n",
    "        (-42, 42, 0),\n",
    "    ]\n",
    ")\n",
    "def test_add(a, b, res):\n",
    "    assert add(a, b) == res"
   ]
  },
  {
   "cell_type": "markdown",
   "id": "17568205",
   "metadata": {
    "lines_to_next_cell": 0
   },
   "source": [
    "Use `pytest` (install it using `pip install pytest`) to run the tests, verify \n",
    "that they pass and then commit `test_myfuncs.py` (and only this one!):"
   ]
  },
  {
   "cell_type": "code",
   "execution_count": null,
   "id": "93965d68",
   "metadata": {
    "lines_to_next_cell": 0
   },
   "outputs": [],
   "source": [
    "!pip install pytest\n",
    "!pytest test_myfuncs.py"
   ]
  },
  {
   "cell_type": "code",
   "execution_count": null,
   "id": "28d97e43",
   "metadata": {
    "lines_to_next_cell": 0
   },
   "outputs": [],
   "source": [
    "!pytest -v\n",
    "!git add test_myfuncs.py \n",
    "!git commit -m \"tests: add test function for add\""
   ]
  },
  {
   "cell_type": "markdown",
   "id": "65a73a31",
   "metadata": {
    "lines_to_next_cell": 0
   },
   "source": [
    "\n",
    "# IV. Ignore generated files\n",
    "At this stage, they are Python bytecode generated files displayed when running `git status`. \n",
    "And we don't want to commit them inadvertently: this is the purpose of the `.gitignore` file.\n",
    "Add the `.gitignore` to the base directory of your working copy with the following content:"
   ]
  },
  {
   "cell_type": "code",
   "execution_count": null,
   "id": "102e4f45",
   "metadata": {
    "lines_to_next_cell": 0
   },
   "outputs": [],
   "source": [
    "!echo \"*pyc\" > .gitignore"
   ]
  },
  {
   "cell_type": "markdown",
   "id": "3cf20d28",
   "metadata": {
    "lines_to_next_cell": 0
   },
   "source": [
    "Check that bytecode generated files are not listed anymore when running `git status`."
   ]
  },
  {
   "cell_type": "code",
   "execution_count": null,
   "id": "3400f84e",
   "metadata": {},
   "outputs": [],
   "source": [
    "!git status"
   ]
  },
  {
   "cell_type": "markdown",
   "id": "99a86e3a",
   "metadata": {
    "lines_to_next_cell": 0
   },
   "source": [
    "Commit the `.gitignore` file:"
   ]
  },
  {
   "cell_type": "code",
   "execution_count": null,
   "id": "82b0091a",
   "metadata": {},
   "outputs": [],
   "source": [
    "!git add .gitignore\n",
    "!git commit -m \"ignore Python generated files\""
   ]
  },
  {
   "cell_type": "markdown",
   "id": "c073bcb2",
   "metadata": {},
   "source": [
    "# Manage the changes\n",
    "Let's continue with the `dummymaths` Python project and check the history of changes there.\n",
    "1. Display the history of changes already committed, using `git log`:\n",
    "  * Only the last 2 changes with `-2` flag along with their corresponding differences using `-p` flag\n",
    "  * Display the commit information with the format `<small hash> - <message> - <date> - <email>` (check the help of log)\n",
    "2. Let's extend the tests in `test_myfuncs.py` with a test for the `sub` function, e.g with the following content:"
   ]
  },
  {
   "cell_type": "code",
   "execution_count": null,
   "id": "06fa7df2",
   "metadata": {
    "lines_to_next_cell": 0
   },
   "outputs": [],
   "source": [
    "from google.colab import files\n",
    "files.view('test_myfuncs.py')"
   ]
  },
  {
   "cell_type": "markdown",
   "id": "28f2743c",
   "metadata": {},
   "source": [
    "Add this import line in the test_myfuncs.py file.\n",
    "```python\n",
    "from myfuncs import add, sub\n",
    "\n",
    "[...]\n",
    "\n",
    "# Add this function at the end of the file\n",
    "@pytest.mark.parametrize(\n",
    "    \"a,b,res\",\n",
    "    [\n",
    "        (0, 0, 0),\n",
    "        (0, 42, -42),\n",
    "        (42, 0, 42),\n",
    "        (42, 42, 0),\n",
    "        (42, -42, 84),\n",
    "        (-42, 42, -84),\n",
    "    ]\n",
    ")\n",
    "def test_sub(a, b, res):\n",
    "    assert sub(a, b) == res\n",
    "```"
   ]
  },
  {
   "cell_type": "markdown",
   "id": "88b93b7f",
   "metadata": {
    "lines_to_next_cell": 0
   },
   "source": [
    "Once applied, add them to the staging area:"
   ]
  },
  {
   "cell_type": "code",
   "execution_count": null,
   "id": "cd195b8f",
   "metadata": {},
   "outputs": [],
   "source": [
    "!git add test_myfuncs.py"
   ]
  },
  {
   "cell_type": "markdown",
   "id": "09c2a370",
   "metadata": {
    "lines_to_next_cell": 0
   },
   "source": [
    "Check the state of your local copy with `git status`: there's something in the staging area and nothing in the local changes."
   ]
  },
  {
   "cell_type": "code",
   "execution_count": null,
   "id": "0d604a1d",
   "metadata": {},
   "outputs": [],
   "source": [
    "!git status\n",
    "!git diff  # This command should return nothing"
   ]
  },
  {
   "cell_type": "markdown",
   "id": "59946281",
   "metadata": {
    "lines_to_next_cell": 0
   },
   "source": [
    "Verify that the changes added in the staging are the ones expected:"
   ]
  },
  {
   "cell_type": "code",
   "execution_count": null,
   "id": "ee056a55",
   "metadata": {
    "lines_to_next_cell": 0
   },
   "outputs": [],
   "source": [
    "!git diff --staged"
   ]
  },
  {
   "cell_type": "markdown",
   "id": "6216c79f",
   "metadata": {
    "lines_to_next_cell": 0
   },
   "source": [
    "Remove the changes from the staging area:"
   ]
  },
  {
   "cell_type": "code",
   "execution_count": null,
   "id": "4a72b766",
   "metadata": {
    "lines_to_next_cell": 0
   },
   "outputs": [],
   "source": [
    "!git reset"
   ]
  },
  {
   "cell_type": "markdown",
   "id": "2a7f5f7b",
   "metadata": {
    "lines_to_next_cell": 0
   },
   "source": [
    "Check the modifications are still there, in the local changes:"
   ]
  },
  {
   "cell_type": "code",
   "execution_count": null,
   "id": "786257d3",
   "metadata": {
    "lines_to_next_cell": 0
   },
   "outputs": [],
   "source": [
    "!git status\n",
    "!git diff"
   ]
  },
  {
   "cell_type": "markdown",
   "id": "5104f06a",
   "metadata": {
    "lines_to_next_cell": 0
   },
   "source": [
    "Repeat 4. and 5. but this time completely revert the changes added to the staging area (`git reset --hard`)"
   ]
  },
  {
   "cell_type": "markdown",
   "id": "290bebbc",
   "metadata": {
    "lines_to_next_cell": 0
   },
   "source": [
    "Apply one last time the changes above to the `test_myfuncs.py` file and commit them:"
   ]
  },
  {
   "cell_type": "code",
   "execution_count": null,
   "id": "b6f6fcd6",
   "metadata": {
    "lines_to_next_cell": 0
   },
   "outputs": [],
   "source": [
    "from google.colab import files\n",
    "files.view('test_myfuncs.py')"
   ]
  },
  {
   "cell_type": "code",
   "execution_count": null,
   "id": "adc32135",
   "metadata": {
    "lines_to_next_cell": 0
   },
   "outputs": [],
   "source": [
    "!git add test_myfuncs.py\n",
    "!git commit -m \"add test function for sub\""
   ]
  },
  {
   "cell_type": "markdown",
   "id": "779760ed",
   "metadata": {
    "lines_to_next_cell": 0
   },
   "source": [
    "Check the diff contained in this last commit:"
   ]
  },
  {
   "cell_type": "code",
   "execution_count": null,
   "id": "ab4aece1",
   "metadata": {},
   "outputs": [],
   "source": [
    "!git log -1 -p"
   ]
  },
  {
   "cell_type": "markdown",
   "id": "edc68cd2",
   "metadata": {},
   "source": [
    "# Working with remote repositories"
   ]
  },
  {
   "cell_type": "markdown",
   "id": "a4416d9f",
   "metadata": {
    "lines_to_next_cell": 0
   },
   "source": [
    "Some preliminary checks:\n",
    "In your local working copy, check that no remote repository is already configured:"
   ]
  },
  {
   "cell_type": "code",
   "execution_count": null,
   "id": "d57079e4",
   "metadata": {
    "lines_to_next_cell": 0
   },
   "outputs": [],
   "source": [
    "!git remote"
   ]
  },
  {
   "cell_type": "markdown",
   "id": "46f25d82",
   "metadata": {
    "lines_to_next_cell": 0
   },
   "source": [
    "Move to another directory, out of the `dummymaths` one, and initialize there a bare repository. We will use it as a remote repository for `dummymaths`"
   ]
  },
  {
   "cell_type": "code",
   "execution_count": null,
   "id": "6f074f87",
   "metadata": {
    "lines_to_next_cell": 0
   },
   "outputs": [],
   "source": [
    "%cd ..\n",
    "!mkdir dummymaths_remote\n",
    "%cd dummymaths_remote\n",
    "!git init --bare"
   ]
  },
  {
   "cell_type": "markdown",
   "id": "8da4d60d",
   "metadata": {
    "lines_to_next_cell": 0
   },
   "source": [
    "Move back to the `dummymaths` directory, that contains your initial git working copy and from there add the newly created remote repository. The url of this repository is just a path in your filesystem:"
   ]
  },
  {
   "cell_type": "code",
   "execution_count": null,
   "id": "d6d213a2",
   "metadata": {
    "lines_to_next_cell": 0
   },
   "outputs": [],
   "source": [
    "%cd ../dummymaths\n",
    "!git remote add origin ../dummymaths_remote"
   ]
  },
  {
   "cell_type": "markdown",
   "id": "9eb8eaea",
   "metadata": {
    "lines_to_next_cell": 0
   },
   "source": [
    " Push your `main` branch and enable upstream tracking in the meantime:"
   ]
  },
  {
   "cell_type": "code",
   "execution_count": null,
   "id": "a2264619",
   "metadata": {
    "lines_to_next_cell": 0
   },
   "outputs": [],
   "source": [
    "!git push origin main -u"
   ]
  },
  {
   "cell_type": "markdown",
   "id": "4bc42448",
   "metadata": {
    "lines_to_next_cell": 0
   },
   "source": [
    "Check that the `main` branch is now referenced on the remote repository:"
   ]
  },
  {
   "cell_type": "code",
   "execution_count": null,
   "id": "dec6b79b",
   "metadata": {
    "lines_to_next_cell": 0
   },
   "outputs": [],
   "source": [
    "!git remote show origin"
   ]
  },
  {
   "cell_type": "markdown",
   "id": "a9ff7d78",
   "metadata": {
    "lines_to_next_cell": 0
   },
   "source": [
    "In another directory, clone the repository of the source code of the tutorial that is hosted on gitlab:"
   ]
  },
  {
   "cell_type": "code",
   "execution_count": null,
   "id": "6db16477",
   "metadata": {
    "lines_to_next_cell": 0
   },
   "outputs": [],
   "source": [
    "%cd ..\n",
    "!git clone https://gitlab.inria.fr/git-tutorial/git-tutorial.git"
   ]
  },
  {
   "cell_type": "markdown",
   "id": "9e0e62e2",
   "metadata": {
    "lines_to_next_cell": 0
   },
   "source": [
    "You can check the status of your local copy and the information about the remote repository:"
   ]
  },
  {
   "cell_type": "code",
   "execution_count": null,
   "id": "223cdb26",
   "metadata": {},
   "outputs": [],
   "source": [
    "%cd git-tutorial\n",
    "!git status\n",
    "!git remote -v"
   ]
  },
  {
   "cell_type": "markdown",
   "id": "50649f12",
   "metadata": {},
   "source": [
    "Manipulating branches"
   ]
  },
  {
   "cell_type": "markdown",
   "id": "553ed489",
   "metadata": {
    "lines_to_next_cell": 0
   },
   "source": [
    "Move back to the `dummymaths` directory and list your local and remote branches:"
   ]
  },
  {
   "cell_type": "code",
   "execution_count": null,
   "id": "728a6dc3",
   "metadata": {
    "lines_to_next_cell": 0
   },
   "outputs": [],
   "source": [
    "%cd ../dummymaths\n",
    "!git branch\n",
    "!git branch -a"
   ]
  },
  {
   "cell_type": "markdown",
   "id": "8799b054",
   "metadata": {
    "lines_to_next_cell": 0
   },
   "source": [
    "Create a branch called `multiply` and list the branches again:"
   ]
  },
  {
   "cell_type": "code",
   "execution_count": null,
   "id": "d725c6df",
   "metadata": {
    "lines_to_next_cell": 0
   },
   "outputs": [],
   "source": [
    "!git branch multiply\n",
    "!git branch"
   ]
  },
  {
   "cell_type": "markdown",
   "id": "b84b4a82",
   "metadata": {
    "lines_to_next_cell": 0
   },
   "source": [
    "Current branch is still `main` but there's a new `multiply` branch. Also note\n",
    "how immediate it is to create a new branch."
   ]
  },
  {
   "cell_type": "markdown",
   "id": "b47b1691",
   "metadata": {
    "lines_to_next_cell": 0
   },
   "source": [
    "Switch to the `multiply` branch and list the local branches again:"
   ]
  },
  {
   "cell_type": "code",
   "execution_count": null,
   "id": "b4b1804b",
   "metadata": {
    "lines_to_next_cell": 0
   },
   "outputs": [],
   "source": [
    "!git checkout multiply\n",
    "!git branch"
   ]
  },
  {
   "cell_type": "markdown",
   "id": "4ca482b5",
   "metadata": {
    "lines_to_next_cell": 0
   },
   "source": [
    "Now let's display the history of commits on both branches:"
   ]
  },
  {
   "cell_type": "code",
   "execution_count": null,
   "id": "ba01f6f6",
   "metadata": {
    "lines_to_next_cell": 0
   },
   "outputs": [],
   "source": [
    "!git log --decorate --graph --oneline --all"
   ]
  },
  {
   "cell_type": "markdown",
   "id": "7e724fb0",
   "metadata": {
    "lines_to_next_cell": 0
   },
   "source": [
    "You can also try with a graphical tool, such as `gitk` using `gitk --all`"
   ]
  },
  {
   "cell_type": "markdown",
   "id": "c4f39663",
   "metadata": {
    "lines_to_next_cell": 0
   },
   "source": [
    "Let's add a new multiply function to the `myfuncs.py` module:"
   ]
  },
  {
   "cell_type": "code",
   "execution_count": null,
   "id": "a3a563cb",
   "metadata": {
    "lines_to_next_cell": 0
   },
   "outputs": [],
   "source": [
    "files.view('myfuncs.py')"
   ]
  },
  {
   "cell_type": "markdown",
   "id": "381d6649",
   "metadata": {
    "lines_to_next_cell": 0
   },
   "source": [
    "```python\n",
    "multiply(a, b):\n",
    "\"\"\"Multiply a by b.\"\"\"\n",
    "  return a * b\n",
    "```"
   ]
  },
  {
   "cell_type": "markdown",
   "id": "a55b8c49",
   "metadata": {
    "lines_to_next_cell": 0
   },
   "source": [
    "Commit the changes above, they should end up in the `multiply` branch, and\n",
    "display the history of changes, like before:"
   ]
  },
  {
   "cell_type": "code",
   "execution_count": null,
   "id": "66f94c48",
   "metadata": {
    "lines_to_next_cell": 0
   },
   "outputs": [],
   "source": [
    "!git commit -am \"myfuncs: add the multiply function\"\n",
    "!git log --decorate --graph --oneline --all"
   ]
  },
  {
   "cell_type": "markdown",
   "id": "d4d225c7",
   "metadata": {
    "lines_to_next_cell": 0
   },
   "source": [
    "The `multiply` branch is now one commit ahead of `main`."
   ]
  },
  {
   "cell_type": "markdown",
   "id": "245ac6da",
   "metadata": {},
   "source": [
    "Now switch back to the `main` branch, and add the following test function to `test_myfuncs.py`:"
   ]
  },
  {
   "cell_type": "code",
   "execution_count": null,
   "id": "2a220254",
   "metadata": {
    "lines_to_next_cell": 0
   },
   "outputs": [],
   "source": [
    "!git checkout main\n",
    "files.view('test_myfuncs.py')"
   ]
  },
  {
   "cell_type": "code",
   "execution_count": null,
   "id": "541f39dc",
   "metadata": {
    "lines_to_next_cell": 0
   },
   "outputs": [],
   "source": [
    "#   # Add this import line\n",
    "#```python\n",
    "# from myfuncs import multiply\n",
    "\n",
    "# @pytest.mark.parametrize(\n",
    "#     \"a,b,res\",\n",
    "#     [\n",
    "#         (0, 0, 0),\n",
    "#         (0, 42, 0),\n",
    "#         (42, 0, 0),\n",
    "#         (42, 1, 42),\n",
    "#         (1, 42, 41),\n",
    "#         (-1, 42, -42),\n",
    "#     ]\n",
    "# )\n",
    "# def test_multiply(a, b, res):\n",
    "#     assert multiply(a, b) == res\n",
    "# ```"
   ]
  },
  {
   "cell_type": "markdown",
   "id": "c8986720",
   "metadata": {
    "lines_to_next_cell": 0
   },
   "source": [
    "Finally, commit the changes above and display the branch history:"
   ]
  },
  {
   "cell_type": "code",
   "execution_count": null,
   "id": "5c6729a8",
   "metadata": {},
   "outputs": [],
   "source": [
    "!git commit -am \"tests: add test function for multiply\"\n",
    "!git log --decorate --graph --oneline --all"
   ]
  },
  {
   "cell_type": "markdown",
   "id": "9a12febe",
   "metadata": {},
   "source": [
    "The branches are diverging\n",
    "Let's see how to merge them and to fix potential conflicts."
   ]
  },
  {
   "cell_type": "markdown",
   "id": "fea486f6",
   "metadata": {},
   "source": [
    "# Merging branches\n",
    "\n",
    "Back to the `dummymaths` Python project, let's create several branches and\n",
    "merge them in the `main` branch. For this, we'll imagine a (non-realistic)\n",
    "scenario to write a function implementing division along with a test function.\n",
    "\n",
    "## The fast-forward merge"
   ]
  },
  {
   "cell_type": "markdown",
   "id": "279247a9",
   "metadata": {
    "lines_to_next_cell": 0
   },
   "source": [
    "Let's create the `divide`and the `todo` branches from `main`, which is your current branch:"
   ]
  },
  {
   "cell_type": "code",
   "execution_count": null,
   "id": "6fc54c73",
   "metadata": {
    "lines_to_next_cell": 0
   },
   "outputs": [],
   "source": [
    "!git branch divide\n",
    "!git checkout -b todo\n",
    "!git status"
   ]
  },
  {
   "cell_type": "markdown",
   "id": "0aae0411",
   "metadata": {
    "lines_to_next_cell": 0
   },
   "source": [
    "You are now on the `todo` branch. Edit the README.md file and add the following content at the end:"
   ]
  },
  {
   "cell_type": "code",
   "execution_count": null,
   "id": "a7bd1d1f",
   "metadata": {
    "lines_to_next_cell": 0
   },
   "outputs": [],
   "source": [
    "# ## TODO\n",
    "# Add _divide_ function"
   ]
  },
  {
   "cell_type": "markdown",
   "id": "8169b607",
   "metadata": {
    "lines_to_next_cell": 0
   },
   "source": [
    "Commit the change above:"
   ]
  },
  {
   "cell_type": "code",
   "execution_count": null,
   "id": "42e000d2",
   "metadata": {
    "lines_to_next_cell": 0
   },
   "outputs": [],
   "source": [
    "!git commit -am \"README.md: bootstrap todo section with a divide function item\"\n",
    "!git status\n",
    "!git log --decorate --graph --oneline --all"
   ]
  },
  {
   "cell_type": "markdown",
   "id": "37713c28",
   "metadata": {
    "lines_to_next_cell": 0
   },
   "source": [
    "The `todo` is now one commit ahead of `main`"
   ]
  },
  {
   "cell_type": "markdown",
   "id": "4e50bc93",
   "metadata": {
    "lines_to_next_cell": 0
   },
   "source": [
    "Switch back to `main` and merge `todo` in main:"
   ]
  },
  {
   "cell_type": "code",
   "execution_count": null,
   "id": "f9a0fdfd",
   "metadata": {
    "lines_to_next_cell": 0
   },
   "outputs": [],
   "source": [
    "!git checkout main\n",
    "!git merge todo"
   ]
  },
  {
   "cell_type": "markdown",
   "id": "0f9586bb",
   "metadata": {
    "lines_to_next_cell": 0
   },
   "source": [
    "Git will just \"fast-forward `main` to `todo`"
   ]
  },
  {
   "cell_type": "code",
   "execution_count": null,
   "id": "791e922c",
   "metadata": {
    "lines_to_next_cell": 0
   },
   "outputs": [],
   "source": [
    "!git log --decorate --graph --oneline --all"
   ]
  },
  {
   "cell_type": "markdown",
   "id": "5d3bf472",
   "metadata": {
    "lines_to_next_cell": 0
   },
   "source": [
    "As good citizens, now that the `todo` branch is not needed anymore, let's remove \n",
    "it:"
   ]
  },
  {
   "cell_type": "code",
   "execution_count": null,
   "id": "b255c585",
   "metadata": {
    "lines_to_next_cell": 0
   },
   "outputs": [],
   "source": [
    "!git branch -d todo\n",
    "!git log --decorate --graph --oneline --all"
   ]
  },
  {
   "cell_type": "markdown",
   "id": "39a1fb71",
   "metadata": {
    "lines_to_next_cell": 0
   },
   "source": [
    "## The merge commit case\n",
    "\n",
    "At the end of the `04-branches` exercise, the `multiply` and `main` branches\n",
    "were diverging. Normally the changes introduced in `multiply` are separate\n",
    "enough from the changes added to main and merging `multiply` in `main `should\n",
    "not conflict.\n",
    "Merge the `multiply` branch into `main`:"
   ]
  },
  {
   "cell_type": "code",
   "execution_count": null,
   "id": "3c965253",
   "metadata": {
    "lines_to_next_cell": 0
   },
   "outputs": [],
   "source": [
    "!git merge multiply\n",
    "!git log --decorate --graph --oneline --all"
   ]
  },
  {
   "cell_type": "markdown",
   "id": "e945eff9",
   "metadata": {
    "lines_to_next_cell": 0
   },
   "source": [
    "The merge command created a merge commit.\n",
    "\n",
    "## The conflict!\n",
    "\n",
    "Now let's trigger a conflict on purpose by finally switching to the `divide` branch:"
   ]
  },
  {
   "cell_type": "code",
   "execution_count": null,
   "id": "f4768239",
   "metadata": {
    "lines_to_next_cell": 0
   },
   "outputs": [],
   "source": [
    "!git checkout divide"
   ]
  },
  {
   "cell_type": "markdown",
   "id": "ef3011a7",
   "metadata": {
    "lines_to_next_cell": 0
   },
   "source": [
    "Add the missing `divide` function to the `myfuncs.py` module:\n",
    "```python\n",
    "  def divide(a, b):\n",
    "      \"\"\"Divide a by b.\"\"\"\n",
    "      try:\n",
    "          return a / b\n",
    "      except ZeroDivisionError:\n",
    "          return None\n",
    "``` "
   ]
  },
  {
   "cell_type": "code",
   "execution_count": null,
   "id": "005aa3db",
   "metadata": {},
   "outputs": [],
   "source": [
    "files.view('myfuncs.py')"
   ]
  },
  {
   "cell_type": "markdown",
   "id": "826aefaa",
   "metadata": {
    "lines_to_next_cell": 0
   },
   "source": [
    "commit that change:"
   ]
  },
  {
   "cell_type": "code",
   "execution_count": null,
   "id": "efc48f79",
   "metadata": {
    "lines_to_next_cell": 0
   },
   "outputs": [],
   "source": [
    "!git commit -am \"myfuncs: add divide function\""
   ]
  },
  {
   "cell_type": "markdown",
   "id": "8033ff58",
   "metadata": {
    "lines_to_next_cell": 0
   },
   "source": [
    "Add the related test function to the `test_myfuncs.py` module:\n",
    "Add this import line\n",
    "```python\n",
    "  from myfuncs import divide\n",
    "\n",
    "  [...]\n",
    "\n",
    "  @pytest.mark.parametrize(\n",
    "      \"a,b,res\",\n",
    "      [\n",
    "          (0, 0, None),\n",
    "          (0, 42, 0),\n",
    "          (42, 0, None),\n",
    "          (42, 1, 42),\n",
    "          (1, 2, 0.5),\n",
    "          (-1, 2, -0.5),\n",
    "      ]\n",
    "  )\n",
    "  def test_divide(a, b, res):\n",
    "      assert divide(a, b) == res\n",
    "``` "
   ]
  },
  {
   "cell_type": "code",
   "execution_count": null,
   "id": "d29efe33",
   "metadata": {
    "lines_to_next_cell": 0
   },
   "outputs": [],
   "source": [
    "files.view('test_myfuncs.py')"
   ]
  },
  {
   "cell_type": "markdown",
   "id": "075e3ce2",
   "metadata": {
    "lines_to_next_cell": 0
   },
   "source": [
    "commit that change:"
   ]
  },
  {
   "cell_type": "code",
   "execution_count": null,
   "id": "da334540",
   "metadata": {
    "lines_to_next_cell": 0
   },
   "outputs": [],
   "source": [
    "!git commit -am \"tests: add test function for divide\""
   ]
  },
  {
   "cell_type": "markdown",
   "id": "8212b367",
   "metadata": {
    "lines_to_next_cell": 0
   },
   "source": [
    "Now try to merge the `divide` branch in `main`:"
   ]
  },
  {
   "cell_type": "code",
   "execution_count": null,
   "id": "ac6dd73e",
   "metadata": {
    "lines_to_next_cell": 0
   },
   "outputs": [],
   "source": [
    "!git checkout main\n",
    "!git merge divide"
   ]
  },
  {
   "cell_type": "markdown",
   "id": "6a84e8d9",
   "metadata": {
    "lines_to_next_cell": 0
   },
   "source": [
    "Try to solve the conflict! 2 possibilities:\n",
    "  1. Manually:\n",
    "    - Fix it by editing the file\n",
    "    - Run `git add`\n",
    "    - Run `git commit`\n",
    "  2. Using a graphical tool:"
   ]
  },
  {
   "cell_type": "code",
   "execution_count": null,
   "id": "5089dee5",
   "metadata": {
    "lines_to_next_cell": 0
   },
   "outputs": [],
   "source": [
    "!git mergetool\n",
    "!git add myfuncs.py\n",
    "!git commit"
   ]
  },
  {
   "cell_type": "markdown",
   "id": "0d8a86ff",
   "metadata": {},
   "source": [
    "## One last thing\n",
    "\n",
    "Once all features are merged, it's time to sync your local `main` branch with\n",
    "the remote repository:"
   ]
  },
  {
   "cell_type": "code",
   "execution_count": null,
   "id": "3f4dae81",
   "metadata": {
    "lines_to_next_cell": 0
   },
   "outputs": [],
   "source": [
    "!git push origin main"
   ]
  },
  {
   "cell_type": "markdown",
   "id": "f5f7360a",
   "metadata": {},
   "source": [
    "Also, now that the `multiply` and `divide` branches are not needed anymore, you\n",
    "can delete them:"
   ]
  },
  {
   "cell_type": "code",
   "execution_count": null,
   "id": "c7f25884",
   "metadata": {
    "lines_to_next_cell": 2
   },
   "outputs": [],
   "source": [
    "!git branch -d multiply divide"
   ]
  },
  {
   "cell_type": "markdown",
   "id": "fe126675",
   "metadata": {},
   "source": [
    "# Simple rebasing\n",
    "\n",
    "Let's again extend the `dummymaths` Python project with a `power` function.\n",
    "Check that your current branch is `main`:"
   ]
  },
  {
   "cell_type": "code",
   "execution_count": null,
   "id": "f3b664fa",
   "metadata": {
    "lines_to_next_cell": 0
   },
   "outputs": [],
   "source": [
    "!git status"
   ]
  },
  {
   "cell_type": "markdown",
   "id": "020e3d0d",
   "metadata": {
    "lines_to_next_cell": 0
   },
   "source": [
    "Create a new `power` branch and switch to it:"
   ]
  },
  {
   "cell_type": "code",
   "execution_count": null,
   "id": "54f8e60a",
   "metadata": {
    "lines_to_next_cell": 0
   },
   "outputs": [],
   "source": [
    "!git checkout -b power"
   ]
  },
  {
   "cell_type": "markdown",
   "id": "3b09648d",
   "metadata": {
    "lines_to_next_cell": 0
   },
   "source": [
    "Extend the `myfuncs.py` module with the following content:\n",
    "```python\n",
    "  def power(a, b):\n",
    "      \"\"\"Return a power b.\"\"\"\n",
    "      return a ** b\n",
    "```"
   ]
  },
  {
   "cell_type": "code",
   "execution_count": null,
   "id": "715f6703",
   "metadata": {},
   "outputs": [],
   "source": [
    "files.view('myfuncs.py')"
   ]
  },
  {
   "cell_type": "markdown",
   "id": "f9497ccc",
   "metadata": {
    "lines_to_next_cell": 0
   },
   "source": [
    "Commit your change:"
   ]
  },
  {
   "cell_type": "code",
   "execution_count": null,
   "id": "62b145c7",
   "metadata": {
    "lines_to_next_cell": 0
   },
   "outputs": [],
   "source": [
    "!git commit -am \"myfuncs: add power function\""
   ]
  },
  {
   "cell_type": "markdown",
   "id": "9de8e743",
   "metadata": {
    "lines_to_next_cell": 0
   },
   "source": [
    "Add the related test function to the `test_myfuncs.py` module:\n",
    "```python\n",
    "  # Add this import line\n",
    "  from myfuncs import power\n",
    "\n",
    "  @pytest.mark.parametrize(\n",
    "      \"a,b,res\",\n",
    "      [\n",
    "          (0, 0, 1),\n",
    "          (0, 2, 0),\n",
    "          (1, 2, 1),\n",
    "          (2, 0, 1),\n",
    "          (2, 1, 2),\n",
    "          (2, 2, 4),\n",
    "          (2, -1, 0.5),\n",
    "      ]\n",
    "  )\n",
    "  def test_power(a, b, res):\n",
    "      assert power(a, b) == res\n",
    "```"
   ]
  },
  {
   "cell_type": "code",
   "execution_count": null,
   "id": "cbb80ae4",
   "metadata": {},
   "outputs": [],
   "source": [
    "files.view('test_myfuncs.py')"
   ]
  },
  {
   "cell_type": "markdown",
   "id": "74557d46",
   "metadata": {
    "lines_to_next_cell": 0
   },
   "source": [
    "Commit your change:"
   ]
  },
  {
   "cell_type": "code",
   "execution_count": null,
   "id": "f3bfc3d1",
   "metadata": {
    "lines_to_next_cell": 0
   },
   "outputs": [],
   "source": [
    "!git commit -am \"tests: add test function for power\""
   ]
  },
  {
   "cell_type": "markdown",
   "id": "0f6d4aa3",
   "metadata": {
    "lines_to_next_cell": 0
   },
   "source": [
    "Switch back to main\n",
    "Remove the `TODO` section from the README (the divide function is merged already!)."
   ]
  },
  {
   "cell_type": "code",
   "execution_count": null,
   "id": "6a8478a3",
   "metadata": {
    "lines_to_next_cell": 0
   },
   "outputs": [],
   "source": [
    "!git status\n",
    "!git add README.md\n",
    "!git commit -m \"README: remove TODO section\"\n",
    "!git log --decorate --graph --oneline --all"
   ]
  },
  {
   "cell_type": "markdown",
   "id": "3db840cd",
   "metadata": {
    "lines_to_next_cell": 0
   },
   "source": [
    "At this point, the `main` and `power` branches have diverged.\n",
    "Switch back to `power` and rebase it on top of `main`:"
   ]
  },
  {
   "cell_type": "code",
   "execution_count": null,
   "id": "db3a35eb",
   "metadata": {
    "lines_to_next_cell": 0
   },
   "outputs": [],
   "source": [
    "!git checkout power\n",
    "!git rebase main\n",
    "!git log --decorate --graph --oneline --all"
   ]
  },
  {
   "cell_type": "markdown",
   "id": "49bdf2cb",
   "metadata": {
    "lines_to_next_cell": 0
   },
   "source": [
    "Merge power into `main`:"
   ]
  },
  {
   "cell_type": "code",
   "execution_count": null,
   "id": "2cabad40",
   "metadata": {
    "lines_to_next_cell": 0
   },
   "outputs": [],
   "source": [
    "!git checkout main\n",
    "!git merge power\n",
    "!git log --decorate --graph --oneline --all"
   ]
  },
  {
   "cell_type": "markdown",
   "id": "84ed1fc7",
   "metadata": {
    "lines_to_next_cell": 0
   },
   "source": [
    "This is a fast-forward move of main towards power!\n",
    "Finally push `main` and delete `power`:"
   ]
  },
  {
   "cell_type": "code",
   "execution_count": null,
   "id": "529ac664",
   "metadata": {},
   "outputs": [],
   "source": [
    "!git push origin main\n",
    "!git branch -d power\n",
    "\n"
   ]
  },
  {
   "cell_type": "markdown",
   "id": "fd4a852a",
   "metadata": {},
   "source": [
    "# Using bisect to find bugs\n",
    "\n",
    "The `dummymaths` Python project provides a set of unit tests. In the first\n",
    "exercise you used `pytest` to run them.\n",
    "Since then, new code was added but you didn't rerun `pytest`."
   ]
  },
  {
   "cell_type": "markdown",
   "id": "6936d34d",
   "metadata": {
    "lines_to_next_cell": 0
   },
   "source": [
    "Let's start by running `pytest`. It should fail. If it doesn't this exercise\n",
    "becomes useless!"
   ]
  },
  {
   "cell_type": "code",
   "execution_count": null,
   "id": "18f38b34",
   "metadata": {
    "lines_to_next_cell": 0
   },
   "outputs": [],
   "source": [
    "%cd dummymaths\n",
    "pytest"
   ]
  },
  {
   "cell_type": "markdown",
   "id": "6ec4a1c2",
   "metadata": {
    "lines_to_next_cell": 0
   },
   "source": [
    "Even if the problem is obvious, you'll use `git bisect` to find the commit\n",
    "  that introduced the problem. In some more complex cases, that can help\n",
    "  understand what is the origin of the bug.\n",
    "  Before starting bisect, you must find a commit that works. We know one: the\n",
    "  one that contains the \"add\" function test that was added in exercise\n",
    "  `01-start`. Let's use `git log` with some special parameters to find it:"
   ]
  },
  {
   "cell_type": "code",
   "execution_count": null,
   "id": "031ef81a",
   "metadata": {
    "lines_to_next_cell": 0
   },
   "outputs": [],
   "source": [
    "!git log --oneline --grep \"tests: add test function for add\""
   ]
  },
  {
   "cell_type": "markdown",
   "id": "aec9d999",
   "metadata": {
    "lines_to_next_cell": 0
   },
   "source": [
    "The reply contains the short hash of the matching commit that you'll use as\n",
    "good commit."
   ]
  },
  {
   "cell_type": "markdown",
   "id": "95e6b631",
   "metadata": {
    "lines_to_next_cell": 0
   },
   "source": [
    "Let's now start bisecting:"
   ]
  },
  {
   "cell_type": "code",
   "execution_count": null,
   "id": "424c2267",
   "metadata": {
    "lines_to_next_cell": 0
   },
   "outputs": [],
   "source": [
    "!git bisect start\n",
    "!git bisect bad"
   ]
  },
  {
   "cell_type": "markdown",
   "id": "33492369",
   "metadata": {
    "lines_to_next_cell": 0
   },
   "source": [
    "You now have to switch the commit that we think is good, test it and tell git:"
   ]
  },
  {
   "cell_type": "code",
   "execution_count": null,
   "id": "4dc6b742",
   "metadata": {
    "lines_to_next_cell": 0
   },
   "outputs": [],
   "source": [
    "!git checkout <short commit hash returned in point 2.>\n",
    "pytest\n",
    "!git bisect good"
   ]
  },
  {
   "cell_type": "markdown",
   "id": "3c4d141e",
   "metadata": {
    "lines_to_next_cell": 0
   },
   "source": [
    "Since `pytest` is the command that is used to check if a commit is good or\n",
    "not, you can run it at each step:"
   ]
  },
  {
   "cell_type": "code",
   "execution_count": null,
   "id": "5c2ba18d",
   "metadata": {
    "lines_to_next_cell": 0
   },
   "outputs": [],
   "source": [
    "!git bisect run pytest\n",
    "!git bisect reset"
   ]
  },
  {
   "cell_type": "markdown",
   "id": "b995a356",
   "metadata": {
    "lines_to_next_cell": 0
   },
   "source": [
    "This command should tell you quite fast what is the first bad commit. Check\n",
    "it's content:"
   ]
  },
  {
   "cell_type": "code",
   "execution_count": null,
   "id": "70ec133c",
   "metadata": {
    "lines_to_next_cell": 0
   },
   "outputs": [],
   "source": [
    "!git show <first bad commit>"
   ]
  },
  {
   "cell_type": "markdown",
   "id": "fb492065",
   "metadata": {
    "lines_to_next_cell": 0
   },
   "source": [
    "Point 5. reveals that the problem comes from one the multiply test case. It\n",
    "can be fixed by using the following parametrize values:\n",
    "```python\n",
    "[\n",
    "    (0, 0, 0),\n",
    "    (0, 42, 0),\n",
    "    (42, 0, 0),\n",
    "    (42, 1, 42),\n",
    "    (1, 42, 42),  # problem was here\n",
    "    (-1, 42, -42),\n",
    "]\n",
    "```"
   ]
  },
  {
   "cell_type": "code",
   "execution_count": null,
   "id": "427962be",
   "metadata": {},
   "outputs": [],
   "source": [
    "files.view('test_myfuncs.py')"
   ]
  },
  {
   "cell_type": "markdown",
   "id": "59389f39",
   "metadata": {
    "lines_to_next_cell": 0
   },
   "source": [
    "Commit your changes and push the `main` branch:"
   ]
  },
  {
   "cell_type": "code",
   "execution_count": null,
   "id": "7866293a",
   "metadata": {
    "lines_to_next_cell": 2
   },
   "outputs": [],
   "source": [
    "!git commit -am \"tests: fix multiply test case\"\n",
    "!git push origin main"
   ]
  },
  {
   "cell_type": "markdown",
   "id": "7196dd6a",
   "metadata": {},
   "source": [
    "# Working with GitHub\n",
    "\n",
    "In this exercise, you'll fork the existing `dummymaths` repository on\n",
    "[GitHub](https://github.com), extend it like in exercise `08-gitlab` and\n",
    "propose your changes upstream using a pull request."
   ]
  },
  {
   "cell_type": "markdown",
   "id": "22c354da",
   "metadata": {},
   "source": [
    "## Setup your GitHub account\n",
    "\n",
    "1. Check that you can login to https://github.com\n",
    "2. If not done already, add a public SSH key to your [GitHub account](https://github.com/settings/keys)\n",
    "3. Check that you can access the [dummymaths project](https://github.com/aabadie/dummymaths) on GitHub"
   ]
  },
  {
   "cell_type": "markdown",
   "id": "803bfc7a",
   "metadata": {
    "lines_to_next_cell": 0
   },
   "source": [
    "## Setup your local repository\n",
    "\n",
    "Here you'll reuse the `dummymaths` cloned in the `dummymaths-remote` directory\n",
    "from the previous exercise on GitLab."
   ]
  },
  {
   "cell_type": "markdown",
   "id": "4138fb09",
   "metadata": {
    "lines_to_next_cell": 0
   },
   "source": [
    "1. On the [GitHub web interface](https://github.com/aabadie/dummymaths), fork\n",
    "  the project by clicking the fork button on the top right corner\n",
    "2. Add your fork as a new remote in your local copy (use your login on github, or just `github` as fork name):"
   ]
  },
  {
   "cell_type": "code",
   "execution_count": null,
   "id": "4b71a7d8",
   "metadata": {
    "lines_to_next_cell": 0
   },
   "outputs": [],
   "source": [
    "!git remote add <fork name> git@github.com:<github login>/dummymaths.git"
   ]
  },
  {
   "cell_type": "markdown",
   "id": "a5cc1366",
   "metadata": {
    "lines_to_next_cell": 0
   },
   "source": [
    "Check the configuration of your remotes:"
   ]
  },
  {
   "cell_type": "code",
   "execution_count": null,
   "id": "d2d585dd",
   "metadata": {
    "lines_to_next_cell": 0
   },
   "outputs": [],
   "source": [
    "!git remote -v"
   ]
  },
  {
   "cell_type": "markdown",
   "id": "6933f280",
   "metadata": {},
   "source": [
    "You should have:\n",
    "  - origin: the upstream repository on gitlab\n",
    "  - `<fork name>`: your fork on Gitlab\n",
    "  - `<github fork name>`: your fork on GitHub"
   ]
  },
  {
   "cell_type": "markdown",
   "id": "f541b4e3",
   "metadata": {
    "lines_to_next_cell": 0
   },
   "source": [
    "## Open the pull-request\n",
    "Push the existing `modulo` branch to your github fork:"
   ]
  },
  {
   "cell_type": "code",
   "execution_count": null,
   "id": "bac2da65",
   "metadata": {
    "lines_to_next_cell": 0
   },
   "outputs": [],
   "source": [
    "!git push <github fork name> modulo"
   ]
  },
  {
   "cell_type": "markdown",
   "id": "06fb6c49",
   "metadata": {
    "lines_to_next_cell": 0
   },
   "source": [
    "The command above should propose you if you want to open a pull request. The\n",
    "  answer is obviously yes. You can either:\n",
    "  - click on the proposed link\n",
    "  - click on the web interface. There's a link in a header of the\n",
    "    [dummymaths project](https://github.com/aabadie/dummymaths)"
   ]
  },
  {
   "cell_type": "markdown",
   "id": "856b7a89",
   "metadata": {
    "lines_to_next_cell": 0
   },
   "source": [
    "In the web interface, do a last minute check of your changes (everything isthere ?, no typo ?)."
   ]
  },
  {
   "cell_type": "markdown",
   "id": "66df4695",
   "metadata": {},
   "source": [
    "If everything is fine, click the \"Open pull-request\" green button, and wait for the reviews"
   ]
  }
 ],
 "metadata": {
  "kernelspec": {
   "display_name": "Python 3 (ipykernel)",
   "language": "python",
   "name": "python3"
  }
 },
 "nbformat": 4,
 "nbformat_minor": 5
}
