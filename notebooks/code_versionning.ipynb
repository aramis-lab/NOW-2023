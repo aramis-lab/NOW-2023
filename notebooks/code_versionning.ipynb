{
 "cells": [
  {
   "cell_type": "markdown",
   "id": "97db352b",
   "metadata": {
    "lines_to_next_cell": 0
   },
   "source": [
    "# Chapter 2 : Code versioning using Git\n",
    "\n",
    "In this chapter, we will take a look at how [Git](https://git-scm.com) works and how to use it to version code.\n",
    "\n",
    "```{note}\n",
    "The content of this chapter has been adapted from a tutorial made by *Alexandre Abadie* and *Kim Tâm Huynh* from the [INRIA SED of Paris](https://sed.paris.inria.fr).\n",
    "```\n",
    "\n",
    "## Getting started\n",
    "\n",
    "First you will start a small Python project"
   ]
  },
  {
   "cell_type": "markdown",
   "id": "52f0e34b",
   "metadata": {
    "lines_to_next_cell": 0
   },
   "source": [
    "### Initialize the project\n",
    "\n",
    "#### Create and initialize a repository"
   ]
  },
  {
   "cell_type": "markdown",
   "id": "e5d02f90",
   "metadata": {
    "lines_to_next_cell": 0
   },
   "source": [
    "Create a directory `dummymaths`:"
   ]
  },
  {
   "cell_type": "code",
   "execution_count": 1,
   "id": "40559088",
   "metadata": {
    "lines_to_next_cell": 0
   },
   "outputs": [
    {
     "name": "stdout",
     "output_type": "stream",
     "text": [
      "/Users/nicolas.gensollen/GitRepos/NOW-2023/notebooks/dummymaths\n"
     ]
    }
   ],
   "source": [
    "! mkdir dummymaths\n",
    "%cd dummymaths"
   ]
  },
  {
   "cell_type": "markdown",
   "id": "73fe3c48-5ebb-404c-a8ff-49fb55513fb2",
   "metadata": {},
   "source": [
    "```{warning}\n",
    "If you are running this notebook on Collab, or if you are using an old version of Git, you need to run the following cell which will make sure your default branch is nammed `main` and not `master` as this default was changed a couple years ago.\n",
    "\n",
    "Otherwise, you would have to change `main` to `master` manually in all the commands of this notebook.\n",
    "```"
   ]
  },
  {
   "cell_type": "code",
   "execution_count": 2,
   "id": "02c68aa8-91f7-4a8c-87dc-bf176f447aa8",
   "metadata": {},
   "outputs": [],
   "source": [
    "! git config --global init.defaultBranch main"
   ]
  },
  {
   "cell_type": "markdown",
   "id": "0713d12f",
   "metadata": {
    "lines_to_next_cell": 0
   },
   "source": [
    "Initialize a [Git](https://git-scm.com) local repository in the `dummymaths` directory with the [git init](https://git-scm.com/docs/git-init) command:"
   ]
  },
  {
   "cell_type": "code",
   "execution_count": 3,
   "id": "7f244f47",
   "metadata": {},
   "outputs": [
    {
     "name": "stdout",
     "output_type": "stream",
     "text": [
      "Initialized empty Git repository in /Users/nicolas.gensollen/GitRepos/NOW-2023/notebooks/dummymaths/.git/\n"
     ]
    }
   ],
   "source": [
    "! git init"
   ]
  },
  {
   "cell_type": "markdown",
   "id": "c90e7011",
   "metadata": {
    "lines_to_next_cell": 0
   },
   "source": [
    "#### Configure your name and email\n",
    "\n",
    "Configure your git account using simple configuration files 3 levels:\n",
    "  * __local__ : `<local copy>/.git/config`, by default\n",
    "  * __global__ : `~/.gitconfig`, option `--global`\n",
    "  * __system__ : `/etc/gitconfig`, option `--system`\n",
    "\n",
    "To configure your user name and email address, you can either edit the config files directly, or use the [git config](https://git-scm.com/docs/git-config) command:"
   ]
  },
  {
   "cell_type": "code",
   "execution_count": 4,
   "id": "a06f9998",
   "metadata": {
    "lines_to_next_cell": 0
   },
   "outputs": [],
   "source": [
    "! git config --local user.name \"John Doe\"\n",
    "! git config --local user.email john.doe@inria.fr"
   ]
  },
  {
   "cell_type": "markdown",
   "id": "4f3151cb",
   "metadata": {
    "lines_to_next_cell": 0
   },
   "source": [
    "### Add a simple text file\n",
    "\n",
    "Create a `README.md` file and then check the state of your local copy:"
   ]
  },
  {
   "cell_type": "code",
   "execution_count": 5,
   "id": "33a68249",
   "metadata": {
    "lines_to_next_cell": 0
   },
   "outputs": [
    {
     "name": "stdout",
     "output_type": "stream",
     "text": [
      "On branch main\n",
      "\n",
      "No commits yet\n",
      "\n",
      "Untracked files:\n",
      "  (use \"git add <file>...\" to include in what will be committed)\n",
      "\t\u001b[31mREADME.md\u001b[m\n",
      "\n",
      "nothing added to commit but untracked files present (use \"git add\" to track)\n"
     ]
    }
   ],
   "source": [
    "! echo \"This is the README file\" > README.md\n",
    "! git status"
   ]
  },
  {
   "cell_type": "markdown",
   "id": "c6641a60",
   "metadata": {
    "lines_to_next_cell": 0
   },
   "source": [
    "Add the `README.md` file to the staging area and check again the state of your local copy:"
   ]
  },
  {
   "cell_type": "code",
   "execution_count": 6,
   "id": "4420e441",
   "metadata": {
    "lines_to_next_cell": 0
   },
   "outputs": [
    {
     "name": "stdout",
     "output_type": "stream",
     "text": [
      "On branch main\n",
      "\n",
      "No commits yet\n",
      "\n",
      "Changes to be committed:\n",
      "  (use \"git rm --cached <file>...\" to unstage)\n",
      "\t\u001b[32mnew file:   README.md\u001b[m\n",
      "\n"
     ]
    }
   ],
   "source": [
    "! git add README.md\n",
    "! git status"
   ]
  },
  {
   "cell_type": "markdown",
   "id": "7ab4998a",
   "metadata": {
    "lines_to_next_cell": 0
   },
   "source": [
    "Edit the `README.md` file (for example, add a title, a short description of this small Python project), save and check again the state of your local copy. "
   ]
  },
  {
   "cell_type": "code",
   "execution_count": 7,
   "id": "c5ceb378",
   "metadata": {},
   "outputs": [],
   "source": [
    "! echo \"This is the new README file\" > README.md"
   ]
  },
  {
   "cell_type": "markdown",
   "id": "17ce700a-7034-4c5e-8647-8c30b67f7b11",
   "metadata": {},
   "source": [
    "You should have changes both in the staging area and in the working directory (local changes). We can display the changes between HEAD and the staging area:"
   ]
  },
  {
   "cell_type": "code",
   "execution_count": 8,
   "id": "2db8c250",
   "metadata": {},
   "outputs": [
    {
     "name": "stdout",
     "output_type": "stream",
     "text": [
      "\u001b[1mdiff --git a/README.md b/README.md\u001b[m\n",
      "\u001b[1mnew file mode 100644\u001b[m\n",
      "\u001b[1mindex 0000000..7dcf35b\u001b[m\n",
      "\u001b[1m--- /dev/null\u001b[m\n",
      "\u001b[1m+++ b/README.md\u001b[m\n",
      "\u001b[36m@@ -0,0 +1 @@\u001b[m\n",
      "\u001b[32m+\u001b[m\u001b[32mThis is the README file\u001b[m\n"
     ]
    }
   ],
   "source": [
    "! git diff --staged"
   ]
  },
  {
   "cell_type": "markdown",
   "id": "f2e7401d-5b95-4991-8a76-bb8bb79b4cbb",
   "metadata": {},
   "source": [
    "And the changes between the staging area and the workspace:"
   ]
  },
  {
   "cell_type": "code",
   "execution_count": 9,
   "id": "4ff3ee38",
   "metadata": {
    "lines_to_next_cell": 0
   },
   "outputs": [
    {
     "name": "stdout",
     "output_type": "stream",
     "text": [
      "\u001b[1mdiff --git a/README.md b/README.md\u001b[m\n",
      "\u001b[1mindex 7dcf35b..ed6b542 100644\u001b[m\n",
      "\u001b[1m--- a/README.md\u001b[m\n",
      "\u001b[1m+++ b/README.md\u001b[m\n",
      "\u001b[36m@@ -1 +1 @@\u001b[m\n",
      "\u001b[31m-This is the README file\u001b[m\n",
      "\u001b[32m+\u001b[m\u001b[32mThis is the new README file\u001b[m\n"
     ]
    }
   ],
   "source": [
    "! git diff"
   ]
  },
  {
   "cell_type": "markdown",
   "id": "70e48c49-ce83-46f4-abc6-6676495719f1",
   "metadata": {},
   "source": [
    "The outputs of these commands with the green and red lines are what is commonly called \"a diff\". Diffs are everywhere in Git and it is very important to get used to reading them. When reviewing Pull Requests on Github or Gitlab for example, you usually look at the diff.\n",
    "\n",
    "You can read [the following article](https://www.atlassian.com/git/tutorials/saving-changes/git-diff) to get more details on how to read them. After practicing a bit, this will become very natural.\n",
    "\n",
    "In order to follow the tutorial, remember that a diff should be red at the line level: lines in red with a `-` symbol at the begining are lines which were removed, while green lines with a `+` symbol are lines which were added."
   ]
  },
  {
   "cell_type": "markdown",
   "id": "8d20bef8",
   "metadata": {
    "lines_to_next_cell": 0
   },
   "source": [
    "Commit all changes in the `README.md` file (both in staging and local) and check one last time the state of the local copy:"
   ]
  },
  {
   "cell_type": "code",
   "execution_count": 10,
   "id": "e8df85d9",
   "metadata": {
    "lines_to_next_cell": 0
   },
   "outputs": [
    {
     "name": "stdout",
     "output_type": "stream",
     "text": [
      "[main (root-commit) ceb8dd5] initial commit\n",
      " 1 file changed, 1 insertion(+)\n",
      " create mode 100644 README.md\n",
      "On branch main\n",
      "nothing to commit, working tree clean\n"
     ]
    }
   ],
   "source": [
    "! git add README.md # staging\n",
    "! git commit -m \"initial commit\" # local\n",
    "! git status"
   ]
  },
  {
   "cell_type": "markdown",
   "id": "9733157c",
   "metadata": {
    "lines_to_next_cell": 0
   },
   "source": [
    "### Add a python file to the project\n",
    "\n",
    "Add the file `myfuncs.py` with the following content:"
   ]
  },
  {
   "cell_type": "code",
   "execution_count": 11,
   "id": "2e8b9a56",
   "metadata": {},
   "outputs": [
    {
     "name": "stdout",
     "output_type": "stream",
     "text": [
      "Writing myfuncs.py\n"
     ]
    }
   ],
   "source": [
    "%%writefile myfuncs.py\n",
    "\n",
    "\"\"\"Some useless mathematical utility functions.\"\"\"\n",
    "\n",
    "def add(a, b):\n",
    "    \"\"\"Return the sum of a and b.\"\"\"\n",
    "    return a + b\n",
    "\n",
    "def sub(a, b):\n",
    "    \"\"\"Substract b from a.\"\"\"\n",
    "    return a - b"
   ]
  },
  {
   "cell_type": "markdown",
   "id": "6276586a",
   "metadata": {
    "lines_to_next_cell": 0
   },
   "source": [
    "Commit this file:"
   ]
  },
  {
   "cell_type": "code",
   "execution_count": 12,
   "id": "2fe71609",
   "metadata": {
    "lines_to_next_cell": 0
   },
   "outputs": [
    {
     "name": "stdout",
     "output_type": "stream",
     "text": [
      "[main d557837] initial version of myfuncs.py\n",
      " 1 file changed, 10 insertions(+)\n",
      " create mode 100644 myfuncs.py\n"
     ]
    }
   ],
   "source": [
    "! git add myfuncs.py\n",
    "! git commit -m \"initial version of myfuncs.py\""
   ]
  },
  {
   "cell_type": "markdown",
   "id": "c280b914",
   "metadata": {
    "lines_to_next_cell": 0
   },
   "source": [
    "### Add a testing file with pytest\n",
    "Add the file `test_myfuncs.py` with the following content:"
   ]
  },
  {
   "cell_type": "code",
   "execution_count": 13,
   "id": "aef92b7e",
   "metadata": {
    "lines_to_next_cell": 0
   },
   "outputs": [
    {
     "name": "stdout",
     "output_type": "stream",
     "text": [
      "Writing test_myfuncs.py\n"
     ]
    }
   ],
   "source": [
    "%%writefile test_myfuncs.py\n",
    "\n",
    "import pytest\n",
    "\n",
    "@pytest.mark.parametrize(\n",
    "    \"a,b,res\",\n",
    "    [\n",
    "        (0, 0, 0),\n",
    "        (0, 42, 42),\n",
    "        (42, 0, 42),\n",
    "        (42, -42, 0),\n",
    "        (-42, 42, 0),\n",
    "    ]\n",
    ")\n",
    "def test_add(a, b, res):\n",
    "    from myfuncs import add\n",
    "\n",
    "    assert add(a, b) == res"
   ]
  },
  {
   "cell_type": "markdown",
   "id": "a67faa15",
   "metadata": {
    "lines_to_next_cell": 0
   },
   "source": [
    "Use `pytest` to run the tests, verify \n",
    "that they pass and then commit `test_myfuncs.py` (and only this one!):"
   ]
  },
  {
   "cell_type": "code",
   "execution_count": 14,
   "id": "7442d8cc",
   "metadata": {
    "lines_to_next_cell": 0
   },
   "outputs": [
    {
     "name": "stdout",
     "output_type": "stream",
     "text": [
      "\u001b[1m============================= test session starts ==============================\u001b[0m\n",
      "platform darwin -- Python 3.10.13, pytest-7.4.3, pluggy-1.3.0\n",
      "rootdir: /Users/nicolas.gensollen/GitRepos/NOW-2023/notebooks/dummymaths\n",
      "plugins: anyio-3.5.0, dvc-3.30.1, hydra-core-1.3.2\n",
      "collected 5 items                                                              \u001b[0m\n",
      "\n",
      "test_myfuncs.py \u001b[32m.\u001b[0m\u001b[32m.\u001b[0m\u001b[32m.\u001b[0m\u001b[32m.\u001b[0m\u001b[32m.\u001b[0m\u001b[32m                                                    [100%]\u001b[0m\n",
      "\n",
      "\u001b[32m============================== \u001b[32m\u001b[1m5 passed\u001b[0m\u001b[32m in 0.01s\u001b[0m\u001b[32m ===============================\u001b[0m\n",
      "\u001b[0m"
     ]
    }
   ],
   "source": [
    "! pytest test_myfuncs.py"
   ]
  },
  {
   "cell_type": "markdown",
   "id": "f3b6cf1d",
   "metadata": {},
   "source": [
    "Note that you can use the verbose option (`-v`) to have more information:"
   ]
  },
  {
   "cell_type": "code",
   "execution_count": 15,
   "id": "5d0a78c7",
   "metadata": {},
   "outputs": [
    {
     "name": "stdout",
     "output_type": "stream",
     "text": [
      "\u001b[1m============================= test session starts ==============================\u001b[0m\n",
      "platform darwin -- Python 3.10.13, pytest-7.4.3, pluggy-1.3.0 -- /Users/nicolas.gensollen/opt/anaconda3/envs/now/bin/python\n",
      "cachedir: .pytest_cache\n",
      "rootdir: /Users/nicolas.gensollen/GitRepos/NOW-2023/notebooks/dummymaths\n",
      "plugins: anyio-3.5.0, dvc-3.30.1, hydra-core-1.3.2\n",
      "collected 5 items                                                              \u001b[0m\n",
      "\n",
      "test_myfuncs.py::test_add[0-0-0] \u001b[32mPASSED\u001b[0m\u001b[32m                                  [ 20%]\u001b[0m\n",
      "test_myfuncs.py::test_add[0-42-42] \u001b[32mPASSED\u001b[0m\u001b[32m                                [ 40%]\u001b[0m\n",
      "test_myfuncs.py::test_add[42-0-42] \u001b[32mPASSED\u001b[0m\u001b[32m                                [ 60%]\u001b[0m\n",
      "test_myfuncs.py::test_add[42--42-0] \u001b[32mPASSED\u001b[0m\u001b[32m                               [ 80%]\u001b[0m\n",
      "test_myfuncs.py::test_add[-42-42-0] \u001b[32mPASSED\u001b[0m\u001b[32m                               [100%]\u001b[0m\n",
      "\n",
      "\u001b[32m============================== \u001b[32m\u001b[1m5 passed\u001b[0m\u001b[32m in 0.01s\u001b[0m\u001b[32m ===============================\u001b[0m\n",
      "\u001b[0m"
     ]
    }
   ],
   "source": [
    "! pytest -v"
   ]
  },
  {
   "cell_type": "markdown",
   "id": "64b86a4d",
   "metadata": {},
   "source": [
    "Let's commit these tests:"
   ]
  },
  {
   "cell_type": "code",
   "execution_count": 16,
   "id": "892732cc",
   "metadata": {
    "lines_to_next_cell": 0
   },
   "outputs": [
    {
     "name": "stdout",
     "output_type": "stream",
     "text": [
      "[main d5d3c04] tests: add test function for add\n",
      " 1 file changed, 17 insertions(+)\n",
      " create mode 100644 test_myfuncs.py\n"
     ]
    }
   ],
   "source": [
    "! git add test_myfuncs.py \n",
    "! git commit -m \"tests: add test function for add\""
   ]
  },
  {
   "cell_type": "markdown",
   "id": "b2cc6716",
   "metadata": {
    "lines_to_next_cell": 0
   },
   "source": [
    "### Ignore generated files\n",
    "\n",
    "At this stage, they are Python bytecode generated files displayed when running [git status](https://git-scm.com/docs/git-status):"
   ]
  },
  {
   "cell_type": "code",
   "execution_count": 17,
   "id": "f8159879",
   "metadata": {},
   "outputs": [
    {
     "name": "stdout",
     "output_type": "stream",
     "text": [
      "On branch main\n",
      "Untracked files:\n",
      "  (use \"git add <file>...\" to include in what will be committed)\n",
      "\t\u001b[31m__pycache__/\u001b[m\n",
      "\n",
      "nothing added to commit but untracked files present (use \"git add\" to track)\n"
     ]
    }
   ],
   "source": [
    "! git status"
   ]
  },
  {
   "cell_type": "markdown",
   "id": "2a81ad63",
   "metadata": {},
   "source": [
    "We don't want to commit them inadvertently: this is the purpose of the [.gitignore](https://git-scm.com/docs/gitignore) file.\n",
    "\n",
    "The [.gitignore](https://git-scm.com/docs/gitignore) file is basically a list of patterns for files to ignore. Here, we want to ignore all files ending with `pyc`:"
   ]
  },
  {
   "cell_type": "code",
   "execution_count": 18,
   "id": "a9025df2",
   "metadata": {
    "lines_to_next_cell": 0
   },
   "outputs": [],
   "source": [
    "! echo \"*pyc\" > .gitignore"
   ]
  },
  {
   "cell_type": "markdown",
   "id": "f05e099a",
   "metadata": {
    "lines_to_next_cell": 0
   },
   "source": [
    "Check that bytecode generated files are not listed anymore when running [git status](https://git-scm.com/docs/git-status):"
   ]
  },
  {
   "cell_type": "code",
   "execution_count": 19,
   "id": "cbb51d7b",
   "metadata": {},
   "outputs": [
    {
     "name": "stdout",
     "output_type": "stream",
     "text": [
      "On branch main\n",
      "Untracked files:\n",
      "  (use \"git add <file>...\" to include in what will be committed)\n",
      "\t\u001b[31m.gitignore\u001b[m\n",
      "\n",
      "nothing added to commit but untracked files present (use \"git add\" to track)\n"
     ]
    }
   ],
   "source": [
    "! git status"
   ]
  },
  {
   "cell_type": "markdown",
   "id": "a5904a66",
   "metadata": {
    "lines_to_next_cell": 0
   },
   "source": [
    "The Python bytecode files do not appear in the ouput, but the [.gitignore](https://git-scm.com/docs/gitignore) file does.\n",
    "\n",
    "Let's add it and commit it as we wish to version it together with our code:"
   ]
  },
  {
   "cell_type": "code",
   "execution_count": 20,
   "id": "cfdd6a03",
   "metadata": {},
   "outputs": [
    {
     "name": "stdout",
     "output_type": "stream",
     "text": [
      "[main fcd5975] ignore Python generated files\n",
      " 1 file changed, 1 insertion(+)\n",
      " create mode 100644 .gitignore\n"
     ]
    }
   ],
   "source": [
    "! git add .gitignore\n",
    "! git commit -m \"ignore Python generated files\""
   ]
  },
  {
   "cell_type": "markdown",
   "id": "bd768592",
   "metadata": {},
   "source": [
    "## Manage the changes\n",
    "\n",
    "Let's continue working on our `dummymaths` Python project!\n",
    "\n",
    "### Visualize the project's history\n",
    "\n",
    "First, we would like to refresh our mind on the latest modifications that were made to the project. [Git](https://git-scm.com) is your friend and provides you the [git log](https://git-scm.com/docs/git-log) command to display the history of changes already committed.\n",
    "\n",
    "`````{admonition} Peaceful commands\n",
    ":class: tip\n",
    "\n",
    "As for [git status](https://git-scm.com/docs/git-status), this command can never hurt you and will probably save you a lot by reminding you the project's history, so do not hesitate to use it!\n",
    "`````\n",
    "\n",
    "Without any argument, [git log](https://git-scm.com/docs/git-log) displays all the commits of the project **in reverse chronological order** (the first commit is the most recent commit):"
   ]
  },
  {
   "cell_type": "code",
   "execution_count": 21,
   "id": "1a6fe88f",
   "metadata": {},
   "outputs": [
    {
     "name": "stdout",
     "output_type": "stream",
     "text": [
      "\u001b[33mcommit fcd59755c8f205e887bc502886e5dccacee07932\u001b[m\u001b[33m (\u001b[m\u001b[1;36mHEAD -> \u001b[m\u001b[1;32mmain\u001b[m\u001b[33m)\u001b[m\n",
      "Author: John Doe <john.doe@inria.fr>\n",
      "Date:   Tue Nov 21 13:41:30 2023 +0100\n",
      "\n",
      "    ignore Python generated files\n",
      "\n",
      "\u001b[33mcommit d5d3c04553c252334236ef07322675e1f90451ca\u001b[m\n",
      "Author: John Doe <john.doe@inria.fr>\n",
      "Date:   Tue Nov 21 13:40:58 2023 +0100\n",
      "\n",
      "    tests: add test function for add\n",
      "\n",
      "\u001b[33mcommit d557837cf6a8c1a047acfbc739ab1629612f8d64\u001b[m\n",
      "Author: John Doe <john.doe@inria.fr>\n",
      "Date:   Tue Nov 21 13:40:41 2023 +0100\n",
      "\n",
      "    initial version of myfuncs.py\n",
      "\n",
      "\u001b[33mcommit ceb8dd57bd36b9f7ee95fbac84dd1d2c62a7b860\u001b[m\n",
      "Author: John Doe <john.doe@inria.fr>\n",
      "Date:   Tue Nov 21 13:40:35 2023 +0100\n",
      "\n",
      "    initial commit\n"
     ]
    }
   ],
   "source": [
    "! git log"
   ]
  },
  {
   "cell_type": "markdown",
   "id": "d242652e-a4ba-4087-8101-046931ca2bf3",
   "metadata": {},
   "source": [
    "You can configure this command in a lot of ways that we cannot cover here. Do not hesitate to take a look at [the documentation](https://git-scm.com/docs/git-log), you will likely find pretty cool ways to visualize a project's history.\n",
    "\n",
    "As an example, the `-some_integer` option lets you control the number of commits you want to display:"
   ]
  },
  {
   "cell_type": "code",
   "execution_count": 22,
   "id": "b90be838",
   "metadata": {},
   "outputs": [
    {
     "name": "stdout",
     "output_type": "stream",
     "text": [
      "\u001b[33mcommit fcd59755c8f205e887bc502886e5dccacee07932\u001b[m\u001b[33m (\u001b[m\u001b[1;36mHEAD -> \u001b[m\u001b[1;32mmain\u001b[m\u001b[33m)\u001b[m\n",
      "Author: John Doe <john.doe@inria.fr>\n",
      "Date:   Tue Nov 21 13:41:30 2023 +0100\n",
      "\n",
      "    ignore Python generated files\n",
      "\n",
      "\u001b[33mcommit d5d3c04553c252334236ef07322675e1f90451ca\u001b[m\n",
      "Author: John Doe <john.doe@inria.fr>\n",
      "Date:   Tue Nov 21 13:40:58 2023 +0100\n",
      "\n",
      "    tests: add test function for add\n"
     ]
    }
   ],
   "source": [
    "! git log -2"
   ]
  },
  {
   "cell_type": "markdown",
   "id": "2a413a40-0fa4-4eb3-9a84-81d40ec498a1",
   "metadata": {},
   "source": [
    "The `-p` option prints the differences between the commits:"
   ]
  },
  {
   "cell_type": "code",
   "execution_count": 23,
   "id": "803dca19",
   "metadata": {},
   "outputs": [
    {
     "name": "stdout",
     "output_type": "stream",
     "text": [
      "\u001b[33mcommit fcd59755c8f205e887bc502886e5dccacee07932\u001b[m\u001b[33m (\u001b[m\u001b[1;36mHEAD -> \u001b[m\u001b[1;32mmain\u001b[m\u001b[33m)\u001b[m\n",
      "Author: John Doe <john.doe@inria.fr>\n",
      "Date:   Tue Nov 21 13:41:30 2023 +0100\n",
      "\n",
      "    ignore Python generated files\n",
      "\n",
      "\u001b[1mdiff --git a/.gitignore b/.gitignore\u001b[m\n",
      "\u001b[1mnew file mode 100644\u001b[m\n",
      "\u001b[1mindex 0000000..72723e5\u001b[m\n",
      "\u001b[1m--- /dev/null\u001b[m\n",
      "\u001b[1m+++ b/.gitignore\u001b[m\n",
      "\u001b[36m@@ -0,0 +1 @@\u001b[m\n",
      "\u001b[32m+\u001b[m\u001b[32m*pyc\u001b[m\n",
      "\n",
      "\u001b[33mcommit d5d3c04553c252334236ef07322675e1f90451ca\u001b[m\n",
      "Author: John Doe <john.doe@inria.fr>\n",
      "Date:   Tue Nov 21 13:40:58 2023 +0100\n",
      "\n",
      "    tests: add test function for add\n",
      "\n",
      "\u001b[1mdiff --git a/test_myfuncs.py b/test_myfuncs.py\u001b[m\n",
      "\u001b[1mnew file mode 100644\u001b[m\n",
      "\u001b[1mindex 0000000..97539fb\u001b[m\n",
      "\u001b[1m--- /dev/null\u001b[m\n",
      "\u001b[1m+++ b/test_myfuncs.py\u001b[m\n",
      "\u001b[36m@@ -0,0 +1,17 @@\u001b[m\n",
      "\u001b[32m+\u001b[m\n",
      "\u001b[32m+\u001b[m\u001b[32mimport pytest\u001b[m\n",
      "\u001b[32m+\u001b[m\n",
      "\u001b[32m+\u001b[m\u001b[32m@pytest.mark.parametrize(\u001b[m\n",
      "\u001b[32m+\u001b[m\u001b[32m    \"a,b,res\",\u001b[m\n",
      "\u001b[32m+\u001b[m\u001b[32m    [\u001b[m\n",
      "\u001b[32m+\u001b[m\u001b[32m        (0, 0, 0),\u001b[m\n",
      "\u001b[32m+\u001b[m\u001b[32m        (0, 42, 42),\u001b[m\n",
      "\u001b[32m+\u001b[m\u001b[32m        (42, 0, 42),\u001b[m\n",
      "\u001b[32m+\u001b[m\u001b[32m        (42, -42, 0),\u001b[m\n",
      "\u001b[32m+\u001b[m\u001b[32m        (-42, 42, 0),\u001b[m\n",
      "\u001b[32m+\u001b[m\u001b[32m    ]\u001b[m\n",
      "\u001b[32m+\u001b[m\u001b[32m)\u001b[m\n",
      "\u001b[32m+\u001b[m\u001b[32mdef test_add(a, b, res):\u001b[m\n",
      "\u001b[32m+\u001b[m\u001b[32m    from myfuncs import add\u001b[m\n",
      "\u001b[32m+\u001b[m\n",
      "\u001b[32m+\u001b[m\u001b[32m    assert add(a, b) == res\u001b[m\n"
     ]
    }
   ],
   "source": [
    "! git log -2 -p"
   ]
  },
  {
   "cell_type": "markdown",
   "id": "e7bc64d9",
   "metadata": {},
   "source": [
    "### Undoing simple mistakes\n",
    "\n",
    "Let's first extend the tests in `test_myfuncs.py` with a test for the `sub` function:"
   ]
  },
  {
   "cell_type": "code",
   "execution_count": 24,
   "id": "4672e3e5",
   "metadata": {
    "lines_to_next_cell": 1
   },
   "outputs": [
    {
     "name": "stdout",
     "output_type": "stream",
     "text": [
      "Appending to test_myfuncs.py\n"
     ]
    }
   ],
   "source": [
    "%%writefile -a test_myfuncs.py\n",
    "\n",
    "@pytest.mark.parametrize(\n",
    "    \"a,b,res\",\n",
    "    [\n",
    "        (0, 0, 0),\n",
    "        (0, 42, -42),\n",
    "        (42, 0, 42),\n",
    "        (42, 42, 1),\n",
    "        (42, -42, 84),\n",
    "        (-42, 42, -84),\n",
    "    ]\n",
    ")\n",
    "def test_sub(a, b, res):\n",
    "    from myfuncs import sub\n",
    "\n",
    "    assert sub(a, b) == res"
   ]
  },
  {
   "cell_type": "markdown",
   "id": "e66e7faa-6bd9-473d-b5a9-e5d2ba553805",
   "metadata": {},
   "source": [
    "We are happy with our test and we are in a rush so we add and commit our changes right away:"
   ]
  },
  {
   "cell_type": "code",
   "execution_count": 25,
   "id": "61a8ba4c-3a8e-42a6-87d8-bcc032e9f173",
   "metadata": {},
   "outputs": [
    {
     "name": "stdout",
     "output_type": "stream",
     "text": [
      "[main 2541e03] add test function for sub\n",
      " 1 file changed, 16 insertions(+)\n"
     ]
    }
   ],
   "source": [
    "! git add test_myfuncs.py\n",
    "! git commit -m \"add test function for sub\""
   ]
  },
  {
   "cell_type": "markdown",
   "id": "bddca8d2-aeee-4b69-acd9-72a0b52a82c2",
   "metadata": {},
   "source": [
    "But wait, we aren't as good mathematicians as we thought and we made a mistake:"
   ]
  },
  {
   "cell_type": "code",
   "execution_count": 26,
   "id": "37e9b0b3",
   "metadata": {},
   "outputs": [
    {
     "name": "stdout",
     "output_type": "stream",
     "text": [
      "\u001b[1m============================= test session starts ==============================\u001b[0m\n",
      "platform darwin -- Python 3.10.13, pytest-7.4.3, pluggy-1.3.0 -- /Users/nicolas.gensollen/opt/anaconda3/envs/now/bin/python\n",
      "cachedir: .pytest_cache\n",
      "rootdir: /Users/nicolas.gensollen/GitRepos/NOW-2023/notebooks/dummymaths\n",
      "plugins: anyio-3.5.0, dvc-3.30.1, hydra-core-1.3.2\n",
      "collected 11 items                                                             \u001b[0m\n",
      "\n",
      "test_myfuncs.py::test_add[0-0-0] \u001b[32mPASSED\u001b[0m\u001b[32m                                  [  9%]\u001b[0m\n",
      "test_myfuncs.py::test_add[0-42-42] \u001b[32mPASSED\u001b[0m\u001b[32m                                [ 18%]\u001b[0m\n",
      "test_myfuncs.py::test_add[42-0-42] \u001b[32mPASSED\u001b[0m\u001b[32m                                [ 27%]\u001b[0m\n",
      "test_myfuncs.py::test_add[42--42-0] \u001b[32mPASSED\u001b[0m\u001b[32m                               [ 36%]\u001b[0m\n",
      "test_myfuncs.py::test_add[-42-42-0] \u001b[32mPASSED\u001b[0m\u001b[32m                               [ 45%]\u001b[0m\n",
      "test_myfuncs.py::test_sub[0-0-0] \u001b[32mPASSED\u001b[0m\u001b[32m                                  [ 54%]\u001b[0m\n",
      "test_myfuncs.py::test_sub[0-42--42] \u001b[32mPASSED\u001b[0m\u001b[32m                               [ 63%]\u001b[0m\n",
      "test_myfuncs.py::test_sub[42-0-42] \u001b[32mPASSED\u001b[0m\u001b[32m                                [ 72%]\u001b[0m\n",
      "test_myfuncs.py::test_sub[42-42-1] \u001b[31mFAILED\u001b[0m\u001b[31m                                [ 81%]\u001b[0m\n",
      "test_myfuncs.py::test_sub[42--42-84] \u001b[32mPASSED\u001b[0m\u001b[31m                              [ 90%]\u001b[0m\n",
      "test_myfuncs.py::test_sub[-42-42--84] \u001b[32mPASSED\u001b[0m\u001b[31m                             [100%]\u001b[0m\n",
      "\n",
      "=================================== FAILURES ===================================\n",
      "\u001b[31m\u001b[1m______________________________ test_sub[42-42-1] _______________________________\u001b[0m\n",
      "\n",
      "a = 42, b = 42, res = 1\n",
      "\n",
      "    \u001b[37m@pytest\u001b[39;49;00m.mark.parametrize(\u001b[90m\u001b[39;49;00m\n",
      "        \u001b[33m\"\u001b[39;49;00m\u001b[33ma,b,res\u001b[39;49;00m\u001b[33m\"\u001b[39;49;00m,\u001b[90m\u001b[39;49;00m\n",
      "        [\u001b[90m\u001b[39;49;00m\n",
      "            (\u001b[94m0\u001b[39;49;00m, \u001b[94m0\u001b[39;49;00m, \u001b[94m0\u001b[39;49;00m),\u001b[90m\u001b[39;49;00m\n",
      "            (\u001b[94m0\u001b[39;49;00m, \u001b[94m42\u001b[39;49;00m, -\u001b[94m42\u001b[39;49;00m),\u001b[90m\u001b[39;49;00m\n",
      "            (\u001b[94m42\u001b[39;49;00m, \u001b[94m0\u001b[39;49;00m, \u001b[94m42\u001b[39;49;00m),\u001b[90m\u001b[39;49;00m\n",
      "            (\u001b[94m42\u001b[39;49;00m, \u001b[94m42\u001b[39;49;00m, \u001b[94m1\u001b[39;49;00m),\u001b[90m\u001b[39;49;00m\n",
      "            (\u001b[94m42\u001b[39;49;00m, -\u001b[94m42\u001b[39;49;00m, \u001b[94m84\u001b[39;49;00m),\u001b[90m\u001b[39;49;00m\n",
      "            (-\u001b[94m42\u001b[39;49;00m, \u001b[94m42\u001b[39;49;00m, -\u001b[94m84\u001b[39;49;00m),\u001b[90m\u001b[39;49;00m\n",
      "        ]\u001b[90m\u001b[39;49;00m\n",
      "    )\u001b[90m\u001b[39;49;00m\n",
      "    \u001b[94mdef\u001b[39;49;00m \u001b[92mtest_sub\u001b[39;49;00m(a, b, res):\u001b[90m\u001b[39;49;00m\n",
      "        \u001b[94mfrom\u001b[39;49;00m \u001b[04m\u001b[96mmyfuncs\u001b[39;49;00m \u001b[94mimport\u001b[39;49;00m sub\u001b[90m\u001b[39;49;00m\n",
      "    \u001b[90m\u001b[39;49;00m\n",
      ">       \u001b[94massert\u001b[39;49;00m sub(a, b) == res\u001b[90m\u001b[39;49;00m\n",
      "\u001b[1m\u001b[31mE       assert 0 == 1\u001b[0m\n",
      "\u001b[1m\u001b[31mE        +  where 0 = <function sub at 0x7f9660d3e290>(42, 42)\u001b[0m\n",
      "\n",
      "\u001b[1m\u001b[31mtest_myfuncs.py\u001b[0m:33: AssertionError\n",
      "\u001b[36m\u001b[1m=========================== short test summary info ============================\u001b[0m\n",
      "\u001b[31mFAILED\u001b[0m test_myfuncs.py::\u001b[1mtest_sub[42-42-1]\u001b[0m - assert 0 == 1\n",
      "\u001b[31m========================= \u001b[31m\u001b[1m1 failed\u001b[0m, \u001b[32m10 passed\u001b[0m\u001b[31m in 0.09s\u001b[0m\u001b[31m =========================\u001b[0m\n",
      "\u001b[0m"
     ]
    }
   ],
   "source": [
    "! pytest -v"
   ]
  },
  {
   "cell_type": "markdown",
   "id": "911cc3ba-778e-4ccd-ab16-9556067ef1b4",
   "metadata": {},
   "source": [
    "Obviously, `42 - 42` is equal to 0 and not 1 !\n",
    "\n",
    "Now, we could change the test file to correct that and make a new commit with a message saying that we are fixing a previously introduced error.\n",
    "\n",
    "That is a **totally fine approach** but we will opt for a different one here. Indeed, we are a bit ashamed and we would like to re-write the history to **make it look like we never made this stupid mistake**.\n",
    "\n",
    "How can we use git to do that ?\n",
    "\n",
    "Luckily for us, this is the best case scenario here since our mistake is in the very last commit and we didn't actually push our commits on any remote. This means that our local copy is the only place where this commit exists.\n",
    "\n",
    "We have at least three options here:\n",
    "\n",
    "- Make the modification to the code and use `git commit --amend` to rewrite the latest commit. This is probably the **easiest solution** but it only works because the error is in the last commit.\n",
    "- Use [git revert](https://git-scm.com/docs/git-revert) with the hash of the commit we want to undo. This will create a new commit actually undoing the specified commit. We would then modify the file and make a new commit. This is a good approach but our mistake would still be visible in the history of the project.\n",
    "- Use [git reset](https://git-scm.com/docs/git-reset) to undo the last commit, make our modifications, and re-make a brand new commit as if nothing ever happened.\n",
    "\n",
    "Lets' try the third solution, the first and second ones can be good exercices for the interested reader."
   ]
  },
  {
   "cell_type": "code",
   "execution_count": 27,
   "id": "1bbdc960-6bd1-4b0f-87cf-0d36dad02117",
   "metadata": {},
   "outputs": [
    {
     "name": "stdout",
     "output_type": "stream",
     "text": [
      "HEAD is now at fcd5975 ignore Python generated files\n"
     ]
    }
   ],
   "source": [
    "! git reset --hard HEAD~1 "
   ]
  },
  {
   "cell_type": "markdown",
   "id": "18a95e26-de53-4d4d-a9bf-d6204d3f499b",
   "metadata": {},
   "source": [
    "The integer after the `~` symbol specifies how many commits we want to erase. In our case, there is only one.\n",
    "\n",
    "```{warning}\n",
    "We used the `--hard` option here which resets both the index **AND** the working tree. We are doing this to simply re-write our test function but this is VERY dangerous as you could easily lose important work. Usually, it is much better to use the `--mixed` option, which is the default anyway, which only resets the index but leaves the tree.\n",
    "```\n",
    "\n",
    "Our project is in a clean state:"
   ]
  },
  {
   "cell_type": "code",
   "execution_count": 28,
   "id": "5bb7651c-89a9-4532-8f1b-1b469b7694ae",
   "metadata": {},
   "outputs": [
    {
     "name": "stdout",
     "output_type": "stream",
     "text": [
      "On branch main\n",
      "nothing to commit, working tree clean\n"
     ]
    }
   ],
   "source": [
    "! git status"
   ]
  },
  {
   "cell_type": "markdown",
   "id": "96bb3021-6cd2-46fc-8b4b-c75a0861764c",
   "metadata": {},
   "source": [
    "But we lost our latest commit as well as the changes we made to the test file:"
   ]
  },
  {
   "cell_type": "code",
   "execution_count": 29,
   "id": "6788e48e-06f2-4247-82db-42fabe12139f",
   "metadata": {},
   "outputs": [
    {
     "name": "stdout",
     "output_type": "stream",
     "text": [
      "\u001b[33mcommit fcd59755c8f205e887bc502886e5dccacee07932\u001b[m\u001b[33m (\u001b[m\u001b[1;36mHEAD -> \u001b[m\u001b[1;32mmain\u001b[m\u001b[33m)\u001b[m\n",
      "Author: John Doe <john.doe@inria.fr>\n",
      "Date:   Tue Nov 21 13:41:30 2023 +0100\n",
      "\n",
      "    ignore Python generated files\n",
      "\n",
      "\u001b[33mcommit d5d3c04553c252334236ef07322675e1f90451ca\u001b[m\n",
      "Author: John Doe <john.doe@inria.fr>\n",
      "Date:   Tue Nov 21 13:40:58 2023 +0100\n",
      "\n",
      "    tests: add test function for add\n"
     ]
    }
   ],
   "source": [
    "! git log -2"
   ]
  },
  {
   "cell_type": "code",
   "execution_count": 30,
   "id": "b0bb347f-a4d9-4d53-b59c-46d7933df6c5",
   "metadata": {},
   "outputs": [
    {
     "name": "stdout",
     "output_type": "stream",
     "text": [
      "\n",
      "import pytest\n",
      "\n",
      "@pytest.mark.parametrize(\n",
      "    \"a,b,res\",\n",
      "    [\n",
      "        (0, 0, 0),\n",
      "        (0, 42, 42),\n",
      "        (42, 0, 42),\n",
      "        (42, -42, 0),\n",
      "        (-42, 42, 0),\n",
      "    ]\n",
      ")\n",
      "def test_add(a, b, res):\n",
      "    from myfuncs import add\n",
      "\n",
      "    assert add(a, b) == res\n"
     ]
    }
   ],
   "source": [
    "! cat test_myfuncs.py"
   ]
  },
  {
   "cell_type": "markdown",
   "id": "108f4163-740e-44b1-9503-6762d95368f4",
   "metadata": {},
   "source": [
    "You can clearly see the danger with this command. If we haden't this notebook with the code we initially wrote, we would have to start our `test_sub` function from scratch...\n",
    "\n",
    "Let's re-write our test function with the fix:"
   ]
  },
  {
   "cell_type": "code",
   "execution_count": 31,
   "id": "cffae0eb-816d-4ae1-bb5a-5a9c370f2d8f",
   "metadata": {},
   "outputs": [
    {
     "name": "stdout",
     "output_type": "stream",
     "text": [
      "Appending to test_myfuncs.py\n"
     ]
    }
   ],
   "source": [
    "%%writefile -a test_myfuncs.py\n",
    "\n",
    "@pytest.mark.parametrize(\n",
    "    \"a,b,res\",\n",
    "    [\n",
    "        (0, 0, 0),\n",
    "        (0, 42, -42),\n",
    "        (42, 0, 42),\n",
    "        (42, 42, 0), # Fixed\n",
    "        (42, -42, 84),\n",
    "        (-42, 42, -84),\n",
    "    ]\n",
    ")\n",
    "def test_sub(a, b, res):\n",
    "    from myfuncs import sub\n",
    "\n",
    "    assert sub(a, b) == res"
   ]
  },
  {
   "cell_type": "markdown",
   "id": "0097bedd-4368-4850-b1ac-10fd1cefbda6",
   "metadata": {},
   "source": [
    "But this time we learn from our mistakes, and we run the test **BEFORE** committing:"
   ]
  },
  {
   "cell_type": "code",
   "execution_count": 32,
   "id": "58f31f51-ec7f-4266-b7ff-9e323d43331f",
   "metadata": {},
   "outputs": [
    {
     "name": "stdout",
     "output_type": "stream",
     "text": [
      "\u001b[1m============================= test session starts ==============================\u001b[0m\n",
      "platform darwin -- Python 3.10.13, pytest-7.4.3, pluggy-1.3.0 -- /Users/nicolas.gensollen/opt/anaconda3/envs/now/bin/python\n",
      "cachedir: .pytest_cache\n",
      "rootdir: /Users/nicolas.gensollen/GitRepos/NOW-2023/notebooks/dummymaths\n",
      "plugins: anyio-3.5.0, dvc-3.30.1, hydra-core-1.3.2\n",
      "collected 11 items                                                             \u001b[0m\n",
      "\n",
      "test_myfuncs.py::test_add[0-0-0] \u001b[32mPASSED\u001b[0m\u001b[32m                                  [  9%]\u001b[0m\n",
      "test_myfuncs.py::test_add[0-42-42] \u001b[32mPASSED\u001b[0m\u001b[32m                                [ 18%]\u001b[0m\n",
      "test_myfuncs.py::test_add[42-0-42] \u001b[32mPASSED\u001b[0m\u001b[32m                                [ 27%]\u001b[0m\n",
      "test_myfuncs.py::test_add[42--42-0] \u001b[32mPASSED\u001b[0m\u001b[32m                               [ 36%]\u001b[0m\n",
      "test_myfuncs.py::test_add[-42-42-0] \u001b[32mPASSED\u001b[0m\u001b[32m                               [ 45%]\u001b[0m\n",
      "test_myfuncs.py::test_sub[0-0-0] \u001b[32mPASSED\u001b[0m\u001b[32m                                  [ 54%]\u001b[0m\n",
      "test_myfuncs.py::test_sub[0-42--42] \u001b[32mPASSED\u001b[0m\u001b[32m                               [ 63%]\u001b[0m\n",
      "test_myfuncs.py::test_sub[42-0-42] \u001b[32mPASSED\u001b[0m\u001b[32m                                [ 72%]\u001b[0m\n",
      "test_myfuncs.py::test_sub[42-42-0] \u001b[32mPASSED\u001b[0m\u001b[32m                                [ 81%]\u001b[0m\n",
      "test_myfuncs.py::test_sub[42--42-84] \u001b[32mPASSED\u001b[0m\u001b[32m                              [ 90%]\u001b[0m\n",
      "test_myfuncs.py::test_sub[-42-42--84] \u001b[32mPASSED\u001b[0m\u001b[32m                             [100%]\u001b[0m\n",
      "\n",
      "\u001b[32m============================== \u001b[32m\u001b[1m11 passed\u001b[0m\u001b[32m in 0.02s\u001b[0m\u001b[32m ==============================\u001b[0m\n",
      "\u001b[0m"
     ]
    }
   ],
   "source": [
    "! pytest -v"
   ]
  },
  {
   "cell_type": "markdown",
   "id": "c4654e21",
   "metadata": {
    "lines_to_next_cell": 0
   },
   "source": [
    "Great! Everything works!\n",
    "\n",
    "Let's add and commit these changes:"
   ]
  },
  {
   "cell_type": "code",
   "execution_count": 33,
   "id": "bc76204d",
   "metadata": {},
   "outputs": [],
   "source": [
    "! git add test_myfuncs.py"
   ]
  },
  {
   "cell_type": "code",
   "execution_count": 34,
   "id": "9cf20be0-c553-4216-992c-e35c77689373",
   "metadata": {},
   "outputs": [
    {
     "name": "stdout",
     "output_type": "stream",
     "text": [
      "[main d94aeda] add test function for sub\n",
      " 1 file changed, 16 insertions(+)\n"
     ]
    }
   ],
   "source": [
    "! git commit -m \"add test function for sub\""
   ]
  },
  {
   "cell_type": "markdown",
   "id": "be5f60d7",
   "metadata": {
    "lines_to_next_cell": 0
   },
   "source": [
    "Check the diff contained in this last commit:"
   ]
  },
  {
   "cell_type": "code",
   "execution_count": 35,
   "id": "70765fe4",
   "metadata": {},
   "outputs": [
    {
     "name": "stdout",
     "output_type": "stream",
     "text": [
      "\u001b[33mcommit d94aedaace794abcebfd0dcb9826664df081f380\u001b[m\u001b[33m (\u001b[m\u001b[1;36mHEAD -> \u001b[m\u001b[1;32mmain\u001b[m\u001b[33m)\u001b[m\n",
      "Author: John Doe <john.doe@inria.fr>\n",
      "Date:   Tue Nov 21 13:49:57 2023 +0100\n",
      "\n",
      "    add test function for sub\n",
      "\n",
      "\u001b[1mdiff --git a/test_myfuncs.py b/test_myfuncs.py\u001b[m\n",
      "\u001b[1mindex 97539fb..13824bf 100644\u001b[m\n",
      "\u001b[1m--- a/test_myfuncs.py\u001b[m\n",
      "\u001b[1m+++ b/test_myfuncs.py\u001b[m\n",
      "\u001b[36m@@ -15,3 +15,19 @@\u001b[m \u001b[mdef test_add(a, b, res):\u001b[m\n",
      "     from myfuncs import add\u001b[m\n",
      " \u001b[m\n",
      "     assert add(a, b) == res\u001b[m\n",
      "\u001b[32m+\u001b[m\n",
      "\u001b[32m+\u001b[m\u001b[32m@pytest.mark.parametrize(\u001b[m\n",
      "\u001b[32m+\u001b[m\u001b[32m    \"a,b,res\",\u001b[m\n",
      "\u001b[32m+\u001b[m\u001b[32m    [\u001b[m\n",
      "\u001b[32m+\u001b[m\u001b[32m        (0, 0, 0),\u001b[m\n",
      "\u001b[32m+\u001b[m\u001b[32m        (0, 42, -42),\u001b[m\n",
      "\u001b[32m+\u001b[m\u001b[32m        (42, 0, 42),\u001b[m\n",
      "\u001b[32m+\u001b[m\u001b[32m        (42, 42, 0), # Fixed\u001b[m\n",
      "\u001b[32m+\u001b[m\u001b[32m        (42, -42, 84),\u001b[m\n",
      "\u001b[32m+\u001b[m\u001b[32m        (-42, 42, -84),\u001b[m\n",
      "\u001b[32m+\u001b[m\u001b[32m    ]\u001b[m\n",
      "\u001b[32m+\u001b[m\u001b[32m)\u001b[m\n",
      "\u001b[32m+\u001b[m\u001b[32mdef test_sub(a, b, res):\u001b[m\n",
      "\u001b[32m+\u001b[m\u001b[32m    from myfuncs import sub\u001b[m\n",
      "\u001b[32m+\u001b[m\n",
      "\u001b[32m+\u001b[m\u001b[32m    assert sub(a, b) == res\u001b[m\n"
     ]
    }
   ],
   "source": [
    "! git log -1 -p"
   ]
  },
  {
   "cell_type": "markdown",
   "id": "505bf97e",
   "metadata": {},
   "source": [
    "## Working with remote repositories"
   ]
  },
  {
   "cell_type": "markdown",
   "id": "71680a61",
   "metadata": {
    "lines_to_next_cell": 0
   },
   "source": [
    "In this section, we are going to add remotes to our project.\n",
    "\n",
    "First of all, we shouldn't at this point have any remote configured i our local working copy:"
   ]
  },
  {
   "cell_type": "code",
   "execution_count": 36,
   "id": "a98a9be2",
   "metadata": {
    "lines_to_next_cell": 0
   },
   "outputs": [],
   "source": [
    "! git remote"
   ]
  },
  {
   "cell_type": "markdown",
   "id": "c8935ebd",
   "metadata": {
    "lines_to_next_cell": 0
   },
   "source": [
    "### Add a remote located somewhere else in the filesystem\n",
    "\n",
    "Move to another directory, out of the `dummymaths` one, and initialize there a bare repository. We will use it as a remote repository for `dummymaths`"
   ]
  },
  {
   "cell_type": "code",
   "execution_count": 37,
   "id": "84b0016e",
   "metadata": {
    "lines_to_next_cell": 0
   },
   "outputs": [
    {
     "name": "stdout",
     "output_type": "stream",
     "text": [
      "/Users/nicolas.gensollen/GitRepos/NOW-2023/notebooks\n",
      "/Users/nicolas.gensollen/GitRepos/NOW-2023/notebooks/dummymaths_remote\n",
      "Initialized empty Git repository in /Users/nicolas.gensollen/GitRepos/NOW-2023/notebooks/dummymaths_remote/\n"
     ]
    }
   ],
   "source": [
    "%cd ..\n",
    "! mkdir dummymaths_remote\n",
    "%cd dummymaths_remote\n",
    "! git init --bare"
   ]
  },
  {
   "cell_type": "markdown",
   "id": "947e379a",
   "metadata": {
    "lines_to_next_cell": 0
   },
   "source": [
    "Move back to the `dummymaths` directory, that contains your initial git working copy and from there add the newly created remote repository. The url of this repository is just a path in your filesystem:"
   ]
  },
  {
   "cell_type": "code",
   "execution_count": 38,
   "id": "82cc41e8",
   "metadata": {
    "lines_to_next_cell": 0
   },
   "outputs": [
    {
     "name": "stdout",
     "output_type": "stream",
     "text": [
      "/Users/nicolas.gensollen/GitRepos/NOW-2023/notebooks/dummymaths\n"
     ]
    }
   ],
   "source": [
    "%cd ../dummymaths\n",
    "! git remote add origin ../dummymaths_remote"
   ]
  },
  {
   "cell_type": "markdown",
   "id": "f1d87476-5d2f-4ee2-a235-f9282b5511f8",
   "metadata": {},
   "source": [
    "The project has a new remote called `origin` which translates in these two lines:"
   ]
  },
  {
   "cell_type": "code",
   "execution_count": 40,
   "id": "01314af2",
   "metadata": {},
   "outputs": [
    {
     "name": "stdout",
     "output_type": "stream",
     "text": [
      "origin\t../dummymaths_remote (fetch)\n",
      "origin\t../dummymaths_remote (push)\n"
     ]
    }
   ],
   "source": [
    "! git remote -v"
   ]
  },
  {
   "cell_type": "markdown",
   "id": "f33e0c45",
   "metadata": {
    "lines_to_next_cell": 0
   },
   "source": [
    "For a same remote, Git makes a difference between fetch/pull and push. Most of the time, these two lines will be identical.\n",
    "\n",
    "Push your `main` branch and enable upstream tracking in the meantime:"
   ]
  },
  {
   "cell_type": "code",
   "execution_count": 41,
   "id": "4b6b959b",
   "metadata": {
    "lines_to_next_cell": 0
   },
   "outputs": [
    {
     "name": "stdout",
     "output_type": "stream",
     "text": [
      "Enumerating objects: 15, done.\n",
      "Counting objects: 100% (15/15), done.\n",
      "Delta compression using up to 8 threads\n",
      "Compressing objects: 100% (12/12), done.\n",
      "Writing objects: 100% (15/15), 1.45 KiB | 744.00 KiB/s, done.\n",
      "Total 15 (delta 4), reused 0 (delta 0), pack-reused 0\n",
      "To ../dummymaths_remote\n",
      " * [new branch]      main -> main\n",
      "branch 'main' set up to track 'origin/main'.\n"
     ]
    }
   ],
   "source": [
    "! git push origin main -u"
   ]
  },
  {
   "cell_type": "markdown",
   "id": "52129938",
   "metadata": {
    "lines_to_next_cell": 0
   },
   "source": [
    "Check that the `main` branch is now referenced on the remote repository:"
   ]
  },
  {
   "cell_type": "code",
   "execution_count": 42,
   "id": "27361713",
   "metadata": {
    "lines_to_next_cell": 0
   },
   "outputs": [
    {
     "name": "stdout",
     "output_type": "stream",
     "text": [
      "* remote origin\n",
      "  Fetch URL: ../dummymaths_remote\n",
      "  Push  URL: ../dummymaths_remote\n",
      "  HEAD branch: main\n",
      "  Remote branch:\n",
      "    main tracked\n",
      "  Local branch configured for 'git pull':\n",
      "    main merges with remote main\n",
      "  Local ref configured for 'git push':\n",
      "    main pushes to main (up to date)\n"
     ]
    }
   ],
   "source": [
    "! git remote show origin"
   ]
  },
  {
   "cell_type": "markdown",
   "id": "3ffb3a9e",
   "metadata": {
    "lines_to_next_cell": 0
   },
   "source": [
    "In another directory, clone a repository hosted on gitlab:"
   ]
  },
  {
   "cell_type": "code",
   "execution_count": 43,
   "id": "fedeba55",
   "metadata": {
    "lines_to_next_cell": 0
   },
   "outputs": [
    {
     "name": "stdout",
     "output_type": "stream",
     "text": [
      "/Users/nicolas.gensollen/GitRepos/NOW-2023/notebooks\n",
      "Cloning into 'git-tutorial'...\n",
      "remote: Enumerating objects: 551, done.\u001b[K\n",
      "remote: Counting objects: 100% (121/121), done.\u001b[K\n",
      "remote: Compressing objects: 100% (53/53), done.\u001b[K\n",
      "remote: Total 551 (delta 55), reused 105 (delta 48), pack-reused 430\u001b[K\n",
      "Receiving objects: 100% (551/551), 4.88 MiB | 10.53 MiB/s, done.\n",
      "Resolving deltas: 100% (242/242), done.\n"
     ]
    }
   ],
   "source": [
    "%cd ..\n",
    "! git clone https://gitlab.inria.fr/git-tutorial/git-tutorial.git"
   ]
  },
  {
   "cell_type": "markdown",
   "id": "a154079e",
   "metadata": {
    "lines_to_next_cell": 0
   },
   "source": [
    "You can check the status of your local copy and the information about the remote repository:"
   ]
  },
  {
   "cell_type": "code",
   "execution_count": 44,
   "id": "a7303870",
   "metadata": {},
   "outputs": [
    {
     "name": "stdout",
     "output_type": "stream",
     "text": [
      "/Users/nicolas.gensollen/GitRepos/NOW-2023/notebooks/git-tutorial\n",
      "On branch main\n",
      "Your branch is up to date with 'origin/main'.\n",
      "\n",
      "nothing to commit, working tree clean\n",
      "origin\thttps://gitlab.inria.fr/git-tutorial/git-tutorial.git (fetch)\n",
      "origin\thttps://gitlab.inria.fr/git-tutorial/git-tutorial.git (push)\n"
     ]
    }
   ],
   "source": [
    "%cd git-tutorial\n",
    "! git status\n",
    "! git remote -v"
   ]
  },
  {
   "cell_type": "markdown",
   "id": "9d45d7f9-0ccd-46cf-9b62-4dc6b14bcc48",
   "metadata": {},
   "source": [
    "Again we have a remote called `origin`, but the URL is not a path in our filesystem but the URL of the repository on GitLab."
   ]
  },
  {
   "cell_type": "markdown",
   "id": "c7625ac1",
   "metadata": {},
   "source": [
    "## Manipulating branches"
   ]
  },
  {
   "cell_type": "markdown",
   "id": "621e7509",
   "metadata": {
    "lines_to_next_cell": 0
   },
   "source": [
    "Move back to the `dummymaths` directory and list your local and remote branches:"
   ]
  },
  {
   "cell_type": "code",
   "execution_count": 45,
   "id": "f901f2c0",
   "metadata": {
    "lines_to_next_cell": 0
   },
   "outputs": [
    {
     "name": "stdout",
     "output_type": "stream",
     "text": [
      "/Users/nicolas.gensollen/GitRepos/NOW-2023/notebooks/dummymaths\n",
      "* \u001b[32mmain\u001b[m\n"
     ]
    }
   ],
   "source": [
    "%cd ../dummymaths\n",
    "! git branch"
   ]
  },
  {
   "cell_type": "markdown",
   "id": "61b64268-8598-4a13-b3c0-9518a68a996d",
   "metadata": {},
   "source": [
    "By default, [git branch](https://git-scm.com/docs/git-branch) only lists the local branches. If you want to also list remote branches, you can add the `--all` option:"
   ]
  },
  {
   "cell_type": "code",
   "execution_count": 46,
   "id": "7c81801f",
   "metadata": {},
   "outputs": [
    {
     "name": "stdout",
     "output_type": "stream",
     "text": [
      "* \u001b[32mmain\u001b[m\n",
      "  \u001b[31mremotes/origin/main\u001b[m\n"
     ]
    }
   ],
   "source": [
    "! git branch --all"
   ]
  },
  {
   "cell_type": "markdown",
   "id": "5f3b314b",
   "metadata": {
    "lines_to_next_cell": 0
   },
   "source": [
    "### Create a new branch and work on it\n",
    "\n",
    "Create a branch called `multiply` and list the branches again:"
   ]
  },
  {
   "cell_type": "code",
   "execution_count": 47,
   "id": "eb856949",
   "metadata": {
    "lines_to_next_cell": 0
   },
   "outputs": [
    {
     "name": "stdout",
     "output_type": "stream",
     "text": [
      "* \u001b[32mmain\u001b[m\n",
      "  multiply\u001b[m\n"
     ]
    }
   ],
   "source": [
    "! git branch multiply\n",
    "! git branch"
   ]
  },
  {
   "cell_type": "markdown",
   "id": "90c9a6f8",
   "metadata": {
    "lines_to_next_cell": 0
   },
   "source": [
    "Current branch is still `main` but there's a new `multiply` branch listed. Also note how immediate it is to create a new branch.\n",
    "\n",
    "We can now switch to the `multiply` branch with the [git switch](https://git-scm.com/docs/git-switch) command, and list the local branches again:"
   ]
  },
  {
   "cell_type": "code",
   "execution_count": 48,
   "id": "6e6f04ee",
   "metadata": {
    "lines_to_next_cell": 0
   },
   "outputs": [
    {
     "name": "stdout",
     "output_type": "stream",
     "text": [
      "Switched to branch 'multiply'\n",
      "  main\u001b[m\n",
      "* \u001b[32mmultiply\u001b[m\n"
     ]
    }
   ],
   "source": [
    "! git switch multiply\n",
    "! git branch"
   ]
  },
  {
   "cell_type": "markdown",
   "id": "cc2b732f",
   "metadata": {
    "lines_to_next_cell": 0
   },
   "source": [
    "Now let's display the history of commits on both branches:"
   ]
  },
  {
   "cell_type": "code",
   "execution_count": 49,
   "id": "11a7b296",
   "metadata": {
    "lines_to_next_cell": 0
   },
   "outputs": [
    {
     "name": "stdout",
     "output_type": "stream",
     "text": [
      "* \u001b[33md94aeda\u001b[m\u001b[33m (\u001b[m\u001b[1;36mHEAD -> \u001b[m\u001b[1;32mmultiply\u001b[m\u001b[33m, \u001b[m\u001b[1;31morigin/main\u001b[m\u001b[33m, \u001b[m\u001b[1;32mmain\u001b[m\u001b[33m)\u001b[m add test function for sub\n",
      "* \u001b[33mfcd5975\u001b[m ignore Python generated files\n",
      "* \u001b[33md5d3c04\u001b[m tests: add test function for add\n",
      "* \u001b[33md557837\u001b[m initial version of myfuncs.py\n",
      "* \u001b[33mceb8dd5\u001b[m initial commit\n"
     ]
    }
   ],
   "source": [
    "! git log --decorate --graph --oneline --all"
   ]
  },
  {
   "cell_type": "markdown",
   "id": "57030b63",
   "metadata": {
    "lines_to_next_cell": 0
   },
   "source": [
    "```{note}\n",
    "You can also try with a graphical tool, such as `gitk` using `gitk --all`.\n",
    "```\n",
    "\n",
    "Let's add a new multiply function to the `myfuncs.py` module:"
   ]
  },
  {
   "cell_type": "code",
   "execution_count": 50,
   "id": "14969e70",
   "metadata": {},
   "outputs": [
    {
     "name": "stdout",
     "output_type": "stream",
     "text": [
      "Appending to myfuncs.py\n"
     ]
    }
   ],
   "source": [
    "%%writefile -a myfuncs.py\n",
    "\n",
    "def multiply(a, b):\n",
    "    \"\"\"Multiply a by b.\"\"\"\n",
    "    return a * b"
   ]
  },
  {
   "cell_type": "markdown",
   "id": "edbdc3f6",
   "metadata": {
    "lines_to_next_cell": 0
   },
   "source": [
    "Commit the changes above, they should end up in the `multiply` branch:"
   ]
  },
  {
   "cell_type": "code",
   "execution_count": 51,
   "id": "0681a53b",
   "metadata": {
    "lines_to_next_cell": 0
   },
   "outputs": [
    {
     "name": "stdout",
     "output_type": "stream",
     "text": [
      "[multiply 21d23f3] myfuncs: add the multiply function\n",
      " 1 file changed, 4 insertions(+)\n",
      "* \u001b[33m21d23f3\u001b[m\u001b[33m (\u001b[m\u001b[1;36mHEAD -> \u001b[m\u001b[1;32mmultiply\u001b[m\u001b[33m)\u001b[m myfuncs: add the multiply function\n",
      "* \u001b[33md94aeda\u001b[m\u001b[33m (\u001b[m\u001b[1;31morigin/main\u001b[m\u001b[33m, \u001b[m\u001b[1;32mmain\u001b[m\u001b[33m)\u001b[m add test function for sub\n",
      "* \u001b[33mfcd5975\u001b[m ignore Python generated files\n",
      "* \u001b[33md5d3c04\u001b[m tests: add test function for add\n",
      "* \u001b[33md557837\u001b[m initial version of myfuncs.py\n",
      "* \u001b[33mceb8dd5\u001b[m initial commit\n"
     ]
    }
   ],
   "source": [
    "! git commit -am \"myfuncs: add the multiply function\"\n",
    "! git log --decorate --graph --oneline --all"
   ]
  },
  {
   "cell_type": "markdown",
   "id": "8fead95a",
   "metadata": {
    "lines_to_next_cell": 0
   },
   "source": [
    "The `multiply` branch is now one commit ahead of `main`.\n",
    "\n",
    "Now switch back to the `main` branch:"
   ]
  },
  {
   "cell_type": "code",
   "execution_count": 52,
   "id": "2b41cdce",
   "metadata": {},
   "outputs": [
    {
     "name": "stdout",
     "output_type": "stream",
     "text": [
      "Switched to branch 'main'\n",
      "Your branch is up to date with 'origin/main'.\n"
     ]
    }
   ],
   "source": [
    "! git switch main"
   ]
  },
  {
   "cell_type": "markdown",
   "id": "910f1ed9",
   "metadata": {},
   "source": [
    "And add a test function to `test_myfuncs.py` to test our new multiply function:"
   ]
  },
  {
   "cell_type": "code",
   "execution_count": 53,
   "id": "96c122f2",
   "metadata": {
    "lines_to_next_cell": 0
   },
   "outputs": [
    {
     "name": "stdout",
     "output_type": "stream",
     "text": [
      "Appending to test_myfuncs.py\n"
     ]
    }
   ],
   "source": [
    "%%writefile -a test_myfuncs.py\n",
    "\n",
    "@pytest.mark.parametrize(\n",
    "    \"a,b,res\",\n",
    "    [\n",
    "        (0, 0, 0),\n",
    "        (0, 42, 0),\n",
    "        (42, 0, 0),\n",
    "        (42, 1, 42),\n",
    "        (1, 42, 41),\n",
    "        (-1, 42, -42),\n",
    "    ]\n",
    ")\n",
    "def test_multiply(a, b, res):\n",
    "    from myfuncs import multiply\n",
    "    \n",
    "    assert multiply(a, b) == res"
   ]
  },
  {
   "cell_type": "markdown",
   "id": "8a70c5cb",
   "metadata": {
    "lines_to_next_cell": 0
   },
   "source": [
    "Finally, commit the changes above and display the branch history:"
   ]
  },
  {
   "cell_type": "code",
   "execution_count": 54,
   "id": "ef9792fa",
   "metadata": {},
   "outputs": [
    {
     "name": "stdout",
     "output_type": "stream",
     "text": [
      "[main 3adeb7c] tests: add test function for multiply\n",
      " 1 file changed, 16 insertions(+)\n",
      "* \u001b[33m3adeb7c\u001b[m\u001b[33m (\u001b[m\u001b[1;36mHEAD -> \u001b[m\u001b[1;32mmain\u001b[m\u001b[33m)\u001b[m tests: add test function for multiply\n",
      "\u001b[31m|\u001b[m * \u001b[33m21d23f3\u001b[m\u001b[33m (\u001b[m\u001b[1;32mmultiply\u001b[m\u001b[33m)\u001b[m myfuncs: add the multiply function\n",
      "\u001b[31m|\u001b[m\u001b[31m/\u001b[m  \n",
      "* \u001b[33md94aeda\u001b[m\u001b[33m (\u001b[m\u001b[1;31morigin/main\u001b[m\u001b[33m)\u001b[m add test function for sub\n",
      "* \u001b[33mfcd5975\u001b[m ignore Python generated files\n",
      "* \u001b[33md5d3c04\u001b[m tests: add test function for add\n",
      "* \u001b[33md557837\u001b[m initial version of myfuncs.py\n",
      "* \u001b[33mceb8dd5\u001b[m initial commit\n"
     ]
    }
   ],
   "source": [
    "! git commit -am \"tests: add test function for multiply\"\n",
    "! git log --decorate --graph --oneline --all"
   ]
  },
  {
   "cell_type": "markdown",
   "id": "3786bc11",
   "metadata": {
    "lines_to_next_cell": 2
   },
   "source": [
    "As we can see, the branches `main` and `multiply` are diverging.\n",
    "\n",
    "Let's see how we can merge them in a single branch."
   ]
  },
  {
   "cell_type": "markdown",
   "id": "90b9c8f3",
   "metadata": {},
   "source": [
    "## Merging branches\n",
    "\n",
    "In this section, we are going to create several branches and merge them in the `main` branch.\n",
    "\n",
    "### The fast-forward merge\n",
    "\n",
    "Let's start with a new `divide` branch in which we are planning to write a function implementing division:"
   ]
  },
  {
   "cell_type": "code",
   "execution_count": 55,
   "id": "1e2d7efc",
   "metadata": {
    "lines_to_next_cell": 0
   },
   "outputs": [],
   "source": [
    "! git branch divide"
   ]
  },
  {
   "cell_type": "code",
   "execution_count": 56,
   "id": "40ebbf3f",
   "metadata": {},
   "outputs": [
    {
     "name": "stdout",
     "output_type": "stream",
     "text": [
      "Switched to a new branch 'todo'\n"
     ]
    }
   ],
   "source": [
    "! git switch -c todo"
   ]
  },
  {
   "cell_type": "markdown",
   "id": "cf8c15aa-4902-4779-a86f-de6badf91f9c",
   "metadata": {},
   "source": [
    "we can list the different branches of the project:"
   ]
  },
  {
   "cell_type": "code",
   "execution_count": 58,
   "id": "6f59f951-6c8b-400a-bc7e-fdc63b89e5ee",
   "metadata": {},
   "outputs": [
    {
     "name": "stdout",
     "output_type": "stream",
     "text": [
      "  divide\u001b[m\n",
      "  main\u001b[m\n",
      "  multiply\u001b[m\n",
      "* \u001b[32mtodo\u001b[m\n"
     ]
    }
   ],
   "source": [
    "! git branch"
   ]
  },
  {
   "cell_type": "code",
   "execution_count": 59,
   "id": "065594d1",
   "metadata": {},
   "outputs": [
    {
     "name": "stdout",
     "output_type": "stream",
     "text": [
      "On branch todo\n",
      "nothing to commit, working tree clean\n"
     ]
    }
   ],
   "source": [
    "! git status"
   ]
  },
  {
   "cell_type": "markdown",
   "id": "6d24a24c",
   "metadata": {
    "lines_to_next_cell": 0
   },
   "source": [
    "You are now on the `todo` branch. Edit the README.md file and add the following content at the end:"
   ]
  },
  {
   "cell_type": "code",
   "execution_count": 60,
   "id": "77ec509e",
   "metadata": {
    "lines_to_next_cell": 0
   },
   "outputs": [
    {
     "name": "stdout",
     "output_type": "stream",
     "text": [
      "Appending to README.md\n"
     ]
    }
   ],
   "source": [
    "%%writefile -a README.md\n",
    "\n",
    "## TODO\n",
    "Add _divide_ function"
   ]
  },
  {
   "cell_type": "code",
   "execution_count": 61,
   "id": "bd49790c",
   "metadata": {},
   "outputs": [
    {
     "name": "stdout",
     "output_type": "stream",
     "text": [
      "This is the new README file\n",
      "\n",
      "## TODO\n",
      "Add _divide_ function\n"
     ]
    }
   ],
   "source": [
    "! cat README.md"
   ]
  },
  {
   "cell_type": "markdown",
   "id": "527e9452",
   "metadata": {
    "lines_to_next_cell": 0
   },
   "source": [
    "Commit the change above:"
   ]
  },
  {
   "cell_type": "code",
   "execution_count": 62,
   "id": "cf6287a2",
   "metadata": {
    "lines_to_next_cell": 0
   },
   "outputs": [
    {
     "name": "stdout",
     "output_type": "stream",
     "text": [
      "[todo d2995f1] README.md: bootstrap todo section with a divide function item\n",
      " 1 file changed, 3 insertions(+)\n",
      "On branch todo\n",
      "nothing to commit, working tree clean\n",
      "* \u001b[33md2995f1\u001b[m\u001b[33m (\u001b[m\u001b[1;36mHEAD -> \u001b[m\u001b[1;32mtodo\u001b[m\u001b[33m)\u001b[m README.md: bootstrap todo section with a divide function item\n",
      "* \u001b[33m3adeb7c\u001b[m\u001b[33m (\u001b[m\u001b[1;32mmain\u001b[m\u001b[33m, \u001b[m\u001b[1;32mdivide\u001b[m\u001b[33m)\u001b[m tests: add test function for multiply\n",
      "\u001b[31m|\u001b[m * \u001b[33m21d23f3\u001b[m\u001b[33m (\u001b[m\u001b[1;32mmultiply\u001b[m\u001b[33m)\u001b[m myfuncs: add the multiply function\n",
      "\u001b[31m|\u001b[m\u001b[31m/\u001b[m  \n",
      "* \u001b[33md94aeda\u001b[m\u001b[33m (\u001b[m\u001b[1;31morigin/main\u001b[m\u001b[33m)\u001b[m add test function for sub\n",
      "* \u001b[33mfcd5975\u001b[m ignore Python generated files\n",
      "* \u001b[33md5d3c04\u001b[m tests: add test function for add\n",
      "* \u001b[33md557837\u001b[m initial version of myfuncs.py\n",
      "* \u001b[33mceb8dd5\u001b[m initial commit\n"
     ]
    }
   ],
   "source": [
    "! git commit -am \"README.md: bootstrap todo section with a divide function item\"\n",
    "! git status\n",
    "! git log --decorate --graph --oneline --all"
   ]
  },
  {
   "cell_type": "markdown",
   "id": "54c0e01e",
   "metadata": {
    "lines_to_next_cell": 0
   },
   "source": [
    "The `todo` branch is now one commit ahead of the `main` branch.\n",
    "\n",
    "Let's switch back to `main` and merge the `todo` branch in `main`:"
   ]
  },
  {
   "cell_type": "code",
   "execution_count": 64,
   "id": "cff668c3",
   "metadata": {
    "lines_to_next_cell": 0
   },
   "outputs": [
    {
     "name": "stdout",
     "output_type": "stream",
     "text": [
      "Already on 'main'\n",
      "Your branch is ahead of 'origin/main' by 1 commit.\n",
      "  (use \"git push\" to publish your local commits)\n"
     ]
    }
   ],
   "source": [
    "! git switch main"
   ]
  },
  {
   "cell_type": "code",
   "execution_count": 65,
   "id": "3f7e434a",
   "metadata": {},
   "outputs": [
    {
     "name": "stdout",
     "output_type": "stream",
     "text": [
      "Updating 3adeb7c..d2995f1\n",
      "Fast-forward\n",
      " README.md | 3 \u001b[32m+++\u001b[m\n",
      " 1 file changed, 3 insertions(+)\n"
     ]
    }
   ],
   "source": [
    "! git merge todo"
   ]
  },
  {
   "cell_type": "markdown",
   "id": "17b16696",
   "metadata": {
    "lines_to_next_cell": 0
   },
   "source": [
    "We are in a very simple case where Git can perform a \"fast-forward\" merge. \n",
    "\n",
    "```{note}\n",
    "A fast-forward merge can occur when there is a linear path from the current branch tip to the target branch. Instead of “actually” merging the branches, Git only moves (i.e., “fast forward”) the current branch tip up to the target branch tip.\n",
    "\n",
    "You can read more about fast-forward merge [here](https://www.atlassian.com/git/tutorials/using-branches/git-merge).\n",
    "```\n",
    "\n",
    "In this case, Git will just \"fast-forward\" `main` to `todo`:"
   ]
  },
  {
   "cell_type": "code",
   "execution_count": 66,
   "id": "eac2e1df",
   "metadata": {
    "lines_to_next_cell": 0
   },
   "outputs": [
    {
     "name": "stdout",
     "output_type": "stream",
     "text": [
      "* \u001b[33md2995f1\u001b[m\u001b[33m (\u001b[m\u001b[1;36mHEAD -> \u001b[m\u001b[1;32mmain\u001b[m\u001b[33m, \u001b[m\u001b[1;32mtodo\u001b[m\u001b[33m)\u001b[m README.md: bootstrap todo section with a divide function item\n",
      "* \u001b[33m3adeb7c\u001b[m\u001b[33m (\u001b[m\u001b[1;32mdivide\u001b[m\u001b[33m)\u001b[m tests: add test function for multiply\n",
      "\u001b[31m|\u001b[m * \u001b[33m21d23f3\u001b[m\u001b[33m (\u001b[m\u001b[1;32mmultiply\u001b[m\u001b[33m)\u001b[m myfuncs: add the multiply function\n",
      "\u001b[31m|\u001b[m\u001b[31m/\u001b[m  \n",
      "* \u001b[33md94aeda\u001b[m\u001b[33m (\u001b[m\u001b[1;31morigin/main\u001b[m\u001b[33m)\u001b[m add test function for sub\n",
      "* \u001b[33mfcd5975\u001b[m ignore Python generated files\n",
      "* \u001b[33md5d3c04\u001b[m tests: add test function for add\n",
      "* \u001b[33md557837\u001b[m initial version of myfuncs.py\n",
      "* \u001b[33mceb8dd5\u001b[m initial commit\n"
     ]
    }
   ],
   "source": [
    "! git log --decorate --graph --oneline --all"
   ]
  },
  {
   "cell_type": "markdown",
   "id": "b8ba7101",
   "metadata": {
    "lines_to_next_cell": 0
   },
   "source": [
    "As good citizens, now that the `todo` branch is not needed anymore, let's remove \n",
    "it:"
   ]
  },
  {
   "cell_type": "code",
   "execution_count": 67,
   "id": "6622b576",
   "metadata": {
    "lines_to_next_cell": 0
   },
   "outputs": [
    {
     "name": "stdout",
     "output_type": "stream",
     "text": [
      "Deleted branch todo (was d2995f1).\n",
      "* \u001b[33md2995f1\u001b[m\u001b[33m (\u001b[m\u001b[1;36mHEAD -> \u001b[m\u001b[1;32mmain\u001b[m\u001b[33m)\u001b[m README.md: bootstrap todo section with a divide function item\n",
      "* \u001b[33m3adeb7c\u001b[m\u001b[33m (\u001b[m\u001b[1;32mdivide\u001b[m\u001b[33m)\u001b[m tests: add test function for multiply\n",
      "\u001b[31m|\u001b[m * \u001b[33m21d23f3\u001b[m\u001b[33m (\u001b[m\u001b[1;32mmultiply\u001b[m\u001b[33m)\u001b[m myfuncs: add the multiply function\n",
      "\u001b[31m|\u001b[m\u001b[31m/\u001b[m  \n",
      "* \u001b[33md94aeda\u001b[m\u001b[33m (\u001b[m\u001b[1;31morigin/main\u001b[m\u001b[33m)\u001b[m add test function for sub\n",
      "* \u001b[33mfcd5975\u001b[m ignore Python generated files\n",
      "* \u001b[33md5d3c04\u001b[m tests: add test function for add\n",
      "* \u001b[33md557837\u001b[m initial version of myfuncs.py\n",
      "* \u001b[33mceb8dd5\u001b[m initial commit\n"
     ]
    }
   ],
   "source": [
    "! git branch -d todo\n",
    "! git log --decorate --graph --oneline --all"
   ]
  },
  {
   "cell_type": "markdown",
   "id": "d4f55ddc",
   "metadata": {
    "lines_to_next_cell": 0
   },
   "source": [
    "### The merge commit case\n",
    "\n",
    "The `multiply` and `main` branches are currently diverging. Normally the changes introduced in `multiply` are separate enough from the changes added to `main` such that merging `multiply` in `main `should not conflict.\n",
    "\n",
    "Merge the `multiply` branch into `main`:"
   ]
  },
  {
   "cell_type": "code",
   "execution_count": 68,
   "id": "35f4d3db",
   "metadata": {
    "lines_to_next_cell": 0
   },
   "outputs": [
    {
     "name": "stdout",
     "output_type": "stream",
     "text": [
      "Merge made by the 'ort' strategy.\n",
      " myfuncs.py | 4 \u001b[32m++++\u001b[m\n",
      " 1 file changed, 4 insertions(+)\n"
     ]
    }
   ],
   "source": [
    "! git merge multiply --no-edit"
   ]
  },
  {
   "cell_type": "markdown",
   "id": "49810f04",
   "metadata": {},
   "source": [
    "The merge command created a merge commit:"
   ]
  },
  {
   "cell_type": "code",
   "execution_count": 69,
   "id": "b72b3004",
   "metadata": {},
   "outputs": [
    {
     "name": "stdout",
     "output_type": "stream",
     "text": [
      "*   \u001b[33mb1efbf9\u001b[m\u001b[33m (\u001b[m\u001b[1;36mHEAD -> \u001b[m\u001b[1;32mmain\u001b[m\u001b[33m)\u001b[m Merge branch 'multiply'\n",
      "\u001b[31m|\u001b[m\u001b[32m\\\u001b[m  \n",
      "\u001b[31m|\u001b[m * \u001b[33m21d23f3\u001b[m\u001b[33m (\u001b[m\u001b[1;32mmultiply\u001b[m\u001b[33m)\u001b[m myfuncs: add the multiply function\n",
      "* \u001b[32m|\u001b[m \u001b[33md2995f1\u001b[m README.md: bootstrap todo section with a divide function item\n",
      "* \u001b[32m|\u001b[m \u001b[33m3adeb7c\u001b[m\u001b[33m (\u001b[m\u001b[1;32mdivide\u001b[m\u001b[33m)\u001b[m tests: add test function for multiply\n",
      "\u001b[32m|\u001b[m\u001b[32m/\u001b[m  \n",
      "* \u001b[33md94aeda\u001b[m\u001b[33m (\u001b[m\u001b[1;31morigin/main\u001b[m\u001b[33m)\u001b[m add test function for sub\n",
      "* \u001b[33mfcd5975\u001b[m ignore Python generated files\n",
      "* \u001b[33md5d3c04\u001b[m tests: add test function for add\n",
      "* \u001b[33md557837\u001b[m initial version of myfuncs.py\n",
      "* \u001b[33mceb8dd5\u001b[m initial commit\n"
     ]
    }
   ],
   "source": [
    "! git log --decorate --graph --oneline --all"
   ]
  },
  {
   "cell_type": "markdown",
   "id": "4bf7ca90",
   "metadata": {
    "lines_to_next_cell": 0
   },
   "source": [
    "### The conflict!\n",
    "\n",
    "Now let's trigger a conflict on purpose by finally switching to the `divide` branch:"
   ]
  },
  {
   "cell_type": "code",
   "execution_count": 70,
   "id": "f6fa0565",
   "metadata": {
    "lines_to_next_cell": 0
   },
   "outputs": [
    {
     "name": "stdout",
     "output_type": "stream",
     "text": [
      "Switched to branch 'divide'\n"
     ]
    }
   ],
   "source": [
    "! git switch divide"
   ]
  },
  {
   "cell_type": "markdown",
   "id": "34122b7c",
   "metadata": {
    "lines_to_next_cell": 0
   },
   "source": [
    "Add the missing `divide` function to the `myfuncs.py` module:"
   ]
  },
  {
   "cell_type": "code",
   "execution_count": 71,
   "id": "5952570a",
   "metadata": {},
   "outputs": [
    {
     "name": "stdout",
     "output_type": "stream",
     "text": [
      "Appending to myfuncs.py\n"
     ]
    }
   ],
   "source": [
    "%%writefile -a myfuncs.py\n",
    "\n",
    "def divide(a, b):\n",
    "      \"\"\"Divide a by b.\"\"\"\n",
    "      try:\n",
    "          return a / b\n",
    "      except ZeroDivisionError:\n",
    "          return None"
   ]
  },
  {
   "cell_type": "markdown",
   "id": "9dea59a3",
   "metadata": {
    "lines_to_next_cell": 0
   },
   "source": [
    "And commit that change:"
   ]
  },
  {
   "cell_type": "code",
   "execution_count": 72,
   "id": "e9ee6c9b",
   "metadata": {
    "lines_to_next_cell": 0
   },
   "outputs": [
    {
     "name": "stdout",
     "output_type": "stream",
     "text": [
      "[divide 05b3427] myfuncs: add divide function\n",
      " 1 file changed, 7 insertions(+)\n"
     ]
    }
   ],
   "source": [
    "! git commit -am \"myfuncs: add divide function\""
   ]
  },
  {
   "cell_type": "markdown",
   "id": "0f586301",
   "metadata": {
    "lines_to_next_cell": 0
   },
   "source": [
    "Add the related test function to the `test_myfuncs.py` module:"
   ]
  },
  {
   "cell_type": "code",
   "execution_count": 73,
   "id": "f1b57c1c",
   "metadata": {},
   "outputs": [
    {
     "name": "stdout",
     "output_type": "stream",
     "text": [
      "Appending to test_myfuncs.py\n"
     ]
    }
   ],
   "source": [
    "%%writefile -a test_myfuncs.py\n",
    "\n",
    "@pytest.mark.parametrize(\n",
    "      \"a,b,res\",\n",
    "      [\n",
    "          (0, 0, None),\n",
    "          (0, 42, 0),\n",
    "          (42, 0, None),\n",
    "          (42, 1, 42),\n",
    "          (1, 2, 0.5),\n",
    "          (-1, 2, -0.5),\n",
    "      ]\n",
    ")\n",
    "def test_divide(a, b, res):\n",
    "    from myfuncs import divide\n",
    "      \n",
    "    assert divide(a, b) == res"
   ]
  },
  {
   "cell_type": "markdown",
   "id": "dff6ae90",
   "metadata": {
    "lines_to_next_cell": 0
   },
   "source": [
    "And commit that change:"
   ]
  },
  {
   "cell_type": "code",
   "execution_count": 74,
   "id": "470ee094",
   "metadata": {
    "lines_to_next_cell": 0
   },
   "outputs": [
    {
     "name": "stdout",
     "output_type": "stream",
     "text": [
      "[divide 57f967c] tests: add test function for divide\n",
      " 1 file changed, 16 insertions(+)\n"
     ]
    }
   ],
   "source": [
    "! git commit -am \"tests: add test function for divide\""
   ]
  },
  {
   "cell_type": "markdown",
   "id": "9dae99fb",
   "metadata": {
    "lines_to_next_cell": 0
   },
   "source": [
    "Now try to merge the `divide` branch in the `main` branch:"
   ]
  },
  {
   "cell_type": "code",
   "execution_count": 76,
   "id": "63f8a44b",
   "metadata": {
    "lines_to_next_cell": 0
   },
   "outputs": [
    {
     "name": "stdout",
     "output_type": "stream",
     "text": [
      "Already on 'main'\n",
      "Your branch is ahead of 'origin/main' by 4 commits.\n",
      "  (use \"git push\" to publish your local commits)\n"
     ]
    }
   ],
   "source": [
    "! git switch main"
   ]
  },
  {
   "cell_type": "code",
   "execution_count": 77,
   "id": "9747c851",
   "metadata": {},
   "outputs": [
    {
     "name": "stdout",
     "output_type": "stream",
     "text": [
      "Auto-merging myfuncs.py\n",
      "CONFLICT (content): Merge conflict in myfuncs.py\n",
      "Automatic merge failed; fix conflicts and then commit the result.\n"
     ]
    }
   ],
   "source": [
    "! git merge divide --no-edit"
   ]
  },
  {
   "cell_type": "markdown",
   "id": "b67d65b7",
   "metadata": {
    "lines_to_next_cell": 0
   },
   "source": [
    "Git is telling us that there is a conflict and that it cannot perform the merge by itself. It requests us to decide how we want to handle each conflict.\n",
    "\n",
    "In this case, Git is telling us that the problem is located in the file `myfuncs`. It is also telling us that we should \"fix\" the conflict and then commit the result.\n",
    "    \n",
    "Fair enough, but how do we \"fix\" the conflict ?\n",
    "\n",
    "Let's take a look at the problematic file:"
   ]
  },
  {
   "cell_type": "code",
   "execution_count": 78,
   "id": "8f34d9ba",
   "metadata": {},
   "outputs": [
    {
     "name": "stdout",
     "output_type": "stream",
     "text": [
      "\n",
      "\"\"\"Some useless mathematical utility functions.\"\"\"\n",
      "\n",
      "def add(a, b):\n",
      "    \"\"\"Return the sum of a and b.\"\"\"\n",
      "    return a + b\n",
      "\n",
      "def sub(a, b):\n",
      "    \"\"\"Substract b from a.\"\"\"\n",
      "    return a - b\n",
      "\n",
      "<<<<<<< HEAD\n",
      "def multiply(a, b):\n",
      "    \"\"\"Multiply a by b.\"\"\"\n",
      "    return a * b\n",
      "=======\n",
      "def divide(a, b):\n",
      "      \"\"\"Divide a by b.\"\"\"\n",
      "      try:\n",
      "          return a / b\n",
      "      except ZeroDivisionError:\n",
      "          return None\n",
      ">>>>>>> divide\n"
     ]
    }
   ],
   "source": [
    "! cat myfuncs.py"
   ]
  },
  {
   "cell_type": "markdown",
   "id": "0d0331a0",
   "metadata": {},
   "source": [
    "As you can see, Git is showing us the conflicting portions of the code. In our case, the `main` branch contains the `multiply` function while the `divide` branch contains the `divide` function.\n",
    "\n",
    "Solving the conflict in this situation is quite easy for us because we know that we want to keep both functions. However, there is no way for Git to infer that, and this is why we have to step in and decide.\n",
    "\n",
    "Since we want to keep both functions, we simply need to remove the lines added by Git, save the file, and add it:"
   ]
  },
  {
   "cell_type": "code",
   "execution_count": 79,
   "id": "623bce7c",
   "metadata": {},
   "outputs": [],
   "source": [
    "! sed -i '' -e 's#<<<<<<< HEAD##' myfuncs.py\n",
    "! sed -i '' -e 's#>>>>>>> divide##' myfuncs.py\n",
    "! sed -i '' -e 's#=======##' myfuncs.py"
   ]
  },
  {
   "cell_type": "markdown",
   "id": "f8fc74b6-3e78-486f-b69a-26ec19cd51cb",
   "metadata": {},
   "source": [
    "```{note}\n",
    "Do not mind the code in the above cell. Usually, you would do that by opening the file in your IDE and manually edit it.\n",
    "```\n",
    "\n",
    "Let's verify what we just did:"
   ]
  },
  {
   "cell_type": "code",
   "execution_count": 80,
   "id": "aa959488",
   "metadata": {},
   "outputs": [
    {
     "name": "stdout",
     "output_type": "stream",
     "text": [
      "\n",
      "\"\"\"Some useless mathematical utility functions.\"\"\"\n",
      "\n",
      "def add(a, b):\n",
      "    \"\"\"Return the sum of a and b.\"\"\"\n",
      "    return a + b\n",
      "\n",
      "def sub(a, b):\n",
      "    \"\"\"Substract b from a.\"\"\"\n",
      "    return a - b\n",
      "\n",
      "\n",
      "def multiply(a, b):\n",
      "    \"\"\"Multiply a by b.\"\"\"\n",
      "    return a * b\n",
      "\n",
      "def divide(a, b):\n",
      "      \"\"\"Divide a by b.\"\"\"\n",
      "      try:\n",
      "          return a / b\n",
      "      except ZeroDivisionError:\n",
      "          return None\n",
      "\n"
     ]
    }
   ],
   "source": [
    "! cat myfuncs.py"
   ]
  },
  {
   "cell_type": "markdown",
   "id": "ad2df184",
   "metadata": {},
   "source": [
    "Seems clean enough ! Let's add it and continue the merge process:"
   ]
  },
  {
   "cell_type": "code",
   "execution_count": 81,
   "id": "5be35b0c",
   "metadata": {},
   "outputs": [],
   "source": [
    "! git add myfuncs.py"
   ]
  },
  {
   "cell_type": "code",
   "execution_count": 82,
   "id": "4ea65264",
   "metadata": {},
   "outputs": [
    {
     "name": "stdout",
     "output_type": "stream",
     "text": [
      "[main 3792095] Merge branch 'divide'\n"
     ]
    }
   ],
   "source": [
    "! git commit --no-edit"
   ]
  },
  {
   "cell_type": "markdown",
   "id": "be9f1843-3d70-4be2-89e5-04fbf0587137",
   "metadata": {},
   "source": [
    "Awesome! The merge was successful and we can verify that with `git log`:"
   ]
  },
  {
   "cell_type": "code",
   "execution_count": 83,
   "id": "0637074f",
   "metadata": {},
   "outputs": [
    {
     "name": "stdout",
     "output_type": "stream",
     "text": [
      "*   \u001b[33m3792095\u001b[m\u001b[33m (\u001b[m\u001b[1;36mHEAD -> \u001b[m\u001b[1;32mmain\u001b[m\u001b[33m)\u001b[m Merge branch 'divide'\n",
      "\u001b[31m|\u001b[m\u001b[32m\\\u001b[m  \n",
      "\u001b[31m|\u001b[m * \u001b[33m57f967c\u001b[m\u001b[33m (\u001b[m\u001b[1;32mdivide\u001b[m\u001b[33m)\u001b[m tests: add test function for divide\n",
      "\u001b[31m|\u001b[m * \u001b[33m05b3427\u001b[m myfuncs: add divide function\n",
      "* \u001b[32m|\u001b[m   \u001b[33mb1efbf9\u001b[m Merge branch 'multiply'\n",
      "\u001b[33m|\u001b[m\u001b[34m\\\u001b[m \u001b[32m\\\u001b[m  \n",
      "\u001b[33m|\u001b[m * \u001b[32m|\u001b[m \u001b[33m21d23f3\u001b[m\u001b[33m (\u001b[m\u001b[1;32mmultiply\u001b[m\u001b[33m)\u001b[m myfuncs: add the multiply function\n",
      "* \u001b[34m|\u001b[m \u001b[32m|\u001b[m \u001b[33md2995f1\u001b[m README.md: bootstrap todo section with a divide function item\n",
      "\u001b[32m|\u001b[m \u001b[34m|\u001b[m\u001b[32m/\u001b[m  \n",
      "\u001b[32m|\u001b[m\u001b[32m/\u001b[m\u001b[34m|\u001b[m   \n",
      "* \u001b[34m|\u001b[m \u001b[33m3adeb7c\u001b[m tests: add test function for multiply\n",
      "\u001b[34m|\u001b[m\u001b[34m/\u001b[m  \n",
      "* \u001b[33md94aeda\u001b[m\u001b[33m (\u001b[m\u001b[1;31morigin/main\u001b[m\u001b[33m)\u001b[m add test function for sub\n",
      "* \u001b[33mfcd5975\u001b[m ignore Python generated files\n",
      "* \u001b[33md5d3c04\u001b[m tests: add test function for add\n",
      "* \u001b[33md557837\u001b[m initial version of myfuncs.py\n",
      "* \u001b[33mceb8dd5\u001b[m initial commit\n"
     ]
    }
   ],
   "source": [
    "! git log --decorate --graph --oneline --all"
   ]
  },
  {
   "cell_type": "markdown",
   "id": "ee466cf4",
   "metadata": {},
   "source": [
    "### Synchronize your local copy with the remote(s)\n",
    "\n",
    "Once all features are merged, it's time to sync your local `main` branch with the remote repository:"
   ]
  },
  {
   "cell_type": "code",
   "execution_count": 84,
   "id": "4a7a5189",
   "metadata": {},
   "outputs": [
    {
     "name": "stdout",
     "output_type": "stream",
     "text": [
      "origin\t../dummymaths_remote (fetch)\n",
      "origin\t../dummymaths_remote (push)\n"
     ]
    }
   ],
   "source": [
    "! git remote -v"
   ]
  },
  {
   "cell_type": "code",
   "execution_count": 85,
   "id": "a3a8931d",
   "metadata": {
    "lines_to_next_cell": 0
   },
   "outputs": [
    {
     "name": "stdout",
     "output_type": "stream",
     "text": [
      "Enumerating objects: 24, done.\n",
      "Counting objects: 100% (24/24), done.\n",
      "Delta compression using up to 8 threads\n",
      "Compressing objects: 100% (20/20), done.\n",
      "Writing objects: 100% (20/20), 2.34 KiB | 1.17 MiB/s, done.\n",
      "Total 20 (delta 9), reused 0 (delta 0), pack-reused 0\n",
      "To ../dummymaths_remote\n",
      "   d94aeda..3792095  main -> main\n"
     ]
    }
   ],
   "source": [
    "! git push origin main"
   ]
  },
  {
   "cell_type": "markdown",
   "id": "c30f4c4a",
   "metadata": {},
   "source": [
    "Also, now that the `multiply` and `divide` branches are not needed anymore, you\n",
    "can delete them:"
   ]
  },
  {
   "cell_type": "code",
   "execution_count": 86,
   "id": "c02dd586",
   "metadata": {
    "lines_to_next_cell": 2
   },
   "outputs": [
    {
     "name": "stdout",
     "output_type": "stream",
     "text": [
      "Deleted branch multiply (was 21d23f3).\n",
      "Deleted branch divide (was 57f967c).\n"
     ]
    }
   ],
   "source": [
    "! git branch -d multiply divide"
   ]
  },
  {
   "cell_type": "markdown",
   "id": "51c020c5",
   "metadata": {},
   "source": [
    "## Simple rebasing\n",
    "\n",
    "In this section, we will learn another way of merging branches without actually performing merge operation, a process called `rebasing`.\n",
    "\n",
    "Let's again extend the `dummymaths` Python project with a `power` function.\n",
    "\n",
    "Check that your current branch is `main` (remember that git status is your friend, use it anytime you are unsure of the state of the project):"
   ]
  },
  {
   "cell_type": "code",
   "execution_count": 87,
   "id": "7545501f",
   "metadata": {
    "lines_to_next_cell": 0
   },
   "outputs": [
    {
     "name": "stdout",
     "output_type": "stream",
     "text": [
      "On branch main\n",
      "Your branch is up to date with 'origin/main'.\n",
      "\n",
      "nothing to commit, working tree clean\n"
     ]
    }
   ],
   "source": [
    "! git status"
   ]
  },
  {
   "cell_type": "markdown",
   "id": "6cf265fe",
   "metadata": {
    "lines_to_next_cell": 0
   },
   "source": [
    "Create a new `power` branch and switch to it:"
   ]
  },
  {
   "cell_type": "code",
   "execution_count": 88,
   "id": "1efdda28",
   "metadata": {
    "lines_to_next_cell": 0
   },
   "outputs": [
    {
     "name": "stdout",
     "output_type": "stream",
     "text": [
      "Switched to a new branch 'power'\n"
     ]
    }
   ],
   "source": [
    "! git switch -c power"
   ]
  },
  {
   "cell_type": "markdown",
   "id": "db8203f2",
   "metadata": {
    "lines_to_next_cell": 0
   },
   "source": [
    "Extend the `myfuncs.py` module with the `power` function :"
   ]
  },
  {
   "cell_type": "code",
   "execution_count": 89,
   "id": "3494c8ad",
   "metadata": {},
   "outputs": [
    {
     "name": "stdout",
     "output_type": "stream",
     "text": [
      "Appending to myfuncs.py\n"
     ]
    }
   ],
   "source": [
    "%%writefile -a myfuncs.py\n",
    "\n",
    "def power(a, b):\n",
    "    \"\"\"Return a power b.\"\"\"\n",
    "    return a ** b"
   ]
  },
  {
   "cell_type": "markdown",
   "id": "f60eaefe",
   "metadata": {
    "lines_to_next_cell": 0
   },
   "source": [
    "Commit your change:"
   ]
  },
  {
   "cell_type": "code",
   "execution_count": 90,
   "id": "3f0c68ea",
   "metadata": {
    "lines_to_next_cell": 0
   },
   "outputs": [
    {
     "name": "stdout",
     "output_type": "stream",
     "text": [
      "[power f70da17] myfuncs: add power function\n",
      " 1 file changed, 4 insertions(+)\n"
     ]
    }
   ],
   "source": [
    "! git commit -am \"myfuncs: add power function\""
   ]
  },
  {
   "cell_type": "markdown",
   "id": "c8a958bd",
   "metadata": {
    "lines_to_next_cell": 0
   },
   "source": [
    "Add the related test function to the `test_myfuncs.py` module:"
   ]
  },
  {
   "cell_type": "code",
   "execution_count": 91,
   "id": "92a5a5e7",
   "metadata": {},
   "outputs": [
    {
     "name": "stdout",
     "output_type": "stream",
     "text": [
      "Appending to test_myfuncs.py\n"
     ]
    }
   ],
   "source": [
    "%%writefile -a test_myfuncs.py\n",
    "\n",
    "@pytest.mark.parametrize(\n",
    "    \"a,b,res\",\n",
    "    [\n",
    "        (0, 0, 1),\n",
    "        (0, 2, 0),\n",
    "        (1, 2, 1),\n",
    "        (2, 0, 1),\n",
    "        (2, 1, 2),\n",
    "        (2, 2, 4),\n",
    "        (2, -1, 0.5),\n",
    "    ]\n",
    ")\n",
    "def test_power(a, b, res):\n",
    "    from myfuncs import power\n",
    "\n",
    "    assert power(a, b) == res"
   ]
  },
  {
   "cell_type": "markdown",
   "id": "2342cf2d",
   "metadata": {
    "lines_to_next_cell": 0
   },
   "source": [
    "Commit your change:"
   ]
  },
  {
   "cell_type": "code",
   "execution_count": 92,
   "id": "048ebb32",
   "metadata": {
    "lines_to_next_cell": 0
   },
   "outputs": [
    {
     "name": "stdout",
     "output_type": "stream",
     "text": [
      "[power 8ab3cce] tests: add test function for power\n",
      " 1 file changed, 17 insertions(+)\n"
     ]
    }
   ],
   "source": [
    "! git commit -am \"tests: add test function for power\""
   ]
  },
  {
   "cell_type": "markdown",
   "id": "783fb09e",
   "metadata": {
    "lines_to_next_cell": 0
   },
   "source": [
    "Switch back to `main` and remove the `TODO` section from the README (the divide function is merged already!)."
   ]
  },
  {
   "cell_type": "code",
   "execution_count": 93,
   "id": "6a550fec",
   "metadata": {},
   "outputs": [
    {
     "name": "stdout",
     "output_type": "stream",
     "text": [
      "Switched to branch 'main'\n",
      "Your branch is up to date with 'origin/main'.\n"
     ]
    }
   ],
   "source": [
    "! git switch main"
   ]
  },
  {
   "cell_type": "code",
   "execution_count": 94,
   "id": "506ce742",
   "metadata": {},
   "outputs": [],
   "source": [
    "! echo \"This is the new README file\" > README.md"
   ]
  },
  {
   "cell_type": "code",
   "execution_count": 95,
   "id": "6dd7c05b",
   "metadata": {
    "lines_to_next_cell": 0
   },
   "outputs": [
    {
     "name": "stdout",
     "output_type": "stream",
     "text": [
      "[main 548b043] README: remove TODO section\n",
      " 1 file changed, 3 deletions(-)\n",
      "* \u001b[33m548b043\u001b[m\u001b[33m (\u001b[m\u001b[1;36mHEAD -> \u001b[m\u001b[1;32mmain\u001b[m\u001b[33m)\u001b[m README: remove TODO section\n",
      "\u001b[31m|\u001b[m * \u001b[33m8ab3cce\u001b[m\u001b[33m (\u001b[m\u001b[1;32mpower\u001b[m\u001b[33m)\u001b[m tests: add test function for power\n",
      "\u001b[31m|\u001b[m * \u001b[33mf70da17\u001b[m myfuncs: add power function\n",
      "\u001b[31m|\u001b[m\u001b[31m/\u001b[m  \n",
      "*   \u001b[33m3792095\u001b[m\u001b[33m (\u001b[m\u001b[1;31morigin/main\u001b[m\u001b[33m)\u001b[m Merge branch 'divide'\n",
      "\u001b[33m|\u001b[m\u001b[34m\\\u001b[m  \n",
      "\u001b[33m|\u001b[m * \u001b[33m57f967c\u001b[m tests: add test function for divide\n",
      "\u001b[33m|\u001b[m * \u001b[33m05b3427\u001b[m myfuncs: add divide function\n",
      "* \u001b[34m|\u001b[m   \u001b[33mb1efbf9\u001b[m Merge branch 'multiply'\n",
      "\u001b[35m|\u001b[m\u001b[36m\\\u001b[m \u001b[34m\\\u001b[m  \n",
      "\u001b[35m|\u001b[m * \u001b[34m|\u001b[m \u001b[33m21d23f3\u001b[m myfuncs: add the multiply function\n",
      "* \u001b[36m|\u001b[m \u001b[34m|\u001b[m \u001b[33md2995f1\u001b[m README.md: bootstrap todo section with a divide function item\n",
      "\u001b[34m|\u001b[m \u001b[36m|\u001b[m\u001b[34m/\u001b[m  \n",
      "\u001b[34m|\u001b[m\u001b[34m/\u001b[m\u001b[36m|\u001b[m   \n",
      "* \u001b[36m|\u001b[m \u001b[33m3adeb7c\u001b[m tests: add test function for multiply\n",
      "\u001b[36m|\u001b[m\u001b[36m/\u001b[m  \n",
      "* \u001b[33md94aeda\u001b[m add test function for sub\n",
      "* \u001b[33mfcd5975\u001b[m ignore Python generated files\n",
      "* \u001b[33md5d3c04\u001b[m tests: add test function for add\n",
      "* \u001b[33md557837\u001b[m initial version of myfuncs.py\n",
      "* \u001b[33mceb8dd5\u001b[m initial commit\n"
     ]
    }
   ],
   "source": [
    "! git add README.md\n",
    "! git commit -m \"README: remove TODO section\"\n",
    "! git log --decorate --graph --oneline --all"
   ]
  },
  {
   "cell_type": "markdown",
   "id": "ea3eb0b4",
   "metadata": {
    "lines_to_next_cell": 0
   },
   "source": [
    "At this point, the `main` and `power` branches have diverged.\n",
    "\n",
    "We already know how to perform a merge but here we want to perform a rebase. For that, we switch back to the `power` branch, and rebase it on top of the `main` branch:"
   ]
  },
  {
   "cell_type": "code",
   "execution_count": 96,
   "id": "d3247200",
   "metadata": {
    "lines_to_next_cell": 0
   },
   "outputs": [
    {
     "name": "stdout",
     "output_type": "stream",
     "text": [
      "Switched to branch 'power'\n"
     ]
    }
   ],
   "source": [
    "! git switch power"
   ]
  },
  {
   "cell_type": "code",
   "execution_count": 97,
   "id": "f268b938",
   "metadata": {},
   "outputs": [
    {
     "name": "stdout",
     "output_type": "stream",
     "text": [
      "\u001b[KSuccessfully rebased and updated refs/heads/power.\n"
     ]
    }
   ],
   "source": [
    "! git rebase main"
   ]
  },
  {
   "cell_type": "code",
   "execution_count": 98,
   "id": "293f675a",
   "metadata": {},
   "outputs": [
    {
     "name": "stdout",
     "output_type": "stream",
     "text": [
      "* \u001b[33m9be19bc\u001b[m\u001b[33m (\u001b[m\u001b[1;36mHEAD -> \u001b[m\u001b[1;32mpower\u001b[m\u001b[33m)\u001b[m tests: add test function for power\n",
      "* \u001b[33me07644f\u001b[m myfuncs: add power function\n",
      "* \u001b[33m548b043\u001b[m\u001b[33m (\u001b[m\u001b[1;32mmain\u001b[m\u001b[33m)\u001b[m README: remove TODO section\n",
      "*   \u001b[33m3792095\u001b[m\u001b[33m (\u001b[m\u001b[1;31morigin/main\u001b[m\u001b[33m)\u001b[m Merge branch 'divide'\n",
      "\u001b[32m|\u001b[m\u001b[33m\\\u001b[m  \n",
      "\u001b[32m|\u001b[m * \u001b[33m57f967c\u001b[m tests: add test function for divide\n",
      "\u001b[32m|\u001b[m * \u001b[33m05b3427\u001b[m myfuncs: add divide function\n",
      "* \u001b[33m|\u001b[m   \u001b[33mb1efbf9\u001b[m Merge branch 'multiply'\n",
      "\u001b[34m|\u001b[m\u001b[35m\\\u001b[m \u001b[33m\\\u001b[m  \n",
      "\u001b[34m|\u001b[m * \u001b[33m|\u001b[m \u001b[33m21d23f3\u001b[m myfuncs: add the multiply function\n",
      "* \u001b[35m|\u001b[m \u001b[33m|\u001b[m \u001b[33md2995f1\u001b[m README.md: bootstrap todo section with a divide function item\n",
      "\u001b[33m|\u001b[m \u001b[35m|\u001b[m\u001b[33m/\u001b[m  \n",
      "\u001b[33m|\u001b[m\u001b[33m/\u001b[m\u001b[35m|\u001b[m   \n",
      "* \u001b[35m|\u001b[m \u001b[33m3adeb7c\u001b[m tests: add test function for multiply\n",
      "\u001b[35m|\u001b[m\u001b[35m/\u001b[m  \n",
      "* \u001b[33md94aeda\u001b[m add test function for sub\n",
      "* \u001b[33mfcd5975\u001b[m ignore Python generated files\n",
      "* \u001b[33md5d3c04\u001b[m tests: add test function for add\n",
      "* \u001b[33md557837\u001b[m initial version of myfuncs.py\n",
      "* \u001b[33mceb8dd5\u001b[m initial commit\n"
     ]
    }
   ],
   "source": [
    "! git log --decorate --graph --oneline --all"
   ]
  },
  {
   "cell_type": "markdown",
   "id": "52b45da3",
   "metadata": {
    "lines_to_next_cell": 0
   },
   "source": [
    "Alright! The `power` branch is now ahead of `main` and the two branches aren't diverging: this is a case where Git can perform a fast-forward merge!\n",
    "\n",
    "Let's do that: merge the `power` branch into `main`:"
   ]
  },
  {
   "cell_type": "code",
   "execution_count": 100,
   "id": "93f554d7",
   "metadata": {
    "lines_to_next_cell": 0
   },
   "outputs": [
    {
     "name": "stdout",
     "output_type": "stream",
     "text": [
      "Already on 'main'\n",
      "Your branch is ahead of 'origin/main' by 1 commit.\n",
      "  (use \"git push\" to publish your local commits)\n"
     ]
    }
   ],
   "source": [
    "! git switch main"
   ]
  },
  {
   "cell_type": "code",
   "execution_count": 101,
   "id": "9b8f99b9",
   "metadata": {},
   "outputs": [
    {
     "name": "stdout",
     "output_type": "stream",
     "text": [
      "Updating 548b043..9be19bc\n",
      "Fast-forward\n",
      " myfuncs.py      |  4 \u001b[32m++++\u001b[m\n",
      " test_myfuncs.py | 17 \u001b[32m+++++++++++++++++\u001b[m\n",
      " 2 files changed, 21 insertions(+)\n"
     ]
    }
   ],
   "source": [
    "! git merge power --no-edit"
   ]
  },
  {
   "cell_type": "code",
   "execution_count": 102,
   "id": "7a2d425d",
   "metadata": {},
   "outputs": [
    {
     "name": "stdout",
     "output_type": "stream",
     "text": [
      "* \u001b[33m9be19bc\u001b[m\u001b[33m (\u001b[m\u001b[1;36mHEAD -> \u001b[m\u001b[1;32mmain\u001b[m\u001b[33m, \u001b[m\u001b[1;32mpower\u001b[m\u001b[33m)\u001b[m tests: add test function for power\n",
      "* \u001b[33me07644f\u001b[m myfuncs: add power function\n",
      "* \u001b[33m548b043\u001b[m README: remove TODO section\n",
      "*   \u001b[33m3792095\u001b[m\u001b[33m (\u001b[m\u001b[1;31morigin/main\u001b[m\u001b[33m)\u001b[m Merge branch 'divide'\n",
      "\u001b[32m|\u001b[m\u001b[33m\\\u001b[m  \n",
      "\u001b[32m|\u001b[m * \u001b[33m57f967c\u001b[m tests: add test function for divide\n",
      "\u001b[32m|\u001b[m * \u001b[33m05b3427\u001b[m myfuncs: add divide function\n",
      "* \u001b[33m|\u001b[m   \u001b[33mb1efbf9\u001b[m Merge branch 'multiply'\n",
      "\u001b[34m|\u001b[m\u001b[35m\\\u001b[m \u001b[33m\\\u001b[m  \n",
      "\u001b[34m|\u001b[m * \u001b[33m|\u001b[m \u001b[33m21d23f3\u001b[m myfuncs: add the multiply function\n",
      "* \u001b[35m|\u001b[m \u001b[33m|\u001b[m \u001b[33md2995f1\u001b[m README.md: bootstrap todo section with a divide function item\n",
      "\u001b[33m|\u001b[m \u001b[35m|\u001b[m\u001b[33m/\u001b[m  \n",
      "\u001b[33m|\u001b[m\u001b[33m/\u001b[m\u001b[35m|\u001b[m   \n",
      "* \u001b[35m|\u001b[m \u001b[33m3adeb7c\u001b[m tests: add test function for multiply\n",
      "\u001b[35m|\u001b[m\u001b[35m/\u001b[m  \n",
      "* \u001b[33md94aeda\u001b[m add test function for sub\n",
      "* \u001b[33mfcd5975\u001b[m ignore Python generated files\n",
      "* \u001b[33md5d3c04\u001b[m tests: add test function for add\n",
      "* \u001b[33md557837\u001b[m initial version of myfuncs.py\n",
      "* \u001b[33mceb8dd5\u001b[m initial commit\n"
     ]
    }
   ],
   "source": [
    "! git log --decorate --graph --oneline --all"
   ]
  },
  {
   "cell_type": "markdown",
   "id": "8196395b",
   "metadata": {
    "lines_to_next_cell": 0
   },
   "source": [
    "Great! The `main` branch is now up-to-date with the `power` branch!\n",
    "\n",
    "Finally push `main` and delete `power`:"
   ]
  },
  {
   "cell_type": "code",
   "execution_count": 103,
   "id": "2b380c46",
   "metadata": {},
   "outputs": [
    {
     "name": "stdout",
     "output_type": "stream",
     "text": [
      "Enumerating objects: 13, done.\n",
      "Counting objects: 100% (13/13), done.\n",
      "Delta compression using up to 8 threads\n",
      "Compressing objects: 100% (8/8), done.\n",
      "Writing objects: 100% (9/9), 1.00 KiB | 1.00 MiB/s, done.\n",
      "Total 9 (delta 4), reused 0 (delta 0), pack-reused 0\n",
      "To ../dummymaths_remote\n",
      "   3792095..9be19bc  main -> main\n",
      "Deleted branch power (was 9be19bc).\n"
     ]
    }
   ],
   "source": [
    "! git push origin main\n",
    "! git branch -d power"
   ]
  },
  {
   "cell_type": "markdown",
   "id": "f89df16a",
   "metadata": {},
   "source": [
    "## Using bisect to find bugs\n",
    "\n",
    "This final section presents a less known, but extremely powerful, Git command: [git bisect](https://git-scm.com/docs/git-bisect).\n",
    "\n",
    "### Realize that there is a bug\n",
    "\n",
    "For some reason, we decide to run our test suite:"
   ]
  },
  {
   "cell_type": "code",
   "execution_count": 104,
   "id": "13c0d552",
   "metadata": {
    "lines_to_next_cell": 0
   },
   "outputs": [
    {
     "name": "stdout",
     "output_type": "stream",
     "text": [
      "\u001b[1m============================= test session starts ==============================\u001b[0m\n",
      "platform darwin -- Python 3.10.13, pytest-7.4.3, pluggy-1.3.0 -- /Users/nicolas.gensollen/opt/anaconda3/envs/now/bin/python\n",
      "cachedir: .pytest_cache\n",
      "rootdir: /Users/nicolas.gensollen/GitRepos/NOW-2023/notebooks/dummymaths\n",
      "plugins: anyio-3.5.0, dvc-3.30.1, hydra-core-1.3.2\n",
      "collected 30 items                                                             \u001b[0m\n",
      "\n",
      "test_myfuncs.py::test_add[0-0-0] \u001b[32mPASSED\u001b[0m\u001b[32m                                  [  3%]\u001b[0m\n",
      "test_myfuncs.py::test_add[0-42-42] \u001b[32mPASSED\u001b[0m\u001b[32m                                [  6%]\u001b[0m\n",
      "test_myfuncs.py::test_add[42-0-42] \u001b[32mPASSED\u001b[0m\u001b[32m                                [ 10%]\u001b[0m\n",
      "test_myfuncs.py::test_add[42--42-0] \u001b[32mPASSED\u001b[0m\u001b[32m                               [ 13%]\u001b[0m\n",
      "test_myfuncs.py::test_add[-42-42-0] \u001b[32mPASSED\u001b[0m\u001b[32m                               [ 16%]\u001b[0m\n",
      "test_myfuncs.py::test_sub[0-0-0] \u001b[32mPASSED\u001b[0m\u001b[32m                                  [ 20%]\u001b[0m\n",
      "test_myfuncs.py::test_sub[0-42--42] \u001b[32mPASSED\u001b[0m\u001b[32m                               [ 23%]\u001b[0m\n",
      "test_myfuncs.py::test_sub[42-0-42] \u001b[32mPASSED\u001b[0m\u001b[32m                                [ 26%]\u001b[0m\n",
      "test_myfuncs.py::test_sub[42-42-0] \u001b[32mPASSED\u001b[0m\u001b[32m                                [ 30%]\u001b[0m\n",
      "test_myfuncs.py::test_sub[42--42-84] \u001b[32mPASSED\u001b[0m\u001b[32m                              [ 33%]\u001b[0m\n",
      "test_myfuncs.py::test_sub[-42-42--84] \u001b[32mPASSED\u001b[0m\u001b[32m                             [ 36%]\u001b[0m\n",
      "test_myfuncs.py::test_multiply[0-0-0] \u001b[32mPASSED\u001b[0m\u001b[32m                             [ 40%]\u001b[0m\n",
      "test_myfuncs.py::test_multiply[0-42-0] \u001b[32mPASSED\u001b[0m\u001b[32m                            [ 43%]\u001b[0m\n",
      "test_myfuncs.py::test_multiply[42-0-0] \u001b[32mPASSED\u001b[0m\u001b[32m                            [ 46%]\u001b[0m\n",
      "test_myfuncs.py::test_multiply[42-1-42] \u001b[32mPASSED\u001b[0m\u001b[32m                           [ 50%]\u001b[0m\n",
      "test_myfuncs.py::test_multiply[1-42-41] \u001b[31mFAILED\u001b[0m\u001b[31m                           [ 53%]\u001b[0m\n",
      "test_myfuncs.py::test_multiply[-1-42--42] \u001b[32mPASSED\u001b[0m\u001b[31m                         [ 56%]\u001b[0m\n",
      "test_myfuncs.py::test_divide[0-0-None] \u001b[32mPASSED\u001b[0m\u001b[31m                            [ 60%]\u001b[0m\n",
      "test_myfuncs.py::test_divide[0-42-0] \u001b[32mPASSED\u001b[0m\u001b[31m                              [ 63%]\u001b[0m\n",
      "test_myfuncs.py::test_divide[42-0-None] \u001b[32mPASSED\u001b[0m\u001b[31m                           [ 66%]\u001b[0m\n",
      "test_myfuncs.py::test_divide[42-1-42] \u001b[32mPASSED\u001b[0m\u001b[31m                             [ 70%]\u001b[0m\n",
      "test_myfuncs.py::test_divide[1-2-0.5] \u001b[32mPASSED\u001b[0m\u001b[31m                             [ 73%]\u001b[0m\n",
      "test_myfuncs.py::test_divide[-1-2--0.5] \u001b[32mPASSED\u001b[0m\u001b[31m                           [ 76%]\u001b[0m\n",
      "test_myfuncs.py::test_power[0-0-1] \u001b[32mPASSED\u001b[0m\u001b[31m                                [ 80%]\u001b[0m\n",
      "test_myfuncs.py::test_power[0-2-0] \u001b[32mPASSED\u001b[0m\u001b[31m                                [ 83%]\u001b[0m\n",
      "test_myfuncs.py::test_power[1-2-1] \u001b[32mPASSED\u001b[0m\u001b[31m                                [ 86%]\u001b[0m\n",
      "test_myfuncs.py::test_power[2-0-1] \u001b[32mPASSED\u001b[0m\u001b[31m                                [ 90%]\u001b[0m\n",
      "test_myfuncs.py::test_power[2-1-2] \u001b[32mPASSED\u001b[0m\u001b[31m                                [ 93%]\u001b[0m\n",
      "test_myfuncs.py::test_power[2-2-4] \u001b[32mPASSED\u001b[0m\u001b[31m                                [ 96%]\u001b[0m\n",
      "test_myfuncs.py::test_power[2--1-0.5] \u001b[32mPASSED\u001b[0m\u001b[31m                             [100%]\u001b[0m\n",
      "\n",
      "=================================== FAILURES ===================================\n",
      "\u001b[31m\u001b[1m____________________________ test_multiply[1-42-41] ____________________________\u001b[0m\n",
      "\n",
      "a = 1, b = 42, res = 41\n",
      "\n",
      "    \u001b[37m@pytest\u001b[39;49;00m.mark.parametrize(\u001b[90m\u001b[39;49;00m\n",
      "        \u001b[33m\"\u001b[39;49;00m\u001b[33ma,b,res\u001b[39;49;00m\u001b[33m\"\u001b[39;49;00m,\u001b[90m\u001b[39;49;00m\n",
      "        [\u001b[90m\u001b[39;49;00m\n",
      "            (\u001b[94m0\u001b[39;49;00m, \u001b[94m0\u001b[39;49;00m, \u001b[94m0\u001b[39;49;00m),\u001b[90m\u001b[39;49;00m\n",
      "            (\u001b[94m0\u001b[39;49;00m, \u001b[94m42\u001b[39;49;00m, \u001b[94m0\u001b[39;49;00m),\u001b[90m\u001b[39;49;00m\n",
      "            (\u001b[94m42\u001b[39;49;00m, \u001b[94m0\u001b[39;49;00m, \u001b[94m0\u001b[39;49;00m),\u001b[90m\u001b[39;49;00m\n",
      "            (\u001b[94m42\u001b[39;49;00m, \u001b[94m1\u001b[39;49;00m, \u001b[94m42\u001b[39;49;00m),\u001b[90m\u001b[39;49;00m\n",
      "            (\u001b[94m1\u001b[39;49;00m, \u001b[94m42\u001b[39;49;00m, \u001b[94m41\u001b[39;49;00m),\u001b[90m\u001b[39;49;00m\n",
      "            (-\u001b[94m1\u001b[39;49;00m, \u001b[94m42\u001b[39;49;00m, -\u001b[94m42\u001b[39;49;00m),\u001b[90m\u001b[39;49;00m\n",
      "        ]\u001b[90m\u001b[39;49;00m\n",
      "    )\u001b[90m\u001b[39;49;00m\n",
      "    \u001b[94mdef\u001b[39;49;00m \u001b[92mtest_multiply\u001b[39;49;00m(a, b, res):\u001b[90m\u001b[39;49;00m\n",
      "        \u001b[94mfrom\u001b[39;49;00m \u001b[04m\u001b[96mmyfuncs\u001b[39;49;00m \u001b[94mimport\u001b[39;49;00m multiply\u001b[90m\u001b[39;49;00m\n",
      "    \u001b[90m\u001b[39;49;00m\n",
      ">       \u001b[94massert\u001b[39;49;00m multiply(a, b) == res\u001b[90m\u001b[39;49;00m\n",
      "\u001b[1m\u001b[31mE       assert 42 == 41\u001b[0m\n",
      "\u001b[1m\u001b[31mE        +  where 42 = <function multiply at 0x7f8d393f6830>(1, 42)\u001b[0m\n",
      "\n",
      "\u001b[1m\u001b[31mtest_myfuncs.py\u001b[0m:49: AssertionError\n",
      "\u001b[36m\u001b[1m=========================== short test summary info ============================\u001b[0m\n",
      "\u001b[31mFAILED\u001b[0m test_myfuncs.py::\u001b[1mtest_multiply[1-42-41]\u001b[0m - assert 42 == 41\n",
      "\u001b[31m========================= \u001b[31m\u001b[1m1 failed\u001b[0m, \u001b[32m29 passed\u001b[0m\u001b[31m in 0.11s\u001b[0m\u001b[31m =========================\u001b[0m\n",
      "\u001b[0m"
     ]
    }
   ],
   "source": [
    "! pytest -v"
   ]
  },
  {
   "cell_type": "markdown",
   "id": "0c55e9d1",
   "metadata": {
    "lines_to_next_cell": 0
   },
   "source": [
    "Looks like our new habit of always running our tests before committing didn't last long...\n",
    "\n",
    "We clearly made a mistake somewhere, and even if the problem is obvious in such a simple example, we will use [git bisect](https://git-scm.com/docs/git-bisect) to find the commit that introduced the problem. In some more complex cases, that can help understand what is the origin of the bug.\n",
    "\n",
    "Before starting bisect, you must find a commit that works.\n",
    "\n",
    "We know one: the one that contains the \"add function test\". Let's use `git log` with some special parameters to find it:"
   ]
  },
  {
   "cell_type": "code",
   "execution_count": 105,
   "id": "86589eef",
   "metadata": {
    "lines_to_next_cell": 0
   },
   "outputs": [
    {
     "name": "stdout",
     "output_type": "stream",
     "text": [
      "\u001b[33md5d3c04\u001b[m tests: add test function for add\n"
     ]
    }
   ],
   "source": [
    "! git log --oneline --grep \"tests: add test function for add\""
   ]
  },
  {
   "cell_type": "markdown",
   "id": "74c6982f",
   "metadata": {
    "lines_to_next_cell": 0
   },
   "source": [
    "The reply contains the short hash of the matching commit that you'll use as\n",
    "good commit."
   ]
  },
  {
   "cell_type": "markdown",
   "id": "d1c14707",
   "metadata": {
    "lines_to_next_cell": 0
   },
   "source": [
    "Let's now start bisecting:"
   ]
  },
  {
   "cell_type": "code",
   "execution_count": 106,
   "id": "657093b2",
   "metadata": {
    "lines_to_next_cell": 0
   },
   "outputs": [
    {
     "name": "stdout",
     "output_type": "stream",
     "text": [
      "status: waiting for both good and bad commits\n"
     ]
    }
   ],
   "source": [
    "! git bisect start"
   ]
  },
  {
   "cell_type": "markdown",
   "id": "c91249b4-0360-4d0e-aa85-9fee65e25772",
   "metadata": {},
   "source": [
    "We know the current commit is bad because we watched our test suite fail a couple cells before:"
   ]
  },
  {
   "cell_type": "code",
   "execution_count": 107,
   "id": "25895862",
   "metadata": {},
   "outputs": [
    {
     "name": "stdout",
     "output_type": "stream",
     "text": [
      "status: waiting for good commit(s), bad commit known\n"
     ]
    }
   ],
   "source": [
    "! git bisect bad"
   ]
  },
  {
   "cell_type": "markdown",
   "id": "8493ee09",
   "metadata": {
    "lines_to_next_cell": 0
   },
   "source": [
    "You now have to manually switch to the commit that we think is good, test it and tell git:"
   ]
  },
  {
   "cell_type": "code",
   "execution_count": 108,
   "id": "79f5c577",
   "metadata": {
    "lines_to_next_cell": 0
   },
   "outputs": [
    {
     "name": "stdout",
     "output_type": "stream",
     "text": [
      "Note: switching to 'd5d3c04'.\n",
      "\n",
      "You are in 'detached HEAD' state. You can look around, make experimental\n",
      "changes and commit them, and you can discard any commits you make in this\n",
      "state without impacting any branches by switching back to a branch.\n",
      "\n",
      "If you want to create a new branch to retain commits you create, you may\n",
      "do so (now or later) by using -c with the switch command. Example:\n",
      "\n",
      "  git switch -c <new-branch-name>\n",
      "\n",
      "Or undo this operation with:\n",
      "\n",
      "  git switch -\n",
      "\n",
      "Turn off this advice by setting config variable advice.detachedHead to false\n",
      "\n",
      "HEAD is now at d5d3c04 tests: add test function for add\n"
     ]
    }
   ],
   "source": [
    "# Change the hash value to the one in the output of the cell above\n",
    "! git checkout d5d3c04"
   ]
  },
  {
   "cell_type": "markdown",
   "id": "66a61009-440b-4cc4-92d3-cd269c729ae2",
   "metadata": {},
   "source": [
    "Let's run our tests. We should have all tests passing:"
   ]
  },
  {
   "cell_type": "code",
   "execution_count": 109,
   "id": "52223a9e",
   "metadata": {},
   "outputs": [
    {
     "name": "stdout",
     "output_type": "stream",
     "text": [
      "\u001b[1m============================= test session starts ==============================\u001b[0m\n",
      "platform darwin -- Python 3.10.13, pytest-7.4.3, pluggy-1.3.0 -- /Users/nicolas.gensollen/opt/anaconda3/envs/now/bin/python\n",
      "cachedir: .pytest_cache\n",
      "rootdir: /Users/nicolas.gensollen/GitRepos/NOW-2023/notebooks/dummymaths\n",
      "plugins: anyio-3.5.0, dvc-3.30.1, hydra-core-1.3.2\n",
      "collected 5 items                                                              \u001b[0m\n",
      "\n",
      "test_myfuncs.py::test_add[0-0-0] \u001b[32mPASSED\u001b[0m\u001b[32m                                  [ 20%]\u001b[0m\n",
      "test_myfuncs.py::test_add[0-42-42] \u001b[32mPASSED\u001b[0m\u001b[32m                                [ 40%]\u001b[0m\n",
      "test_myfuncs.py::test_add[42-0-42] \u001b[32mPASSED\u001b[0m\u001b[32m                                [ 60%]\u001b[0m\n",
      "test_myfuncs.py::test_add[42--42-0] \u001b[32mPASSED\u001b[0m\u001b[32m                               [ 80%]\u001b[0m\n",
      "test_myfuncs.py::test_add[-42-42-0] \u001b[32mPASSED\u001b[0m\u001b[32m                               [100%]\u001b[0m\n",
      "\n",
      "\u001b[32m============================== \u001b[32m\u001b[1m5 passed\u001b[0m\u001b[32m in 0.01s\u001b[0m\u001b[32m ===============================\u001b[0m\n",
      "\u001b[0m"
     ]
    }
   ],
   "source": [
    "! pytest -v"
   ]
  },
  {
   "cell_type": "markdown",
   "id": "dcdefb0c-89a7-4d76-9400-c716d7550eb2",
   "metadata": {},
   "source": [
    "Alright, seems to be the case. Let's tell Git:"
   ]
  },
  {
   "cell_type": "code",
   "execution_count": 110,
   "id": "44353fbc",
   "metadata": {},
   "outputs": [
    {
     "name": "stdout",
     "output_type": "stream",
     "text": [
      "Bisecting: 5 revisions left to test after this (roughly 3 steps)\n",
      "[b1efbf9b8e6e98e49215ba9dd8b7de7619e6ced8] Merge branch 'multiply'\n"
     ]
    }
   ],
   "source": [
    "! git bisect good"
   ]
  },
  {
   "cell_type": "markdown",
   "id": "eb0f68f0",
   "metadata": {
    "lines_to_next_cell": 0
   },
   "source": [
    "Since `pytest` is the command that is used to check if a commit is good or\n",
    "not, you can run it at each step:"
   ]
  },
  {
   "cell_type": "code",
   "execution_count": 111,
   "id": "0a342b62",
   "metadata": {
    "lines_to_next_cell": 0
   },
   "outputs": [
    {
     "name": "stdout",
     "output_type": "stream",
     "text": [
      "running  'pytest'\n",
      "\u001b[1m============================= test session starts ==============================\u001b[0m\n",
      "platform darwin -- Python 3.10.13, pytest-7.4.3, pluggy-1.3.0\n",
      "rootdir: /Users/nicolas.gensollen/GitRepos/NOW-2023/notebooks/dummymaths\n",
      "plugins: anyio-3.5.0, dvc-3.30.1, hydra-core-1.3.2\n",
      "collected 17 items                                                             \u001b[0m\n",
      "\n",
      "test_myfuncs.py \u001b[32m.\u001b[0m\u001b[32m.\u001b[0m\u001b[32m.\u001b[0m\u001b[32m.\u001b[0m\u001b[32m.\u001b[0m\u001b[32m.\u001b[0m\u001b[32m.\u001b[0m\u001b[32m.\u001b[0m\u001b[32m.\u001b[0m\u001b[32m.\u001b[0m\u001b[32m.\u001b[0m\u001b[32m.\u001b[0m\u001b[32m.\u001b[0m\u001b[32m.\u001b[0m\u001b[32m.\u001b[0m\u001b[31mF\u001b[0m\u001b[32m.\u001b[0m\u001b[31m                                        [100%]\u001b[0m\n",
      "\n",
      "=================================== FAILURES ===================================\n",
      "\u001b[31m\u001b[1m____________________________ test_multiply[1-42-41] ____________________________\u001b[0m\n",
      "\n",
      "a = 1, b = 42, res = 41\n",
      "\n",
      "    \u001b[37m@pytest\u001b[39;49;00m.mark.parametrize(\u001b[90m\u001b[39;49;00m\n",
      "        \u001b[33m\"\u001b[39;49;00m\u001b[33ma,b,res\u001b[39;49;00m\u001b[33m\"\u001b[39;49;00m,\u001b[90m\u001b[39;49;00m\n",
      "        [\u001b[90m\u001b[39;49;00m\n",
      "            (\u001b[94m0\u001b[39;49;00m, \u001b[94m0\u001b[39;49;00m, \u001b[94m0\u001b[39;49;00m),\u001b[90m\u001b[39;49;00m\n",
      "            (\u001b[94m0\u001b[39;49;00m, \u001b[94m42\u001b[39;49;00m, \u001b[94m0\u001b[39;49;00m),\u001b[90m\u001b[39;49;00m\n",
      "            (\u001b[94m42\u001b[39;49;00m, \u001b[94m0\u001b[39;49;00m, \u001b[94m0\u001b[39;49;00m),\u001b[90m\u001b[39;49;00m\n",
      "            (\u001b[94m42\u001b[39;49;00m, \u001b[94m1\u001b[39;49;00m, \u001b[94m42\u001b[39;49;00m),\u001b[90m\u001b[39;49;00m\n",
      "            (\u001b[94m1\u001b[39;49;00m, \u001b[94m42\u001b[39;49;00m, \u001b[94m41\u001b[39;49;00m),\u001b[90m\u001b[39;49;00m\n",
      "            (-\u001b[94m1\u001b[39;49;00m, \u001b[94m42\u001b[39;49;00m, -\u001b[94m42\u001b[39;49;00m),\u001b[90m\u001b[39;49;00m\n",
      "        ]\u001b[90m\u001b[39;49;00m\n",
      "    )\u001b[90m\u001b[39;49;00m\n",
      "    \u001b[94mdef\u001b[39;49;00m \u001b[92mtest_multiply\u001b[39;49;00m(a, b, res):\u001b[90m\u001b[39;49;00m\n",
      "        \u001b[94mfrom\u001b[39;49;00m \u001b[04m\u001b[96mmyfuncs\u001b[39;49;00m \u001b[94mimport\u001b[39;49;00m multiply\u001b[90m\u001b[39;49;00m\n",
      "    \u001b[90m\u001b[39;49;00m\n",
      ">       \u001b[94massert\u001b[39;49;00m multiply(a, b) == res\u001b[90m\u001b[39;49;00m\n",
      "\u001b[1m\u001b[31mE       assert 42 == 41\u001b[0m\n",
      "\u001b[1m\u001b[31mE        +  where 42 = <function multiply at 0x7f8b2933a710>(1, 42)\u001b[0m\n",
      "\n",
      "\u001b[1m\u001b[31mtest_myfuncs.py\u001b[0m:49: AssertionError\n",
      "\u001b[36m\u001b[1m=========================== short test summary info ============================\u001b[0m\n",
      "\u001b[31mFAILED\u001b[0m test_myfuncs.py::\u001b[1mtest_multiply[1-42-41]\u001b[0m - assert 42 == 41\n",
      "\u001b[31m========================= \u001b[31m\u001b[1m1 failed\u001b[0m, \u001b[32m16 passed\u001b[0m\u001b[31m in 0.09s\u001b[0m\u001b[31m =========================\u001b[0m\n",
      "\u001b[0mBisecting: 2 revisions left to test after this (roughly 2 steps)\n",
      "[21d23f3c7c84d2a07253b29b0eb1315f771f3840] myfuncs: add the multiply function\n",
      "running  'pytest'\n",
      "\u001b[1m============================= test session starts ==============================\u001b[0m\n",
      "platform darwin -- Python 3.10.13, pytest-7.4.3, pluggy-1.3.0\n",
      "rootdir: /Users/nicolas.gensollen/GitRepos/NOW-2023/notebooks/dummymaths\n",
      "plugins: anyio-3.5.0, dvc-3.30.1, hydra-core-1.3.2\n",
      "collected 11 items                                                             \u001b[0m\n",
      "\n",
      "test_myfuncs.py \u001b[32m.\u001b[0m\u001b[32m.\u001b[0m\u001b[32m.\u001b[0m\u001b[32m.\u001b[0m\u001b[32m.\u001b[0m\u001b[32m.\u001b[0m\u001b[32m.\u001b[0m\u001b[32m.\u001b[0m\u001b[32m.\u001b[0m\u001b[32m.\u001b[0m\u001b[32m.\u001b[0m\u001b[32m                                              [100%]\u001b[0m\n",
      "\n",
      "\u001b[32m============================== \u001b[32m\u001b[1m11 passed\u001b[0m\u001b[32m in 0.02s\u001b[0m\u001b[32m ==============================\u001b[0m\n",
      "\u001b[0mBisecting: 0 revisions left to test after this (roughly 1 step)\n",
      "[d2995f19b7db82a761182a2df16f4153a13fa91e] README.md: bootstrap todo section with a divide function item\n",
      "running  'pytest'\n",
      "\u001b[1m============================= test session starts ==============================\u001b[0m\n",
      "platform darwin -- Python 3.10.13, pytest-7.4.3, pluggy-1.3.0\n",
      "rootdir: /Users/nicolas.gensollen/GitRepos/NOW-2023/notebooks/dummymaths\n",
      "plugins: anyio-3.5.0, dvc-3.30.1, hydra-core-1.3.2\n",
      "collected 17 items                                                             \u001b[0m\n",
      "\n",
      "test_myfuncs.py \u001b[32m.\u001b[0m\u001b[32m.\u001b[0m\u001b[32m.\u001b[0m\u001b[32m.\u001b[0m\u001b[32m.\u001b[0m\u001b[32m.\u001b[0m\u001b[32m.\u001b[0m\u001b[32m.\u001b[0m\u001b[32m.\u001b[0m\u001b[32m.\u001b[0m\u001b[32m.\u001b[0m\u001b[31mF\u001b[0m\u001b[31mF\u001b[0m\u001b[31mF\u001b[0m\u001b[31mF\u001b[0m\u001b[31mF\u001b[0m\u001b[31mF\u001b[0m\u001b[31m                                        [100%]\u001b[0m\n",
      "\n",
      "=================================== FAILURES ===================================\n",
      "\u001b[31m\u001b[1m_____________________________ test_multiply[0-0-0] _____________________________\u001b[0m\n",
      "\n",
      "a = 0, b = 0, res = 0\n",
      "\n",
      "    \u001b[37m@pytest\u001b[39;49;00m.mark.parametrize(\u001b[90m\u001b[39;49;00m\n",
      "        \u001b[33m\"\u001b[39;49;00m\u001b[33ma,b,res\u001b[39;49;00m\u001b[33m\"\u001b[39;49;00m,\u001b[90m\u001b[39;49;00m\n",
      "        [\u001b[90m\u001b[39;49;00m\n",
      "            (\u001b[94m0\u001b[39;49;00m, \u001b[94m0\u001b[39;49;00m, \u001b[94m0\u001b[39;49;00m),\u001b[90m\u001b[39;49;00m\n",
      "            (\u001b[94m0\u001b[39;49;00m, \u001b[94m42\u001b[39;49;00m, \u001b[94m0\u001b[39;49;00m),\u001b[90m\u001b[39;49;00m\n",
      "            (\u001b[94m42\u001b[39;49;00m, \u001b[94m0\u001b[39;49;00m, \u001b[94m0\u001b[39;49;00m),\u001b[90m\u001b[39;49;00m\n",
      "            (\u001b[94m42\u001b[39;49;00m, \u001b[94m1\u001b[39;49;00m, \u001b[94m42\u001b[39;49;00m),\u001b[90m\u001b[39;49;00m\n",
      "            (\u001b[94m1\u001b[39;49;00m, \u001b[94m42\u001b[39;49;00m, \u001b[94m41\u001b[39;49;00m),\u001b[90m\u001b[39;49;00m\n",
      "            (-\u001b[94m1\u001b[39;49;00m, \u001b[94m42\u001b[39;49;00m, -\u001b[94m42\u001b[39;49;00m),\u001b[90m\u001b[39;49;00m\n",
      "        ]\u001b[90m\u001b[39;49;00m\n",
      "    )\u001b[90m\u001b[39;49;00m\n",
      "    \u001b[94mdef\u001b[39;49;00m \u001b[92mtest_multiply\u001b[39;49;00m(a, b, res):\u001b[90m\u001b[39;49;00m\n",
      ">       \u001b[94mfrom\u001b[39;49;00m \u001b[04m\u001b[96mmyfuncs\u001b[39;49;00m \u001b[94mimport\u001b[39;49;00m multiply\u001b[90m\u001b[39;49;00m\n",
      "\u001b[1m\u001b[31mE       ImportError: cannot import name 'multiply' from 'myfuncs' (/Users/nicolas.gensollen/GitRepos/NOW-2023/notebooks/dummymaths/myfuncs.py)\u001b[0m\n",
      "\n",
      "\u001b[1m\u001b[31mtest_myfuncs.py\u001b[0m:47: ImportError\n",
      "\u001b[31m\u001b[1m____________________________ test_multiply[0-42-0] _____________________________\u001b[0m\n",
      "\n",
      "a = 0, b = 42, res = 0\n",
      "\n",
      "    \u001b[37m@pytest\u001b[39;49;00m.mark.parametrize(\u001b[90m\u001b[39;49;00m\n",
      "        \u001b[33m\"\u001b[39;49;00m\u001b[33ma,b,res\u001b[39;49;00m\u001b[33m\"\u001b[39;49;00m,\u001b[90m\u001b[39;49;00m\n",
      "        [\u001b[90m\u001b[39;49;00m\n",
      "            (\u001b[94m0\u001b[39;49;00m, \u001b[94m0\u001b[39;49;00m, \u001b[94m0\u001b[39;49;00m),\u001b[90m\u001b[39;49;00m\n",
      "            (\u001b[94m0\u001b[39;49;00m, \u001b[94m42\u001b[39;49;00m, \u001b[94m0\u001b[39;49;00m),\u001b[90m\u001b[39;49;00m\n",
      "            (\u001b[94m42\u001b[39;49;00m, \u001b[94m0\u001b[39;49;00m, \u001b[94m0\u001b[39;49;00m),\u001b[90m\u001b[39;49;00m\n",
      "            (\u001b[94m42\u001b[39;49;00m, \u001b[94m1\u001b[39;49;00m, \u001b[94m42\u001b[39;49;00m),\u001b[90m\u001b[39;49;00m\n",
      "            (\u001b[94m1\u001b[39;49;00m, \u001b[94m42\u001b[39;49;00m, \u001b[94m41\u001b[39;49;00m),\u001b[90m\u001b[39;49;00m\n",
      "            (-\u001b[94m1\u001b[39;49;00m, \u001b[94m42\u001b[39;49;00m, -\u001b[94m42\u001b[39;49;00m),\u001b[90m\u001b[39;49;00m\n",
      "        ]\u001b[90m\u001b[39;49;00m\n",
      "    )\u001b[90m\u001b[39;49;00m\n",
      "    \u001b[94mdef\u001b[39;49;00m \u001b[92mtest_multiply\u001b[39;49;00m(a, b, res):\u001b[90m\u001b[39;49;00m\n",
      ">       \u001b[94mfrom\u001b[39;49;00m \u001b[04m\u001b[96mmyfuncs\u001b[39;49;00m \u001b[94mimport\u001b[39;49;00m multiply\u001b[90m\u001b[39;49;00m\n",
      "\u001b[1m\u001b[31mE       ImportError: cannot import name 'multiply' from 'myfuncs' (/Users/nicolas.gensollen/GitRepos/NOW-2023/notebooks/dummymaths/myfuncs.py)\u001b[0m\n",
      "\n",
      "\u001b[1m\u001b[31mtest_myfuncs.py\u001b[0m:47: ImportError\n",
      "\u001b[31m\u001b[1m____________________________ test_multiply[42-0-0] _____________________________\u001b[0m\n",
      "\n",
      "a = 42, b = 0, res = 0\n",
      "\n",
      "    \u001b[37m@pytest\u001b[39;49;00m.mark.parametrize(\u001b[90m\u001b[39;49;00m\n",
      "        \u001b[33m\"\u001b[39;49;00m\u001b[33ma,b,res\u001b[39;49;00m\u001b[33m\"\u001b[39;49;00m,\u001b[90m\u001b[39;49;00m\n",
      "        [\u001b[90m\u001b[39;49;00m\n",
      "            (\u001b[94m0\u001b[39;49;00m, \u001b[94m0\u001b[39;49;00m, \u001b[94m0\u001b[39;49;00m),\u001b[90m\u001b[39;49;00m\n",
      "            (\u001b[94m0\u001b[39;49;00m, \u001b[94m42\u001b[39;49;00m, \u001b[94m0\u001b[39;49;00m),\u001b[90m\u001b[39;49;00m\n",
      "            (\u001b[94m42\u001b[39;49;00m, \u001b[94m0\u001b[39;49;00m, \u001b[94m0\u001b[39;49;00m),\u001b[90m\u001b[39;49;00m\n",
      "            (\u001b[94m42\u001b[39;49;00m, \u001b[94m1\u001b[39;49;00m, \u001b[94m42\u001b[39;49;00m),\u001b[90m\u001b[39;49;00m\n",
      "            (\u001b[94m1\u001b[39;49;00m, \u001b[94m42\u001b[39;49;00m, \u001b[94m41\u001b[39;49;00m),\u001b[90m\u001b[39;49;00m\n",
      "            (-\u001b[94m1\u001b[39;49;00m, \u001b[94m42\u001b[39;49;00m, -\u001b[94m42\u001b[39;49;00m),\u001b[90m\u001b[39;49;00m\n",
      "        ]\u001b[90m\u001b[39;49;00m\n",
      "    )\u001b[90m\u001b[39;49;00m\n",
      "    \u001b[94mdef\u001b[39;49;00m \u001b[92mtest_multiply\u001b[39;49;00m(a, b, res):\u001b[90m\u001b[39;49;00m\n",
      ">       \u001b[94mfrom\u001b[39;49;00m \u001b[04m\u001b[96mmyfuncs\u001b[39;49;00m \u001b[94mimport\u001b[39;49;00m multiply\u001b[90m\u001b[39;49;00m\n",
      "\u001b[1m\u001b[31mE       ImportError: cannot import name 'multiply' from 'myfuncs' (/Users/nicolas.gensollen/GitRepos/NOW-2023/notebooks/dummymaths/myfuncs.py)\u001b[0m\n",
      "\n",
      "\u001b[1m\u001b[31mtest_myfuncs.py\u001b[0m:47: ImportError\n",
      "\u001b[31m\u001b[1m____________________________ test_multiply[42-1-42] ____________________________\u001b[0m\n",
      "\n",
      "a = 42, b = 1, res = 42\n",
      "\n",
      "    \u001b[37m@pytest\u001b[39;49;00m.mark.parametrize(\u001b[90m\u001b[39;49;00m\n",
      "        \u001b[33m\"\u001b[39;49;00m\u001b[33ma,b,res\u001b[39;49;00m\u001b[33m\"\u001b[39;49;00m,\u001b[90m\u001b[39;49;00m\n",
      "        [\u001b[90m\u001b[39;49;00m\n",
      "            (\u001b[94m0\u001b[39;49;00m, \u001b[94m0\u001b[39;49;00m, \u001b[94m0\u001b[39;49;00m),\u001b[90m\u001b[39;49;00m\n",
      "            (\u001b[94m0\u001b[39;49;00m, \u001b[94m42\u001b[39;49;00m, \u001b[94m0\u001b[39;49;00m),\u001b[90m\u001b[39;49;00m\n",
      "            (\u001b[94m42\u001b[39;49;00m, \u001b[94m0\u001b[39;49;00m, \u001b[94m0\u001b[39;49;00m),\u001b[90m\u001b[39;49;00m\n",
      "            (\u001b[94m42\u001b[39;49;00m, \u001b[94m1\u001b[39;49;00m, \u001b[94m42\u001b[39;49;00m),\u001b[90m\u001b[39;49;00m\n",
      "            (\u001b[94m1\u001b[39;49;00m, \u001b[94m42\u001b[39;49;00m, \u001b[94m41\u001b[39;49;00m),\u001b[90m\u001b[39;49;00m\n",
      "            (-\u001b[94m1\u001b[39;49;00m, \u001b[94m42\u001b[39;49;00m, -\u001b[94m42\u001b[39;49;00m),\u001b[90m\u001b[39;49;00m\n",
      "        ]\u001b[90m\u001b[39;49;00m\n",
      "    )\u001b[90m\u001b[39;49;00m\n",
      "    \u001b[94mdef\u001b[39;49;00m \u001b[92mtest_multiply\u001b[39;49;00m(a, b, res):\u001b[90m\u001b[39;49;00m\n",
      ">       \u001b[94mfrom\u001b[39;49;00m \u001b[04m\u001b[96mmyfuncs\u001b[39;49;00m \u001b[94mimport\u001b[39;49;00m multiply\u001b[90m\u001b[39;49;00m\n",
      "\u001b[1m\u001b[31mE       ImportError: cannot import name 'multiply' from 'myfuncs' (/Users/nicolas.gensollen/GitRepos/NOW-2023/notebooks/dummymaths/myfuncs.py)\u001b[0m\n",
      "\n",
      "\u001b[1m\u001b[31mtest_myfuncs.py\u001b[0m:47: ImportError\n",
      "\u001b[31m\u001b[1m____________________________ test_multiply[1-42-41] ____________________________\u001b[0m\n",
      "\n",
      "a = 1, b = 42, res = 41\n",
      "\n",
      "    \u001b[37m@pytest\u001b[39;49;00m.mark.parametrize(\u001b[90m\u001b[39;49;00m\n",
      "        \u001b[33m\"\u001b[39;49;00m\u001b[33ma,b,res\u001b[39;49;00m\u001b[33m\"\u001b[39;49;00m,\u001b[90m\u001b[39;49;00m\n",
      "        [\u001b[90m\u001b[39;49;00m\n",
      "            (\u001b[94m0\u001b[39;49;00m, \u001b[94m0\u001b[39;49;00m, \u001b[94m0\u001b[39;49;00m),\u001b[90m\u001b[39;49;00m\n",
      "            (\u001b[94m0\u001b[39;49;00m, \u001b[94m42\u001b[39;49;00m, \u001b[94m0\u001b[39;49;00m),\u001b[90m\u001b[39;49;00m\n",
      "            (\u001b[94m42\u001b[39;49;00m, \u001b[94m0\u001b[39;49;00m, \u001b[94m0\u001b[39;49;00m),\u001b[90m\u001b[39;49;00m\n",
      "            (\u001b[94m42\u001b[39;49;00m, \u001b[94m1\u001b[39;49;00m, \u001b[94m42\u001b[39;49;00m),\u001b[90m\u001b[39;49;00m\n",
      "            (\u001b[94m1\u001b[39;49;00m, \u001b[94m42\u001b[39;49;00m, \u001b[94m41\u001b[39;49;00m),\u001b[90m\u001b[39;49;00m\n",
      "            (-\u001b[94m1\u001b[39;49;00m, \u001b[94m42\u001b[39;49;00m, -\u001b[94m42\u001b[39;49;00m),\u001b[90m\u001b[39;49;00m\n",
      "        ]\u001b[90m\u001b[39;49;00m\n",
      "    )\u001b[90m\u001b[39;49;00m\n",
      "    \u001b[94mdef\u001b[39;49;00m \u001b[92mtest_multiply\u001b[39;49;00m(a, b, res):\u001b[90m\u001b[39;49;00m\n",
      ">       \u001b[94mfrom\u001b[39;49;00m \u001b[04m\u001b[96mmyfuncs\u001b[39;49;00m \u001b[94mimport\u001b[39;49;00m multiply\u001b[90m\u001b[39;49;00m\n",
      "\u001b[1m\u001b[31mE       ImportError: cannot import name 'multiply' from 'myfuncs' (/Users/nicolas.gensollen/GitRepos/NOW-2023/notebooks/dummymaths/myfuncs.py)\u001b[0m\n",
      "\n",
      "\u001b[1m\u001b[31mtest_myfuncs.py\u001b[0m:47: ImportError\n",
      "\u001b[31m\u001b[1m___________________________ test_multiply[-1-42--42] ___________________________\u001b[0m\n",
      "\n",
      "a = -1, b = 42, res = -42\n",
      "\n",
      "    \u001b[37m@pytest\u001b[39;49;00m.mark.parametrize(\u001b[90m\u001b[39;49;00m\n",
      "        \u001b[33m\"\u001b[39;49;00m\u001b[33ma,b,res\u001b[39;49;00m\u001b[33m\"\u001b[39;49;00m,\u001b[90m\u001b[39;49;00m\n",
      "        [\u001b[90m\u001b[39;49;00m\n",
      "            (\u001b[94m0\u001b[39;49;00m, \u001b[94m0\u001b[39;49;00m, \u001b[94m0\u001b[39;49;00m),\u001b[90m\u001b[39;49;00m\n",
      "            (\u001b[94m0\u001b[39;49;00m, \u001b[94m42\u001b[39;49;00m, \u001b[94m0\u001b[39;49;00m),\u001b[90m\u001b[39;49;00m\n",
      "            (\u001b[94m42\u001b[39;49;00m, \u001b[94m0\u001b[39;49;00m, \u001b[94m0\u001b[39;49;00m),\u001b[90m\u001b[39;49;00m\n",
      "            (\u001b[94m42\u001b[39;49;00m, \u001b[94m1\u001b[39;49;00m, \u001b[94m42\u001b[39;49;00m),\u001b[90m\u001b[39;49;00m\n",
      "            (\u001b[94m1\u001b[39;49;00m, \u001b[94m42\u001b[39;49;00m, \u001b[94m41\u001b[39;49;00m),\u001b[90m\u001b[39;49;00m\n",
      "            (-\u001b[94m1\u001b[39;49;00m, \u001b[94m42\u001b[39;49;00m, -\u001b[94m42\u001b[39;49;00m),\u001b[90m\u001b[39;49;00m\n",
      "        ]\u001b[90m\u001b[39;49;00m\n",
      "    )\u001b[90m\u001b[39;49;00m\n",
      "    \u001b[94mdef\u001b[39;49;00m \u001b[92mtest_multiply\u001b[39;49;00m(a, b, res):\u001b[90m\u001b[39;49;00m\n",
      ">       \u001b[94mfrom\u001b[39;49;00m \u001b[04m\u001b[96mmyfuncs\u001b[39;49;00m \u001b[94mimport\u001b[39;49;00m multiply\u001b[90m\u001b[39;49;00m\n",
      "\u001b[1m\u001b[31mE       ImportError: cannot import name 'multiply' from 'myfuncs' (/Users/nicolas.gensollen/GitRepos/NOW-2023/notebooks/dummymaths/myfuncs.py)\u001b[0m\n",
      "\n",
      "\u001b[1m\u001b[31mtest_myfuncs.py\u001b[0m:47: ImportError\n",
      "\u001b[36m\u001b[1m=========================== short test summary info ============================\u001b[0m\n",
      "\u001b[31mFAILED\u001b[0m test_myfuncs.py::\u001b[1mtest_multiply[0-0-0]\u001b[0m - ImportError: cannot import name 'multiply' from 'myfuncs' (/Users/nicolas.g...\n",
      "\u001b[31mFAILED\u001b[0m test_myfuncs.py::\u001b[1mtest_multiply[0-42-0]\u001b[0m - ImportError: cannot import name 'multiply' from 'myfuncs' (/Users/nicolas.g...\n",
      "\u001b[31mFAILED\u001b[0m test_myfuncs.py::\u001b[1mtest_multiply[42-0-0]\u001b[0m - ImportError: cannot import name 'multiply' from 'myfuncs' (/Users/nicolas.g...\n",
      "\u001b[31mFAILED\u001b[0m test_myfuncs.py::\u001b[1mtest_multiply[42-1-42]\u001b[0m - ImportError: cannot import name 'multiply' from 'myfuncs' (/Users/nicolas.g...\n",
      "\u001b[31mFAILED\u001b[0m test_myfuncs.py::\u001b[1mtest_multiply[1-42-41]\u001b[0m - ImportError: cannot import name 'multiply' from 'myfuncs' (/Users/nicolas.g...\n",
      "\u001b[31mFAILED\u001b[0m test_myfuncs.py::\u001b[1mtest_multiply[-1-42--42]\u001b[0m - ImportError: cannot import name 'multiply' from 'myfuncs' (/Users/nicolas.g...\n",
      "\u001b[31m========================= \u001b[31m\u001b[1m6 failed\u001b[0m, \u001b[32m11 passed\u001b[0m\u001b[31m in 0.10s\u001b[0m\u001b[31m =========================\u001b[0m\n",
      "\u001b[0mBisecting: 0 revisions left to test after this (roughly 0 steps)\n",
      "[3adeb7cf4da31cce6c2d342520bb8f35e1a78462] tests: add test function for multiply\n",
      "running  'pytest'\n",
      "\u001b[1m============================= test session starts ==============================\u001b[0m\n",
      "platform darwin -- Python 3.10.13, pytest-7.4.3, pluggy-1.3.0\n",
      "rootdir: /Users/nicolas.gensollen/GitRepos/NOW-2023/notebooks/dummymaths\n",
      "plugins: anyio-3.5.0, dvc-3.30.1, hydra-core-1.3.2\n",
      "collected 17 items                                                             \u001b[0m\n",
      "\n",
      "test_myfuncs.py \u001b[32m.\u001b[0m\u001b[32m.\u001b[0m\u001b[32m.\u001b[0m\u001b[32m.\u001b[0m\u001b[32m.\u001b[0m\u001b[32m.\u001b[0m\u001b[32m.\u001b[0m\u001b[32m.\u001b[0m\u001b[32m.\u001b[0m\u001b[32m.\u001b[0m\u001b[32m.\u001b[0m\u001b[31mF\u001b[0m\u001b[31mF\u001b[0m\u001b[31mF\u001b[0m\u001b[31mF\u001b[0m\u001b[31mF\u001b[0m\u001b[31mF\u001b[0m\u001b[31m                                        [100%]\u001b[0m\n",
      "\n",
      "=================================== FAILURES ===================================\n",
      "\u001b[31m\u001b[1m_____________________________ test_multiply[0-0-0] _____________________________\u001b[0m\n",
      "\n",
      "a = 0, b = 0, res = 0\n",
      "\n",
      "    \u001b[37m@pytest\u001b[39;49;00m.mark.parametrize(\u001b[90m\u001b[39;49;00m\n",
      "        \u001b[33m\"\u001b[39;49;00m\u001b[33ma,b,res\u001b[39;49;00m\u001b[33m\"\u001b[39;49;00m,\u001b[90m\u001b[39;49;00m\n",
      "        [\u001b[90m\u001b[39;49;00m\n",
      "            (\u001b[94m0\u001b[39;49;00m, \u001b[94m0\u001b[39;49;00m, \u001b[94m0\u001b[39;49;00m),\u001b[90m\u001b[39;49;00m\n",
      "            (\u001b[94m0\u001b[39;49;00m, \u001b[94m42\u001b[39;49;00m, \u001b[94m0\u001b[39;49;00m),\u001b[90m\u001b[39;49;00m\n",
      "            (\u001b[94m42\u001b[39;49;00m, \u001b[94m0\u001b[39;49;00m, \u001b[94m0\u001b[39;49;00m),\u001b[90m\u001b[39;49;00m\n",
      "            (\u001b[94m42\u001b[39;49;00m, \u001b[94m1\u001b[39;49;00m, \u001b[94m42\u001b[39;49;00m),\u001b[90m\u001b[39;49;00m\n",
      "            (\u001b[94m1\u001b[39;49;00m, \u001b[94m42\u001b[39;49;00m, \u001b[94m41\u001b[39;49;00m),\u001b[90m\u001b[39;49;00m\n",
      "            (-\u001b[94m1\u001b[39;49;00m, \u001b[94m42\u001b[39;49;00m, -\u001b[94m42\u001b[39;49;00m),\u001b[90m\u001b[39;49;00m\n",
      "        ]\u001b[90m\u001b[39;49;00m\n",
      "    )\u001b[90m\u001b[39;49;00m\n",
      "    \u001b[94mdef\u001b[39;49;00m \u001b[92mtest_multiply\u001b[39;49;00m(a, b, res):\u001b[90m\u001b[39;49;00m\n",
      ">       \u001b[94mfrom\u001b[39;49;00m \u001b[04m\u001b[96mmyfuncs\u001b[39;49;00m \u001b[94mimport\u001b[39;49;00m multiply\u001b[90m\u001b[39;49;00m\n",
      "\u001b[1m\u001b[31mE       ImportError: cannot import name 'multiply' from 'myfuncs' (/Users/nicolas.gensollen/GitRepos/NOW-2023/notebooks/dummymaths/myfuncs.py)\u001b[0m\n",
      "\n",
      "\u001b[1m\u001b[31mtest_myfuncs.py\u001b[0m:47: ImportError\n",
      "\u001b[31m\u001b[1m____________________________ test_multiply[0-42-0] _____________________________\u001b[0m\n",
      "\n",
      "a = 0, b = 42, res = 0\n",
      "\n",
      "    \u001b[37m@pytest\u001b[39;49;00m.mark.parametrize(\u001b[90m\u001b[39;49;00m\n",
      "        \u001b[33m\"\u001b[39;49;00m\u001b[33ma,b,res\u001b[39;49;00m\u001b[33m\"\u001b[39;49;00m,\u001b[90m\u001b[39;49;00m\n",
      "        [\u001b[90m\u001b[39;49;00m\n",
      "            (\u001b[94m0\u001b[39;49;00m, \u001b[94m0\u001b[39;49;00m, \u001b[94m0\u001b[39;49;00m),\u001b[90m\u001b[39;49;00m\n",
      "            (\u001b[94m0\u001b[39;49;00m, \u001b[94m42\u001b[39;49;00m, \u001b[94m0\u001b[39;49;00m),\u001b[90m\u001b[39;49;00m\n",
      "            (\u001b[94m42\u001b[39;49;00m, \u001b[94m0\u001b[39;49;00m, \u001b[94m0\u001b[39;49;00m),\u001b[90m\u001b[39;49;00m\n",
      "            (\u001b[94m42\u001b[39;49;00m, \u001b[94m1\u001b[39;49;00m, \u001b[94m42\u001b[39;49;00m),\u001b[90m\u001b[39;49;00m\n",
      "            (\u001b[94m1\u001b[39;49;00m, \u001b[94m42\u001b[39;49;00m, \u001b[94m41\u001b[39;49;00m),\u001b[90m\u001b[39;49;00m\n",
      "            (-\u001b[94m1\u001b[39;49;00m, \u001b[94m42\u001b[39;49;00m, -\u001b[94m42\u001b[39;49;00m),\u001b[90m\u001b[39;49;00m\n",
      "        ]\u001b[90m\u001b[39;49;00m\n",
      "    )\u001b[90m\u001b[39;49;00m\n",
      "    \u001b[94mdef\u001b[39;49;00m \u001b[92mtest_multiply\u001b[39;49;00m(a, b, res):\u001b[90m\u001b[39;49;00m\n",
      ">       \u001b[94mfrom\u001b[39;49;00m \u001b[04m\u001b[96mmyfuncs\u001b[39;49;00m \u001b[94mimport\u001b[39;49;00m multiply\u001b[90m\u001b[39;49;00m\n",
      "\u001b[1m\u001b[31mE       ImportError: cannot import name 'multiply' from 'myfuncs' (/Users/nicolas.gensollen/GitRepos/NOW-2023/notebooks/dummymaths/myfuncs.py)\u001b[0m\n",
      "\n",
      "\u001b[1m\u001b[31mtest_myfuncs.py\u001b[0m:47: ImportError\n",
      "\u001b[31m\u001b[1m____________________________ test_multiply[42-0-0] _____________________________\u001b[0m\n",
      "\n",
      "a = 42, b = 0, res = 0\n",
      "\n",
      "    \u001b[37m@pytest\u001b[39;49;00m.mark.parametrize(\u001b[90m\u001b[39;49;00m\n",
      "        \u001b[33m\"\u001b[39;49;00m\u001b[33ma,b,res\u001b[39;49;00m\u001b[33m\"\u001b[39;49;00m,\u001b[90m\u001b[39;49;00m\n",
      "        [\u001b[90m\u001b[39;49;00m\n",
      "            (\u001b[94m0\u001b[39;49;00m, \u001b[94m0\u001b[39;49;00m, \u001b[94m0\u001b[39;49;00m),\u001b[90m\u001b[39;49;00m\n",
      "            (\u001b[94m0\u001b[39;49;00m, \u001b[94m42\u001b[39;49;00m, \u001b[94m0\u001b[39;49;00m),\u001b[90m\u001b[39;49;00m\n",
      "            (\u001b[94m42\u001b[39;49;00m, \u001b[94m0\u001b[39;49;00m, \u001b[94m0\u001b[39;49;00m),\u001b[90m\u001b[39;49;00m\n",
      "            (\u001b[94m42\u001b[39;49;00m, \u001b[94m1\u001b[39;49;00m, \u001b[94m42\u001b[39;49;00m),\u001b[90m\u001b[39;49;00m\n",
      "            (\u001b[94m1\u001b[39;49;00m, \u001b[94m42\u001b[39;49;00m, \u001b[94m41\u001b[39;49;00m),\u001b[90m\u001b[39;49;00m\n",
      "            (-\u001b[94m1\u001b[39;49;00m, \u001b[94m42\u001b[39;49;00m, -\u001b[94m42\u001b[39;49;00m),\u001b[90m\u001b[39;49;00m\n",
      "        ]\u001b[90m\u001b[39;49;00m\n",
      "    )\u001b[90m\u001b[39;49;00m\n",
      "    \u001b[94mdef\u001b[39;49;00m \u001b[92mtest_multiply\u001b[39;49;00m(a, b, res):\u001b[90m\u001b[39;49;00m\n",
      ">       \u001b[94mfrom\u001b[39;49;00m \u001b[04m\u001b[96mmyfuncs\u001b[39;49;00m \u001b[94mimport\u001b[39;49;00m multiply\u001b[90m\u001b[39;49;00m\n",
      "\u001b[1m\u001b[31mE       ImportError: cannot import name 'multiply' from 'myfuncs' (/Users/nicolas.gensollen/GitRepos/NOW-2023/notebooks/dummymaths/myfuncs.py)\u001b[0m\n",
      "\n",
      "\u001b[1m\u001b[31mtest_myfuncs.py\u001b[0m:47: ImportError\n",
      "\u001b[31m\u001b[1m____________________________ test_multiply[42-1-42] ____________________________\u001b[0m\n",
      "\n",
      "a = 42, b = 1, res = 42\n",
      "\n",
      "    \u001b[37m@pytest\u001b[39;49;00m.mark.parametrize(\u001b[90m\u001b[39;49;00m\n",
      "        \u001b[33m\"\u001b[39;49;00m\u001b[33ma,b,res\u001b[39;49;00m\u001b[33m\"\u001b[39;49;00m,\u001b[90m\u001b[39;49;00m\n",
      "        [\u001b[90m\u001b[39;49;00m\n",
      "            (\u001b[94m0\u001b[39;49;00m, \u001b[94m0\u001b[39;49;00m, \u001b[94m0\u001b[39;49;00m),\u001b[90m\u001b[39;49;00m\n",
      "            (\u001b[94m0\u001b[39;49;00m, \u001b[94m42\u001b[39;49;00m, \u001b[94m0\u001b[39;49;00m),\u001b[90m\u001b[39;49;00m\n",
      "            (\u001b[94m42\u001b[39;49;00m, \u001b[94m0\u001b[39;49;00m, \u001b[94m0\u001b[39;49;00m),\u001b[90m\u001b[39;49;00m\n",
      "            (\u001b[94m42\u001b[39;49;00m, \u001b[94m1\u001b[39;49;00m, \u001b[94m42\u001b[39;49;00m),\u001b[90m\u001b[39;49;00m\n",
      "            (\u001b[94m1\u001b[39;49;00m, \u001b[94m42\u001b[39;49;00m, \u001b[94m41\u001b[39;49;00m),\u001b[90m\u001b[39;49;00m\n",
      "            (-\u001b[94m1\u001b[39;49;00m, \u001b[94m42\u001b[39;49;00m, -\u001b[94m42\u001b[39;49;00m),\u001b[90m\u001b[39;49;00m\n",
      "        ]\u001b[90m\u001b[39;49;00m\n",
      "    )\u001b[90m\u001b[39;49;00m\n",
      "    \u001b[94mdef\u001b[39;49;00m \u001b[92mtest_multiply\u001b[39;49;00m(a, b, res):\u001b[90m\u001b[39;49;00m\n",
      ">       \u001b[94mfrom\u001b[39;49;00m \u001b[04m\u001b[96mmyfuncs\u001b[39;49;00m \u001b[94mimport\u001b[39;49;00m multiply\u001b[90m\u001b[39;49;00m\n",
      "\u001b[1m\u001b[31mE       ImportError: cannot import name 'multiply' from 'myfuncs' (/Users/nicolas.gensollen/GitRepos/NOW-2023/notebooks/dummymaths/myfuncs.py)\u001b[0m\n",
      "\n",
      "\u001b[1m\u001b[31mtest_myfuncs.py\u001b[0m:47: ImportError\n",
      "\u001b[31m\u001b[1m____________________________ test_multiply[1-42-41] ____________________________\u001b[0m\n",
      "\n",
      "a = 1, b = 42, res = 41\n",
      "\n",
      "    \u001b[37m@pytest\u001b[39;49;00m.mark.parametrize(\u001b[90m\u001b[39;49;00m\n",
      "        \u001b[33m\"\u001b[39;49;00m\u001b[33ma,b,res\u001b[39;49;00m\u001b[33m\"\u001b[39;49;00m,\u001b[90m\u001b[39;49;00m\n",
      "        [\u001b[90m\u001b[39;49;00m\n",
      "            (\u001b[94m0\u001b[39;49;00m, \u001b[94m0\u001b[39;49;00m, \u001b[94m0\u001b[39;49;00m),\u001b[90m\u001b[39;49;00m\n",
      "            (\u001b[94m0\u001b[39;49;00m, \u001b[94m42\u001b[39;49;00m, \u001b[94m0\u001b[39;49;00m),\u001b[90m\u001b[39;49;00m\n",
      "            (\u001b[94m42\u001b[39;49;00m, \u001b[94m0\u001b[39;49;00m, \u001b[94m0\u001b[39;49;00m),\u001b[90m\u001b[39;49;00m\n",
      "            (\u001b[94m42\u001b[39;49;00m, \u001b[94m1\u001b[39;49;00m, \u001b[94m42\u001b[39;49;00m),\u001b[90m\u001b[39;49;00m\n",
      "            (\u001b[94m1\u001b[39;49;00m, \u001b[94m42\u001b[39;49;00m, \u001b[94m41\u001b[39;49;00m),\u001b[90m\u001b[39;49;00m\n",
      "            (-\u001b[94m1\u001b[39;49;00m, \u001b[94m42\u001b[39;49;00m, -\u001b[94m42\u001b[39;49;00m),\u001b[90m\u001b[39;49;00m\n",
      "        ]\u001b[90m\u001b[39;49;00m\n",
      "    )\u001b[90m\u001b[39;49;00m\n",
      "    \u001b[94mdef\u001b[39;49;00m \u001b[92mtest_multiply\u001b[39;49;00m(a, b, res):\u001b[90m\u001b[39;49;00m\n",
      ">       \u001b[94mfrom\u001b[39;49;00m \u001b[04m\u001b[96mmyfuncs\u001b[39;49;00m \u001b[94mimport\u001b[39;49;00m multiply\u001b[90m\u001b[39;49;00m\n",
      "\u001b[1m\u001b[31mE       ImportError: cannot import name 'multiply' from 'myfuncs' (/Users/nicolas.gensollen/GitRepos/NOW-2023/notebooks/dummymaths/myfuncs.py)\u001b[0m\n",
      "\n",
      "\u001b[1m\u001b[31mtest_myfuncs.py\u001b[0m:47: ImportError\n",
      "\u001b[31m\u001b[1m___________________________ test_multiply[-1-42--42] ___________________________\u001b[0m\n",
      "\n",
      "a = -1, b = 42, res = -42\n",
      "\n",
      "    \u001b[37m@pytest\u001b[39;49;00m.mark.parametrize(\u001b[90m\u001b[39;49;00m\n",
      "        \u001b[33m\"\u001b[39;49;00m\u001b[33ma,b,res\u001b[39;49;00m\u001b[33m\"\u001b[39;49;00m,\u001b[90m\u001b[39;49;00m\n",
      "        [\u001b[90m\u001b[39;49;00m\n",
      "            (\u001b[94m0\u001b[39;49;00m, \u001b[94m0\u001b[39;49;00m, \u001b[94m0\u001b[39;49;00m),\u001b[90m\u001b[39;49;00m\n",
      "            (\u001b[94m0\u001b[39;49;00m, \u001b[94m42\u001b[39;49;00m, \u001b[94m0\u001b[39;49;00m),\u001b[90m\u001b[39;49;00m\n",
      "            (\u001b[94m42\u001b[39;49;00m, \u001b[94m0\u001b[39;49;00m, \u001b[94m0\u001b[39;49;00m),\u001b[90m\u001b[39;49;00m\n",
      "            (\u001b[94m42\u001b[39;49;00m, \u001b[94m1\u001b[39;49;00m, \u001b[94m42\u001b[39;49;00m),\u001b[90m\u001b[39;49;00m\n",
      "            (\u001b[94m1\u001b[39;49;00m, \u001b[94m42\u001b[39;49;00m, \u001b[94m41\u001b[39;49;00m),\u001b[90m\u001b[39;49;00m\n",
      "            (-\u001b[94m1\u001b[39;49;00m, \u001b[94m42\u001b[39;49;00m, -\u001b[94m42\u001b[39;49;00m),\u001b[90m\u001b[39;49;00m\n",
      "        ]\u001b[90m\u001b[39;49;00m\n",
      "    )\u001b[90m\u001b[39;49;00m\n",
      "    \u001b[94mdef\u001b[39;49;00m \u001b[92mtest_multiply\u001b[39;49;00m(a, b, res):\u001b[90m\u001b[39;49;00m\n",
      ">       \u001b[94mfrom\u001b[39;49;00m \u001b[04m\u001b[96mmyfuncs\u001b[39;49;00m \u001b[94mimport\u001b[39;49;00m multiply\u001b[90m\u001b[39;49;00m\n",
      "\u001b[1m\u001b[31mE       ImportError: cannot import name 'multiply' from 'myfuncs' (/Users/nicolas.gensollen/GitRepos/NOW-2023/notebooks/dummymaths/myfuncs.py)\u001b[0m\n",
      "\n",
      "\u001b[1m\u001b[31mtest_myfuncs.py\u001b[0m:47: ImportError\n",
      "\u001b[36m\u001b[1m=========================== short test summary info ============================\u001b[0m\n",
      "\u001b[31mFAILED\u001b[0m test_myfuncs.py::\u001b[1mtest_multiply[0-0-0]\u001b[0m - ImportError: cannot import name 'multiply' from 'myfuncs' (/Users/nicolas.g...\n",
      "\u001b[31mFAILED\u001b[0m test_myfuncs.py::\u001b[1mtest_multiply[0-42-0]\u001b[0m - ImportError: cannot import name 'multiply' from 'myfuncs' (/Users/nicolas.g...\n",
      "\u001b[31mFAILED\u001b[0m test_myfuncs.py::\u001b[1mtest_multiply[42-0-0]\u001b[0m - ImportError: cannot import name 'multiply' from 'myfuncs' (/Users/nicolas.g...\n",
      "\u001b[31mFAILED\u001b[0m test_myfuncs.py::\u001b[1mtest_multiply[42-1-42]\u001b[0m - ImportError: cannot import name 'multiply' from 'myfuncs' (/Users/nicolas.g...\n",
      "\u001b[31mFAILED\u001b[0m test_myfuncs.py::\u001b[1mtest_multiply[1-42-41]\u001b[0m - ImportError: cannot import name 'multiply' from 'myfuncs' (/Users/nicolas.g...\n",
      "\u001b[31mFAILED\u001b[0m test_myfuncs.py::\u001b[1mtest_multiply[-1-42--42]\u001b[0m - ImportError: cannot import name 'multiply' from 'myfuncs' (/Users/nicolas.g...\n",
      "\u001b[31m========================= \u001b[31m\u001b[1m6 failed\u001b[0m, \u001b[32m11 passed\u001b[0m\u001b[31m in 0.10s\u001b[0m\u001b[31m =========================\u001b[0m\n",
      "\u001b[0m3adeb7cf4da31cce6c2d342520bb8f35e1a78462 is the first bad commit\n",
      "commit 3adeb7cf4da31cce6c2d342520bb8f35e1a78462\n",
      "Author: John Doe <john.doe@inria.fr>\n",
      "Date:   Tue Nov 21 14:07:23 2023 +0100\n",
      "\n",
      "    tests: add test function for multiply\n",
      "\n",
      " test_myfuncs.py | 16 ++++++++++++++++\n",
      " 1 file changed, 16 insertions(+)\n",
      "bisect found first bad commit"
     ]
    }
   ],
   "source": [
    "! git bisect run pytest"
   ]
  },
  {
   "cell_type": "code",
   "execution_count": 112,
   "id": "9a6ff82e",
   "metadata": {},
   "outputs": [
    {
     "name": "stdout",
     "output_type": "stream",
     "text": [
      "Previous HEAD position was 3adeb7c tests: add test function for multiply\n",
      "Switched to branch 'main'\n",
      "Your branch is up to date with 'origin/main'.\n"
     ]
    }
   ],
   "source": [
    "! git bisect reset"
   ]
  },
  {
   "cell_type": "markdown",
   "id": "75de5414",
   "metadata": {
    "lines_to_next_cell": 0
   },
   "source": [
    "This command should tell you quite fast what is the first bad commit. Check\n",
    "it's content:"
   ]
  },
  {
   "cell_type": "code",
   "execution_count": 113,
   "id": "b0caafbd",
   "metadata": {
    "lines_to_next_cell": 0
   },
   "outputs": [
    {
     "name": "stdout",
     "output_type": "stream",
     "text": [
      "\u001b[33mcommit 3adeb7cf4da31cce6c2d342520bb8f35e1a78462\u001b[m\n",
      "Author: John Doe <john.doe@inria.fr>\n",
      "Date:   Tue Nov 21 14:07:23 2023 +0100\n",
      "\n",
      "    tests: add test function for multiply\n",
      "\n",
      "\u001b[1mdiff --git a/test_myfuncs.py b/test_myfuncs.py\u001b[m\n",
      "\u001b[1mindex 13824bf..10b2f45 100644\u001b[m\n",
      "\u001b[1m--- a/test_myfuncs.py\u001b[m\n",
      "\u001b[1m+++ b/test_myfuncs.py\u001b[m\n",
      "\u001b[36m@@ -31,3 +31,19 @@\u001b[m \u001b[mdef test_sub(a, b, res):\u001b[m\n",
      "     from myfuncs import sub\u001b[m\n",
      " \u001b[m\n",
      "     assert sub(a, b) == res\u001b[m\n",
      "\u001b[32m+\u001b[m\n",
      "\u001b[32m+\u001b[m\u001b[32m@pytest.mark.parametrize(\u001b[m\n",
      "\u001b[32m+\u001b[m\u001b[32m    \"a,b,res\",\u001b[m\n",
      "\u001b[32m+\u001b[m\u001b[32m    [\u001b[m\n",
      "\u001b[32m+\u001b[m\u001b[32m        (0, 0, 0),\u001b[m\n",
      "\u001b[32m+\u001b[m\u001b[32m        (0, 42, 0),\u001b[m\n",
      "\u001b[32m+\u001b[m\u001b[32m        (42, 0, 0),\u001b[m\n",
      "\u001b[32m+\u001b[m\u001b[32m        (42, 1, 42),\u001b[m\n",
      "\u001b[32m+\u001b[m\u001b[32m        (1, 42, 41),\u001b[m\n",
      "\u001b[32m+\u001b[m\u001b[32m        (-1, 42, -42),\u001b[m\n",
      "\u001b[32m+\u001b[m\u001b[32m    ]\u001b[m\n",
      "\u001b[32m+\u001b[m\u001b[32m)\u001b[m\n",
      "\u001b[32m+\u001b[m\u001b[32mdef test_multiply(a, b, res):\u001b[m\n",
      "\u001b[32m+\u001b[m\u001b[32m    from myfuncs import multiply\u001b[m\n",
      "\u001b[32m+\u001b[m\u001b[41m    \u001b[m\n",
      "\u001b[32m+\u001b[m\u001b[32m    assert multiply(a, b) == res\u001b[m\n"
     ]
    }
   ],
   "source": [
    "# Change the hash value to the one in the output of the cell above\n",
    "! git show 3adeb7c"
   ]
  },
  {
   "cell_type": "markdown",
   "id": "a975c0e9",
   "metadata": {
    "lines_to_next_cell": 0
   },
   "source": [
    "Point 5. reveals that the problem comes from one the multiply test case.\n",
    "\n",
    "Let's fix it:"
   ]
  },
  {
   "cell_type": "code",
   "execution_count": 114,
   "id": "e911a381",
   "metadata": {},
   "outputs": [],
   "source": [
    "! sed -i '' -e 's#(1, 42, 41),#(1, 42, 42),#' test_myfuncs.py"
   ]
  },
  {
   "cell_type": "code",
   "execution_count": 115,
   "id": "74e1123f",
   "metadata": {},
   "outputs": [
    {
     "name": "stdout",
     "output_type": "stream",
     "text": [
      "\u001b[1m============================= test session starts ==============================\u001b[0m\n",
      "platform darwin -- Python 3.10.13, pytest-7.4.3, pluggy-1.3.0 -- /Users/nicolas.gensollen/opt/anaconda3/envs/now/bin/python\n",
      "cachedir: .pytest_cache\n",
      "rootdir: /Users/nicolas.gensollen/GitRepos/NOW-2023/notebooks/dummymaths\n",
      "plugins: anyio-3.5.0, dvc-3.30.1, hydra-core-1.3.2\n",
      "collected 30 items                                                             \u001b[0m\n",
      "\n",
      "test_myfuncs.py::test_add[0-0-0] \u001b[32mPASSED\u001b[0m\u001b[32m                                  [  3%]\u001b[0m\n",
      "test_myfuncs.py::test_add[0-42-42] \u001b[32mPASSED\u001b[0m\u001b[32m                                [  6%]\u001b[0m\n",
      "test_myfuncs.py::test_add[42-0-42] \u001b[32mPASSED\u001b[0m\u001b[32m                                [ 10%]\u001b[0m\n",
      "test_myfuncs.py::test_add[42--42-0] \u001b[32mPASSED\u001b[0m\u001b[32m                               [ 13%]\u001b[0m\n",
      "test_myfuncs.py::test_add[-42-42-0] \u001b[32mPASSED\u001b[0m\u001b[32m                               [ 16%]\u001b[0m\n",
      "test_myfuncs.py::test_sub[0-0-0] \u001b[32mPASSED\u001b[0m\u001b[32m                                  [ 20%]\u001b[0m\n",
      "test_myfuncs.py::test_sub[0-42--42] \u001b[32mPASSED\u001b[0m\u001b[32m                               [ 23%]\u001b[0m\n",
      "test_myfuncs.py::test_sub[42-0-42] \u001b[32mPASSED\u001b[0m\u001b[32m                                [ 26%]\u001b[0m\n",
      "test_myfuncs.py::test_sub[42-42-0] \u001b[32mPASSED\u001b[0m\u001b[32m                                [ 30%]\u001b[0m\n",
      "test_myfuncs.py::test_sub[42--42-84] \u001b[32mPASSED\u001b[0m\u001b[32m                              [ 33%]\u001b[0m\n",
      "test_myfuncs.py::test_sub[-42-42--84] \u001b[32mPASSED\u001b[0m\u001b[32m                             [ 36%]\u001b[0m\n",
      "test_myfuncs.py::test_multiply[0-0-0] \u001b[32mPASSED\u001b[0m\u001b[32m                             [ 40%]\u001b[0m\n",
      "test_myfuncs.py::test_multiply[0-42-0] \u001b[32mPASSED\u001b[0m\u001b[32m                            [ 43%]\u001b[0m\n",
      "test_myfuncs.py::test_multiply[42-0-0] \u001b[32mPASSED\u001b[0m\u001b[32m                            [ 46%]\u001b[0m\n",
      "test_myfuncs.py::test_multiply[42-1-42] \u001b[32mPASSED\u001b[0m\u001b[32m                           [ 50%]\u001b[0m\n",
      "test_myfuncs.py::test_multiply[1-42-42] \u001b[32mPASSED\u001b[0m\u001b[32m                           [ 53%]\u001b[0m\n",
      "test_myfuncs.py::test_multiply[-1-42--42] \u001b[32mPASSED\u001b[0m\u001b[32m                         [ 56%]\u001b[0m\n",
      "test_myfuncs.py::test_divide[0-0-None] \u001b[32mPASSED\u001b[0m\u001b[32m                            [ 60%]\u001b[0m\n",
      "test_myfuncs.py::test_divide[0-42-0] \u001b[32mPASSED\u001b[0m\u001b[32m                              [ 63%]\u001b[0m\n",
      "test_myfuncs.py::test_divide[42-0-None] \u001b[32mPASSED\u001b[0m\u001b[32m                           [ 66%]\u001b[0m\n",
      "test_myfuncs.py::test_divide[42-1-42] \u001b[32mPASSED\u001b[0m\u001b[32m                             [ 70%]\u001b[0m\n",
      "test_myfuncs.py::test_divide[1-2-0.5] \u001b[32mPASSED\u001b[0m\u001b[32m                             [ 73%]\u001b[0m\n",
      "test_myfuncs.py::test_divide[-1-2--0.5] \u001b[32mPASSED\u001b[0m\u001b[32m                           [ 76%]\u001b[0m\n",
      "test_myfuncs.py::test_power[0-0-1] \u001b[32mPASSED\u001b[0m\u001b[32m                                [ 80%]\u001b[0m\n",
      "test_myfuncs.py::test_power[0-2-0] \u001b[32mPASSED\u001b[0m\u001b[32m                                [ 83%]\u001b[0m\n",
      "test_myfuncs.py::test_power[1-2-1] \u001b[32mPASSED\u001b[0m\u001b[32m                                [ 86%]\u001b[0m\n",
      "test_myfuncs.py::test_power[2-0-1] \u001b[32mPASSED\u001b[0m\u001b[32m                                [ 90%]\u001b[0m\n",
      "test_myfuncs.py::test_power[2-1-2] \u001b[32mPASSED\u001b[0m\u001b[32m                                [ 93%]\u001b[0m\n",
      "test_myfuncs.py::test_power[2-2-4] \u001b[32mPASSED\u001b[0m\u001b[32m                                [ 96%]\u001b[0m\n",
      "test_myfuncs.py::test_power[2--1-0.5] \u001b[32mPASSED\u001b[0m\u001b[32m                             [100%]\u001b[0m\n",
      "\n",
      "\u001b[32m============================== \u001b[32m\u001b[1m30 passed\u001b[0m\u001b[32m in 0.03s\u001b[0m\u001b[32m ==============================\u001b[0m\n",
      "\u001b[0m"
     ]
    }
   ],
   "source": [
    "! pytest -v"
   ]
  },
  {
   "cell_type": "markdown",
   "id": "32f4390b",
   "metadata": {
    "lines_to_next_cell": 0
   },
   "source": [
    "Commit your changes and push the `main` branch:"
   ]
  },
  {
   "cell_type": "code",
   "execution_count": 116,
   "id": "ac0418db",
   "metadata": {
    "lines_to_next_cell": 2
   },
   "outputs": [
    {
     "name": "stdout",
     "output_type": "stream",
     "text": [
      "[main 0b286b0] tests: fix multiply test case\n",
      " 1 file changed, 1 insertion(+), 1 deletion(-)\n",
      "Enumerating objects: 5, done.\n",
      "Counting objects: 100% (5/5), done.\n",
      "Delta compression using up to 8 threads\n",
      "Compressing objects: 100% (3/3), done.\n",
      "Writing objects: 100% (3/3), 301 bytes | 301.00 KiB/s, done.\n",
      "Total 3 (delta 2), reused 0 (delta 0), pack-reused 0\n",
      "To ../dummymaths_remote\n",
      "   9be19bc..0b286b0  main -> main\n"
     ]
    }
   ],
   "source": [
    "! git add test_myfuncs.py\n",
    "! git commit -am \"tests: fix multiply test case\"\n",
    "! git push origin main"
   ]
  },
  {
   "cell_type": "markdown",
   "id": "a1680771",
   "metadata": {},
   "source": [
    "Cleaning:"
   ]
  },
  {
   "cell_type": "code",
   "execution_count": 117,
   "id": "cccbc634",
   "metadata": {},
   "outputs": [
    {
     "name": "stdout",
     "output_type": "stream",
     "text": [
      "/Users/nicolas.gensollen/GitRepos/NOW-2023/notebooks\n"
     ]
    }
   ],
   "source": [
    "# Cleaning...\n",
    "%cd ..\n",
    "! rm -rf dummymaths_remote/ dummymaths/ git-tutorial/"
   ]
  },
  {
   "cell_type": "code",
   "execution_count": null,
   "id": "d524edca",
   "metadata": {},
   "outputs": [],
   "source": []
  }
 ],
 "metadata": {
  "kernelspec": {
   "display_name": "Python 3 (ipykernel)",
   "language": "python",
   "name": "python3"
  },
  "language_info": {
   "codemirror_mode": {
    "name": "ipython",
    "version": 3
   },
   "file_extension": ".py",
   "mimetype": "text/x-python",
   "name": "python",
   "nbconvert_exporter": "python",
   "pygments_lexer": "ipython3",
   "version": "3.10.13"
  }
 },
 "nbformat": 4,
 "nbformat_minor": 5
}
