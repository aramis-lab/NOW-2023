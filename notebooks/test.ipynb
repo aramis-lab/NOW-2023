{
 "cells": [
  {
   "cell_type": "markdown",
   "id": "2d0e2e4f",
   "metadata": {},
   "source": [
    "# Test notebook\n",
    "\n",
    "This is a test notebook."
   ]
  },
  {
   "cell_type": "code",
   "execution_count": 1,
   "id": "77dabd96",
   "metadata": {},
   "outputs": [],
   "source": [
    "def f(x: int) -> int:\n",
    "    return x ** 2"
   ]
  },
  {
   "cell_type": "markdown",
   "id": "b0f2a797",
   "metadata": {},
   "source": [
    "This is a **test cell** :"
   ]
  },
  {
   "cell_type": "code",
   "execution_count": 2,
   "id": "d13537ef",
   "metadata": {},
   "outputs": [
    {
     "name": "stdout",
     "output_type": "stream",
     "text": [
      "Results = 100\n"
     ]
    }
   ],
   "source": [
    "print(f\"Results = {f(10)}\")"
   ]
  },
  {
   "cell_type": "code",
   "execution_count": null,
   "id": "a22934f3",
   "metadata": {},
   "outputs": [],
   "source": []
  },
  {
   "cell_type": "markdown",
   "id": "e2de9ad1",
   "metadata": {},
   "source": [
    "Another test cell :"
   ]
  },
  {
   "cell_type": "code",
   "execution_count": 3,
   "id": "6c2e1939",
   "metadata": {},
   "outputs": [
    {
     "data": {
      "text/plain": [
       "10000"
      ]
     },
     "execution_count": 3,
     "metadata": {},
     "output_type": "execute_result"
    }
   ],
   "source": [
    "f(f(10))"
   ]
  },
  {
   "cell_type": "code",
   "execution_count": null,
   "id": "e29c70f1",
   "metadata": {},
   "outputs": [],
   "source": []
  }
 ],
 "metadata": {
  "kernelspec": {
   "display_name": "Python 3 (ipykernel)",
   "language": "python",
   "name": "python3"
  },
  "language_info": {
   "codemirror_mode": {
    "name": "ipython",
    "version": 3
   },
   "file_extension": ".py",
   "mimetype": "text/x-python",
   "name": "python",
   "nbconvert_exporter": "python",
   "pygments_lexer": "ipython3",
   "version": "3.10.13"
  }
 },
 "nbformat": 4,
 "nbformat_minor": 5
}
