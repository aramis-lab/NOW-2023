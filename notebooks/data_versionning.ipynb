{
 "cells": [
  {
   "cell_type": "markdown",
   "id": "4635e7fc-84ec-41cb-b6bc-683769b1d8c3",
   "metadata": {},
   "source": [
    "# Part 2 : Data versionning using DVC\n",
    "\n",
    "This is the second part of the tutorial on data versionning using [DVC](https://dvc.org).\n",
    "\n",
    "First, we need to install DVC:"
   ]
  },
  {
   "cell_type": "code",
   "execution_count": 1,
   "id": "980d0082-3b7e-4f3c-ae45-2a2b6081f8e5",
   "metadata": {},
   "outputs": [
    {
     "name": "stdout",
     "output_type": "stream",
     "text": [
      "Requirement already satisfied: dvc in /Users/nicolas.gensollen/opt/anaconda3/envs/now/lib/python3.10/site-packages (3.27.0)\n",
      "Requirement already satisfied: colorama>=0.3.9 in /Users/nicolas.gensollen/opt/anaconda3/envs/now/lib/python3.10/site-packages (from dvc) (0.4.6)\n",
      "Requirement already satisfied: configobj>=5.0.6 in /Users/nicolas.gensollen/opt/anaconda3/envs/now/lib/python3.10/site-packages (from dvc) (5.0.8)\n",
      "Requirement already satisfied: distro>=1.3 in /Users/nicolas.gensollen/opt/anaconda3/envs/now/lib/python3.10/site-packages (from dvc) (1.8.0)\n",
      "Requirement already satisfied: dpath<3,>=2.1.0 in /Users/nicolas.gensollen/opt/anaconda3/envs/now/lib/python3.10/site-packages (from dvc) (2.1.6)\n",
      "Requirement already satisfied: dvc-data<2.19.0,>=2.18.1 in /Users/nicolas.gensollen/opt/anaconda3/envs/now/lib/python3.10/site-packages (from dvc) (2.18.2)\n",
      "Requirement already satisfied: dvc-http>=2.29.0 in /Users/nicolas.gensollen/opt/anaconda3/envs/now/lib/python3.10/site-packages (from dvc) (2.30.2)\n",
      "Requirement already satisfied: dvc-render<1,>=0.3.1 in /Users/nicolas.gensollen/opt/anaconda3/envs/now/lib/python3.10/site-packages (from dvc) (0.6.0)\n",
      "Requirement already satisfied: dvc-studio-client<1,>=0.13.0 in /Users/nicolas.gensollen/opt/anaconda3/envs/now/lib/python3.10/site-packages (from dvc) (0.15.0)\n",
      "Requirement already satisfied: dvc-task<1,>=0.3.0 in /Users/nicolas.gensollen/opt/anaconda3/envs/now/lib/python3.10/site-packages (from dvc) (0.3.0)\n",
      "Requirement already satisfied: flatten-dict<1,>=0.4.1 in /Users/nicolas.gensollen/opt/anaconda3/envs/now/lib/python3.10/site-packages (from dvc) (0.4.2)\n",
      "Requirement already satisfied: flufl.lock<8,>=5 in /Users/nicolas.gensollen/opt/anaconda3/envs/now/lib/python3.10/site-packages (from dvc) (7.1.1)\n",
      "Requirement already satisfied: funcy>=1.14 in /Users/nicolas.gensollen/opt/anaconda3/envs/now/lib/python3.10/site-packages (from dvc) (2.0)\n",
      "Requirement already satisfied: grandalf<1,>=0.7 in /Users/nicolas.gensollen/opt/anaconda3/envs/now/lib/python3.10/site-packages (from dvc) (0.8)\n",
      "Requirement already satisfied: gto<2,>=1.4.0 in /Users/nicolas.gensollen/opt/anaconda3/envs/now/lib/python3.10/site-packages (from dvc) (1.5.0)\n",
      "Requirement already satisfied: hydra-core>=1.1 in /Users/nicolas.gensollen/opt/anaconda3/envs/now/lib/python3.10/site-packages (from dvc) (1.3.2)\n",
      "Requirement already satisfied: iterative-telemetry>=0.0.7 in /Users/nicolas.gensollen/opt/anaconda3/envs/now/lib/python3.10/site-packages (from dvc) (0.0.8)\n",
      "Requirement already satisfied: networkx>=2.5 in /Users/nicolas.gensollen/opt/anaconda3/envs/now/lib/python3.10/site-packages (from dvc) (3.2)\n",
      "Requirement already satisfied: packaging>=19 in /Users/nicolas.gensollen/opt/anaconda3/envs/now/lib/python3.10/site-packages (from dvc) (23.1)\n",
      "Requirement already satisfied: pathspec>=0.10.3 in /Users/nicolas.gensollen/opt/anaconda3/envs/now/lib/python3.10/site-packages (from dvc) (0.11.2)\n",
      "Requirement already satisfied: platformdirs<4,>=3.1.1 in /Users/nicolas.gensollen/opt/anaconda3/envs/now/lib/python3.10/site-packages (from dvc) (3.10.0)\n",
      "Requirement already satisfied: psutil>=5.8 in /Users/nicolas.gensollen/opt/anaconda3/envs/now/lib/python3.10/site-packages (from dvc) (5.9.0)\n",
      "Requirement already satisfied: pydot>=1.2.4 in /Users/nicolas.gensollen/opt/anaconda3/envs/now/lib/python3.10/site-packages (from dvc) (1.4.2)\n",
      "Requirement already satisfied: pygtrie>=2.3.2 in /Users/nicolas.gensollen/opt/anaconda3/envs/now/lib/python3.10/site-packages (from dvc) (2.5.0)\n",
      "Requirement already satisfied: pyparsing>=2.4.7 in /Users/nicolas.gensollen/opt/anaconda3/envs/now/lib/python3.10/site-packages (from dvc) (3.1.1)\n",
      "Requirement already satisfied: requests>=2.22 in /Users/nicolas.gensollen/opt/anaconda3/envs/now/lib/python3.10/site-packages (from dvc) (2.31.0)\n",
      "Requirement already satisfied: rich>=12 in /Users/nicolas.gensollen/opt/anaconda3/envs/now/lib/python3.10/site-packages (from dvc) (13.6.0)\n",
      "Requirement already satisfied: ruamel.yaml>=0.17.11 in /Users/nicolas.gensollen/opt/anaconda3/envs/now/lib/python3.10/site-packages (from dvc) (0.18.2)\n",
      "Requirement already satisfied: scmrepo<2,>=1.2.1 in /Users/nicolas.gensollen/opt/anaconda3/envs/now/lib/python3.10/site-packages (from dvc) (1.4.0)\n",
      "Requirement already satisfied: shortuuid>=0.5 in /Users/nicolas.gensollen/opt/anaconda3/envs/now/lib/python3.10/site-packages (from dvc) (1.0.11)\n",
      "Requirement already satisfied: shtab<2,>=1.3.4 in /Users/nicolas.gensollen/opt/anaconda3/envs/now/lib/python3.10/site-packages (from dvc) (1.6.4)\n",
      "Requirement already satisfied: tabulate>=0.8.7 in /Users/nicolas.gensollen/opt/anaconda3/envs/now/lib/python3.10/site-packages (from dvc) (0.9.0)\n",
      "Requirement already satisfied: tomlkit>=0.11.1 in /Users/nicolas.gensollen/opt/anaconda3/envs/now/lib/python3.10/site-packages (from dvc) (0.12.1)\n",
      "Requirement already satisfied: tqdm<5,>=4.63.1 in /Users/nicolas.gensollen/opt/anaconda3/envs/now/lib/python3.10/site-packages (from dvc) (4.66.1)\n",
      "Requirement already satisfied: voluptuous>=0.11.7 in /Users/nicolas.gensollen/opt/anaconda3/envs/now/lib/python3.10/site-packages (from dvc) (0.13.1)\n",
      "Requirement already satisfied: zc.lockfile>=1.2.1 in /Users/nicolas.gensollen/opt/anaconda3/envs/now/lib/python3.10/site-packages (from dvc) (3.0.post1)\n",
      "Requirement already satisfied: six in /Users/nicolas.gensollen/opt/anaconda3/envs/now/lib/python3.10/site-packages (from configobj>=5.0.6->dvc) (1.16.0)\n",
      "Requirement already satisfied: dictdiffer>=0.8.1 in /Users/nicolas.gensollen/opt/anaconda3/envs/now/lib/python3.10/site-packages (from dvc-data<2.19.0,>=2.18.1->dvc) (0.9.0)\n",
      "Requirement already satisfied: dvc-objects<2,>=1.0.1 in /Users/nicolas.gensollen/opt/anaconda3/envs/now/lib/python3.10/site-packages (from dvc-data<2.19.0,>=2.18.1->dvc) (1.0.1)\n",
      "Requirement already satisfied: diskcache>=5.2.1 in /Users/nicolas.gensollen/opt/anaconda3/envs/now/lib/python3.10/site-packages (from dvc-data<2.19.0,>=2.18.1->dvc) (5.6.3)\n",
      "Requirement already satisfied: attrs>=21.3.0 in /Users/nicolas.gensollen/opt/anaconda3/envs/now/lib/python3.10/site-packages (from dvc-data<2.19.0,>=2.18.1->dvc) (23.1.0)\n",
      "Requirement already satisfied: sqltrie<1,>=0.8.0 in /Users/nicolas.gensollen/opt/anaconda3/envs/now/lib/python3.10/site-packages (from dvc-data<2.19.0,>=2.18.1->dvc) (0.8.0)\n",
      "Requirement already satisfied: fsspec[http] in /Users/nicolas.gensollen/opt/anaconda3/envs/now/lib/python3.10/site-packages (from dvc-http>=2.29.0->dvc) (2023.10.0)\n",
      "Requirement already satisfied: aiohttp-retry>=2.5.0 in /Users/nicolas.gensollen/opt/anaconda3/envs/now/lib/python3.10/site-packages (from dvc-http>=2.29.0->dvc) (2.8.3)\n",
      "Requirement already satisfied: dulwich in /Users/nicolas.gensollen/opt/anaconda3/envs/now/lib/python3.10/site-packages (from dvc-studio-client<1,>=0.13.0->dvc) (0.21.6)\n",
      "Requirement already satisfied: celery<6,>=5.3.0 in /Users/nicolas.gensollen/opt/anaconda3/envs/now/lib/python3.10/site-packages (from dvc-task<1,>=0.3.0->dvc) (5.3.4)\n",
      "Requirement already satisfied: kombu<6,>=5.3.0 in /Users/nicolas.gensollen/opt/anaconda3/envs/now/lib/python3.10/site-packages (from dvc-task<1,>=0.3.0->dvc) (5.3.2)\n",
      "Requirement already satisfied: atpublic>=2.3 in /Users/nicolas.gensollen/opt/anaconda3/envs/now/lib/python3.10/site-packages (from flufl.lock<8,>=5->dvc) (4.0)\n",
      "Requirement already satisfied: typer>=0.4.1 in /Users/nicolas.gensollen/opt/anaconda3/envs/now/lib/python3.10/site-packages (from gto<2,>=1.4.0->dvc) (0.9.0)\n",
      "Requirement already satisfied: pydantic!=2.0.0,<3,>=1.9.0 in /Users/nicolas.gensollen/opt/anaconda3/envs/now/lib/python3.10/site-packages (from gto<2,>=1.4.0->dvc) (2.4.2)\n",
      "Requirement already satisfied: semver>=3.0.0 in /Users/nicolas.gensollen/opt/anaconda3/envs/now/lib/python3.10/site-packages (from gto<2,>=1.4.0->dvc) (3.0.2)\n",
      "Requirement already satisfied: entrypoints in /Users/nicolas.gensollen/opt/anaconda3/envs/now/lib/python3.10/site-packages (from gto<2,>=1.4.0->dvc) (0.4)\n",
      "Requirement already satisfied: omegaconf<2.4,>=2.2 in /Users/nicolas.gensollen/opt/anaconda3/envs/now/lib/python3.10/site-packages (from hydra-core>=1.1->dvc) (2.3.0)\n",
      "Requirement already satisfied: antlr4-python3-runtime==4.9.* in /Users/nicolas.gensollen/opt/anaconda3/envs/now/lib/python3.10/site-packages (from hydra-core>=1.1->dvc) (4.9.3)\n",
      "Requirement already satisfied: appdirs in /Users/nicolas.gensollen/opt/anaconda3/envs/now/lib/python3.10/site-packages (from iterative-telemetry>=0.0.7->dvc) (1.4.4)\n",
      "Requirement already satisfied: filelock in /Users/nicolas.gensollen/opt/anaconda3/envs/now/lib/python3.10/site-packages (from iterative-telemetry>=0.0.7->dvc) (3.12.4)\n",
      "Requirement already satisfied: charset-normalizer<4,>=2 in /Users/nicolas.gensollen/opt/anaconda3/envs/now/lib/python3.10/site-packages (from requests>=2.22->dvc) (2.0.4)\n",
      "Requirement already satisfied: idna<4,>=2.5 in /Users/nicolas.gensollen/opt/anaconda3/envs/now/lib/python3.10/site-packages (from requests>=2.22->dvc) (3.4)\n",
      "Requirement already satisfied: urllib3<3,>=1.21.1 in /Users/nicolas.gensollen/opt/anaconda3/envs/now/lib/python3.10/site-packages (from requests>=2.22->dvc) (1.26.16)\n",
      "Requirement already satisfied: certifi>=2017.4.17 in /Users/nicolas.gensollen/opt/anaconda3/envs/now/lib/python3.10/site-packages (from requests>=2.22->dvc) (2023.7.22)\n",
      "Requirement already satisfied: markdown-it-py>=2.2.0 in /Users/nicolas.gensollen/opt/anaconda3/envs/now/lib/python3.10/site-packages (from rich>=12->dvc) (2.2.0)\n",
      "Requirement already satisfied: pygments<3.0.0,>=2.13.0 in /Users/nicolas.gensollen/opt/anaconda3/envs/now/lib/python3.10/site-packages (from rich>=12->dvc) (2.15.1)\n",
      "Requirement already satisfied: ruamel.yaml.clib>=0.2.7 in /Users/nicolas.gensollen/opt/anaconda3/envs/now/lib/python3.10/site-packages (from ruamel.yaml>=0.17.11->dvc) (0.2.8)\n",
      "Requirement already satisfied: gitpython>3 in /Users/nicolas.gensollen/opt/anaconda3/envs/now/lib/python3.10/site-packages (from scmrepo<2,>=1.2.1->dvc) (3.1.40)\n",
      "Requirement already satisfied: pygit2>=1.13.0 in /Users/nicolas.gensollen/opt/anaconda3/envs/now/lib/python3.10/site-packages (from scmrepo<2,>=1.2.1->dvc) (1.13.1)\n",
      "Requirement already satisfied: asyncssh<3,>=2.13.1 in /Users/nicolas.gensollen/opt/anaconda3/envs/now/lib/python3.10/site-packages (from scmrepo<2,>=1.2.1->dvc) (2.14.0)\n",
      "Requirement already satisfied: setuptools in /Users/nicolas.gensollen/opt/anaconda3/envs/now/lib/python3.10/site-packages (from zc.lockfile>=1.2.1->dvc) (68.0.0)\n",
      "Requirement already satisfied: aiohttp in /Users/nicolas.gensollen/opt/anaconda3/envs/now/lib/python3.10/site-packages (from aiohttp-retry>=2.5.0->dvc-http>=2.29.0->dvc) (3.8.6)\n",
      "Requirement already satisfied: cryptography>=39.0 in /Users/nicolas.gensollen/opt/anaconda3/envs/now/lib/python3.10/site-packages (from asyncssh<3,>=2.13.1->scmrepo<2,>=1.2.1->dvc) (41.0.3)\n",
      "Requirement already satisfied: typing-extensions>=3.6 in /Users/nicolas.gensollen/opt/anaconda3/envs/now/lib/python3.10/site-packages (from asyncssh<3,>=2.13.1->scmrepo<2,>=1.2.1->dvc) (4.7.1)\n",
      "Requirement already satisfied: billiard<5.0,>=4.1.0 in /Users/nicolas.gensollen/opt/anaconda3/envs/now/lib/python3.10/site-packages (from celery<6,>=5.3.0->dvc-task<1,>=0.3.0->dvc) (4.1.0)\n",
      "Requirement already satisfied: vine<6.0,>=5.0.0 in /Users/nicolas.gensollen/opt/anaconda3/envs/now/lib/python3.10/site-packages (from celery<6,>=5.3.0->dvc-task<1,>=0.3.0->dvc) (5.0.0)\n",
      "Requirement already satisfied: click<9.0,>=8.1.2 in /Users/nicolas.gensollen/opt/anaconda3/envs/now/lib/python3.10/site-packages (from celery<6,>=5.3.0->dvc-task<1,>=0.3.0->dvc) (8.1.7)\n",
      "Requirement already satisfied: click-didyoumean>=0.3.0 in /Users/nicolas.gensollen/opt/anaconda3/envs/now/lib/python3.10/site-packages (from celery<6,>=5.3.0->dvc-task<1,>=0.3.0->dvc) (0.3.0)\n",
      "Requirement already satisfied: click-repl>=0.2.0 in /Users/nicolas.gensollen/opt/anaconda3/envs/now/lib/python3.10/site-packages (from celery<6,>=5.3.0->dvc-task<1,>=0.3.0->dvc) (0.3.0)\n",
      "Requirement already satisfied: click-plugins>=1.1.1 in /Users/nicolas.gensollen/opt/anaconda3/envs/now/lib/python3.10/site-packages (from celery<6,>=5.3.0->dvc-task<1,>=0.3.0->dvc) (1.1.1)\n",
      "Requirement already satisfied: tzdata>=2022.7 in /Users/nicolas.gensollen/opt/anaconda3/envs/now/lib/python3.10/site-packages (from celery<6,>=5.3.0->dvc-task<1,>=0.3.0->dvc) (2023.3)\n",
      "Requirement already satisfied: python-dateutil>=2.8.2 in /Users/nicolas.gensollen/opt/anaconda3/envs/now/lib/python3.10/site-packages (from celery<6,>=5.3.0->dvc-task<1,>=0.3.0->dvc) (2.8.2)\n",
      "Requirement already satisfied: gitdb<5,>=4.0.1 in /Users/nicolas.gensollen/opt/anaconda3/envs/now/lib/python3.10/site-packages (from gitpython>3->scmrepo<2,>=1.2.1->dvc) (4.0.11)\n",
      "Requirement already satisfied: amqp<6.0.0,>=5.1.1 in /Users/nicolas.gensollen/opt/anaconda3/envs/now/lib/python3.10/site-packages (from kombu<6,>=5.3.0->dvc-task<1,>=0.3.0->dvc) (5.1.1)\n",
      "Requirement already satisfied: mdurl~=0.1 in /Users/nicolas.gensollen/opt/anaconda3/envs/now/lib/python3.10/site-packages (from markdown-it-py>=2.2.0->rich>=12->dvc) (0.1.2)\n",
      "Requirement already satisfied: PyYAML>=5.1.0 in /Users/nicolas.gensollen/opt/anaconda3/envs/now/lib/python3.10/site-packages (from omegaconf<2.4,>=2.2->hydra-core>=1.1->dvc) (6.0.1)\n",
      "Requirement already satisfied: annotated-types>=0.4.0 in /Users/nicolas.gensollen/opt/anaconda3/envs/now/lib/python3.10/site-packages (from pydantic!=2.0.0,<3,>=1.9.0->gto<2,>=1.4.0->dvc) (0.6.0)\n",
      "Requirement already satisfied: pydantic-core==2.10.1 in /Users/nicolas.gensollen/opt/anaconda3/envs/now/lib/python3.10/site-packages (from pydantic!=2.0.0,<3,>=1.9.0->gto<2,>=1.4.0->dvc) (2.10.1)\n",
      "Requirement already satisfied: cffi>=1.9.1 in /Users/nicolas.gensollen/opt/anaconda3/envs/now/lib/python3.10/site-packages (from pygit2>=1.13.0->scmrepo<2,>=1.2.1->dvc) (1.15.1)\n",
      "Requirement already satisfied: orjson in /Users/nicolas.gensollen/opt/anaconda3/envs/now/lib/python3.10/site-packages (from sqltrie<1,>=0.8.0->dvc-data<2.19.0,>=2.18.1->dvc) (3.9.9)\n",
      "Requirement already satisfied: multidict<7.0,>=4.5 in /Users/nicolas.gensollen/opt/anaconda3/envs/now/lib/python3.10/site-packages (from aiohttp->aiohttp-retry>=2.5.0->dvc-http>=2.29.0->dvc) (6.0.4)\n",
      "Requirement already satisfied: async-timeout<5.0,>=4.0.0a3 in /Users/nicolas.gensollen/opt/anaconda3/envs/now/lib/python3.10/site-packages (from aiohttp->aiohttp-retry>=2.5.0->dvc-http>=2.29.0->dvc) (4.0.3)\n",
      "Requirement already satisfied: yarl<2.0,>=1.0 in /Users/nicolas.gensollen/opt/anaconda3/envs/now/lib/python3.10/site-packages (from aiohttp->aiohttp-retry>=2.5.0->dvc-http>=2.29.0->dvc) (1.9.2)\n",
      "Requirement already satisfied: frozenlist>=1.1.1 in /Users/nicolas.gensollen/opt/anaconda3/envs/now/lib/python3.10/site-packages (from aiohttp->aiohttp-retry>=2.5.0->dvc-http>=2.29.0->dvc) (1.4.0)\n",
      "Requirement already satisfied: aiosignal>=1.1.2 in /Users/nicolas.gensollen/opt/anaconda3/envs/now/lib/python3.10/site-packages (from aiohttp->aiohttp-retry>=2.5.0->dvc-http>=2.29.0->dvc) (1.3.1)\n",
      "Requirement already satisfied: pycparser in /Users/nicolas.gensollen/opt/anaconda3/envs/now/lib/python3.10/site-packages (from cffi>=1.9.1->pygit2>=1.13.0->scmrepo<2,>=1.2.1->dvc) (2.21)\n",
      "Requirement already satisfied: prompt-toolkit>=3.0.36 in /Users/nicolas.gensollen/opt/anaconda3/envs/now/lib/python3.10/site-packages (from click-repl>=0.2.0->celery<6,>=5.3.0->dvc-task<1,>=0.3.0->dvc) (3.0.36)\n",
      "Requirement already satisfied: smmap<6,>=3.0.1 in /Users/nicolas.gensollen/opt/anaconda3/envs/now/lib/python3.10/site-packages (from gitdb<5,>=4.0.1->gitpython>3->scmrepo<2,>=1.2.1->dvc) (5.0.1)\n",
      "Requirement already satisfied: wcwidth in /Users/nicolas.gensollen/opt/anaconda3/envs/now/lib/python3.10/site-packages (from prompt-toolkit>=3.0.36->click-repl>=0.2.0->celery<6,>=5.3.0->dvc-task<1,>=0.3.0->dvc) (0.2.5)\n"
     ]
    }
   ],
   "source": [
    "! pip install dvc"
   ]
  },
  {
   "cell_type": "markdown",
   "id": "2c3398b6-1001-4821-a9da-954ba75e2958",
   "metadata": {},
   "source": [
    "We can check that DVC is installed:"
   ]
  },
  {
   "cell_type": "code",
   "execution_count": 2,
   "id": "4eead6d1-39c7-4643-96d1-5e5f9822dfb6",
   "metadata": {},
   "outputs": [
    {
     "name": "stdout",
     "output_type": "stream",
     "text": [
      "/Users/nicolas.gensollen/opt/anaconda3/envs/now/bin/dvc\n"
     ]
    }
   ],
   "source": [
    "! which dvc"
   ]
  },
  {
   "cell_type": "code",
   "execution_count": 3,
   "id": "8195db01-7388-4d23-abb8-c6aa3a64742a",
   "metadata": {},
   "outputs": [
    {
     "name": "stdout",
     "output_type": "stream",
     "text": [
      "3.27.0\n",
      "\u001b[0m"
     ]
    }
   ],
   "source": [
    "! dvc --version"
   ]
  },
  {
   "cell_type": "code",
   "execution_count": 4,
   "id": "31ca922d-fdc7-42fa-90a1-6b9b789e21ea",
   "metadata": {},
   "outputs": [],
   "source": [
    "def g(x: str) -> str:\n",
    "    return x + x"
   ]
  },
  {
   "cell_type": "code",
   "execution_count": 5,
   "id": "fc011b84-3770-41ee-8907-98f3acf63940",
   "metadata": {},
   "outputs": [
    {
     "data": {
      "text/plain": [
       "'testtest'"
      ]
     },
     "execution_count": 5,
     "metadata": {},
     "output_type": "execute_result"
    }
   ],
   "source": [
    "g(\"test\")"
   ]
  },
  {
   "cell_type": "code",
   "execution_count": null,
   "id": "d6d82d50-12b0-4d6b-bdd1-edd920e7db5c",
   "metadata": {},
   "outputs": [],
   "source": []
  }
 ],
 "metadata": {
  "kernelspec": {
   "display_name": "Python 3 (ipykernel)",
   "language": "python",
   "name": "python3"
  },
  "language_info": {
   "codemirror_mode": {
    "name": "ipython",
    "version": 3
   },
   "file_extension": ".py",
   "mimetype": "text/x-python",
   "name": "python",
   "nbconvert_exporter": "python",
   "pygments_lexer": "ipython3",
   "version": "3.10.13"
  }
 },
 "nbformat": 4,
 "nbformat_minor": 5
}
