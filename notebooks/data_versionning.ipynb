{
 "cells": [
  {
   "cell_type": "markdown",
   "id": "4635e7fc-84ec-41cb-b6bc-683769b1d8c3",
   "metadata": {},
   "source": [
    "# Part 2 : Data versionning using DVC\n",
    "\n",
    "## Chapter 1 : Getting started with DVC\n",
    "\n",
    "This is the second part of the tutorial on data versionning using [DVC](https://dvc.org).\n",
    "\n",
    "In this first chapter, we will install DVC and take a look at how DVC works with GIT in its most simple usage.\n",
    "\n",
    "### Install DVC\n",
    "\n",
    "First, we need to install [DVC](https://dvc.org). There are various ways to install it depending on you OS, which you can browse [here](https://dvc.org/doc/install). For example, on MacOS, you can install it with `brew`, `conda`, or `pip`.\n",
    "\n",
    "If you are following this tutorial on your own machine, chose the option that makes the most sense. If you are following on the notebook, we will install DVC with `pip`:"
   ]
  },
  {
   "cell_type": "code",
   "execution_count": 1,
   "id": "aa7d94e5-8f75-440f-95a9-a2e25fc24e06",
   "metadata": {},
   "outputs": [
    {
     "name": "stdout",
     "output_type": "stream",
     "text": [
      "Requirement already satisfied: dvc in /Users/nicolas.gensollen/opt/anaconda3/envs/now/lib/python3.10/site-packages (3.27.0)\n",
      "Requirement already satisfied: colorama>=0.3.9 in /Users/nicolas.gensollen/opt/anaconda3/envs/now/lib/python3.10/site-packages (from dvc) (0.4.6)\n",
      "Requirement already satisfied: configobj>=5.0.6 in /Users/nicolas.gensollen/opt/anaconda3/envs/now/lib/python3.10/site-packages (from dvc) (5.0.8)\n",
      "Requirement already satisfied: distro>=1.3 in /Users/nicolas.gensollen/opt/anaconda3/envs/now/lib/python3.10/site-packages (from dvc) (1.8.0)\n",
      "Requirement already satisfied: dpath<3,>=2.1.0 in /Users/nicolas.gensollen/opt/anaconda3/envs/now/lib/python3.10/site-packages (from dvc) (2.1.6)\n",
      "Requirement already satisfied: dvc-data<2.19.0,>=2.18.1 in /Users/nicolas.gensollen/opt/anaconda3/envs/now/lib/python3.10/site-packages (from dvc) (2.18.2)\n",
      "Requirement already satisfied: dvc-http>=2.29.0 in /Users/nicolas.gensollen/opt/anaconda3/envs/now/lib/python3.10/site-packages (from dvc) (2.30.2)\n",
      "Requirement already satisfied: dvc-render<1,>=0.3.1 in /Users/nicolas.gensollen/opt/anaconda3/envs/now/lib/python3.10/site-packages (from dvc) (0.6.0)\n",
      "Requirement already satisfied: dvc-studio-client<1,>=0.13.0 in /Users/nicolas.gensollen/opt/anaconda3/envs/now/lib/python3.10/site-packages (from dvc) (0.15.0)\n",
      "Requirement already satisfied: dvc-task<1,>=0.3.0 in /Users/nicolas.gensollen/opt/anaconda3/envs/now/lib/python3.10/site-packages (from dvc) (0.3.0)\n",
      "Requirement already satisfied: flatten-dict<1,>=0.4.1 in /Users/nicolas.gensollen/opt/anaconda3/envs/now/lib/python3.10/site-packages (from dvc) (0.4.2)\n",
      "Requirement already satisfied: flufl.lock<8,>=5 in /Users/nicolas.gensollen/opt/anaconda3/envs/now/lib/python3.10/site-packages (from dvc) (7.1.1)\n",
      "Requirement already satisfied: funcy>=1.14 in /Users/nicolas.gensollen/opt/anaconda3/envs/now/lib/python3.10/site-packages (from dvc) (2.0)\n",
      "Requirement already satisfied: grandalf<1,>=0.7 in /Users/nicolas.gensollen/opt/anaconda3/envs/now/lib/python3.10/site-packages (from dvc) (0.8)\n",
      "Requirement already satisfied: gto<2,>=1.4.0 in /Users/nicolas.gensollen/opt/anaconda3/envs/now/lib/python3.10/site-packages (from dvc) (1.5.0)\n",
      "Requirement already satisfied: hydra-core>=1.1 in /Users/nicolas.gensollen/opt/anaconda3/envs/now/lib/python3.10/site-packages (from dvc) (1.3.2)\n",
      "Requirement already satisfied: iterative-telemetry>=0.0.7 in /Users/nicolas.gensollen/opt/anaconda3/envs/now/lib/python3.10/site-packages (from dvc) (0.0.8)\n",
      "Requirement already satisfied: networkx>=2.5 in /Users/nicolas.gensollen/opt/anaconda3/envs/now/lib/python3.10/site-packages (from dvc) (3.2)\n",
      "Requirement already satisfied: packaging>=19 in /Users/nicolas.gensollen/opt/anaconda3/envs/now/lib/python3.10/site-packages (from dvc) (23.1)\n",
      "Requirement already satisfied: pathspec>=0.10.3 in /Users/nicolas.gensollen/opt/anaconda3/envs/now/lib/python3.10/site-packages (from dvc) (0.11.2)\n",
      "Requirement already satisfied: platformdirs<4,>=3.1.1 in /Users/nicolas.gensollen/opt/anaconda3/envs/now/lib/python3.10/site-packages (from dvc) (3.10.0)\n",
      "Requirement already satisfied: psutil>=5.8 in /Users/nicolas.gensollen/opt/anaconda3/envs/now/lib/python3.10/site-packages (from dvc) (5.9.0)\n",
      "Requirement already satisfied: pydot>=1.2.4 in /Users/nicolas.gensollen/opt/anaconda3/envs/now/lib/python3.10/site-packages (from dvc) (1.4.2)\n",
      "Requirement already satisfied: pygtrie>=2.3.2 in /Users/nicolas.gensollen/opt/anaconda3/envs/now/lib/python3.10/site-packages (from dvc) (2.5.0)\n",
      "Requirement already satisfied: pyparsing>=2.4.7 in /Users/nicolas.gensollen/opt/anaconda3/envs/now/lib/python3.10/site-packages (from dvc) (3.1.1)\n",
      "Requirement already satisfied: requests>=2.22 in /Users/nicolas.gensollen/opt/anaconda3/envs/now/lib/python3.10/site-packages (from dvc) (2.31.0)\n",
      "Requirement already satisfied: rich>=12 in /Users/nicolas.gensollen/opt/anaconda3/envs/now/lib/python3.10/site-packages (from dvc) (13.6.0)\n",
      "Requirement already satisfied: ruamel.yaml>=0.17.11 in /Users/nicolas.gensollen/opt/anaconda3/envs/now/lib/python3.10/site-packages (from dvc) (0.18.2)\n",
      "Requirement already satisfied: scmrepo<2,>=1.2.1 in /Users/nicolas.gensollen/opt/anaconda3/envs/now/lib/python3.10/site-packages (from dvc) (1.4.0)\n",
      "Requirement already satisfied: shortuuid>=0.5 in /Users/nicolas.gensollen/opt/anaconda3/envs/now/lib/python3.10/site-packages (from dvc) (1.0.11)\n",
      "Requirement already satisfied: shtab<2,>=1.3.4 in /Users/nicolas.gensollen/opt/anaconda3/envs/now/lib/python3.10/site-packages (from dvc) (1.6.4)\n",
      "Requirement already satisfied: tabulate>=0.8.7 in /Users/nicolas.gensollen/opt/anaconda3/envs/now/lib/python3.10/site-packages (from dvc) (0.9.0)\n",
      "Requirement already satisfied: tomlkit>=0.11.1 in /Users/nicolas.gensollen/opt/anaconda3/envs/now/lib/python3.10/site-packages (from dvc) (0.12.1)\n",
      "Requirement already satisfied: tqdm<5,>=4.63.1 in /Users/nicolas.gensollen/opt/anaconda3/envs/now/lib/python3.10/site-packages (from dvc) (4.66.1)\n",
      "Requirement already satisfied: voluptuous>=0.11.7 in /Users/nicolas.gensollen/opt/anaconda3/envs/now/lib/python3.10/site-packages (from dvc) (0.13.1)\n",
      "Requirement already satisfied: zc.lockfile>=1.2.1 in /Users/nicolas.gensollen/opt/anaconda3/envs/now/lib/python3.10/site-packages (from dvc) (3.0.post1)\n",
      "Requirement already satisfied: six in /Users/nicolas.gensollen/opt/anaconda3/envs/now/lib/python3.10/site-packages (from configobj>=5.0.6->dvc) (1.16.0)\n",
      "Requirement already satisfied: dictdiffer>=0.8.1 in /Users/nicolas.gensollen/opt/anaconda3/envs/now/lib/python3.10/site-packages (from dvc-data<2.19.0,>=2.18.1->dvc) (0.9.0)\n",
      "Requirement already satisfied: dvc-objects<2,>=1.0.1 in /Users/nicolas.gensollen/opt/anaconda3/envs/now/lib/python3.10/site-packages (from dvc-data<2.19.0,>=2.18.1->dvc) (1.0.1)\n",
      "Requirement already satisfied: diskcache>=5.2.1 in /Users/nicolas.gensollen/opt/anaconda3/envs/now/lib/python3.10/site-packages (from dvc-data<2.19.0,>=2.18.1->dvc) (5.6.3)\n",
      "Requirement already satisfied: attrs>=21.3.0 in /Users/nicolas.gensollen/opt/anaconda3/envs/now/lib/python3.10/site-packages (from dvc-data<2.19.0,>=2.18.1->dvc) (23.1.0)\n",
      "Requirement already satisfied: sqltrie<1,>=0.8.0 in /Users/nicolas.gensollen/opt/anaconda3/envs/now/lib/python3.10/site-packages (from dvc-data<2.19.0,>=2.18.1->dvc) (0.8.0)\n",
      "Requirement already satisfied: fsspec[http] in /Users/nicolas.gensollen/opt/anaconda3/envs/now/lib/python3.10/site-packages (from dvc-http>=2.29.0->dvc) (2023.10.0)\n",
      "Requirement already satisfied: aiohttp-retry>=2.5.0 in /Users/nicolas.gensollen/opt/anaconda3/envs/now/lib/python3.10/site-packages (from dvc-http>=2.29.0->dvc) (2.8.3)\n",
      "Requirement already satisfied: dulwich in /Users/nicolas.gensollen/opt/anaconda3/envs/now/lib/python3.10/site-packages (from dvc-studio-client<1,>=0.13.0->dvc) (0.21.6)\n",
      "Requirement already satisfied: celery<6,>=5.3.0 in /Users/nicolas.gensollen/opt/anaconda3/envs/now/lib/python3.10/site-packages (from dvc-task<1,>=0.3.0->dvc) (5.3.4)\n",
      "Requirement already satisfied: kombu<6,>=5.3.0 in /Users/nicolas.gensollen/opt/anaconda3/envs/now/lib/python3.10/site-packages (from dvc-task<1,>=0.3.0->dvc) (5.3.2)\n",
      "Requirement already satisfied: atpublic>=2.3 in /Users/nicolas.gensollen/opt/anaconda3/envs/now/lib/python3.10/site-packages (from flufl.lock<8,>=5->dvc) (4.0)\n",
      "Requirement already satisfied: typer>=0.4.1 in /Users/nicolas.gensollen/opt/anaconda3/envs/now/lib/python3.10/site-packages (from gto<2,>=1.4.0->dvc) (0.9.0)\n",
      "Requirement already satisfied: pydantic!=2.0.0,<3,>=1.9.0 in /Users/nicolas.gensollen/opt/anaconda3/envs/now/lib/python3.10/site-packages (from gto<2,>=1.4.0->dvc) (2.4.2)\n",
      "Requirement already satisfied: semver>=3.0.0 in /Users/nicolas.gensollen/opt/anaconda3/envs/now/lib/python3.10/site-packages (from gto<2,>=1.4.0->dvc) (3.0.2)\n",
      "Requirement already satisfied: entrypoints in /Users/nicolas.gensollen/opt/anaconda3/envs/now/lib/python3.10/site-packages (from gto<2,>=1.4.0->dvc) (0.4)\n",
      "Requirement already satisfied: omegaconf<2.4,>=2.2 in /Users/nicolas.gensollen/opt/anaconda3/envs/now/lib/python3.10/site-packages (from hydra-core>=1.1->dvc) (2.3.0)\n",
      "Requirement already satisfied: antlr4-python3-runtime==4.9.* in /Users/nicolas.gensollen/opt/anaconda3/envs/now/lib/python3.10/site-packages (from hydra-core>=1.1->dvc) (4.9.3)\n",
      "Requirement already satisfied: appdirs in /Users/nicolas.gensollen/opt/anaconda3/envs/now/lib/python3.10/site-packages (from iterative-telemetry>=0.0.7->dvc) (1.4.4)\n",
      "Requirement already satisfied: filelock in /Users/nicolas.gensollen/opt/anaconda3/envs/now/lib/python3.10/site-packages (from iterative-telemetry>=0.0.7->dvc) (3.12.4)\n",
      "Requirement already satisfied: charset-normalizer<4,>=2 in /Users/nicolas.gensollen/opt/anaconda3/envs/now/lib/python3.10/site-packages (from requests>=2.22->dvc) (2.0.4)\n",
      "Requirement already satisfied: idna<4,>=2.5 in /Users/nicolas.gensollen/opt/anaconda3/envs/now/lib/python3.10/site-packages (from requests>=2.22->dvc) (3.4)\n",
      "Requirement already satisfied: urllib3<3,>=1.21.1 in /Users/nicolas.gensollen/opt/anaconda3/envs/now/lib/python3.10/site-packages (from requests>=2.22->dvc) (1.26.16)\n",
      "Requirement already satisfied: certifi>=2017.4.17 in /Users/nicolas.gensollen/opt/anaconda3/envs/now/lib/python3.10/site-packages (from requests>=2.22->dvc) (2023.7.22)\n",
      "Requirement already satisfied: markdown-it-py>=2.2.0 in /Users/nicolas.gensollen/opt/anaconda3/envs/now/lib/python3.10/site-packages (from rich>=12->dvc) (2.2.0)\n",
      "Requirement already satisfied: pygments<3.0.0,>=2.13.0 in /Users/nicolas.gensollen/opt/anaconda3/envs/now/lib/python3.10/site-packages (from rich>=12->dvc) (2.15.1)\n",
      "Requirement already satisfied: ruamel.yaml.clib>=0.2.7 in /Users/nicolas.gensollen/opt/anaconda3/envs/now/lib/python3.10/site-packages (from ruamel.yaml>=0.17.11->dvc) (0.2.8)\n",
      "Requirement already satisfied: gitpython>3 in /Users/nicolas.gensollen/opt/anaconda3/envs/now/lib/python3.10/site-packages (from scmrepo<2,>=1.2.1->dvc) (3.1.40)\n",
      "Requirement already satisfied: pygit2>=1.13.0 in /Users/nicolas.gensollen/opt/anaconda3/envs/now/lib/python3.10/site-packages (from scmrepo<2,>=1.2.1->dvc) (1.13.1)\n",
      "Requirement already satisfied: asyncssh<3,>=2.13.1 in /Users/nicolas.gensollen/opt/anaconda3/envs/now/lib/python3.10/site-packages (from scmrepo<2,>=1.2.1->dvc) (2.14.0)\n",
      "Requirement already satisfied: setuptools in /Users/nicolas.gensollen/opt/anaconda3/envs/now/lib/python3.10/site-packages (from zc.lockfile>=1.2.1->dvc) (68.0.0)\n",
      "Requirement already satisfied: aiohttp in /Users/nicolas.gensollen/opt/anaconda3/envs/now/lib/python3.10/site-packages (from aiohttp-retry>=2.5.0->dvc-http>=2.29.0->dvc) (3.8.6)\n",
      "Requirement already satisfied: cryptography>=39.0 in /Users/nicolas.gensollen/opt/anaconda3/envs/now/lib/python3.10/site-packages (from asyncssh<3,>=2.13.1->scmrepo<2,>=1.2.1->dvc) (41.0.3)\n",
      "Requirement already satisfied: typing-extensions>=3.6 in /Users/nicolas.gensollen/opt/anaconda3/envs/now/lib/python3.10/site-packages (from asyncssh<3,>=2.13.1->scmrepo<2,>=1.2.1->dvc) (4.7.1)\n",
      "Requirement already satisfied: billiard<5.0,>=4.1.0 in /Users/nicolas.gensollen/opt/anaconda3/envs/now/lib/python3.10/site-packages (from celery<6,>=5.3.0->dvc-task<1,>=0.3.0->dvc) (4.1.0)\n",
      "Requirement already satisfied: vine<6.0,>=5.0.0 in /Users/nicolas.gensollen/opt/anaconda3/envs/now/lib/python3.10/site-packages (from celery<6,>=5.3.0->dvc-task<1,>=0.3.0->dvc) (5.0.0)\n",
      "Requirement already satisfied: click<9.0,>=8.1.2 in /Users/nicolas.gensollen/opt/anaconda3/envs/now/lib/python3.10/site-packages (from celery<6,>=5.3.0->dvc-task<1,>=0.3.0->dvc) (8.1.7)\n",
      "Requirement already satisfied: click-didyoumean>=0.3.0 in /Users/nicolas.gensollen/opt/anaconda3/envs/now/lib/python3.10/site-packages (from celery<6,>=5.3.0->dvc-task<1,>=0.3.0->dvc) (0.3.0)\n",
      "Requirement already satisfied: click-repl>=0.2.0 in /Users/nicolas.gensollen/opt/anaconda3/envs/now/lib/python3.10/site-packages (from celery<6,>=5.3.0->dvc-task<1,>=0.3.0->dvc) (0.3.0)\n",
      "Requirement already satisfied: click-plugins>=1.1.1 in /Users/nicolas.gensollen/opt/anaconda3/envs/now/lib/python3.10/site-packages (from celery<6,>=5.3.0->dvc-task<1,>=0.3.0->dvc) (1.1.1)\n",
      "Requirement already satisfied: tzdata>=2022.7 in /Users/nicolas.gensollen/opt/anaconda3/envs/now/lib/python3.10/site-packages (from celery<6,>=5.3.0->dvc-task<1,>=0.3.0->dvc) (2023.3)\n",
      "Requirement already satisfied: python-dateutil>=2.8.2 in /Users/nicolas.gensollen/opt/anaconda3/envs/now/lib/python3.10/site-packages (from celery<6,>=5.3.0->dvc-task<1,>=0.3.0->dvc) (2.8.2)\n",
      "Requirement already satisfied: gitdb<5,>=4.0.1 in /Users/nicolas.gensollen/opt/anaconda3/envs/now/lib/python3.10/site-packages (from gitpython>3->scmrepo<2,>=1.2.1->dvc) (4.0.11)\n",
      "Requirement already satisfied: amqp<6.0.0,>=5.1.1 in /Users/nicolas.gensollen/opt/anaconda3/envs/now/lib/python3.10/site-packages (from kombu<6,>=5.3.0->dvc-task<1,>=0.3.0->dvc) (5.1.1)\n",
      "Requirement already satisfied: mdurl~=0.1 in /Users/nicolas.gensollen/opt/anaconda3/envs/now/lib/python3.10/site-packages (from markdown-it-py>=2.2.0->rich>=12->dvc) (0.1.2)\n",
      "Requirement already satisfied: PyYAML>=5.1.0 in /Users/nicolas.gensollen/opt/anaconda3/envs/now/lib/python3.10/site-packages (from omegaconf<2.4,>=2.2->hydra-core>=1.1->dvc) (6.0.1)\n",
      "Requirement already satisfied: annotated-types>=0.4.0 in /Users/nicolas.gensollen/opt/anaconda3/envs/now/lib/python3.10/site-packages (from pydantic!=2.0.0,<3,>=1.9.0->gto<2,>=1.4.0->dvc) (0.6.0)\n",
      "Requirement already satisfied: pydantic-core==2.10.1 in /Users/nicolas.gensollen/opt/anaconda3/envs/now/lib/python3.10/site-packages (from pydantic!=2.0.0,<3,>=1.9.0->gto<2,>=1.4.0->dvc) (2.10.1)\n",
      "Requirement already satisfied: cffi>=1.9.1 in /Users/nicolas.gensollen/opt/anaconda3/envs/now/lib/python3.10/site-packages (from pygit2>=1.13.0->scmrepo<2,>=1.2.1->dvc) (1.15.1)\n",
      "Requirement already satisfied: orjson in /Users/nicolas.gensollen/opt/anaconda3/envs/now/lib/python3.10/site-packages (from sqltrie<1,>=0.8.0->dvc-data<2.19.0,>=2.18.1->dvc) (3.9.9)\n",
      "Requirement already satisfied: multidict<7.0,>=4.5 in /Users/nicolas.gensollen/opt/anaconda3/envs/now/lib/python3.10/site-packages (from aiohttp->aiohttp-retry>=2.5.0->dvc-http>=2.29.0->dvc) (6.0.4)\n",
      "Requirement already satisfied: async-timeout<5.0,>=4.0.0a3 in /Users/nicolas.gensollen/opt/anaconda3/envs/now/lib/python3.10/site-packages (from aiohttp->aiohttp-retry>=2.5.0->dvc-http>=2.29.0->dvc) (4.0.3)\n",
      "Requirement already satisfied: yarl<2.0,>=1.0 in /Users/nicolas.gensollen/opt/anaconda3/envs/now/lib/python3.10/site-packages (from aiohttp->aiohttp-retry>=2.5.0->dvc-http>=2.29.0->dvc) (1.9.2)\n",
      "Requirement already satisfied: frozenlist>=1.1.1 in /Users/nicolas.gensollen/opt/anaconda3/envs/now/lib/python3.10/site-packages (from aiohttp->aiohttp-retry>=2.5.0->dvc-http>=2.29.0->dvc) (1.4.0)\n",
      "Requirement already satisfied: aiosignal>=1.1.2 in /Users/nicolas.gensollen/opt/anaconda3/envs/now/lib/python3.10/site-packages (from aiohttp->aiohttp-retry>=2.5.0->dvc-http>=2.29.0->dvc) (1.3.1)\n",
      "Requirement already satisfied: pycparser in /Users/nicolas.gensollen/opt/anaconda3/envs/now/lib/python3.10/site-packages (from cffi>=1.9.1->pygit2>=1.13.0->scmrepo<2,>=1.2.1->dvc) (2.21)\n",
      "Requirement already satisfied: prompt-toolkit>=3.0.36 in /Users/nicolas.gensollen/opt/anaconda3/envs/now/lib/python3.10/site-packages (from click-repl>=0.2.0->celery<6,>=5.3.0->dvc-task<1,>=0.3.0->dvc) (3.0.36)\n",
      "Requirement already satisfied: smmap<6,>=3.0.1 in /Users/nicolas.gensollen/opt/anaconda3/envs/now/lib/python3.10/site-packages (from gitdb<5,>=4.0.1->gitpython>3->scmrepo<2,>=1.2.1->dvc) (5.0.1)\n",
      "Requirement already satisfied: wcwidth in /Users/nicolas.gensollen/opt/anaconda3/envs/now/lib/python3.10/site-packages (from prompt-toolkit>=3.0.36->click-repl>=0.2.0->celery<6,>=5.3.0->dvc-task<1,>=0.3.0->dvc) (0.2.5)\n"
     ]
    }
   ],
   "source": [
    "! pip install dvc"
   ]
  },
  {
   "cell_type": "markdown",
   "id": "2c3398b6-1001-4821-a9da-954ba75e2958",
   "metadata": {},
   "source": [
    "We can check that DVC is installed:"
   ]
  },
  {
   "cell_type": "code",
   "execution_count": 2,
   "id": "d39a5f0f-6b83-4a54-8bc8-9b592ba76373",
   "metadata": {},
   "outputs": [
    {
     "name": "stdout",
     "output_type": "stream",
     "text": [
      "/Users/nicolas.gensollen/opt/anaconda3/envs/now/bin/dvc\n"
     ]
    }
   ],
   "source": [
    "! which dvc"
   ]
  },
  {
   "cell_type": "code",
   "execution_count": 3,
   "id": "33911a69-da18-4d2e-8153-2f9d6bf36d10",
   "metadata": {},
   "outputs": [
    {
     "name": "stdout",
     "output_type": "stream",
     "text": [
      "3.27.0\n",
      "\u001b[0m"
     ]
    }
   ],
   "source": [
    "! dvc --version"
   ]
  },
  {
   "cell_type": "markdown",
   "id": "f8a5699c-c753-4b6d-87ef-9798780195da",
   "metadata": {},
   "source": [
    "### Initialize a DVC repository\n",
    "\n",
    "Now that we have DVC installed we can start using it !\n",
    "\n",
    "First of all, it is very important to understand that DVC is not a replacement for GIT. It is a tool designed to work WITH GIT as it solves a different problem than GIT.\n",
    "\n",
    "In other words, you need both GIT and DVC to manage both code and data.\n",
    "\n",
    "To initialize a DVC repository, we need to be in a GIT-initialized repository, so let's do that:"
   ]
  },
  {
   "cell_type": "code",
   "execution_count": 8,
   "id": "8a57282e-df65-434b-bd6d-c69aef252ab8",
   "metadata": {},
   "outputs": [
    {
     "name": "stdout",
     "output_type": "stream",
     "text": [
      "Initialized empty Git repository in /Users/nicolas.gensollen/GitRepos/NOW-2023/notebooks/.git/\n"
     ]
    }
   ],
   "source": [
    "! git init"
   ]
  },
  {
   "cell_type": "markdown",
   "id": "107a6c95-ec3b-4fda-ae23-d51c757c2783",
   "metadata": {},
   "source": [
    "You can check that a `.git` hidden folder was created:"
   ]
  },
  {
   "cell_type": "code",
   "execution_count": 9,
   "id": "6f5eacea-55b5-4da7-9eca-d6e8bc29bab2",
   "metadata": {},
   "outputs": [
    {
     "name": "stdout",
     "output_type": "stream",
     "text": [
      "total 40\n",
      "drwxr-xr-x   7 nicolas.gensollen  10513   224B 26 oct 14:14 \u001b[1m\u001b[36m.\u001b[m\u001b[m\n",
      "drwxr-xr-x  19 nicolas.gensollen  10513   608B 25 oct 16:35 \u001b[1m\u001b[36m..\u001b[m\u001b[m\n",
      "-rw-r--r--   1 nicolas.gensollen  10513   139B 26 oct 14:06 .dvcignore\n",
      "drwxr-xr-x   9 nicolas.gensollen  10513   288B 26 oct 14:14 \u001b[1m\u001b[36m.git\u001b[m\u001b[m\n",
      "drwxr-xr-x   5 nicolas.gensollen  10513   160B 25 oct 12:51 \u001b[1m\u001b[36m.ipynb_checkpoints\u001b[m\u001b[m\n",
      "-rw-r--r--   1 nicolas.gensollen  10513   2,0K 25 oct 12:50 code_versionning.ipynb\n",
      "-rw-r--r--   1 nicolas.gensollen  10513   8,9K 26 oct 14:12 data_versionning.ipynb\n"
     ]
    }
   ],
   "source": [
    "! ls -lah"
   ]
  },
  {
   "cell_type": "markdown",
   "id": "ba468c75-4de1-4218-9dbc-850c9d4d2e89",
   "metadata": {},
   "source": [
    "Now we can initialize the DVC repository:"
   ]
  },
  {
   "cell_type": "code",
   "execution_count": 10,
   "id": "529cb72e-8919-4306-b8bf-34a0b5eb8009",
   "metadata": {},
   "outputs": [
    {
     "name": "stdout",
     "output_type": "stream",
     "text": [
      "Initialized DVC repository.\n",
      "\n",
      "You can now commit the changes to git.\n",
      "\n",
      "\u001b[31m+---------------------------------------------------------------------+\n",
      "\u001b[0m\u001b[31m|\u001b[0m                                                                     \u001b[31m|\u001b[0m\n",
      "\u001b[31m|\u001b[0m        DVC has enabled anonymous aggregate usage analytics.         \u001b[31m|\u001b[0m\n",
      "\u001b[31m|\u001b[0m     Read the analytics documentation (and how to opt-out) here:     \u001b[31m|\u001b[0m\n",
      "\u001b[31m|\u001b[0m             <\u001b[36mhttps://dvc.org/doc/user-guide/analytics\u001b[39m>              \u001b[31m|\u001b[0m\n",
      "\u001b[31m|\u001b[0m                                                                     \u001b[31m|\u001b[0m\n",
      "\u001b[31m+---------------------------------------------------------------------+\n",
      "\u001b[0m\n",
      "\u001b[33mWhat's next?\u001b[39m\n",
      "\u001b[33m------------\u001b[39m\n",
      "- Check out the documentation: <\u001b[36mhttps://dvc.org/doc\u001b[39m>\n",
      "- Get help and share ideas: <\u001b[36mhttps://dvc.org/chat\u001b[39m>\n",
      "- Star us on GitHub: <\u001b[36mhttps://github.com/iterative/dvc\u001b[39m>\n",
      "\u001b[0m"
     ]
    }
   ],
   "source": [
    "! dvc init"
   ]
  },
  {
   "cell_type": "markdown",
   "id": "827a36f8-63ad-45ca-b16b-aeb49f1baf5a",
   "metadata": {},
   "source": [
    "In the exact same way as for `git init`, `dvc init` created a hidden folder named `.dvc`:"
   ]
  },
  {
   "cell_type": "code",
   "execution_count": 11,
   "id": "d1a9cbb2-fecd-469d-b26c-63fc352d3f6e",
   "metadata": {},
   "outputs": [
    {
     "name": "stdout",
     "output_type": "stream",
     "text": [
      "total 72\n",
      "drwxr-xr-x   8 nicolas.gensollen  10513   256B 26 oct 14:14 \u001b[1m\u001b[36m.\u001b[m\u001b[m\n",
      "drwxr-xr-x  19 nicolas.gensollen  10513   608B 25 oct 16:35 \u001b[1m\u001b[36m..\u001b[m\u001b[m\n",
      "drwxr-xr-x   5 nicolas.gensollen  10513   160B 26 oct 14:14 \u001b[1m\u001b[36m.dvc\u001b[m\u001b[m\n",
      "-rw-r--r--   1 nicolas.gensollen  10513   139B 26 oct 14:06 .dvcignore\n",
      "drwxr-xr-x  10 nicolas.gensollen  10513   320B 26 oct 14:14 \u001b[1m\u001b[36m.git\u001b[m\u001b[m\n",
      "drwxr-xr-x   5 nicolas.gensollen  10513   160B 25 oct 12:51 \u001b[1m\u001b[36m.ipynb_checkpoints\u001b[m\u001b[m\n",
      "-rw-r--r--   1 nicolas.gensollen  10513   2,0K 25 oct 12:50 code_versionning.ipynb\n",
      "-rw-r--r--   1 nicolas.gensollen  10513    26K 26 oct 14:14 data_versionning.ipynb\n"
     ]
    }
   ],
   "source": [
    "! ls -lah"
   ]
  },
  {
   "cell_type": "markdown",
   "id": "dda9b60b-d0c8-412a-9539-35efe1012abf",
   "metadata": {},
   "source": [
    "In addition to this, DVC created a few files for us. To see that, we can use the `git status` command since we have a git repository:"
   ]
  },
  {
   "cell_type": "code",
   "execution_count": 12,
   "id": "1671c889-85a1-4a85-af1c-d99e3a615013",
   "metadata": {},
   "outputs": [
    {
     "name": "stdout",
     "output_type": "stream",
     "text": [
      "On branch main\n",
      "\n",
      "No commits yet\n",
      "\n",
      "Changes to be committed:\n",
      "  (use \"git rm --cached <file>...\" to unstage)\n",
      "\t\u001b[32mnew file:   .dvc/.gitignore\u001b[m\n",
      "\t\u001b[32mnew file:   .dvc/config\u001b[m\n",
      "\t\u001b[32mnew file:   .dvcignore\u001b[m\n",
      "\n",
      "Untracked files:\n",
      "  (use \"git add <file>...\" to include in what will be committed)\n",
      "\t\u001b[31m.ipynb_checkpoints/\u001b[m\n",
      "\t\u001b[31mcode_versionning.ipynb\u001b[m\n",
      "\t\u001b[31mdata_versionning.ipynb\u001b[m\n",
      "\n"
     ]
    }
   ],
   "source": [
    "! git status"
   ]
  },
  {
   "cell_type": "markdown",
   "id": "ce3cfc06-75be-4370-ba39-7591b19aaa25",
   "metadata": {},
   "source": [
    "As we can see, DVC created 2 files in the `.dvc` folder as well as one file in the current workspace :\n",
    "\n",
    "- `.dvc/.gitignore`\n",
    "- `.dvc/config`\n",
    "- `.dvcignore`\n",
    "\n",
    "These files need to be versionned with GIT, DVC already added them to the stagging aread, so all we need to do is commit them:"
   ]
  },
  {
   "cell_type": "code",
   "execution_count": 13,
   "id": "c22cb8d8-b748-4fb3-bc07-0a9d468c640e",
   "metadata": {},
   "outputs": [
    {
     "name": "stdout",
     "output_type": "stream",
     "text": [
      "[main (root-commit) 8867a0a] initialize DVC\n",
      " 3 files changed, 6 insertions(+)\n",
      " create mode 100644 .dvc/.gitignore\n",
      " create mode 100644 .dvc/config\n",
      " create mode 100644 .dvcignore\n"
     ]
    }
   ],
   "source": [
    "! git commit -m \"initialize DVC\""
   ]
  },
  {
   "cell_type": "code",
   "execution_count": 14,
   "id": "6c8a2c0b-0129-4a17-ab2c-45292fd40c5d",
   "metadata": {},
   "outputs": [
    {
     "name": "stdout",
     "output_type": "stream",
     "text": [
      "\u001b[33mcommit 8867a0ac229b70fc5b14ec7502779cdb6d91a3a1\u001b[m\u001b[33m (\u001b[m\u001b[1;36mHEAD -> \u001b[m\u001b[1;32mmain\u001b[m\u001b[33m)\u001b[m\n",
      "Author: NicolasGensollen <nicolas.gensollen@gmail.com>\n",
      "Date:   Thu Oct 26 14:20:03 2023 +0200\n",
      "\n",
      "    initialize DVC\n"
     ]
    }
   ],
   "source": [
    "! git log"
   ]
  },
  {
   "cell_type": "markdown",
   "id": "4e5ae6ac-2775-4fe2-9b66-eb5217e43484",
   "metadata": {},
   "source": [
    "And that's it, we have successfully initialized a DVC repository and we are now ready to track some code and data !\n",
    "\n",
    "### Track code and data"
   ]
  },
  {
   "cell_type": "code",
   "execution_count": null,
   "id": "c8d010ab-1547-4cf8-8da8-6cf0ca297f2d",
   "metadata": {},
   "outputs": [],
   "source": []
  }
 ],
 "metadata": {
  "kernelspec": {
   "display_name": "Python 3 (ipykernel)",
   "language": "python",
   "name": "python3"
  },
  "language_info": {
   "codemirror_mode": {
    "name": "ipython",
    "version": 3
   },
   "file_extension": ".py",
   "mimetype": "text/x-python",
   "name": "python",
   "nbconvert_exporter": "python",
   "pygments_lexer": "ipython3",
   "version": "3.10.13"
  }
 },
 "nbformat": 4,
 "nbformat_minor": 5
}
