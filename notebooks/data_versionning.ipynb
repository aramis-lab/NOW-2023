{
 "cells": [
  {
   "cell_type": "markdown",
   "id": "8578469e",
   "metadata": {},
   "source": [
    "# Chapter 2 : Getting started with DVC\n",
    "\n",
    "In this first chapter, we will install [DVC](https://dvc.org) and take a look at how [DVC](https://dvc.org) works with [Git](https://git-scm.com) in its most simple usage.\n",
    "\n",
    "## Install DVC\n",
    "\n",
    "First, we need to install [DVC](https://dvc.org). There are various ways to install it depending on you OS, which you can browse [here](https://dvc.org/doc/install). For example, on MacOS, you can install it with [brew](https://brew.sh), [conda](https://anaconda.org), or [pip](https://pip.pypa.io/en/stable/).\n",
    "\n",
    "If you are following this tutorial on your own machine, chose the option that makes the most sense. If you are following on the notebook, we will install [DVC](https://dvc.org) with [pip](https://pip.pypa.io/en/stable/):"
   ]
  },
  {
   "cell_type": "code",
   "execution_count": null,
   "id": "157c54ac",
   "metadata": {},
   "outputs": [],
   "source": [
    "# # brew install dvc\n",
    "# # conda install dvc\n",
    "! pip install dvc"
   ]
  },
  {
   "cell_type": "markdown",
   "id": "e31aa1bc",
   "metadata": {},
   "source": [
    "Note that if you are running this notebook on [Collab](https://colab.google), you might need to click on the \"RESTART RUNTIME\" button just above.\n",
    "\n",
    "We can check that [DVC](https://dvc.org) is installed:"
   ]
  },
  {
   "cell_type": "code",
   "execution_count": 1,
   "id": "1263425d",
   "metadata": {},
   "outputs": [
    {
     "name": "stdout",
     "output_type": "stream",
     "text": [
      "/Users/nicolas.gensollen/opt/anaconda3/envs/now/bin/dvc\n"
     ]
    }
   ],
   "source": [
    "! which dvc"
   ]
  },
  {
   "cell_type": "code",
   "execution_count": 2,
   "id": "4144d9a4",
   "metadata": {},
   "outputs": [
    {
     "name": "stdout",
     "output_type": "stream",
     "text": [
      "3.27.0\n",
      "\u001b[0m"
     ]
    }
   ],
   "source": [
    "! dvc --version"
   ]
  },
  {
   "cell_type": "markdown",
   "id": "63b332dd",
   "metadata": {},
   "source": [
    "## Initialize a DVC repository\n",
    "\n",
    "Now that we have [DVC](https://dvc.org) installed we can start using it !\n",
    "\n",
    "First of all, it is very important to understand that [DVC](https://dvc.org) is not a replacement for [Git](https://git-scm.com). It is a tool designed to work **WITH** [Git](https://git-scm.com) as it solves a different problem than [Git](https://git-scm.com).\n",
    "\n",
    "In other words, you need both [Git](https://git-scm.com) and [DVC](https://dvc.org) to manage both code and data.\n",
    "\n",
    "To initialize a [DVC](https://dvc.org) repository, we need to be in a [Git](https://git-scm.com)-initialized repository, so let's do that:"
   ]
  },
  {
   "cell_type": "code",
   "execution_count": 3,
   "id": "61cd749b",
   "metadata": {},
   "outputs": [
    {
     "name": "stdout",
     "output_type": "stream",
     "text": [
      "Initialized empty Git repository in /Users/nicolas.gensollen/GitRepos/NOW-2023/notebooks/.git/\n"
     ]
    }
   ],
   "source": [
    "! git init"
   ]
  },
  {
   "cell_type": "markdown",
   "id": "e13a1f7f",
   "metadata": {},
   "source": [
    "You can check that a `.git` hidden folder was created:"
   ]
  },
  {
   "cell_type": "code",
   "execution_count": 4,
   "id": "df4cb35b",
   "metadata": {},
   "outputs": [
    {
     "name": "stdout",
     "output_type": "stream",
     "text": [
      "total 1888\n",
      "drwxr-xr-x  10 nicolas.gensollen  10513   320B 14 nov 17:19 \u001b[1m\u001b[36m.\u001b[m\u001b[m\n",
      "drwxr-xr-x  20 nicolas.gensollen  10513   640B 26 oct 19:40 \u001b[1m\u001b[36m..\u001b[m\u001b[m\n",
      "drwxr-xr-x   9 nicolas.gensollen  10513   288B 14 nov 17:19 \u001b[1m\u001b[36m.git\u001b[m\u001b[m\n",
      "drwxr-xr-x  15 nicolas.gensollen  10513   480B 14 nov 12:09 \u001b[1m\u001b[36m.ipynb_checkpoints\u001b[m\u001b[m\n",
      "-rw-r--r--   1 nicolas.gensollen  10513    20K 10 nov 17:58 Untitled.ipynb\n",
      "-rw-r--r--   1 nicolas.gensollen  10513   335B 14 nov 16:00 code_versioning_intro.ipynb\n",
      "-rw-r--r--   1 nicolas.gensollen  10513    44K 14 nov 16:00 code_versionning.ipynb\n",
      "-rw-r--r--   1 nicolas.gensollen  10513   338K 14 nov 17:18 data_versionning.ipynb\n",
      "-rw-r--r--   1 nicolas.gensollen  10513   523K 14 nov 16:00 data_versionning_2.ipynb\n",
      "-rw-r--r--   1 nicolas.gensollen  10513   6,1K 14 nov 16:00 data_versionning_intro.ipynb\n"
     ]
    }
   ],
   "source": [
    "! ls -lah"
   ]
  },
  {
   "cell_type": "markdown",
   "id": "aac92b57",
   "metadata": {},
   "source": [
    "Now we can initialize the [DVC](https://dvc.org) repository:"
   ]
  },
  {
   "cell_type": "code",
   "execution_count": 5,
   "id": "a6a4f289",
   "metadata": {},
   "outputs": [
    {
     "name": "stdout",
     "output_type": "stream",
     "text": [
      "Initialized DVC repository.\n",
      "\n",
      "You can now commit the changes to git.\n",
      "\n",
      "\u001b[31m+---------------------------------------------------------------------+\n",
      "\u001b[0m\u001b[31m|\u001b[0m                                                                     \u001b[31m|\u001b[0m\n",
      "\u001b[31m|\u001b[0m        DVC has enabled anonymous aggregate usage analytics.         \u001b[31m|\u001b[0m\n",
      "\u001b[31m|\u001b[0m     Read the analytics documentation (and how to opt-out) here:     \u001b[31m|\u001b[0m\n",
      "\u001b[31m|\u001b[0m             <\u001b[36mhttps://dvc.org/doc/user-guide/analytics\u001b[39m>              \u001b[31m|\u001b[0m\n",
      "\u001b[31m|\u001b[0m                                                                     \u001b[31m|\u001b[0m\n",
      "\u001b[31m+---------------------------------------------------------------------+\n",
      "\u001b[0m\n",
      "\u001b[33mWhat's next?\u001b[39m\n",
      "\u001b[33m------------\u001b[39m\n",
      "- Check out the documentation: <\u001b[36mhttps://dvc.org/doc\u001b[39m>\n",
      "- Get help and share ideas: <\u001b[36mhttps://dvc.org/chat\u001b[39m>\n",
      "- Star us on GitHub: <\u001b[36mhttps://github.com/iterative/dvc\u001b[39m>\n",
      "\u001b[0m"
     ]
    }
   ],
   "source": [
    "! dvc init"
   ]
  },
  {
   "cell_type": "markdown",
   "id": "a3bf7852",
   "metadata": {},
   "source": [
    "In the exact same way as for [git init](https://git-scm.com/docs/git-init), [dvc init](https://dvc.org/doc/command-reference/init) created a hidden folder named `.dvc`:"
   ]
  },
  {
   "cell_type": "code",
   "execution_count": 6,
   "id": "d4f28a85",
   "metadata": {},
   "outputs": [
    {
     "name": "stdout",
     "output_type": "stream",
     "text": [
      "total 1896\n",
      "drwxr-xr-x  12 nicolas.gensollen  10513   384B 14 nov 17:19 \u001b[1m\u001b[36m.\u001b[m\u001b[m\n",
      "drwxr-xr-x  20 nicolas.gensollen  10513   640B 26 oct 19:40 \u001b[1m\u001b[36m..\u001b[m\u001b[m\n",
      "drwxr-xr-x   5 nicolas.gensollen  10513   160B 14 nov 17:19 \u001b[1m\u001b[36m.dvc\u001b[m\u001b[m\n",
      "-rw-r--r--   1 nicolas.gensollen  10513   139B 14 nov 17:19 .dvcignore\n",
      "drwxr-xr-x  10 nicolas.gensollen  10513   320B 14 nov 17:19 \u001b[1m\u001b[36m.git\u001b[m\u001b[m\n",
      "drwxr-xr-x  15 nicolas.gensollen  10513   480B 14 nov 12:09 \u001b[1m\u001b[36m.ipynb_checkpoints\u001b[m\u001b[m\n",
      "-rw-r--r--   1 nicolas.gensollen  10513    20K 10 nov 17:58 Untitled.ipynb\n",
      "-rw-r--r--   1 nicolas.gensollen  10513   335B 14 nov 16:00 code_versioning_intro.ipynb\n",
      "-rw-r--r--   1 nicolas.gensollen  10513    44K 14 nov 16:00 code_versionning.ipynb\n",
      "-rw-r--r--   1 nicolas.gensollen  10513   338K 14 nov 17:18 data_versionning.ipynb\n",
      "-rw-r--r--   1 nicolas.gensollen  10513   523K 14 nov 16:00 data_versionning_2.ipynb\n",
      "-rw-r--r--   1 nicolas.gensollen  10513   6,1K 14 nov 16:00 data_versionning_intro.ipynb\n"
     ]
    }
   ],
   "source": [
    "! ls -lah"
   ]
  },
  {
   "cell_type": "markdown",
   "id": "6c6772d0",
   "metadata": {},
   "source": [
    "In addition to this, [DVC](https://dvc.org) created a few files for us.\n",
    "\n",
    "To see that, we can use the [git status](https://git-scm.com/docs/git-status) command since we have a git repository:"
   ]
  },
  {
   "cell_type": "code",
   "execution_count": 7,
   "id": "62c5afc4",
   "metadata": {},
   "outputs": [
    {
     "name": "stdout",
     "output_type": "stream",
     "text": [
      "On branch main\n",
      "\n",
      "No commits yet\n",
      "\n",
      "Changes to be committed:\n",
      "  (use \"git rm --cached <file>...\" to unstage)\n",
      "\t\u001b[32mnew file:   .dvc/.gitignore\u001b[m\n",
      "\t\u001b[32mnew file:   .dvc/config\u001b[m\n",
      "\t\u001b[32mnew file:   .dvcignore\u001b[m\n",
      "\n",
      "Untracked files:\n",
      "  (use \"git add <file>...\" to include in what will be committed)\n",
      "\t\u001b[31m.ipynb_checkpoints/\u001b[m\n",
      "\t\u001b[31mUntitled.ipynb\u001b[m\n",
      "\t\u001b[31mcode_versioning_intro.ipynb\u001b[m\n",
      "\t\u001b[31mcode_versionning.ipynb\u001b[m\n",
      "\t\u001b[31mdata_versionning.ipynb\u001b[m\n",
      "\t\u001b[31mdata_versionning_2.ipynb\u001b[m\n",
      "\t\u001b[31mdata_versionning_intro.ipynb\u001b[m\n",
      "\n"
     ]
    }
   ],
   "source": [
    "! git status"
   ]
  },
  {
   "cell_type": "markdown",
   "id": "b9beb261",
   "metadata": {},
   "source": [
    "As we can see, [DVC](https://dvc.org) created 2 files in the `.dvc` folder as well as one file in the current workspace :\n",
    "\n",
    "- `.dvc/.gitignore`\n",
    "- `.dvc/config`\n",
    "- `.dvcignore`\n",
    "\n",
    "These files are very small and need to be versionned with [Git](https://git-scm.com).\n",
    "\n",
    "[DVC](https://dvc.org) behaves very similarly to Git and will often print helpful messages on what to do. In this case, [DVC](https://dvc.org) already added the new files to the stagging area, so all we need to do is commit them:"
   ]
  },
  {
   "cell_type": "markdown",
   "id": "603dd18f",
   "metadata": {},
   "source": [
    "```{note}\n",
    "If you are running the current notebook on Collab, or if you have never configured git before, you need to configure your user name and email address with the `git config` command. You can either use the `--global` option to configure this globally on your machine, or the `--local` option to configure this only for the current project. Note that, if you are running on Collab, it doesn't really matter as the configuration will only leave for the duration of the session:\n",
    "```\n"
   ]
  },
  {
   "cell_type": "code",
   "execution_count": 8,
   "id": "479c11a7",
   "metadata": {},
   "outputs": [],
   "source": [
    "! git config --local user.email \"john.doe@inria.fr\"\n",
    "! git config --local user.name \"John Doe\""
   ]
  },
  {
   "cell_type": "code",
   "execution_count": 9,
   "id": "1e294375",
   "metadata": {},
   "outputs": [
    {
     "name": "stdout",
     "output_type": "stream",
     "text": [
      "[main (root-commit) 5236394] initialize DVC\n",
      " 3 files changed, 6 insertions(+)\n",
      " create mode 100644 .dvc/.gitignore\n",
      " create mode 100644 .dvc/config\n",
      " create mode 100644 .dvcignore\n"
     ]
    }
   ],
   "source": [
    "! git commit -m \"initialize DVC\""
   ]
  },
  {
   "cell_type": "code",
   "execution_count": 10,
   "id": "179539a3",
   "metadata": {},
   "outputs": [
    {
     "name": "stdout",
     "output_type": "stream",
     "text": [
      "\u001b[33mcommit 52363947c69ad4b4438b0405720f3f28d33db4bb\u001b[m\u001b[33m (\u001b[m\u001b[1;36mHEAD -> \u001b[m\u001b[1;32mmain\u001b[m\u001b[33m)\u001b[m\n",
      "Author: John Doe <john.doe@inria.fr>\n",
      "Date:   Tue Nov 14 17:19:34 2023 +0100\n",
      "\n",
      "    initialize DVC\n"
     ]
    }
   ],
   "source": [
    "! git log"
   ]
  },
  {
   "cell_type": "markdown",
   "id": "a25ffbb4",
   "metadata": {},
   "source": [
    "And that's it, we have successfully initialized a [DVC](https://dvc.org) repository and we are now ready to track some code and data !\n",
    "\n",
    "Let's quickly create a `.gitignore` file with some useful patterns to avoid tracking jupyter notebook related files with git. This will make our `git status` command outputs much cleaner and enable us to focus on the important files of the work space:"
   ]
  },
  {
   "cell_type": "code",
   "execution_count": 11,
   "id": "583a334b-6655-4be9-aecd-6a2b270cd6ce",
   "metadata": {},
   "outputs": [
    {
     "name": "stdout",
     "output_type": "stream",
     "text": [
      "Writing .gitignore\n"
     ]
    }
   ],
   "source": [
    "%%writefile -a .gitignore\n",
    "\n",
    "*.ipynb\n",
    "__pycache__\n",
    ".DS_Store\n",
    ".ipynb_checkpoints"
   ]
  },
  {
   "cell_type": "code",
   "execution_count": 12,
   "id": "aa15b69f-b0a8-430b-a07d-b7990f709470",
   "metadata": {},
   "outputs": [
    {
     "name": "stdout",
     "output_type": "stream",
     "text": [
      "[main 7ca6645] add gitignore file\n",
      " 1 file changed, 5 insertions(+)\n",
      " create mode 100644 .gitignore\n",
      "\u001b[33mcommit 7ca6645672ddef13ec237aad880891039e5f4259\u001b[m\u001b[33m (\u001b[m\u001b[1;36mHEAD -> \u001b[m\u001b[1;32mmain\u001b[m\u001b[33m)\u001b[m\n",
      "Author: John Doe <john.doe@inria.fr>\n",
      "Date:   Tue Nov 14 17:19:39 2023 +0100\n",
      "\n",
      "    add gitignore file\n",
      "\n",
      "\u001b[33mcommit 52363947c69ad4b4438b0405720f3f28d33db4bb\u001b[m\n",
      "Author: John Doe <john.doe@inria.fr>\n",
      "Date:   Tue Nov 14 17:19:34 2023 +0100\n",
      "\n",
      "    initialize DVC\n"
     ]
    }
   ],
   "source": [
    "! git add .gitignore\n",
    "! git commit -m \"add gitignore file\"\n",
    "! git log"
   ]
  },
  {
   "cell_type": "code",
   "execution_count": 13,
   "id": "c334f9f3-3125-46b3-830e-d2fd76f6bf38",
   "metadata": {},
   "outputs": [
    {
     "name": "stdout",
     "output_type": "stream",
     "text": [
      "On branch main\n",
      "nothing to commit, working tree clean\n"
     ]
    }
   ],
   "source": [
    "! git status"
   ]
  },
  {
   "cell_type": "markdown",
   "id": "3048b6b0-9b34-48da-8c7c-ff900f233b81",
   "metadata": {},
   "source": [
    "## Track code and data\n",
    "\n",
    "In this section we are going to download some data that we will use as input for a [classification](https://en.wikipedia.org/wiki/Statistical_classification) model. The objective is to predict whether a patient has [Alzheimer's disease](https://en.wikipedia.org/wiki/Alzheimer%27s_disease) (AD) or not. We are going to keep this same objective for the whole tutorial, but we will start very simple and add some complexity up to a real experiment scenario.\n",
    "\n",
    "```{note}\n",
    "The [Hippocampus](https://en.wikipedia.org/wiki/Hippocampus) is a major component of the brain of humans and other vertebrates. Humans and other mammals have two hippocampi, one in each side of the brain. The [hippocampus](https://en.wikipedia.org/wiki/Hippocampus) is part of the limbic system, and plays important roles in the consolidation of information from short-term memory to long-term memory, and in spatial memory that enables navigation. This structure is known to be linked to memory, and is atrophied in the majority of cases of [Alzheimer's disease](https://en.wikipedia.org/wiki/Alzheimer%27s_disease) patients.\n",
    "```\n",
    "\n",
    "In this tutorial we will rely extensively on the volumes of the hippocampi to make our predictions."
   ]
  },
  {
   "cell_type": "markdown",
   "id": "0ab25d87-e31d-4c55-abfb-994830896b59",
   "metadata": {},
   "source": [
    "### Basic data with a basic model\n",
    "\n",
    "Let's start **VERY** simple with a dataset in the form of a single TSV file. This file contains one row per subject and four columns:\n",
    "\n",
    "- the **patient ID** which is just a string identifier\n",
    "- the **volume** of this patient's **left hypocampus** (this will be our first predictive feature)\n",
    "- the **volume** of this patient's **right hypocampus** (this will be second first predictive feature)\n",
    "- the **diagnosis** of the patient: \"AD\" if the patient has [Alzheimer's disease](https://en.wikipedia.org/wiki/Alzheimer%27s_disease) or \"CN\" for control (this will be out target)\n",
    "\n",
    "Let's download the data first. For this, we will use a special [DVC](https://dvc.org) command: [dvc get](https://dvc.org/doc/command-reference/get):"
   ]
  },
  {
   "cell_type": "code",
   "execution_count": 14,
   "id": "ee6dde47",
   "metadata": {},
   "outputs": [
    {
     "name": "stdout",
     "output_type": "stream",
     "text": [
      "  0% Downloading version_1|                          |0/1 [00:00<?,    ?files/s]\n",
      "!\u001b[A\n",
      "  0%|          |NOW_2023/hc_volumes/version_1/datas0.00/? [00:00<?,        ?B/s]\u001b[A\n",
      "100% Downloading version_1|█████████████████████|1/1 [00:00<00:00,  3.94files/s]\u001b[A\n",
      "\u001b[0m                                                                            \u001b[A"
     ]
    }
   ],
   "source": [
    "! dvc get https://github.com/aramis-lab/dataset-registry NOW_2023/hc_volumes/version_1\n",
    "! mv version_1/dataset1.tsv dataset.tsv\n",
    "! rm -r version_1"
   ]
  },
  {
   "cell_type": "markdown",
   "id": "96ff8b43",
   "metadata": {},
   "source": [
    "Let's open the TSV file we just downloaded with [Pandas](https://pandas.pydata.org) and take a look at the subjects data:"
   ]
  },
  {
   "cell_type": "code",
   "execution_count": 15,
   "id": "32597ddc",
   "metadata": {},
   "outputs": [
    {
     "data": {
      "text/html": [
       "<div>\n",
       "<style scoped>\n",
       "    .dataframe tbody tr th:only-of-type {\n",
       "        vertical-align: middle;\n",
       "    }\n",
       "\n",
       "    .dataframe tbody tr th {\n",
       "        vertical-align: top;\n",
       "    }\n",
       "\n",
       "    .dataframe thead th {\n",
       "        text-align: right;\n",
       "    }\n",
       "</style>\n",
       "<table border=\"1\" class=\"dataframe\">\n",
       "  <thead>\n",
       "    <tr style=\"text-align: right;\">\n",
       "      <th></th>\n",
       "      <th>subject_id</th>\n",
       "      <th>HC_left_volume</th>\n",
       "      <th>HC_right_volume</th>\n",
       "      <th>diagnosis</th>\n",
       "    </tr>\n",
       "  </thead>\n",
       "  <tbody>\n",
       "    <tr>\n",
       "      <th>0</th>\n",
       "      <td>sub-OASIS10001</td>\n",
       "      <td>0.603066</td>\n",
       "      <td>0.564267</td>\n",
       "      <td>CN</td>\n",
       "    </tr>\n",
       "    <tr>\n",
       "      <th>1</th>\n",
       "      <td>sub-OASIS10002</td>\n",
       "      <td>0.600465</td>\n",
       "      <td>0.589847</td>\n",
       "      <td>CN</td>\n",
       "    </tr>\n",
       "    <tr>\n",
       "      <th>2</th>\n",
       "      <td>sub-OASIS10003</td>\n",
       "      <td>0.537849</td>\n",
       "      <td>0.508955</td>\n",
       "      <td>AD</td>\n",
       "    </tr>\n",
       "    <tr>\n",
       "      <th>3</th>\n",
       "      <td>sub-OASIS10004</td>\n",
       "      <td>0.646733</td>\n",
       "      <td>0.633654</td>\n",
       "      <td>CN</td>\n",
       "    </tr>\n",
       "    <tr>\n",
       "      <th>4</th>\n",
       "      <td>sub-OASIS10005</td>\n",
       "      <td>0.780377</td>\n",
       "      <td>0.726095</td>\n",
       "      <td>CN</td>\n",
       "    </tr>\n",
       "  </tbody>\n",
       "</table>\n",
       "</div>"
      ],
      "text/plain": [
       "       subject_id  HC_left_volume  HC_right_volume diagnosis\n",
       "0  sub-OASIS10001        0.603066         0.564267        CN\n",
       "1  sub-OASIS10002        0.600465         0.589847        CN\n",
       "2  sub-OASIS10003        0.537849         0.508955        AD\n",
       "3  sub-OASIS10004        0.646733         0.633654        CN\n",
       "4  sub-OASIS10005        0.780377         0.726095        CN"
      ]
     },
     "execution_count": 15,
     "metadata": {},
     "output_type": "execute_result"
    }
   ],
   "source": [
    "import pandas as pd\n",
    "\n",
    "df = pd.read_csv(\"dataset.tsv\", sep=\"\\t\")\n",
    "df.head()"
   ]
  },
  {
   "cell_type": "markdown",
   "id": "a5e42346",
   "metadata": {},
   "source": [
    "We can see that we have 208 subjects:"
   ]
  },
  {
   "cell_type": "code",
   "execution_count": 16,
   "id": "f851b695",
   "metadata": {},
   "outputs": [
    {
     "data": {
      "text/html": [
       "<div>\n",
       "<style scoped>\n",
       "    .dataframe tbody tr th:only-of-type {\n",
       "        vertical-align: middle;\n",
       "    }\n",
       "\n",
       "    .dataframe tbody tr th {\n",
       "        vertical-align: top;\n",
       "    }\n",
       "\n",
       "    .dataframe thead th {\n",
       "        text-align: right;\n",
       "    }\n",
       "</style>\n",
       "<table border=\"1\" class=\"dataframe\">\n",
       "  <thead>\n",
       "    <tr style=\"text-align: right;\">\n",
       "      <th></th>\n",
       "      <th>subject_id</th>\n",
       "      <th>HC_left_volume</th>\n",
       "      <th>HC_right_volume</th>\n",
       "      <th>diagnosis</th>\n",
       "    </tr>\n",
       "  </thead>\n",
       "  <tbody>\n",
       "    <tr>\n",
       "      <th>203</th>\n",
       "      <td>sub-OASIS10223</td>\n",
       "      <td>0.564524</td>\n",
       "      <td>0.543243</td>\n",
       "      <td>AD</td>\n",
       "    </tr>\n",
       "    <tr>\n",
       "      <th>204</th>\n",
       "      <td>sub-OASIS10224</td>\n",
       "      <td>0.659841</td>\n",
       "      <td>0.648335</td>\n",
       "      <td>CN</td>\n",
       "    </tr>\n",
       "    <tr>\n",
       "      <th>205</th>\n",
       "      <td>sub-OASIS10226</td>\n",
       "      <td>0.554172</td>\n",
       "      <td>0.512045</td>\n",
       "      <td>AD</td>\n",
       "    </tr>\n",
       "    <tr>\n",
       "      <th>206</th>\n",
       "      <td>sub-OASIS10227</td>\n",
       "      <td>0.582242</td>\n",
       "      <td>0.562348</td>\n",
       "      <td>CN</td>\n",
       "    </tr>\n",
       "    <tr>\n",
       "      <th>207</th>\n",
       "      <td>sub-OASIS10228</td>\n",
       "      <td>0.624570</td>\n",
       "      <td>0.593006</td>\n",
       "      <td>CN</td>\n",
       "    </tr>\n",
       "  </tbody>\n",
       "</table>\n",
       "</div>"
      ],
      "text/plain": [
       "         subject_id  HC_left_volume  HC_right_volume diagnosis\n",
       "203  sub-OASIS10223        0.564524         0.543243        AD\n",
       "204  sub-OASIS10224        0.659841         0.648335        CN\n",
       "205  sub-OASIS10226        0.554172         0.512045        AD\n",
       "206  sub-OASIS10227        0.582242         0.562348        CN\n",
       "207  sub-OASIS10228        0.624570         0.593006        CN"
      ]
     },
     "execution_count": 16,
     "metadata": {},
     "output_type": "execute_result"
    }
   ],
   "source": [
    "df.tail()"
   ]
  },
  {
   "cell_type": "markdown",
   "id": "62d0b7e8",
   "metadata": {},
   "source": [
    "Recall that this tutorial is on code and data versioning, not on machine or deep learning ! In orther words, we won't focus on the machine learning aspect of things, but rather on the code and data management aspects.\n",
    "\n",
    "This means that we will treat models as black boxes. For simplicity, models have been wrapped in custom classes offering a very simple API:\n",
    "\n",
    "- `model.fit()` for fitting the model with some input data\n",
    "- `model.save()` for saving the model's weights to disk\n",
    "- `model.plot()` to give us some visuals\n",
    "\n",
    "Here, we use a toy model (a simple SVC), and we fit it with the data we just downloaded:"
   ]
  },
  {
   "cell_type": "code",
   "execution_count": 17,
   "id": "c9215675",
   "metadata": {},
   "outputs": [],
   "source": [
    "import pickle\n",
    "import pandas as pd\n",
    "import numpy as np\n",
    "from sklearn import svm\n",
    "import matplotlib.pyplot as plt\n",
    "\n",
    "class Model:\n",
    "    \"\"\"Simple interface to a toy model for classification.\"\"\"\n",
    "    def __init__(self, X: np.ndarray, y: np.ndarray):\n",
    "        self.X =X\n",
    "        self.y = y\n",
    "        self.min_x = np.min(self.X[:, 0])\n",
    "        self.max_x = np.max(self.X[:, 0])\n",
    "        self.min_y = np.min(self.X[:, 1])\n",
    "        self.max_y = np.max(self.X[:, 1])\n",
    "        self.estimator = svm.SVC()\n",
    "\n",
    "    @property\n",
    "    def n_samples(self) -> int:\n",
    "        return self.X.shape[0]\n",
    "\n",
    "    @property\n",
    "    def bbox(self) -> list[float]:\n",
    "        return [self.min_x, self.max_x, self.min_y, self.max_y]\n",
    "\n",
    "    @classmethod\n",
    "    def from_dataframe(cls, df: pd.DataFrame, predictive_features: list[str], target_feature: str):\n",
    "        X = np.array(df[predictive_features])\n",
    "        y = np.array([1 if x == \"AD\" else 0 for x in df[target_feature].values])\n",
    "        return cls(X, y)\n",
    "\n",
    "    def fit(self):\n",
    "        self.estimator.fit(self.X, self.y)\n",
    "\n",
    "    def save(self):\n",
    "        with open(\"model.pkl\", \"wb\") as fp:\n",
    "            pickle.dump(self.estimator, fp)\n",
    "\n",
    "    def plot(self):\n",
    "        xx, yy = np.meshgrid(\n",
    "            np.linspace(self.min_x, self.max_x, 500),\n",
    "            np.linspace(self.min_y, self.max_y, 500),\n",
    "        )\n",
    "        Z = self.estimator.decision_function(np.c_[xx.ravel(), yy.ravel()])\n",
    "        Z = Z.reshape(xx.shape)\n",
    "        plt.imshow(\n",
    "            Z,\n",
    "            interpolation=\"nearest\",\n",
    "            extent=(xx.min(), xx.max(), yy.min(), yy.max()),\n",
    "            aspect=\"auto\",\n",
    "            origin=\"lower\",\n",
    "            cmap=plt.cm.PuOr_r,\n",
    "        )\n",
    "        contours = plt.contour(xx, yy, Z, levels=[0], linewidths=2, linestyles=\"dashed\")\n",
    "        plt.scatter(self.X[:, 0], self.X[:, 1], s=30, c=self.y, cmap=plt.cm.Paired, edgecolors=\"k\")\n",
    "        plt.xticks(())\n",
    "        plt.yticks(())\n",
    "        plt.title(f\"Number of sample = {self.n_samples}\")\n",
    "        plt.axis(self.bbox)\n",
    "        plt.show()"
   ]
  },
  {
   "cell_type": "code",
   "execution_count": 18,
   "id": "8ca8b788",
   "metadata": {},
   "outputs": [
    {
     "data": {
      "image/png": "[encoded data removed]",
      "text/plain": [
       "<Figure size 640x480 with 1 Axes>"
      ]
     },
     "metadata": {},
     "output_type": "display_data"
    }
   ],
   "source": [
    "model = Model.from_dataframe(\n",
    "    df,\n",
    "    predictive_features=[\"HC_left_volume\", \"HC_right_volume\"],\n",
    "    target_feature=\"diagnosis\",\n",
    ")\n",
    "model.fit()  # Fit the model\n",
    "model.save() # Serialize the trained model\n",
    "model.plot() # Plot the decision function with the data"
   ]
  },
  {
   "cell_type": "markdown",
   "id": "6d50e048-4481-473f-97a5-4cf8dffb8475",
   "metadata": {},
   "source": [
    "We can see that the model is able to learn a decision function to classify subjects with AD from control subjects.\n",
    "\n",
    "But what happened to our work space ? We can use `git status` to get some useful information:"
   ]
  },
  {
   "cell_type": "code",
   "execution_count": 19,
   "id": "11f5facb-942b-4f9b-a85b-cf2d7933485d",
   "metadata": {},
   "outputs": [
    {
     "name": "stdout",
     "output_type": "stream",
     "text": [
      "On branch main\n",
      "Untracked files:\n",
      "  (use \"git add <file>...\" to include in what will be committed)\n",
      "\t\u001b[31mdataset.tsv\u001b[m\n",
      "\t\u001b[31mmodel.pkl\u001b[m\n",
      "\n",
      "nothing added to commit but untracked files present (use \"git add\" to track)\n"
     ]
    }
   ],
   "source": [
    "! git status"
   ]
  },
  {
   "cell_type": "markdown",
   "id": "1a79e808",
   "metadata": {},
   "source": [
    "We have two new untracked files: `dataset.tsv` which is our dataset we just downloaded, and `model.pkl` which is our trained model serialized to disk.\n",
    "\n",
    "At this point, we are happy with our experiment and we wish to commit our changes. This is the moment where we need to understand what should be tracked with [DVC](https://dvc.org) and what should be tracked with [Git](https://git-scm.com).\n",
    "\n",
    "First, `dataset.tsv` is our input data, so this is clearly something we shouldn't version with [Git](https://git-scm.com) (although [Git](https://git-scm.com) would manage it with such a simple dataset). We should clearly use [DVC](https://dvc.org) to track our dataset. The same goes with our experiment results: `model.pkl` which is our trained model serialized.\n",
    "\n",
    "Let's track these two files with [DVC](https://dvc.org). Again, the [DVC](https://dvc.org) command is very similar to the git command:"
   ]
  },
  {
   "cell_type": "code",
   "execution_count": 20,
   "id": "7115e157",
   "metadata": {},
   "outputs": [
    {
     "name": "stdout",
     "output_type": "stream",
     "text": [
      "\u001b[?25l                                                                core\u001b[39m>\u001b[32m⠋\u001b[0m Checking graph\n",
      "  0% Adding...|                        | dataset.tsv |0/2 [00:00<?,     ?file/s]\n",
      "!\u001b[A\n",
      "Collecting files and computing hashes in dataset.tsv  |0.00 [00:00,     ?file/s]\u001b[A\n",
      "                                                                                \u001b[A\n",
      "!\u001b[A\n",
      "  0% Checking cache in '/Users/nicolas.gensollen/GitRepos/NOW-2023/notebooks/.dv\u001b[A\n",
      "                                                                                \u001b[A\n",
      "!\u001b[A\n",
      "  0%|          |Adding dataset.tsv to cache           0/? [00:00<?,     ?file/s]\u001b[A\n",
      "  0%|          |Adding dataset.tsv to cache           0/1 [00:00<?,     ?file/s]\u001b[A\n",
      "  0%|          |Adding dataset.tsv to cache           0/1 [00:00<?,     ?file/s]\u001b[A\n",
      "                                                                                \u001b[A\n",
      "!\u001b[A\n",
      "  0%|          |Checking out /Users/nicolas.gensollen/0/? [00:00<?,    ?files/s]\u001b[A\n",
      "  0%|          |Checking out /Users/nicolas.gensollen/0/1 [00:00<?,    ?files/s]\u001b[A\n",
      "  0% Adding...|                          | model.pkl |0/2 [00:00<?,     ?file/s]\u001b[A\n",
      "!\u001b[A\n",
      "Collecting files and computing hashes in model.pkl    |0.00 [00:00,     ?file/s]\u001b[A\n",
      "                                                                                \u001b[A\n",
      "!\u001b[A\n",
      "  0% Checking cache in '/Users/nicolas.gensollen/GitRepos/NOW-2023/notebooks/.dv\u001b[A\n",
      "                                                                                \u001b[A\n",
      "!\u001b[A\n",
      "  0%|          |Adding model.pkl to cache             0/? [00:00<?,     ?file/s]\u001b[A\n",
      "  0%|          |Adding model.pkl to cache             0/1 [00:00<?,     ?file/s]\u001b[A\n",
      "  0%|          |Adding model.pkl to cache             0/1 [00:00<?,     ?file/s]\u001b[A\n",
      "                                                                                \u001b[A\n",
      "!\u001b[A\n",
      "  0%|          |Checking out /Users/nicolas.gensollen/0/? [00:00<?,    ?files/s]\u001b[A\n",
      "  0%|          |Checking out /Users/nicolas.gensollen/0/1 [00:00<?,    ?files/s]\u001b[A\n",
      "100% Adding...|████████████████████████████████████████|2/2 [00:00, 37.72file/s]\u001b[A\n",
      "\n",
      "To track the changes with git, run:\n",
      "\n",
      "\tgit add model.pkl.dvc .gitignore dataset.tsv.dvc\n",
      "\n",
      "To enable auto staging, run:\n",
      "\n",
      "\tdvc config core.autostage true\n",
      "\u001b[0m"
     ]
    }
   ],
   "source": [
    "! dvc add dataset.tsv model.pkl"
   ]
  },
  {
   "cell_type": "markdown",
   "id": "673d07f7",
   "metadata": {},
   "source": [
    "A few things happened here !\n",
    "\n",
    "Tracking `dataset.tsv` and `model.pkl` generated two small metadata files with a `.dvc` extension:\n",
    "\n",
    "- `dataset.tsv.dvc`\n",
    "- `model.pkl.dvc`\n",
    "\n",
    "Let's take a look at them:"
   ]
  },
  {
   "cell_type": "code",
   "execution_count": 21,
   "id": "a7320788-b9cc-4b18-822d-6737e93f4fb1",
   "metadata": {},
   "outputs": [
    {
     "name": "stdout",
     "output_type": "stream",
     "text": [
      "outs:\n",
      "- md5: 58ac275459541571c78e9292635f63c8\n",
      "  size: 9991\n",
      "  hash: md5\n",
      "  path: dataset.tsv\n"
     ]
    }
   ],
   "source": [
    "!cat dataset.tsv.dvc"
   ]
  },
  {
   "cell_type": "markdown",
   "id": "7fb11beb-e9ac-44ee-9ccd-c5420b9cd5ed",
   "metadata": {},
   "source": [
    "### The `.dvc` files\n",
    "\n",
    "This is a very small and simple file ! Believe it or not, but this is all the information [DVC](https://dvc.org) needs to track our `dataset.tsv` file !\n",
    "\n",
    "The quite long sequence of characters corresponding to the `md5` field is the computed hash value of `dataset.tsv`. This is the key mechanism behind [DVC](https://dvc.org). By computing the hash value of `dataset.tsv` and comparing this value to the one stored in `dataset.tsv.dvc`, [DVC](https://dvc.org) can tell whether a given file or directory has changed.\n",
    "\n",
    "Of course there is a lot of hidden complexity here. For the interrested reader, you can take a look at [this page](https://dvc.org/doc/user-guide/project-structure/internal-files#structure-of-the-cache-directory) to understand better how this works.\n",
    "\n",
    "In addition to the `.dvc` files, [DVC](https://dvc.org) modified our `.gitignore` file to tell [Git](https://git-scm.com) to **NOT** track `dataset.tsv` and `model.pkl`. This will prevent us to commit large data files by mistake."
   ]
  },
  {
   "cell_type": "code",
   "execution_count": 22,
   "id": "404b19c5-aaac-4eb7-bb2a-607719dc9448",
   "metadata": {},
   "outputs": [
    {
     "name": "stdout",
     "output_type": "stream",
     "text": [
      "\u001b[1mdiff --git a/.gitignore b/.gitignore\u001b[m\n",
      "\u001b[1mindex 03d53af..1e5fa37 100644\u001b[m\n",
      "\u001b[1m--- a/.gitignore\u001b[m\n",
      "\u001b[1m+++ b/.gitignore\u001b[m\n",
      "\u001b[36m@@ -3,3 +3,5 @@\u001b[m\n",
      " __pycache__\u001b[m\n",
      " .DS_Store\u001b[m\n",
      " .ipynb_checkpoints\u001b[m\n",
      "\u001b[32m+\u001b[m\u001b[32m/dataset.tsv\u001b[m\n",
      "\u001b[32m+\u001b[m\u001b[32m/model.pkl\u001b[m\n"
     ]
    }
   ],
   "source": [
    "! git diff .gitignore"
   ]
  },
  {
   "cell_type": "markdown",
   "id": "d80c8c28-58a8-47df-8d68-9d946c4bdcf0",
   "metadata": {},
   "source": [
    "As you can see from the output of the `dvc add` command above, [DVC](https://dvc.org) is helping us by telling us what we should do next ! It is telling us to version these files with git.\n",
    "\n",
    "Indeed, all these files are super small and easily managable for [Git](https://git-scm.com).\n",
    "\n",
    "Let's follow the recommandations of [DVC](https://dvc.org) and version them with [Git](https://git-scm.com):"
   ]
  },
  {
   "cell_type": "code",
   "execution_count": 23,
   "id": "d53e8b25",
   "metadata": {},
   "outputs": [],
   "source": [
    "! git add dataset.tsv.dvc model.pkl.dvc .gitignore"
   ]
  },
  {
   "cell_type": "markdown",
   "id": "5dc108eb",
   "metadata": {},
   "source": [
    "At this point we can commit our changes and optionally tag the commit.\n",
    "\n",
    "Here, we will call this the \"v1.0\" of our experiment, for which we used 208 subjects:"
   ]
  },
  {
   "cell_type": "code",
   "execution_count": 24,
   "id": "46847a4b",
   "metadata": {},
   "outputs": [
    {
     "name": "stdout",
     "output_type": "stream",
     "text": [
      "[main 0c79b1b] First model, trained with 208 subjects\n",
      " 3 files changed, 12 insertions(+)\n",
      " create mode 100644 dataset.tsv.dvc\n",
      " create mode 100644 model.pkl.dvc\n",
      "\u001b[33mcommit 0c79b1bc26827c5248e68682d5ba456b66cd93ee\u001b[m\u001b[33m (\u001b[m\u001b[1;36mHEAD -> \u001b[m\u001b[1;32mmain\u001b[m\u001b[33m, \u001b[m\u001b[1;33mtag: v1.0\u001b[m\u001b[33m)\u001b[m\n",
      "Author: John Doe <john.doe@inria.fr>\n",
      "Date:   Tue Nov 14 17:26:54 2023 +0100\n",
      "\n",
      "    First model, trained with 208 subjects\n",
      "\n",
      "\u001b[33mcommit 7ca6645672ddef13ec237aad880891039e5f4259\u001b[m\n",
      "Author: John Doe <john.doe@inria.fr>\n",
      "Date:   Tue Nov 14 17:19:39 2023 +0100\n",
      "\n",
      "    add gitignore file\n",
      "\n",
      "\u001b[33mcommit 52363947c69ad4b4438b0405720f3f28d33db4bb\u001b[m\n",
      "Author: John Doe <john.doe@inria.fr>\n",
      "Date:   Tue Nov 14 17:19:34 2023 +0100\n",
      "\n",
      "    initialize DVC\n"
     ]
    }
   ],
   "source": [
    "! git commit -m \"First model, trained with 208 subjects\"\n",
    "! git tag -a \"v1.0\" -m \"model v1.0, 208 subjects\"\n",
    "! git log"
   ]
  },
  {
   "cell_type": "markdown",
   "id": "17f0e00a-ff00-4c8d-aa94-3e667cc47544",
   "metadata": {},
   "source": [
    "Our workspace is clear, everything is tracked either with [Git](https://git-scm.com) or with [DVC](https://dvc.org):"
   ]
  },
  {
   "cell_type": "code",
   "execution_count": 25,
   "id": "c0f557da",
   "metadata": {},
   "outputs": [
    {
     "name": "stdout",
     "output_type": "stream",
     "text": [
      "On branch main\n",
      "nothing to commit, working tree clean\n"
     ]
    }
   ],
   "source": [
    "! git status"
   ]
  },
  {
   "cell_type": "markdown",
   "id": "5f869a64",
   "metadata": {},
   "source": [
    "### Data can change\n",
    "\n",
    "So far so good, but datasets are not always fixed in time, they may evolve. For example, new data can be collected and added in new dataset releases (think about ADNI or UK-Biobank for example).\n",
    "\n",
    "Let's imagine that our small dataset received a brand new release with 208 additional subjects. Chances are that this will impact our previous experiment.\n",
    "\n",
    "How should we handle such an update ?\n",
    "\n",
    "Let's dive in and download the updated dataset:"
   ]
  },
  {
   "cell_type": "code",
   "execution_count": 26,
   "id": "2f2630e6",
   "metadata": {},
   "outputs": [
    {
     "name": "stdout",
     "output_type": "stream",
     "text": [
      "  0% Downloading version_2|                          |0/1 [00:00<?,    ?files/s]\n",
      "!\u001b[A\n",
      "  0%|          |NOW_2023/hc_volumes/version_2/datas0.00/? [00:00<?,        ?B/s]\u001b[A\n",
      "100% Downloading version_2|█████████████████████|1/1 [00:00<00:00,  2.27files/s]\u001b[A\n",
      "\u001b[0m                                                                            \u001b[A"
     ]
    }
   ],
   "source": [
    "! dvc get https://github.com/aramis-lab/dataset-registry NOW_2023/hc_volumes/version_2\n",
    "! mv version_2/dataset2.tsv dataset.tsv\n",
    "! rm -r version_2"
   ]
  },
  {
   "cell_type": "markdown",
   "id": "ce064a9f",
   "metadata": {},
   "source": [
    "As advertized, we now have data for 416 subjects:"
   ]
  },
  {
   "cell_type": "code",
   "execution_count": 27,
   "id": "4aa061da",
   "metadata": {},
   "outputs": [
    {
     "name": "stdout",
     "output_type": "stream",
     "text": [
      "       subject_id  HC_left_volume  HC_right_volume diagnosis\n",
      "0  sub-OASIS10001        0.603066         0.564267        CN\n",
      "1  sub-OASIS10002        0.600465         0.589847        CN\n",
      "2  sub-OASIS10003        0.537849         0.508955        AD\n",
      "         subject_id  HC_left_volume  HC_right_volume diagnosis\n",
      "413  sub-OASIS10455        0.671374         0.615527        CN\n",
      "414  sub-OASIS10456        0.709555         0.676417        CN\n",
      "415  sub-OASIS10457        0.579474         0.581755        CN\n"
     ]
    }
   ],
   "source": [
    "df = pd.read_csv(\"dataset.tsv\", sep=\"\\t\")\n",
    "print(df.head(3))\n",
    "print(df.tail(3))"
   ]
  },
  {
   "cell_type": "markdown",
   "id": "914d0eec",
   "metadata": {},
   "source": [
    "Let's create a new instance of our toy model, and fit it with our new dataset:"
   ]
  },
  {
   "cell_type": "code",
   "execution_count": 28,
   "id": "9607d8f4",
   "metadata": {},
   "outputs": [
    {
     "data": {
      "image/png": "[encoded data removed]",
      "text/plain": [
       "<Figure size 640x480 with 1 Axes>"
      ]
     },
     "metadata": {},
     "output_type": "display_data"
    }
   ],
   "source": [
    "model = Model.from_dataframe(\n",
    "    df,\n",
    "    predictive_features=[\"HC_left_volume\", \"HC_right_volume\"],\n",
    "    target_feature=\"diagnosis\",\n",
    ")\n",
    "model.fit()\n",
    "model.save()\n",
    "model.plot()"
   ]
  },
  {
   "cell_type": "markdown",
   "id": "f3dcd1d4-b23e-480e-8325-d10feb20b51f",
   "metadata": {},
   "source": [
    "Great ! We now have our new model trained with our new data and the results look amazing !\n",
    "\n",
    "Let's check what happened to our workspace:"
   ]
  },
  {
   "cell_type": "code",
   "execution_count": 29,
   "id": "e1a9cf0e-1d06-42a8-80c2-a3128d46eea9",
   "metadata": {},
   "outputs": [
    {
     "name": "stdout",
     "output_type": "stream",
     "text": [
      "On branch main\n",
      "nothing to commit, working tree clean\n"
     ]
    }
   ],
   "source": [
    "! git status"
   ]
  },
  {
   "cell_type": "markdown",
   "id": "1a32f2f3",
   "metadata": {},
   "source": [
    "Wait, whaaat !?\n",
    "\n",
    "[Git](https://git-scm.com) is telling is that nothing changed... But we just re-ran our experiment, we should have new results !\n",
    "\n",
    "Remember that each tool has its responsibilities. We are using [Git](https://git-scm.com) to track our `.dvc` metadata files but we never changed them since our latest commit.\n",
    "\n",
    "Instead we changed `dataset.tsv` (we added 208 new subjects) and `model.pkl` (we re-trained and saved our toy model). These files aren't tracked with [Git](https://git-scm.com), but with [DVC](https://dvc.org) !\n",
    "\n",
    "This means that we should use a [DVC](https://dvc.org) command and, again, [DVC](https://dvc.org) makes it very easy for us because the command is almost the same:"
   ]
  },
  {
   "cell_type": "code",
   "execution_count": 30,
   "id": "acc122aa",
   "metadata": {},
   "outputs": [
    {
     "name": "stdout",
     "output_type": "stream",
     "text": [
      "dataset.tsv.dvc:                                                                \n",
      "\tchanged outs:\n",
      "\t\tmodified:           dataset.tsv\n",
      "model.pkl.dvc:\n",
      "\tchanged outs:\n",
      "\t\tmodified:           model.pkl\n",
      "\u001b[0m"
     ]
    }
   ],
   "source": [
    "! dvc status"
   ]
  },
  {
   "cell_type": "markdown",
   "id": "d56dc67a",
   "metadata": {},
   "source": [
    "As expected, [DVC](https://dvc.org) is telling us that both our dataset and our serialized model have changed.\n",
    "\n",
    "As we would do with [Git](https://git-scm.com), let's add these changes with [DVC](https://dvc.org):"
   ]
  },
  {
   "cell_type": "code",
   "execution_count": 31,
   "id": "c585f81b",
   "metadata": {},
   "outputs": [
    {
     "name": "stdout",
     "output_type": "stream",
     "text": [
      "\u001b[?25l\u001b[32m⠋\u001b[0m Checking graph                                       core\u001b[39m>\n",
      "  0% Adding...|                        | dataset.tsv |0/2 [00:00<?,     ?file/s]\n",
      "!\u001b[A\n",
      "Collecting files and computing hashes in dataset.tsv  |0.00 [00:00,     ?file/s]\u001b[A\n",
      "                                                                                \u001b[A\n",
      "!\u001b[A\n",
      "  0% Checking cache in '/Users/nicolas.gensollen/GitRepos/NOW-2023/notebooks/.dv\u001b[A\n",
      "                                                                                \u001b[A\n",
      "!\u001b[A\n",
      "  0%|          |Adding dataset.tsv to cache           0/? [00:00<?,     ?file/s]\u001b[A\n",
      "  0%|          |Adding dataset.tsv to cache           0/1 [00:00<?,     ?file/s]\u001b[A\n",
      "  0%|          |Adding dataset.tsv to cache           0/1 [00:00<?,     ?file/s]\u001b[A\n",
      "                                                                                \u001b[A\n",
      "!\u001b[A\n",
      "  0%|          |Checking out /Users/nicolas.gensollen/0/? [00:00<?,    ?files/s]\u001b[A\n",
      "  0%|          |Checking out /Users/nicolas.gensollen/0/1 [00:00<?,    ?files/s]\u001b[A\n",
      "  0% Adding...|                          | model.pkl |0/2 [00:00<?,     ?file/s]\u001b[A\n",
      "!\u001b[A\n",
      "Collecting files and computing hashes in model.pkl    |0.00 [00:00,     ?file/s]\u001b[A\n",
      "                                                                                \u001b[A\n",
      "!\u001b[A\n",
      "  0% Checking cache in '/Users/nicolas.gensollen/GitRepos/NOW-2023/notebooks/.dv\u001b[A\n",
      "                                                                                \u001b[A\n",
      "!\u001b[A\n",
      "  0%|          |Adding model.pkl to cache             0/? [00:00<?,     ?file/s]\u001b[A\n",
      "  0%|          |Adding model.pkl to cache             0/1 [00:00<?,     ?file/s]\u001b[A\n",
      "  0%|          |Adding model.pkl to cache             0/1 [00:00<?,     ?file/s]\u001b[A\n",
      "                                                                                \u001b[A\n",
      "!\u001b[A\n",
      "  0%|          |Checking out /Users/nicolas.gensollen/0/? [00:00<?,    ?files/s]\u001b[A\n",
      "  0%|          |Checking out /Users/nicolas.gensollen/0/1 [00:00<?,    ?files/s]\u001b[A\n",
      "100% Adding...|████████████████████████████████████████|2/2 [00:00, 44.54file/s]\u001b[A\n",
      "\n",
      "To track the changes with git, run:\n",
      "\n",
      "\tgit add dataset.tsv.dvc model.pkl.dvc\n",
      "\n",
      "To enable auto staging, run:\n",
      "\n",
      "\tdvc config core.autostage true\n",
      "\u001b[0m"
     ]
    }
   ],
   "source": [
    "! dvc add dataset.tsv model.pkl"
   ]
  },
  {
   "cell_type": "markdown",
   "id": "e3508d77",
   "metadata": {},
   "source": [
    "Now we changed the `.dvc` metadata files ! Let's verify this:"
   ]
  },
  {
   "cell_type": "code",
   "execution_count": 32,
   "id": "44d27b3e-b7ae-4ddb-a964-64753621b249",
   "metadata": {},
   "outputs": [
    {
     "name": "stdout",
     "output_type": "stream",
     "text": [
      "On branch main\n",
      "Changes not staged for commit:\n",
      "  (use \"git add <file>...\" to update what will be committed)\n",
      "  (use \"git restore <file>...\" to discard changes in working directory)\n",
      "\t\u001b[31mmodified:   dataset.tsv.dvc\u001b[m\n",
      "\t\u001b[31mmodified:   model.pkl.dvc\u001b[m\n",
      "\n",
      "no changes added to commit (use \"git add\" and/or \"git commit -a\")\n",
      "\u001b[1mdiff --git a/dataset.tsv.dvc b/dataset.tsv.dvc\u001b[m\n",
      "\u001b[1mindex e12e2f4..306c3eb 100644\u001b[m\n",
      "\u001b[1m--- a/dataset.tsv.dvc\u001b[m\n",
      "\u001b[1m+++ b/dataset.tsv.dvc\u001b[m\n",
      "\u001b[36m@@ -1,5 +1,5 @@\u001b[m\n",
      " outs:\u001b[m\n",
      "\u001b[31m-- md5: 58ac275459541571c78e9292635f63c8\u001b[m\n",
      "\u001b[31m-  size: 9991\u001b[m\n",
      "\u001b[32m+\u001b[m\u001b[32m- md5: 417fedd2a5927bfc5284ddc01b74ad2a\u001b[m\n",
      "\u001b[32m+\u001b[m\u001b[32m  size: 19935\u001b[m\n",
      "   hash: md5\u001b[m\n",
      "   path: dataset.tsv\u001b[m\n"
     ]
    }
   ],
   "source": [
    "! git status\n",
    "! git diff dataset.tsv.dvc"
   ]
  },
  {
   "cell_type": "markdown",
   "id": "14af3c4e-d598-45bd-80d9-6175e8d0e8b4",
   "metadata": {},
   "source": [
    "Alright, the hash value changed and the size of the `dataset.tsv` file more or less doubled which is expected since we added 208 new subjects to the previous 208.\n",
    "\n",
    "Note that, although our data just doubled in size, the metadata that we are tracking with [Git](https://git-scm.com) didn't change at all, we still have a `.dvc` file with 5 lines !\n",
    "\n",
    "OK, this is the part where we use [Git](https://git-scm.com) ! And, again, [DVC](https://dvc.org) is helping us by suggesting our next move !\n",
    "\n",
    "Let's add the changes to the `.dvc` files with [Git](https://git-scm.com):"
   ]
  },
  {
   "cell_type": "code",
   "execution_count": 33,
   "id": "f5a1acd4",
   "metadata": {},
   "outputs": [],
   "source": [
    "! git add dataset.tsv.dvc model.pkl.dvc"
   ]
  },
  {
   "cell_type": "markdown",
   "id": "8580995b",
   "metadata": {},
   "source": [
    "We can now commit these changes and tag this commit with a \"v2.0\" tag:"
   ]
  },
  {
   "cell_type": "code",
   "execution_count": 34,
   "id": "419cf341",
   "metadata": {},
   "outputs": [
    {
     "name": "stdout",
     "output_type": "stream",
     "text": [
      "[main e715ae0] Second model, trained with 416 subjects\n",
      " 2 files changed, 4 insertions(+), 4 deletions(-)\n",
      "\u001b[33mcommit e715ae0db0daa2d40999d655a459efe891aed592\u001b[m\u001b[33m (\u001b[m\u001b[1;36mHEAD -> \u001b[m\u001b[1;32mmain\u001b[m\u001b[33m, \u001b[m\u001b[1;33mtag: v2.0\u001b[m\u001b[33m)\u001b[m\n",
      "Author: John Doe <john.doe@inria.fr>\n",
      "Date:   Tue Nov 14 17:28:08 2023 +0100\n",
      "\n",
      "    Second model, trained with 416 subjects\n",
      "\n",
      "\u001b[33mcommit 0c79b1bc26827c5248e68682d5ba456b66cd93ee\u001b[m\u001b[33m (\u001b[m\u001b[1;33mtag: v1.0\u001b[m\u001b[33m)\u001b[m\n",
      "Author: John Doe <john.doe@inria.fr>\n",
      "Date:   Tue Nov 14 17:26:54 2023 +0100\n",
      "\n",
      "    First model, trained with 208 subjects\n",
      "\n",
      "\u001b[33mcommit 7ca6645672ddef13ec237aad880891039e5f4259\u001b[m\n",
      "Author: John Doe <john.doe@inria.fr>\n",
      "Date:   Tue Nov 14 17:19:39 2023 +0100\n",
      "\n",
      "    add gitignore file\n",
      "\n",
      "\u001b[33mcommit 52363947c69ad4b4438b0405720f3f28d33db4bb\u001b[m\n",
      "Author: John Doe <john.doe@inria.fr>\n",
      "Date:   Tue Nov 14 17:19:34 2023 +0100\n",
      "\n",
      "    initialize DVC\n"
     ]
    }
   ],
   "source": [
    "! git commit -m \"Second model, trained with 416 subjects\"\n",
    "! git tag -a \"v2.0\" -m \"model v2.0, 416 subjects\"\n",
    "! git log"
   ]
  },
  {
   "cell_type": "markdown",
   "id": "f4468330-8352-4c68-bdf4-a45f8e2ff081",
   "metadata": {},
   "source": [
    "And again, our workspace is clean:"
   ]
  },
  {
   "cell_type": "code",
   "execution_count": 35,
   "id": "3581801f",
   "metadata": {},
   "outputs": [
    {
     "name": "stdout",
     "output_type": "stream",
     "text": [
      "On branch main\n",
      "nothing to commit, working tree clean\n"
     ]
    }
   ],
   "source": [
    "! git status"
   ]
  },
  {
   "cell_type": "markdown",
   "id": "3e5cd7f8",
   "metadata": {},
   "source": [
    "### Going back in time\n",
    "\n",
    "OK, this is great ! We can update our datasets, models, and code files and commit all these changes in a linear clean history. But can we navigate this timeline ?\n",
    "\n",
    "Let's imagine that we submitted a paper with the results of our first experiment (the model trained on 208 subjects only). Time passed and we made our latest experiment with the 208 new subjects. We have everything commited and clean, but we finally receive the review for our paper.\n",
    "\n",
    "Unfortunately, we got some work to do if we wish to publish... The reviewer is asking us to add some more details on some of our plots.\n",
    "\n",
    "Well, that's easy ! Let's update the plotting code, create a new model instance, fit the model, and plot the results. But wait, our dataset now consists of 416 subjects, this will change our figure and contradict the experimental setups described in our paper.\n",
    "\n",
    "Clearly, we cannot use the new dataset and model to make the new plots. We need to remove the added subjects, but which ones were added already ? It's been a long time and we have forgotten the labels of the initial subjects...\n",
    "\n",
    "Without our setup, this could easily become a nightmare ! (Of course this toy example case is easy but in more realistic scenarios, and months after having performed the initial experiment, it can clearly be !)\n",
    "\n",
    "We need to go back to the state we were in when we generated the plots of the paper we submitted. This means both code **AND** data. \n",
    "\n",
    "Fortunately for us, this is very easy to do thanks to both [Git](https://git-scm.com) and [DVC](https://dvc.org).\n",
    "\n",
    "In our example, we were smart enough to tag the commit corresponding to the first version of our experiment with the \"v1.0\" tag (we could have used something more informative like \"publication for journal XXX\"). \n",
    "\n",
    "Lets' use the `git checkout` command with the tag label as a parameter to navigate to this commit:"
   ]
  },
  {
   "cell_type": "code",
   "execution_count": 36,
   "id": "2f2dba47",
   "metadata": {},
   "outputs": [
    {
     "name": "stdout",
     "output_type": "stream",
     "text": [
      "Note: switching to 'v1.0'.\n",
      "\n",
      "You are in 'detached HEAD' state. You can look around, make experimental\n",
      "changes and commit them, and you can discard any commits you make in this\n",
      "state without impacting any branches by switching back to a branch.\n",
      "\n",
      "If you want to create a new branch to retain commits you create, you may\n",
      "do so (now or later) by using -c with the switch command. Example:\n",
      "\n",
      "  git switch -c <new-branch-name>\n",
      "\n",
      "Or undo this operation with:\n",
      "\n",
      "  git switch -\n",
      "\n",
      "Turn off this advice by setting config variable advice.detachedHead to false\n",
      "\n",
      "HEAD is now at 0c79b1b First model, trained with 208 subjects\n"
     ]
    }
   ],
   "source": [
    "! git checkout v1.0"
   ]
  },
  {
   "cell_type": "markdown",
   "id": "bf385570-48ce-4320-bbf1-dc4ac8547ea4",
   "metadata": {},
   "source": [
    "[Git](https://git-scm.com) is telling us that we are in \"detached HEAD\" state, which could sound like a scary thing, but it only means that we are on a commit that doesn't have a branch.\n",
    "\n",
    "Let's see what the `git status` command tells us:"
   ]
  },
  {
   "cell_type": "code",
   "execution_count": 37,
   "id": "2b22a1d0-26e4-4747-8343-c02f4b3a8c50",
   "metadata": {},
   "outputs": [
    {
     "name": "stdout",
     "output_type": "stream",
     "text": [
      "\u001b[31mHEAD detached at \u001b[mv1.0\n",
      "nothing to commit, working tree clean\n"
     ]
    }
   ],
   "source": [
    "! git status"
   ]
  },
  {
   "cell_type": "markdown",
   "id": "dba41451-b605-4ea5-977f-69f4af626883",
   "metadata": {},
   "source": [
    "Not much, everything seems to be clean... Let's check how many lines we have in our dataset:"
   ]
  },
  {
   "cell_type": "code",
   "execution_count": 38,
   "id": "f67ad76b-ab60-4e0c-9c81-aaae3b5f2ca7",
   "metadata": {},
   "outputs": [
    {
     "name": "stdout",
     "output_type": "stream",
     "text": [
      "     417 dataset.tsv\n"
     ]
    }
   ],
   "source": [
    "! wc -l dataset.tsv"
   ]
  },
  {
   "cell_type": "markdown",
   "id": "62d2d41b-e1ca-4e9f-a02c-cb5ac8f95230",
   "metadata": {},
   "source": [
    "Hmmm, not exactly what we want. We still have 416 subjects in our dataset, but why ?\n",
    "\n",
    "Because [Git](https://git-scm.com) isn't responsible for managing your dataset, [DVC](https://dvc.org) is !\n",
    "\n",
    "[Git](https://git-scm.com) did its job just right by restoring the metadata files:"
   ]
  },
  {
   "cell_type": "code",
   "execution_count": 39,
   "id": "5bd27306-e5d9-4a8f-9793-1c735cfde71f",
   "metadata": {},
   "outputs": [
    {
     "name": "stdout",
     "output_type": "stream",
     "text": [
      "outs:\n",
      "- md5: 58ac275459541571c78e9292635f63c8\n",
      "  size: 9991\n",
      "  hash: md5\n",
      "  path: dataset.tsv\n"
     ]
    }
   ],
   "source": [
    "! cat dataset.tsv.dvc"
   ]
  },
  {
   "cell_type": "markdown",
   "id": "4eefb9d6-fd7c-4aab-ad7e-3eeff5c981af",
   "metadata": {},
   "source": [
    "You need to use [DVC](https://dvc.org) to restore the data file itself:"
   ]
  },
  {
   "cell_type": "code",
   "execution_count": 40,
   "id": "3f5aef3f-6661-4054-87b4-5176bb73db82",
   "metadata": {},
   "outputs": [
    {
     "name": "stdout",
     "output_type": "stream",
     "text": [
      "Building workspace index                              |2.00 [00:00,  210entry/s]\n",
      "Comparing indexes                                    |3.00 [00:00, 2.49kentry/s]\n",
      "Applying changes                                      |2.00 [00:00, 1.12kfile/s]\n",
      "\u001b[33mM\u001b[0m       model.pkl\n",
      "\u001b[33mM\u001b[0m       dataset.tsv\n",
      "\u001b[0m"
     ]
    }
   ],
   "source": [
    "! dvc checkout"
   ]
  },
  {
   "cell_type": "markdown",
   "id": "e946341c-fb23-40eb-b287-41177462898d",
   "metadata": {},
   "source": [
    "Let's verify that we didn't get fooled again:"
   ]
  },
  {
   "cell_type": "code",
   "execution_count": 41,
   "id": "c43cd1d4-96e1-4502-96e6-6d4af72dda88",
   "metadata": {},
   "outputs": [
    {
     "name": "stdout",
     "output_type": "stream",
     "text": [
      "     209 dataset.tsv\n"
     ]
    }
   ],
   "source": [
    "! wc -l dataset.tsv"
   ]
  },
  {
   "cell_type": "markdown",
   "id": "0df3abcd",
   "metadata": {},
   "source": [
    "Awesome ! We have the 208 initial subjects !\n",
    "\n",
    "We are now in the exact same state as before the data update:"
   ]
  },
  {
   "cell_type": "code",
   "execution_count": 42,
   "id": "ec7ec147",
   "metadata": {},
   "outputs": [
    {
     "name": "stdout",
     "output_type": "stream",
     "text": [
      "208\n"
     ]
    }
   ],
   "source": [
    "df = pd.read_csv(\"dataset.tsv\", sep=\"\\t\")\n",
    "print(len(df))  # Dataset has 500 subjects"
   ]
  },
  {
   "cell_type": "markdown",
   "id": "9b09aca2-79da-439b-aadc-ca02ab81f7b8",
   "metadata": {},
   "source": [
    "We could now update our plotting code, re-train our model, and re-do our plot to satisfy the reviewer !"
   ]
  },
  {
   "cell_type": "markdown",
   "id": "363e97f7",
   "metadata": {},
   "source": [
    "Cleaning:"
   ]
  },
  {
   "cell_type": "code",
   "execution_count": 43,
   "id": "cc2699a2",
   "metadata": {},
   "outputs": [],
   "source": [
    "# Do not run this unless you want to start over from scratch...\n",
    "! rm dataset.tsv*\n",
    "! rm model.pkl*\n",
    "! rm -rf .git\n",
    "! rm -rf .dvc\n",
    "! rm .gitignore\n",
    "! rm .dvcignore"
   ]
  },
  {
   "cell_type": "code",
   "execution_count": null,
   "id": "f9e22add",
   "metadata": {},
   "outputs": [],
   "source": []
  }
 ],
 "metadata": {
  "kernelspec": {
   "display_name": "Python 3 (ipykernel)",
   "language": "python",
   "name": "python3"
  },
  "language_info": {
   "codemirror_mode": {
    "name": "ipython",
    "version": 3
   },
   "file_extension": ".py",
   "mimetype": "text/x-python",
   "name": "python",
   "nbconvert_exporter": "python",
   "pygments_lexer": "ipython3",
   "version": "3.10.13"
  }
 },
 "nbformat": 4,
 "nbformat_minor": 5
}
