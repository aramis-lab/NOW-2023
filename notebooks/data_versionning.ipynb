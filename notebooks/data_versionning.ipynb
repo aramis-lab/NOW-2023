{
 "cells": [
  {
   "cell_type": "markdown",
   "id": "c7e9aa9b",
   "metadata": {
    "lines_to_next_cell": 2
   },
   "source": [
    "# Part 2 : Data versionning using DVC\n",
    "This is the second part of the tutorial on code and data versionning using [GitHub](https://docs.github.com/) and [DVC](https://dvc.org)."
   ]
  },
  {
   "cell_type": "markdown",
   "id": "8578469e",
   "metadata": {},
   "source": [
    "## Chapter 1 : Getting started with DVC\n",
    "\n",
    "In this first chapter, we will install DVC and take a look at how DVC works with GIT in its most simple usage.\n",
    "\n",
    "### Install DVC\n",
    "\n",
    "First, we need to install [DVC](https://dvc.org). There are various ways to install it depending on you OS, which you can browse [here](https://dvc.org/doc/install). For example, on MacOS, you can install it with `brew`, `conda`, or `pip`.\n",
    "\n",
    "If you are following this tutorial on your own machine, chose the option that makes the most sense. If you are following on the notebook, we will install DVC with `pip`:"
   ]
  },
  {
   "cell_type": "code",
   "execution_count": null,
   "id": "157c54ac",
   "metadata": {},
   "outputs": [],
   "source": [
    "# # brew install dvc\n",
    "# # conda install dvc\n",
    "! pip install dvc"
   ]
  },
  {
   "cell_type": "markdown",
   "id": "e31aa1bc",
   "metadata": {},
   "source": [
    "Note that if you are running this notebook on Collab, you might need to click on the \"RESTART RUNTIME\" button just above.\n",
    "\n",
    "We can check that DVC is installed:"
   ]
  },
  {
   "cell_type": "code",
   "execution_count": null,
   "id": "1263425d",
   "metadata": {},
   "outputs": [],
   "source": [
    "! which dvc"
   ]
  },
  {
   "cell_type": "code",
   "execution_count": null,
   "id": "4144d9a4",
   "metadata": {},
   "outputs": [],
   "source": [
    "! dvc --version"
   ]
  },
  {
   "cell_type": "markdown",
   "id": "63b332dd",
   "metadata": {},
   "source": [
    "### Initialize a DVC repository\n",
    "\n",
    "Now that we have DVC installed we can start using it !\n",
    "\n",
    "First of all, it is very important to understand that DVC is not a replacement for GIT. It is a tool designed to work WITH GIT as it solves a different problem than GIT.\n",
    "\n",
    "In other words, you need both GIT and DVC to manage both code and data.\n",
    "\n",
    "To initialize a DVC repository, we need to be in a GIT-initialized repository, so let's do that:"
   ]
  },
  {
   "cell_type": "code",
   "execution_count": null,
   "id": "61cd749b",
   "metadata": {},
   "outputs": [],
   "source": [
    "! git init"
   ]
  },
  {
   "cell_type": "markdown",
   "id": "e13a1f7f",
   "metadata": {},
   "source": [
    "You can check that a `.git` hidden folder was created:"
   ]
  },
  {
   "cell_type": "code",
   "execution_count": null,
   "id": "df4cb35b",
   "metadata": {},
   "outputs": [],
   "source": [
    "! ls -lah"
   ]
  },
  {
   "cell_type": "markdown",
   "id": "aac92b57",
   "metadata": {},
   "source": [
    "Now we can initialize the DVC repository:"
   ]
  },
  {
   "cell_type": "code",
   "execution_count": null,
   "id": "a6a4f289",
   "metadata": {},
   "outputs": [],
   "source": [
    "! dvc init"
   ]
  },
  {
   "cell_type": "markdown",
   "id": "a3bf7852",
   "metadata": {},
   "source": [
    "In the exact same way as for `git init`, `dvc init` created a hidden folder named `.dvc`:"
   ]
  },
  {
   "cell_type": "code",
   "execution_count": null,
   "id": "d4f28a85",
   "metadata": {},
   "outputs": [],
   "source": [
    "! ls -lah"
   ]
  },
  {
   "cell_type": "markdown",
   "id": "6c6772d0",
   "metadata": {},
   "source": [
    "In addition to this, DVC created a few files for us. To see that, we can use the `git status` command since we have a git repository:"
   ]
  },
  {
   "cell_type": "code",
   "execution_count": null,
   "id": "62c5afc4",
   "metadata": {},
   "outputs": [],
   "source": [
    "! git status"
   ]
  },
  {
   "cell_type": "markdown",
   "id": "b9beb261",
   "metadata": {},
   "source": [
    "As we can see, DVC created 2 files in the `.dvc` folder as well as one file in the current workspace :\n",
    "\n",
    "- `.dvc/.gitignore`\n",
    "- `.dvc/config`\n",
    "- `.dvcignore`\n",
    "\n",
    "These files need to be versionned with GIT, DVC already added them to the stagging aread, so all we need to do is commit them:"
   ]
  },
  {
   "cell_type": "markdown",
   "id": "603dd18f",
   "metadata": {},
   "source": [
    "If you are running the current notebook on Collab, or if you have never configured git before, you need to configure your user name and email address with the `git config` command. You can either use the `--global` option to configure this globally on your machine, or the `--local` option to configure this only for the current project. Note that, if you are running on Collab, it doesn't really matter as the configuration will only leave for the duration of the session:"
   ]
  },
  {
   "cell_type": "code",
   "execution_count": null,
   "id": "479c11a7",
   "metadata": {},
   "outputs": [],
   "source": [
    "! git config --local user.email \"john.doe@inria.fr\"\n",
    "! git config --local user.name \"John Doe\""
   ]
  },
  {
   "cell_type": "code",
   "execution_count": null,
   "id": "1e294375",
   "metadata": {},
   "outputs": [],
   "source": [
    "! git commit -m \"initialize DVC\""
   ]
  },
  {
   "cell_type": "code",
   "execution_count": null,
   "id": "179539a3",
   "metadata": {},
   "outputs": [],
   "source": [
    "! git log"
   ]
  },
  {
   "cell_type": "markdown",
   "id": "a25ffbb4",
   "metadata": {},
   "source": [
    "And that's it, we have successfully initialized a DVC repository and we are now ready to track some code and data !\n",
    "\n",
    "### Track code and data\n",
    "\n",
    "In this section we are going to download some data that we will use as input for a classification model. The objective is to predict whether a patient has AD or not. We are going to keep this same objective for the whole tutorial but we will start very simple and add some complexity up a real experiment scenario.\n",
    "\n",
    "#### Basic data with a basic model\n",
    "\n",
    "Let's start VERY simple with a dataset in the form of a TSV file with one row per subject and four columns:\n",
    "\n",
    "- the patient ID which is just a string identifier\n",
    "- the volume of this patient's left hypocampus (this will be our first predictive feature)\n",
    "- the volume of this patient's right hypocampus (this will be second first predictive feature)\n",
    "- the category of the patient: \"AD\" if the patient has Alzeihmer disease or \"CN\" for control (this will be out target)\n",
    "\n",
    "Let's download the data first. For this, we will use a special DVC command: `dvc get`:"
   ]
  },
  {
   "cell_type": "code",
   "execution_count": null,
   "id": "ee6dde47",
   "metadata": {},
   "outputs": [],
   "source": [
    "! dvc get https://github.com/aramis-lab/dataset-registry NOW_2023/toy_dataset/version_1\n",
    "! mv version_1/dataset.tsv .\n",
    "! rm -r version_1"
   ]
  },
  {
   "cell_type": "markdown",
   "id": "96ff8b43",
   "metadata": {},
   "source": [
    "Let's open the TSV file we just downloaded with Pandas and take a look at the subjects data:"
   ]
  },
  {
   "cell_type": "code",
   "execution_count": null,
   "id": "32597ddc",
   "metadata": {},
   "outputs": [],
   "source": [
    "import pandas as pd\n",
    "\n",
    "df = pd.read_csv(\"dataset.tsv\", sep=\"\\t\")\n",
    "df.head()"
   ]
  },
  {
   "cell_type": "markdown",
   "id": "a5e42346",
   "metadata": {},
   "source": [
    "We have 500 subjects:"
   ]
  },
  {
   "cell_type": "code",
   "execution_count": null,
   "id": "f851b695",
   "metadata": {},
   "outputs": [],
   "source": [
    "df.tail()"
   ]
  },
  {
   "cell_type": "markdown",
   "id": "62d0b7e8",
   "metadata": {},
   "source": [
    "In this tutorial, we won't focus on the machine learning aspect of things but rather on the code and data management aspects.\n",
    "\n",
    "This means that we will treat models as black boxes. For simplicity, models have been wrapped in custom classes offering a very simple API:\n",
    "\n",
    "- `model.fit()` for fitting the model with some input data\n",
    "- `model.save()` for saving the model's weights to disk\n",
    "- `model.plot()` to give us some visuals\n",
    "\n",
    "Here, we use a toy model (a simple non-linear SVM), and we fit it with the data we just downloaded:"
   ]
  },
  {
   "cell_type": "code",
   "execution_count": null,
   "id": "c9215675",
   "metadata": {},
   "outputs": [],
   "source": [
    "import pickle\n",
    "import pandas as pd\n",
    "import numpy as np\n",
    "from sklearn import svm\n",
    "import matplotlib.pyplot as plt\n",
    "\n",
    "\n",
    "class Model:\n",
    "    \"\"\"Simple interface to a toy model for classification.\"\"\"\n",
    "    def __init__(self, X: np.ndarray, y: np.ndarray):\n",
    "        self.X =X\n",
    "        self.y = y\n",
    "        self.min_x = np.min(self.X[:, 0])\n",
    "        self.max_x = np.max(self.X[:, 0])\n",
    "        self.min_y = np.min(self.X[:, 1])\n",
    "        self.max_y = np.max(self.X[:, 1])\n",
    "        self.estimator = svm.NuSVC(gamma=\"auto\")\n",
    "\n",
    "    @property\n",
    "    def n_samples(self) -> int:\n",
    "        return self.X.shape[0]\n",
    "\n",
    "    @property\n",
    "    def bbox(self) -> list[float]:\n",
    "        return [self.min_x, self.max_x, self.min_y, self.max_y]\n",
    "\n",
    "    @classmethod\n",
    "    def from_dataframe(cls, df: pd.DataFrame):\n",
    "        X = np.array(df[[\"HC_left_volume\", \"HC_right_volume\"]])\n",
    "        y = np.array([1 if x == \"AD\" else 0 for x in df[\"group\"].values])\n",
    "        return cls(X, y)\n",
    "\n",
    "    def fit(self):\n",
    "        self.estimator.fit(self.X, self.y)\n",
    "\n",
    "    def save(self):\n",
    "        with open(\"model.pkl\", \"wb\") as fp:\n",
    "            pickle.dump(self.estimator, fp)\n",
    "\n",
    "    def plot(self):\n",
    "        xx, yy = np.meshgrid(\n",
    "            np.linspace(self.min_x, self.max_x, 500),\n",
    "            np.linspace(self.min_y, self.max_y, 500),\n",
    "        )\n",
    "        Z = self.estimator.decision_function(np.c_[xx.ravel(), yy.ravel()])\n",
    "        Z = Z.reshape(xx.shape)\n",
    "        plt.imshow(\n",
    "            Z,\n",
    "            interpolation=\"nearest\",\n",
    "            extent=(xx.min(), xx.max(), yy.min(), yy.max()),\n",
    "            aspect=\"auto\",\n",
    "            origin=\"lower\",\n",
    "            cmap=plt.cm.PuOr_r,\n",
    "        )\n",
    "        contours = plt.contour(xx, yy, Z, levels=[0], linewidths=2, linestyles=\"dashed\")\n",
    "        plt.scatter(self.X[:, 0], self.X[:, 1], s=30, c=self.y, cmap=plt.cm.Paired, edgecolors=\"k\")\n",
    "        plt.xticks(())\n",
    "        plt.yticks(())\n",
    "        plt.title(f\"Number of sample = {self.n_samples}\")\n",
    "        plt.axis(self.bbox)\n",
    "        plt.show()"
   ]
  },
  {
   "cell_type": "code",
   "execution_count": null,
   "id": "8ca8b788",
   "metadata": {},
   "outputs": [],
   "source": [
    "model = Model.from_dataframe(df)\n",
    "model.fit()  # Fit the model\n",
    "model.save() # Serialize the trained model\n",
    "model.plot() # Plot the decision function with the data"
   ]
  },
  {
   "cell_type": "markdown",
   "id": "1a79e808",
   "metadata": {},
   "source": [
    "We can see that the model is able to learn a decision function to classify subjects with AD from control subjects.\n",
    "\n",
    "At this point, we are happy we our experiment and we wish to commit our changes. This is the moment where we need to understand what should be tracked with DVC and what should be tracked with GIT.\n",
    "\n",
    "First, `dataset.tsv` is our input data, so this is clearly something we shouldn't version with GIT (although GIT would manage it with such a simple dataset). We should clearly use DVC to track our dataset. The same goes with our experiment results: `model.pkl` which is our trained model serialized.\n",
    "\n",
    "Let's track these two files with DVC:"
   ]
  },
  {
   "cell_type": "code",
   "execution_count": null,
   "id": "7115e157",
   "metadata": {},
   "outputs": [],
   "source": [
    "! dvc add dataset.tsv model.pkl"
   ]
  },
  {
   "cell_type": "markdown",
   "id": "673d07f7",
   "metadata": {},
   "source": [
    "As you can see, DVC is helping us by telling us what we should do next !\n",
    "\n",
    "Tracking `dataset.tsv` and `model.pkl` generated two small metadata files:\n",
    "\n",
    "- `dataset.tsv.dvc`\n",
    "- `model.pkl.dvc`\n",
    "\n",
    "Furthermore, DVC modified our `.gitignore` file to tell GIT to NOT track `dataset.tsv` and `model.pkl`.\n",
    "\n",
    "All these files are super small and easily managable for GIT. Let's version them with GIT:"
   ]
  },
  {
   "cell_type": "code",
   "execution_count": null,
   "id": "d53e8b25",
   "metadata": {},
   "outputs": [],
   "source": [
    "! git add dataset.tsv.dvc model.pkl.dvc .gitignore"
   ]
  },
  {
   "cell_type": "markdown",
   "id": "5dc108eb",
   "metadata": {},
   "source": [
    "At this point we can commit our changes and optionally tag the commit.\n",
    "\n",
    "Here, we will call this the \"v1.0\" of our experiment, for which we used 500 subjects:"
   ]
  },
  {
   "cell_type": "code",
   "execution_count": null,
   "id": "46847a4b",
   "metadata": {},
   "outputs": [],
   "source": [
    "! git commit -m \"First model, trained with 500 subjects\"\n",
    "! git tag -a \"v1.0\" -m \"model v1.0, 500 subjects\""
   ]
  },
  {
   "cell_type": "code",
   "execution_count": null,
   "id": "c0f557da",
   "metadata": {},
   "outputs": [],
   "source": [
    "! git log"
   ]
  },
  {
   "cell_type": "markdown",
   "id": "5f869a64",
   "metadata": {},
   "source": [
    "#### Data can change\n",
    "\n",
    "Datasets are not always fixed in time, they may evolve. For example, new data can be collected and added in new dataset releases.\n",
    "\n",
    "Let's imagine that our dataset received a brand new release with 500 additional subjects. Chances are that this will impact our previous experiment.\n",
    "\n",
    "How should we handle such an update ?\n",
    "\n",
    "Let's dive in and download the updated dataset:"
   ]
  },
  {
   "cell_type": "code",
   "execution_count": null,
   "id": "2f2630e6",
   "metadata": {},
   "outputs": [],
   "source": [
    "! dvc get https://github.com/aramis-lab/dataset-registry NOW_2023/toy_dataset/version_2\n",
    "! mv version_2/dataset.tsv .\n",
    "! rm -r version_2"
   ]
  },
  {
   "cell_type": "markdown",
   "id": "ce064a9f",
   "metadata": {},
   "source": [
    "As advertized, we now have data for 1000 subjects:"
   ]
  },
  {
   "cell_type": "code",
   "execution_count": null,
   "id": "4aa061da",
   "metadata": {},
   "outputs": [],
   "source": [
    "df = pd.read_csv(\"dataset.tsv\", sep=\"\\t\")\n",
    "print(df.head(3))\n",
    "print(df.tail(3))"
   ]
  },
  {
   "cell_type": "markdown",
   "id": "914d0eec",
   "metadata": {},
   "source": [
    "Let's recreate a model instance and fit it with our new dataset:"
   ]
  },
  {
   "cell_type": "code",
   "execution_count": null,
   "id": "9607d8f4",
   "metadata": {},
   "outputs": [],
   "source": [
    "model = Model.from_dataframe(df)\n",
    "model.fit()\n",
    "model.save()\n",
    "model.plot()"
   ]
  },
  {
   "cell_type": "markdown",
   "id": "1a32f2f3",
   "metadata": {},
   "source": [
    "Great ! we now have our new model and we can use DVC to see what happened to our tracked data:"
   ]
  },
  {
   "cell_type": "code",
   "execution_count": null,
   "id": "acc122aa",
   "metadata": {},
   "outputs": [],
   "source": [
    "! dvc status"
   ]
  },
  {
   "cell_type": "markdown",
   "id": "d56dc67a",
   "metadata": {},
   "source": [
    "As expected, DVC is telling us that both our dataset and our serialized model have changed.\n",
    "\n",
    "As we would do with GIT, let's add these changes with DVC:"
   ]
  },
  {
   "cell_type": "code",
   "execution_count": null,
   "id": "c585f81b",
   "metadata": {},
   "outputs": [],
   "source": [
    "! dvc add dataset.tsv model.pkl"
   ]
  },
  {
   "cell_type": "markdown",
   "id": "e3508d77",
   "metadata": {},
   "source": [
    "Again, DVC tells us what to do next, let's add the changes to the `.dvc` files with GIT:"
   ]
  },
  {
   "cell_type": "code",
   "execution_count": null,
   "id": "f5a1acd4",
   "metadata": {},
   "outputs": [],
   "source": [
    "! git add dataset.tsv.dvc model.pkl.dvc"
   ]
  },
  {
   "cell_type": "markdown",
   "id": "8580995b",
   "metadata": {},
   "source": [
    "We can now commit these changes and tag this commit with a \"v2.0\" tag:"
   ]
  },
  {
   "cell_type": "code",
   "execution_count": null,
   "id": "419cf341",
   "metadata": {},
   "outputs": [],
   "source": [
    "! git commit -m \"Second model, trained with 1000 subjects\"\n",
    "! git tag -a \"v2.0\" -m \"model v2.0, 1000 subjects\""
   ]
  },
  {
   "cell_type": "code",
   "execution_count": null,
   "id": "3581801f",
   "metadata": {},
   "outputs": [],
   "source": [
    "! git log"
   ]
  },
  {
   "cell_type": "markdown",
   "id": "3e5cd7f8",
   "metadata": {},
   "source": [
    "#### Going back in time\n",
    "\n",
    "Now, let's imagine that we submitted a paper with the results of our first experiment and that we received the review after having done the new experiment just above.\n",
    "\n",
    "The reviewer is asking us to add some details on some of our plots. Clearly, we cannot use the new dataset and model to make the new plots !\n",
    "\n",
    "We need to go back to the state we were in when we generated those plots the first time. Fortunately, this is very easy to do thanks to both GIT and DVC.\n",
    "\n",
    "In our example, we were smart enough to tag the state of our experiment with the \"v1.0\" tag (we could have used something more informative like \"publication for journal XXX\"). \n",
    "\n",
    "We can thus simply do:"
   ]
  },
  {
   "cell_type": "code",
   "execution_count": null,
   "id": "2f2dba47",
   "metadata": {},
   "outputs": [],
   "source": [
    "! git checkout v1.0\n",
    "! dvc checkout"
   ]
  },
  {
   "cell_type": "markdown",
   "id": "0df3abcd",
   "metadata": {},
   "source": [
    "Such that we are now in the exact same state as before the data update:"
   ]
  },
  {
   "cell_type": "code",
   "execution_count": null,
   "id": "ec7ec147",
   "metadata": {},
   "outputs": [],
   "source": [
    "df = pd.read_csv(\"dataset.tsv\", sep=\"\\t\")\n",
    "print(len(df))  # Dataset has 500 subjects"
   ]
  },
  {
   "cell_type": "markdown",
   "id": "363e97f7",
   "metadata": {},
   "source": [
    "Cleaning:"
   ]
  },
  {
   "cell_type": "code",
   "execution_count": null,
   "id": "cc2699a2",
   "metadata": {},
   "outputs": [],
   "source": [
    "# Do not run this unless you want to start over from scratch...\n",
    "! rm dataset.tsv*\n",
    "! rm model.pkl*\n",
    "! rm -rf .git\n",
    "! rm -rf .dvc\n",
    "! rm .gitignore\n",
    "! rm .dvcignore"
   ]
  },
  {
   "cell_type": "code",
   "execution_count": null,
   "id": "f9e22add",
   "metadata": {},
   "outputs": [],
   "source": []
  }
 ],
 "metadata": {
  "kernelspec": {
   "display_name": "Python 3 (ipykernel)",
   "language": "python",
   "name": "python3"
  }
 },
 "nbformat": 4,
 "nbformat_minor": 5
}
