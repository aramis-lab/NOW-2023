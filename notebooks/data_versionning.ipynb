{
 "cells": [
  {
   "cell_type": "markdown",
   "id": "4635e7fc-84ec-41cb-b6bc-683769b1d8c3",
   "metadata": {},
   "source": [
    "# Part 2 : Data versionning using DVC\n",
    "\n",
    "This is the second part of the tutorial on data versionning using DVC."
   ]
  },
  {
   "cell_type": "code",
   "execution_count": 1,
   "id": "31ca922d-fdc7-42fa-90a1-6b9b789e21ea",
   "metadata": {},
   "outputs": [],
   "source": [
    "def g(x: str) -> str:\n",
    "    return x + x"
   ]
  },
  {
   "cell_type": "code",
   "execution_count": 2,
   "id": "fc011b84-3770-41ee-8907-98f3acf63940",
   "metadata": {},
   "outputs": [
    {
     "data": {
      "text/plain": [
       "'testtest'"
      ]
     },
     "execution_count": 2,
     "metadata": {},
     "output_type": "execute_result"
    }
   ],
   "source": [
    "g(\"test\")"
   ]
  },
  {
   "cell_type": "code",
   "execution_count": null,
   "id": "d6d82d50-12b0-4d6b-bdd1-edd920e7db5c",
   "metadata": {},
   "outputs": [],
   "source": []
  }
 ],
 "metadata": {
  "kernelspec": {
   "display_name": "Python 3 (ipykernel)",
   "language": "python",
   "name": "python3"
  },
  "language_info": {
   "codemirror_mode": {
    "name": "ipython",
    "version": 3
   },
   "file_extension": ".py",
   "mimetype": "text/x-python",
   "name": "python",
   "nbconvert_exporter": "python",
   "pygments_lexer": "ipython3",
   "version": "3.10.13"
  }
 },
 "nbformat": 4,
 "nbformat_minor": 5
}
